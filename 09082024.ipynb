{
 "cells": [
  {
   "cell_type": "markdown",
   "metadata": {},
   "source": [
    "#### Ciência de Dados com Python/IA - SENAI-DF - Vespertino - 09/08/2024 - Marcelo Pereira Avelino"
   ]
  },
  {
   "cell_type": "markdown",
   "metadata": {},
   "source": [
    "Criação do aplicativo inicio.py\n",
    "descrever abaixo comentarios sobre a aplicação e recursos utilizados\n",
    "\n",
    "crie o diret´rio fora da .venv chamado templates e dentro dele, crie o pagina.html (colar o código aqui quando revisar o notebook)\n",
    "\n",
    "criado o arquivo matematica.py, explicar o pq desse código e a importancia dele para a aula de hoje\n",
    "\n",
    "criado o arquivo listatimes.py, explicar o pq desse código e a importancia dele para a aula de hoje\n",
    "\n",
    "esses itens tem algo a ver com orientação a objeto que deve ser explicando o contexto envolvendo os arquivos matematica.py e listatimes.py\n",
    "\n",
    "falar sobre a biblioteca abc do python\n",
    "\n",
    "\n",
    "\n",
    "lista pra semana que vem do brainstorm da turma\n",
    "para discutir mercado, oportunidades\n",
    "distribuir comes e bebes pra todos, incluindo \n",
    "\n",
    "\n",
    "github do romulo semana datascience\n",
    "\n",
    "atualizar o conteudo conforme esse notebook e o alomundoflask do professor"
   ]
  }
 ],
 "metadata": {
  "language_info": {
   "name": "python"
  }
 },
 "nbformat": 4,
 "nbformat_minor": 2
}
