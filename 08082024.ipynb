{
 "cells": [
  {
   "cell_type": "code",
   "execution_count": null,
   "metadata": {},
   "outputs": [],
   "source": [
    "#### Ciência de Dados com Python/IA - SENAI-DF - Vespertino - 08/08/2024 - Marcelo Pereira Avelino"
   ]
  },
  {
   "cell_type": "markdown",
   "metadata": {},
   "source": [
    "`Python Developer (FRONT-END)`\n",
    "\n",
    "- Nosso Objetivo: Criar Telas (Interface Gráfica)\n",
    "- Protótipos (wireframes)\n",
    "- Protótipos Funcionais (HTML e FIGMA)\n",
    "- Aplicações Web (HTML, CSS, BOOTSTRAP, JINJA 2)"
   ]
  },
  {
   "cell_type": "markdown",
   "metadata": {},
   "source": [
    "`Stack Front-END - Back_END`\n",
    "\n",
    "- FRONT-END -> Java | Python | PHP\n",
    "\n",
    "- Java Script -> Criado Para FRONT-END e não para BACK-END.\n",
    "\n",
    "HTML é uma linguagem de marcação.\n",
    "CSS de estilização\n",
    "Estrutura do arquivo index.html\n",
    "- Shift + ! + Enter = Cria a estrutura base do código html.\n",
    "\n",
    "- Front-END (html)\n",
    "\n",
    "\n",
    "Analogica banco de dados vs http\n",
    "No banco de dados uso insert para inserir datos. No http eu uso post\n",
    "update - put\n",
    "delete - delete\n",
    "select - get\n",
    "\n",
    "Visualizar o site em tempo real pelo vsCode, instale a extensão \"Live Preview\"\n",
    "\n",
    "inserir o código html da aula explicando item por item\n",
    "\n",
    "`FLASK`\n",
    "microframework pra porgramar backend no python.\n",
    "Usa o padrão do jango (mtv)\n",
    "\n",
    "crie o diretório app\n",
    "app -> models - banco\n",
    "app -> templates - html (página)\n",
    "app -> views - http (cliente se conectar com servidor)\n",
    "\n",
    "Todos esses diretórios tem que ter um arquivo __init.py__\n",
    "\n",
    "instalar o flask\n",
    "pip install flask\n",
    "\n",
    "\n",
    "pip freeze > requirements.txt\n",
    "criar um arquivo de texto para guardar todas as suas instalações\n",
    "\n",
    "pip install mysql-connector-python\n",
    "instalar o mysql para permitir a conexão com o python\n",
    "\n",
    "pacote que faz a integração do flask com o sql alchemy\n",
    "pip install flask_sqlalchemy\n",
    "\n",
    "para evitar bug de conexão\n",
    "pip install mysqlclient"
   ]
  }
 ],
 "metadata": {
  "language_info": {
   "name": "python"
  }
 },
 "nbformat": 4,
 "nbformat_minor": 2
}
