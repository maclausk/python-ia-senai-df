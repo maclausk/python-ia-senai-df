{
 "cells": [
  {
   "cell_type": "markdown",
   "metadata": {},
   "source": [
    "#### Semana de Ciência de Dados com Python/IA - SENAI-DF - Vespertino - 23/07/2024 - Marcelo Pereira Avelino\n",
    "##### 📝 Orientação a Objetos"
   ]
  },
  {
   "cell_type": "markdown",
   "metadata": {},
   "source": [
    "\n",
    "`Aspectos Básicos da Orientação a Objetos em Python`"
   ]
  },
  {
   "cell_type": "code",
   "execution_count": 13,
   "metadata": {},
   "outputs": [],
   "source": [
    "# Definindo uma Classe\n",
    "\n",
    "class Mamifero:  # Define a classe Mamifero, que é um grupo de objetos semelhantes.\n",
    "                 # Nesse caso, a classe Mamifero é um conjunto de seres de costumes semelhantes.\n",
    "    \n",
    "    # O método __init__ é um construtor que é chamado quando um objeto da classe é criado.\n",
    "    def __init__(self, nome_popular, idade, cor):  # self representa a instância atual da classe, permitindo acessar os atributos e métodos da classe.\n",
    "                                                  # nome_popular, idade e cor são parâmetros que serão usados para inicializar os atributos do objeto.\n",
    "        self.nome_popular = nome_popular  # Atribui o valor do parâmetro nome_popular ao atributo nome_popular da instância.\n",
    "        self.idade = idade  # Atribui o valor do parâmetro idade ao atributo idade da instância.\n",
    "        self.cor = cor  # Atribui o valor do parâmetro cor ao atributo cor da instância.\n",
    "   \n",
    "    def mamar(self):  # Define um método chamado mamar, que representa uma ação que o mamífero pode realizar.\n",
    "        return \"mamando ...\"  # Retorna a string \"mamando ...\"\n",
    "\n",
    "    def chorar(self):  # Define um método chamado chorar, que representa uma ação que o mamífero pode realizar.\n",
    "        return \"chorando ...\"  # Retorna a string \"chorando ...\"\n"
   ]
  },
  {
   "cell_type": "code",
   "execution_count": null,
   "metadata": {},
   "outputs": [],
   "source": [
    "# Criando o objeto, que é uma instância de uma classe.\n",
    "\n",
    "objeto = Mamifero(nome_popular=\"Ornitorrinco\", idade=17, cor=\"Caramelo\") Criando um objeto que chama um construtor que chama dois valores, idade e cor."
   ]
  },
  {
   "cell_type": "code",
   "execution_count": null,
   "metadata": {},
   "outputs": [],
   "source": [
    "objeto.chorar()"
   ]
  },
  {
   "cell_type": "code",
   "execution_count": null,
   "metadata": {},
   "outputs": [],
   "source": [
    "objeto.nome_popular"
   ]
  },
  {
   "cell_type": "markdown",
   "metadata": {},
   "source": [
    "- Classe Mamifero: A classe Mamifero é um modelo para criar objetos que representam mamíferos, com características comuns como nome popular, idade e cor.\n",
    "\n",
    "- Construtor __init__: O método __init__ é chamado automaticamente quando uma nova instância da classe é criada. Ele inicializa os atributos do objeto (nome_popular, idade e cor) com os valores fornecidos quando o objeto é criado.\n",
    "\n",
    "- Atributos: \n",
    "    - self.nome_popular: Armazena o nome popular do mamífero.\n",
    "    - self.idade: Armazena a idade do mamífero.\n",
    "    - self.cor: Armazena a cor do mamífero.\n",
    "\n",
    "- Métodos:\n",
    "    - mamar: Um método que simula a ação de mamar do mamífero.\n",
    "    - chorar: Um método que simula a ação de chorar do mamífero."
   ]
  },
  {
   "cell_type": "markdown",
   "metadata": {},
   "source": [
    "Arquivo de Exemplo: Aspectos Básicos da Orientação a Objetos em Python\n",
    "\n",
    "Este arquivo apresenta os aspectos básicos da orientação a objetos em Python.\n",
    "\n",
    "1. Definindo uma Classe\n",
    "2. Método __init__\n",
    "3. Métodos em uma Classe\n",
    "4. Atributos de Instância\n",
    "5. Utilizando a Referência 'self'\n",
    "\n",
    "**O que é uma classe?**\n",
    "```py\n",
    "class Imovel:\n",
    "    def __init__(self,preco):\n",
    "        self.preco = preco\n",
    "        \n",
    "    def alugar(self):\n",
    "        return 'aluguei!'\n",
    "```    "
   ]
  },
  {
   "cell_type": "code",
   "execution_count": null,
   "metadata": {},
   "outputs": [],
   "source": [
    "\n",
    "# 1. Definindo uma Classe\n",
    "class Pessoa:\n",
    "    pass  # 'pass' é usado para indicar que a classe está vazia, mas você pode adicionar membros posteriormente\n",
    "\n",
    "\n",
    "# 2. Método __init__\n",
    "class Carro:\n",
    "    def __init__(self, modelo, ano):\n",
    "        self.modelo = modelo\n",
    "        self.ano = ano\n",
    "\n",
    "\n",
    "# 3. Métodos em uma Classe\n",
    "class Cachorro:\n",
    "    def latir(self):\n",
    "        return \"Woof!\"\n",
    "\n",
    "\n",
    "# 4. Atributos de Instância\n",
    "class Aluno:\n",
    "    def __init__(self, nome, idade):\n",
    "        self.nome = nome\n",
    "        self.idade = idade\n",
    "\n",
    "\n",
    "# 5. Utilizando a Referência 'self'\n",
    "class Circulo:\n",
    "    pi = 3.14  # Atributo de Classe\n",
    "\n",
    "    def __init__(self, raio):\n",
    "        self.raio = raio  # Atributo de Instância\n",
    "\n",
    "    def calcular_area(self):\n",
    "        return self.pi * (self.raio ** 2)\n",
    "\n",
    "\n",
    "# Exemplos de Uso\n",
    "if __name__ == \"__main__\":\n",
    "    # 1. Definindo uma Classe\n",
    "    pessoa = Pessoa()\n",
    "\n",
    "    # 2. Método __init__\n",
    "    carro = Carro(modelo=\"Civic\", ano=2022)\n",
    "\n",
    "    # 3. Métodos em uma Classe\n",
    "    cachorro = Cachorro()\n",
    "    print(cachorro.latir())\n",
    "\n",
    "    # 4. Atributos de Instância\n",
    "    aluno = Aluno(nome=\"Maria\", idade=25)\n",
    "    print(f\"Nome: {aluno.nome}, Idade: {aluno.idade}\")\n",
    "\n",
    "    # 5. Utilizando a Referência 'self'\n",
    "    circulo = Circulo(raio=5)\n",
    "    area = circulo.calcular_area()\n",
    "    print(f\"Área do círculo: {area}\")\n"
   ]
  },
  {
   "cell_type": "markdown",
   "metadata": {},
   "source": [
    "Qual a diferença entre Series e DataFrames?\n",
    "\n",
    "- Series é um objeto array unidimensional\n",
    "- Dataframe é uma matriz bidimensional rotulada, ou seja, para a qual podem ser atribuídos rótulos (nomes)  aos seus atributos (colunas) e indices númericos às suas linhas."
   ]
  },
  {
   "cell_type": "markdown",
   "metadata": {},
   "source": [
    "### Retornando ao dataset aluguel.csv"
   ]
  },
  {
   "cell_type": "code",
   "execution_count": 1,
   "metadata": {},
   "outputs": [
    {
     "name": "stdout",
     "output_type": "stream",
     "text": [
      "Collecting pandas\n",
      "  Using cached pandas-2.2.2-cp312-cp312-win_amd64.whl.metadata (19 kB)\n",
      "Collecting numpy>=1.26.0 (from pandas)\n",
      "  Using cached numpy-2.0.1-cp312-cp312-win_amd64.whl.metadata (60 kB)\n",
      "Requirement already satisfied: python-dateutil>=2.8.2 in c:\\users\\ead\\desktop\\python-ia-senai-df\\.venv\\lib\\site-packages (from pandas) (2.9.0.post0)\n",
      "Collecting pytz>=2020.1 (from pandas)\n",
      "  Using cached pytz-2024.1-py2.py3-none-any.whl.metadata (22 kB)\n",
      "Collecting tzdata>=2022.7 (from pandas)\n",
      "  Using cached tzdata-2024.1-py2.py3-none-any.whl.metadata (1.4 kB)\n",
      "Requirement already satisfied: six>=1.5 in c:\\users\\ead\\desktop\\python-ia-senai-df\\.venv\\lib\\site-packages (from python-dateutil>=2.8.2->pandas) (1.16.0)\n",
      "Using cached pandas-2.2.2-cp312-cp312-win_amd64.whl (11.5 MB)\n",
      "Using cached numpy-2.0.1-cp312-cp312-win_amd64.whl (16.3 MB)\n",
      "Using cached pytz-2024.1-py2.py3-none-any.whl (505 kB)\n",
      "Using cached tzdata-2024.1-py2.py3-none-any.whl (345 kB)\n",
      "Installing collected packages: pytz, tzdata, numpy, pandas\n",
      "Successfully installed numpy-2.0.1 pandas-2.2.2 pytz-2024.1 tzdata-2024.1\n"
     ]
    }
   ],
   "source": [
    "! pip install pandas"
   ]
  },
  {
   "cell_type": "code",
   "execution_count": 2,
   "metadata": {},
   "outputs": [],
   "source": [
    "# Importa a biblioteca pandas e define o alias 'pd'\n",
    "import pandas as pd"
   ]
  },
  {
   "cell_type": "code",
   "execution_count": 3,
   "metadata": {},
   "outputs": [
    {
     "data": {
      "text/html": [
       "<div>\n",
       "<style scoped>\n",
       "    .dataframe tbody tr th:only-of-type {\n",
       "        vertical-align: middle;\n",
       "    }\n",
       "\n",
       "    .dataframe tbody tr th {\n",
       "        vertical-align: top;\n",
       "    }\n",
       "\n",
       "    .dataframe thead th {\n",
       "        text-align: right;\n",
       "    }\n",
       "</style>\n",
       "<table border=\"1\" class=\"dataframe\">\n",
       "  <thead>\n",
       "    <tr style=\"text-align: right;\">\n",
       "      <th></th>\n",
       "      <th>Tipo;Bairro;Quartos;Vagas;Suites;Area;Valor;Condominio;IPTU</th>\n",
       "    </tr>\n",
       "  </thead>\n",
       "  <tbody>\n",
       "    <tr>\n",
       "      <th>0</th>\n",
       "      <td>Quitinete;Copacabana;1;0;0;40;1700;500;60</td>\n",
       "    </tr>\n",
       "    <tr>\n",
       "      <th>1</th>\n",
       "      <td>Casa;Jardim Botânico;2;0;1;100;7000;;</td>\n",
       "    </tr>\n",
       "    <tr>\n",
       "      <th>2</th>\n",
       "      <td>Conjunto Comercial/Sala;Barra da Tijuca;0;4;0;...</td>\n",
       "    </tr>\n",
       "    <tr>\n",
       "      <th>3</th>\n",
       "      <td>Apartamento;Centro;1;0;0;15;800;390;20</td>\n",
       "    </tr>\n",
       "    <tr>\n",
       "      <th>4</th>\n",
       "      <td>Apartamento;Higienópolis;1;0;0;48;800;230;</td>\n",
       "    </tr>\n",
       "    <tr>\n",
       "      <th>...</th>\n",
       "      <td>...</td>\n",
       "    </tr>\n",
       "    <tr>\n",
       "      <th>32955</th>\n",
       "      <td>Quitinete;Centro;0;0;0;27;800;350;25</td>\n",
       "    </tr>\n",
       "    <tr>\n",
       "      <th>32956</th>\n",
       "      <td>Apartamento;Jacarepaguá;3;1;2;78;1800;800;40</td>\n",
       "    </tr>\n",
       "    <tr>\n",
       "      <th>32957</th>\n",
       "      <td>Apartamento;São Francisco Xavier;2;1;0;48;1400...</td>\n",
       "    </tr>\n",
       "    <tr>\n",
       "      <th>32958</th>\n",
       "      <td>Apartamento;Leblon;2;0;0;70;3000;760;</td>\n",
       "    </tr>\n",
       "    <tr>\n",
       "      <th>32959</th>\n",
       "      <td>Conjunto Comercial/Sala;Centro;0;0;0;250;6500;...</td>\n",
       "    </tr>\n",
       "  </tbody>\n",
       "</table>\n",
       "<p>32960 rows × 1 columns</p>\n",
       "</div>"
      ],
      "text/plain": [
       "      Tipo;Bairro;Quartos;Vagas;Suites;Area;Valor;Condominio;IPTU\n",
       "0              Quitinete;Copacabana;1;0;0;40;1700;500;60         \n",
       "1                  Casa;Jardim Botânico;2;0;1;100;7000;;         \n",
       "2      Conjunto Comercial/Sala;Barra da Tijuca;0;4;0;...         \n",
       "3                 Apartamento;Centro;1;0;0;15;800;390;20         \n",
       "4             Apartamento;Higienópolis;1;0;0;48;800;230;         \n",
       "...                                                  ...         \n",
       "32955               Quitinete;Centro;0;0;0;27;800;350;25         \n",
       "32956       Apartamento;Jacarepaguá;3;1;2;78;1800;800;40         \n",
       "32957  Apartamento;São Francisco Xavier;2;1;0;48;1400...         \n",
       "32958              Apartamento;Leblon;2;0;0;70;3000;760;         \n",
       "32959  Conjunto Comercial/Sala;Centro;0;0;0;250;6500;...         \n",
       "\n",
       "[32960 rows x 1 columns]"
      ]
     },
     "execution_count": 3,
     "metadata": {},
     "output_type": "execute_result"
    }
   ],
   "source": [
    "# A função pd.read_csv(url) lê o arquivo CSV e transforma-o em um DataFrame\n",
    "url = \"dataset/aluguel.csv\"\n",
    "pd.read_csv(url)"
   ]
  },
  {
   "cell_type": "code",
   "execution_count": 4,
   "metadata": {},
   "outputs": [],
   "source": [
    "# Exibindo o conteúdo do DataFrame 'dados'\n",
    "df = pd.read_csv(url)"
   ]
  },
  {
   "cell_type": "code",
   "execution_count": 17,
   "metadata": {},
   "outputs": [],
   "source": [
    "dados = pd.read_csv(url,sep=\";\")"
   ]
  },
  {
   "cell_type": "code",
   "execution_count": 5,
   "metadata": {},
   "outputs": [
    {
     "data": {
      "text/plain": [
       "0    2024\n",
       "1    2025\n",
       "2    2026\n",
       "3    2027\n",
       "dtype: int64"
      ]
     },
     "execution_count": 5,
     "metadata": {},
     "output_type": "execute_result"
    }
   ],
   "source": [
    "# Exercício - Considere uma lista de anos de lançamento de um imóvel. Insira os valores em Series\n",
    "\n",
    "lancamentos = pd.Series([2024,2025,2026,2027])\n",
    "lancamentos"
   ]
  },
  {
   "cell_type": "code",
   "execution_count": 6,
   "metadata": {},
   "outputs": [
    {
     "data": {
      "text/plain": [
       "jan    2024\n",
       "fev    2025\n",
       "mar    2026\n",
       "abr    2027\n",
       "dtype: int64"
      ]
     },
     "execution_count": 6,
     "metadata": {},
     "output_type": "execute_result"
    }
   ],
   "source": [
    "# Exercício - Crie series com dicionário\n",
    "\n",
    "lancamentos = pd.Series({'jan':2024,'fev':2025,'mar':2026,'abr':2027})\n",
    "lancamentos"
   ]
  },
  {
   "cell_type": "code",
   "execution_count": null,
   "metadata": {},
   "outputs": [],
   "source": [
    "# Mostre 23 registros no cabeçalho\n",
    "df.head(23)"
   ]
  },
  {
   "cell_type": "code",
   "execution_count": null,
   "metadata": {},
   "outputs": [],
   "source": [
    "# Mostre o final do DataFrame\n",
    "df.tail()"
   ]
  },
  {
   "cell_type": "code",
   "execution_count": 9,
   "metadata": {},
   "outputs": [
    {
     "data": {
      "text/plain": [
       "Tipo;Bairro;Quartos;Vagas;Suites;Area;Valor;Condominio;IPTU    object\n",
       "dtype: object"
      ]
     },
     "execution_count": 9,
     "metadata": {},
     "output_type": "execute_result"
    }
   ],
   "source": [
    "# Exercício - Como examinar a quantidade de linhas do dataframe?\n",
    "\n",
    "# antes vamos ver o tipo\n",
    "df.dtypes"
   ]
  },
  {
   "cell_type": "code",
   "execution_count": 10,
   "metadata": {},
   "outputs": [
    {
     "data": {
      "text/plain": [
       "32960"
      ]
     },
     "execution_count": 10,
     "metadata": {},
     "output_type": "execute_result"
    }
   ],
   "source": [
    "# vamos ver quantidade de linhas do dataframe\n",
    "len(df)"
   ]
  },
  {
   "cell_type": "code",
   "execution_count": 18,
   "metadata": {},
   "outputs": [
    {
     "data": {
      "text/plain": [
       "0                      Quitinete\n",
       "1                           Casa\n",
       "2        Conjunto Comercial/Sala\n",
       "3                    Apartamento\n",
       "4                    Apartamento\n",
       "                  ...           \n",
       "32955                  Quitinete\n",
       "32956                Apartamento\n",
       "32957                Apartamento\n",
       "32958                Apartamento\n",
       "32959    Conjunto Comercial/Sala\n",
       "Name: Tipo, Length: 32960, dtype: object"
      ]
     },
     "execution_count": 18,
     "metadata": {},
     "output_type": "execute_result"
    }
   ],
   "source": [
    "# Acesse apenas a coluna Suites\n",
    "\n",
    "dados['Tipo']"
   ]
  },
  {
   "cell_type": "code",
   "execution_count": null,
   "metadata": {},
   "outputs": [],
   "source": [
    "df.IPTU[2:5]"
   ]
  },
  {
   "cell_type": "code",
   "execution_count": null,
   "metadata": {},
   "outputs": [],
   "source": [
    "df['Valor'].mean()"
   ]
  },
  {
   "cell_type": "markdown",
   "metadata": {},
   "source": [
    "`Nível 2`\n",
    "\n",
    "Trelo -> Fundamentos Pandas -> Análise exploratório dos dados\n",
    "- Calcular valores médios de aluguel por tipo de imóvel"
   ]
  },
  {
   "cell_type": "code",
   "execution_count": null,
   "metadata": {},
   "outputs": [],
   "source": [
    "df.groupby('Tipo')['Valor'].mean()"
   ]
  },
  {
   "cell_type": "code",
   "execution_count": null,
   "metadata": {},
   "outputs": [],
   "source": [
    "df.groupby('Tipo').mean(numeric_only=True)"
   ]
  },
  {
   "cell_type": "code",
   "execution_count": null,
   "metadata": {},
   "outputs": [],
   "source": [
    "pesquisa_tipo = df.groupby('Tipo')['Valor']"
   ]
  },
  {
   "cell_type": "code",
   "execution_count": null,
   "metadata": {},
   "outputs": [],
   "source": [
    "df.groupby('Tipo')[['Valor']].mean().sort_values('Valor')\n",
    "\n",
    "# O segredo para transformar em dataframe foi colocar mais um colchete."
   ]
  },
  {
   "cell_type": "markdown",
   "metadata": {},
   "source": [
    "`Matplotlib`\n",
    "\n",
    "- Bilioteca para visualização de dados por meio de gráficos."
   ]
  },
  {
   "cell_type": "code",
   "execution_count": null,
   "metadata": {},
   "outputs": [],
   "source": [
    "! pip install matplotlib"
   ]
  },
  {
   "cell_type": "code",
   "execution_count": null,
   "metadata": {},
   "outputs": [],
   "source": [
    "df_valor_tipo = df.groupby('Tipo')[['Valor']].mean().sort_values('Valor')\n",
    "# df_valor_tipo.plot(tipo,tamanho,cor)\n",
    "\n",
    "df_valor_tipo.plot(kind='barh',figsize=(14,10),color'purple')\n",
    "'''\n",
    "bar = vertical\n",
    "barh = horizontal\n",
    "figsize=(14,10) em polegadas. Pra trabalhar em pixels, vc multiplica o valor de polegadaspor 100\n",
    "\n",
    "\n",
    "amanhã em aula retornaremos para atender ao post it da ativiade do trello\n",
    "'''"
   ]
  }
 ],
 "metadata": {
  "kernelspec": {
   "display_name": "Python 3",
   "language": "python",
   "name": "python3"
  },
  "language_info": {
   "codemirror_mode": {
    "name": "ipython",
    "version": 3
   },
   "file_extension": ".py",
   "mimetype": "text/x-python",
   "name": "python",
   "nbconvert_exporter": "python",
   "pygments_lexer": "ipython3",
   "version": "3.12.4"
  }
 },
 "nbformat": 4,
 "nbformat_minor": 2
}
