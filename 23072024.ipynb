{
 "cells": [
  {
   "cell_type": "markdown",
   "metadata": {},
   "source": [
    "#### Semana de Ciência de Dados com Python/IA - SENAI-DF - Vespertino - 23/07/2024 - Marcelo Pereira Avelino\n",
    "##### 📝 Orientação a Objetos"
   ]
  },
  {
   "cell_type": "markdown",
   "metadata": {},
   "source": [
    "\n",
    "`Aspectos Básicos da Orientação a Objetos em Python`"
   ]
  },
  {
   "cell_type": "code",
   "execution_count": 13,
   "metadata": {},
   "outputs": [],
   "source": [
    "# Definindo uma Classe\n",
    "\n",
    "class Mamifero:  # Define a classe Mamifero, que é um grupo de objetos semelhantes.\n",
    "                 # Nesse caso, a classe Mamifero é um conjunto de seres de costumes semelhantes.\n",
    "    \n",
    "    # O método __init__ é um construtor que é chamado quando um objeto da classe é criado.\n",
    "    def __init__(self, nome_popular, idade, cor):  # self representa a instância atual da classe, permitindo acessar os atributos e métodos da classe.\n",
    "                                                  # nome_popular, idade e cor são parâmetros que serão usados para inicializar os atributos do objeto.\n",
    "        self.nome_popular = nome_popular  # Atribui o valor do parâmetro nome_popular ao atributo nome_popular da instância.\n",
    "        self.idade = idade  # Atribui o valor do parâmetro idade ao atributo idade da instância.\n",
    "        self.cor = cor  # Atribui o valor do parâmetro cor ao atributo cor da instância.\n",
    "   \n",
    "    def mamar(self):  # Define um método chamado mamar, que representa uma ação que o mamífero pode realizar.\n",
    "        return \"mamando ...\"  # Retorna a string \"mamando ...\"\n",
    "\n",
    "    def chorar(self):  # Define um método chamado chorar, que representa uma ação que o mamífero pode realizar.\n",
    "        return \"chorando ...\"  # Retorna a string \"chorando ...\"\n"
   ]
  },
  {
   "cell_type": "code",
   "execution_count": null,
   "metadata": {},
   "outputs": [],
   "source": [
    "# Criando o objeto, que é uma instância de uma classe.\n",
    "\n",
    "objeto = Mamifero(nome_popular=\"Ornitorrinco\", idade=17, cor=\"Caramelo\") Criando um objeto que chama um construtor que chama dois valores, idade e cor."
   ]
  },
  {
   "cell_type": "code",
   "execution_count": null,
   "metadata": {},
   "outputs": [],
   "source": [
    "objeto.chorar()"
   ]
  },
  {
   "cell_type": "code",
   "execution_count": null,
   "metadata": {},
   "outputs": [],
   "source": [
    "objeto.nome_popular"
   ]
  },
  {
   "cell_type": "markdown",
   "metadata": {},
   "source": [
    "- Classe Mamifero: A classe Mamifero é um modelo para criar objetos que representam mamíferos, com características comuns como nome popular, idade e cor.\n",
    "\n",
    "- Construtor __init__: O método __init__ é chamado automaticamente quando uma nova instância da classe é criada. Ele inicializa os atributos do objeto (nome_popular, idade e cor) com os valores fornecidos quando o objeto é criado.\n",
    "\n",
    "- Atributos: \n",
    "    - self.nome_popular: Armazena o nome popular do mamífero.\n",
    "    - self.idade: Armazena a idade do mamífero.\n",
    "    - self.cor: Armazena a cor do mamífero.\n",
    "\n",
    "- Métodos:\n",
    "    - mamar: Um método que simula a ação de mamar do mamífero.\n",
    "    - chorar: Um método que simula a ação de chorar do mamífero."
   ]
  },
  {
   "cell_type": "markdown",
   "metadata": {},
   "source": [
    "Arquivo de Exemplo: Aspectos Básicos da Orientação a Objetos em Python\n",
    "\n",
    "Este arquivo apresenta os aspectos básicos da orientação a objetos em Python.\n",
    "\n",
    "1. Definindo uma Classe\n",
    "2. Método __init__\n",
    "3. Métodos em uma Classe\n",
    "4. Atributos de Instância\n",
    "5. Utilizando a Referência 'self'\n",
    "\n",
    "**O que é uma classe?**\n",
    "```py\n",
    "class Imovel:\n",
    "    def __init__(self,preco):\n",
    "        self.preco = preco\n",
    "        \n",
    "    def alugar(self):\n",
    "        return 'aluguei!'\n",
    "```    "
   ]
  },
  {
   "cell_type": "code",
   "execution_count": null,
   "metadata": {},
   "outputs": [],
   "source": [
    "\n",
    "# 1. Definindo uma Classe\n",
    "class Pessoa:\n",
    "    pass  # 'pass' é usado para indicar que a classe está vazia, mas você pode adicionar membros posteriormente\n",
    "\n",
    "\n",
    "# 2. Método __init__\n",
    "class Carro:\n",
    "    def __init__(self, modelo, ano):\n",
    "        self.modelo = modelo\n",
    "        self.ano = ano\n",
    "\n",
    "\n",
    "# 3. Métodos em uma Classe\n",
    "class Cachorro:\n",
    "    def latir(self):\n",
    "        return \"Woof!\"\n",
    "\n",
    "\n",
    "# 4. Atributos de Instância\n",
    "class Aluno:\n",
    "    def __init__(self, nome, idade):\n",
    "        self.nome = nome\n",
    "        self.idade = idade\n",
    "\n",
    "\n",
    "# 5. Utilizando a Referência 'self'\n",
    "class Circulo:\n",
    "    pi = 3.14  # Atributo de Classe\n",
    "\n",
    "    def __init__(self, raio):\n",
    "        self.raio = raio  # Atributo de Instância\n",
    "\n",
    "    def calcular_area(self):\n",
    "        return self.pi * (self.raio ** 2)\n",
    "\n",
    "\n",
    "# Exemplos de Uso\n",
    "if __name__ == \"__main__\":\n",
    "    # 1. Definindo uma Classe\n",
    "    pessoa = Pessoa()\n",
    "\n",
    "    # 2. Método __init__\n",
    "    carro = Carro(modelo=\"Civic\", ano=2022)\n",
    "\n",
    "    # 3. Métodos em uma Classe\n",
    "    cachorro = Cachorro()\n",
    "    print(cachorro.latir())\n",
    "\n",
    "    # 4. Atributos de Instância\n",
    "    aluno = Aluno(nome=\"Maria\", idade=25)\n",
    "    print(f\"Nome: {aluno.nome}, Idade: {aluno.idade}\")\n",
    "\n",
    "    # 5. Utilizando a Referência 'self'\n",
    "    circulo = Circulo(raio=5)\n",
    "    area = circulo.calcular_area()\n",
    "    print(f\"Área do círculo: {area}\")\n"
   ]
  },
  {
   "cell_type": "markdown",
   "metadata": {},
   "source": [
    "Qual a diferença entre Series e DataFrames?\n",
    "\n",
    "- Series é um objeto array unidimensional\n",
    "- Dataframe é uma matriz bidimensional rotulada, ou seja, para a qual podem ser atribuídos rótulos (nomes)  aos seus atributos (colunas) e indices númericos às suas linhas."
   ]
  },
  {
   "cell_type": "markdown",
   "metadata": {},
   "source": [
    "### Retornando ao dataset aluguel.csv"
   ]
  },
  {
   "cell_type": "code",
   "execution_count": null,
   "metadata": {},
   "outputs": [],
   "source": [
    "# Importa a biblioteca pandas e define o alias 'pd'\n",
    "import pandas as pd"
   ]
  },
  {
   "cell_type": "code",
   "execution_count": 26,
   "metadata": {},
   "outputs": [],
   "source": [
    "# A função pd.read_csv(url) lê o arquivo CSV e transforma-o em um DataFrame\n",
    "url = \"dataset/aluguel.csv\"\n",
    "pd.read_csv(url)"
   ]
  },
  {
   "cell_type": "code",
   "execution_count": null,
   "metadata": {},
   "outputs": [],
   "source": [
    "# Exibindo o conteúdo do DataFrame 'dados'\n",
    "df = pd.read_csv(url)"
   ]
  },
  {
   "cell_type": "code",
   "execution_count": null,
   "metadata": {},
   "outputs": [],
   "source": [
    "# Exercício - Considere uma lista de anos de lançamento de um imóvel. Insira os valores em Series\n",
    "\n",
    "lancamentos = pd.Series([2024,2025,2026,2027])\n",
    "lancamentos"
   ]
  },
  {
   "cell_type": "code",
   "execution_count": null,
   "metadata": {},
   "outputs": [],
   "source": [
    "# Exercício - Crie series com dicionário\n",
    "\n",
    "lancamentos = pd.Series({'jan':2024,'fev':2025,'mar':2026,'abr':2027})\n",
    "lancamentos"
   ]
  },
  {
   "cell_type": "code",
   "execution_count": null,
   "metadata": {},
   "outputs": [],
   "source": [
    "# Mostre 23 registros no cabeçalho\n",
    "df.head(23)"
   ]
  },
  {
   "cell_type": "code",
   "execution_count": null,
   "metadata": {},
   "outputs": [],
   "source": [
    "# Mostre o final do DataFrame\n",
    "df.tail()"
   ]
  },
  {
   "cell_type": "code",
   "execution_count": null,
   "metadata": {},
   "outputs": [],
   "source": [
    "# Exercício - Como examinar a quantidade de linhas do dataframe?\n",
    "\n",
    "# antes vamos ver o tipo\n",
    "df.dtypes"
   ]
  },
  {
   "cell_type": "code",
   "execution_count": null,
   "metadata": {},
   "outputs": [],
   "source": [
    "# vamos ver quantidade de linhas do dataframe\n",
    "len(df)"
   ]
  },
  {
   "cell_type": "code",
   "execution_count": null,
   "metadata": {},
   "outputs": [],
   "source": [
    "# Acesse apenas a coluna Suites\n",
    "\n",
    "df['Tipo']"
   ]
  },
  {
   "cell_type": "code",
   "execution_count": null,
   "metadata": {},
   "outputs": [],
   "source": [
    "df.IPTU[2:5]"
   ]
  },
  {
   "cell_type": "code",
   "execution_count": null,
   "metadata": {},
   "outputs": [],
   "source": [
    "df['Valor'].mean()"
   ]
  },
  {
   "cell_type": "markdown",
   "metadata": {},
   "source": [
    "`Nível 2`\n",
    "\n",
    "Trelo -> Fundamentos Pandas -> Análise exploratório dos dados\n",
    "- Calcular valores médios de aluguel por tipo de imóvel"
   ]
  }
 ],
 "metadata": {
  "kernelspec": {
   "display_name": "Python 3",
   "language": "python",
   "name": "python3"
  },
  "language_info": {
   "codemirror_mode": {
    "name": "ipython",
    "version": 3
   },
   "file_extension": ".py",
   "mimetype": "text/x-python",
   "name": "python",
   "nbconvert_exporter": "python",
   "pygments_lexer": "ipython3",
   "version": "3.12.4"
  }
 },
 "nbformat": 4,
 "nbformat_minor": 2
}
