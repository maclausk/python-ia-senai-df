{
 "cells": [
  {
   "cell_type": "markdown",
   "metadata": {},
   "source": [
    "#### Semana de Ciência de Dados com Python/IA - SENAI-DF - Vespertino - 25/07/2024 - Marcelo Pereira Avelino"
   ]
  },
  {
   "cell_type": "markdown",
   "metadata": {},
   "source": [
    "---\n",
    "##### 📝 `Competências Pandas`\n",
    "\n",
    "- 1. Entender as funções básicas\n",
    "- 2. Utilizar as funções básicas\n",
    "- 3. Renomear colunas\n",
    "- 4. Selecionar colunas e linhas\n",
    "- 5. Adicionar e remover colunas\n",
    "- 6. Realizar consultas\n",
    "- 7. Ordenaar itens\n",
    "- 8. Combinar e concatenar dataframes\n",
    "- 9. Salvar Dataframes\n",
    "---"
   ]
  },
  {
   "cell_type": "markdown",
   "metadata": {},
   "source": [
    "#### `1. Entender as funções básicas`\n",
    "\n",
    "- **head():** Visualiza as primeiras `n` linhas de um dataframe. Por padrão, retorna as cinco primeiras linhas.\n",
    "- **tail():** Visualiza as últimas n linhas de um dataframe. Por padrão, retorna as cinco últimas linha\n",
    "- **shape:** Retorna o número de linhas e colunas do dataframe.\n",
    "- **info():** Retorna índices, colunas, contagem de células não nulas, tipo de dado e memória usada pelo dataframe.\n",
    "- **columns:** Mostra todas as colunas do datafram.\n",
    "- **count():** Conta as células preenchidas em cada coluna do dataframes.\n",
    "- **describe():** Retorna estatísticas descritivas sobre as colunas do dataframe, como média, percentis, desvio padrão e mediana (percentil 50%)."
   ]
  },
  {
   "cell_type": "markdown",
   "metadata": {},
   "source": [
    "#### `2. Utilizar as funções básicas`"
   ]
  },
  {
   "cell_type": "code",
   "execution_count": null,
   "metadata": {},
   "outputs": [],
   "source": [
    "! pip install numpy pandas scikit-learn matplotlib requests"
   ]
  },
  {
   "cell_type": "code",
   "execution_count": 12,
   "metadata": {},
   "outputs": [],
   "source": [
    "# Importando bibliotecas necessárias\n",
    "import pandas as pd\n",
    "import matplotlib.pyplot as plt"
   ]
  },
  {
   "cell_type": "code",
   "execution_count": 13,
   "metadata": {},
   "outputs": [],
   "source": [
    "# Importando o arquivo controlegastos.csv e armazenando seu conteúdo no dataframe 'df'.\n",
    "url = \"dataset/controlegastos.csv\"\n",
    "dados = pd.read_csv(url, sep=\";\")"
   ]
  },
  {
   "cell_type": "code",
   "execution_count": 14,
   "metadata": {},
   "outputs": [
    {
     "name": "stdout",
     "output_type": "stream",
     "text": [
      "Primeiras linhas do DataFrame original:\n",
      "         data   hora  gasto        descricao         tipo  Unnamed: 5\n",
      "0  25/07/2024  17:19     10  cachorro quente  alimentacao         NaN\n",
      "1  24/07/2024  16:00     15       energetico  alimentacao         NaN\n",
      "2  24/07/2024  07:20     11   lanche escolar  alimentacao         NaN\n",
      "3  25/07/2024  19:00    150      mouse gamer  informatica         NaN\n",
      "4  24/07/2024  22:00    250         cinemark        lazer         NaN\n",
      "Nomes das colunas originais:\n",
      "Index(['data', 'hora', 'gasto', 'descricao', 'tipo', 'Unnamed: 5'], dtype='object')\n"
     ]
    }
   ],
   "source": [
    "# Exibindo as primeiras linhas do DataFrame\n",
    "print(\"Primeiras linhas do DataFrame original:\")\n",
    "print(dados.head())\n",
    "\n",
    "# Exibindo os nomes das colunas\n",
    "print(\"Nomes das colunas originais:\")\n",
    "print(dados.columns)"
   ]
  },
  {
   "cell_type": "code",
   "execution_count": 5,
   "metadata": {},
   "outputs": [
    {
     "data": {
      "text/plain": [
       "(179, 1)"
      ]
     },
     "execution_count": 5,
     "metadata": {},
     "output_type": "execute_result"
    }
   ],
   "source": [
    "# Retorna o número de linhas e colunas do DataFrame\n",
    "df.shape"
   ]
  },
  {
   "cell_type": "code",
   "execution_count": 15,
   "metadata": {},
   "outputs": [
    {
     "name": "stdout",
     "output_type": "stream",
     "text": [
      "<class 'pandas.core.frame.DataFrame'>\n",
      "RangeIndex: 179 entries, 0 to 178\n",
      "Data columns (total 1 columns):\n",
      " #   Column                           Non-Null Count  Dtype \n",
      "---  ------                           --------------  ----- \n",
      " 0   data;hora;gasto;descricao;tipo;  179 non-null    object\n",
      "dtypes: object(1)\n",
      "memory usage: 1.5+ KB\n"
     ]
    }
   ],
   "source": [
    "# Retorna índices, colunas, contagem de células não nulas, tipo de dado e memória usada pelo DataFrame\n",
    "df.info()"
   ]
  },
  {
   "cell_type": "code",
   "execution_count": 16,
   "metadata": {},
   "outputs": [
    {
     "data": {
      "text/plain": [
       "Index(['data;hora;gasto;descricao;tipo;'], dtype='object')"
      ]
     },
     "execution_count": 16,
     "metadata": {},
     "output_type": "execute_result"
    }
   ],
   "source": [
    "# Mostra todas as colunas do DataFrame\n",
    "df.columns\n"
   ]
  },
  {
   "cell_type": "code",
   "execution_count": 17,
   "metadata": {},
   "outputs": [
    {
     "data": {
      "text/plain": [
       "data;hora;gasto;descricao;tipo;    179\n",
       "dtype: int64"
      ]
     },
     "execution_count": 17,
     "metadata": {},
     "output_type": "execute_result"
    }
   ],
   "source": [
    "# Conta as células preenchidas em cada coluna do DataFrame\n",
    "df.count()\n"
   ]
  },
  {
   "cell_type": "code",
   "execution_count": 18,
   "metadata": {},
   "outputs": [
    {
     "data": {
      "text/html": [
       "<div>\n",
       "<style scoped>\n",
       "    .dataframe tbody tr th:only-of-type {\n",
       "        vertical-align: middle;\n",
       "    }\n",
       "\n",
       "    .dataframe tbody tr th {\n",
       "        vertical-align: top;\n",
       "    }\n",
       "\n",
       "    .dataframe thead th {\n",
       "        text-align: right;\n",
       "    }\n",
       "</style>\n",
       "<table border=\"1\" class=\"dataframe\">\n",
       "  <thead>\n",
       "    <tr style=\"text-align: right;\">\n",
       "      <th></th>\n",
       "      <th>data;hora;gasto;descricao;tipo;</th>\n",
       "    </tr>\n",
       "  </thead>\n",
       "  <tbody>\n",
       "    <tr>\n",
       "      <th>count</th>\n",
       "      <td>179</td>\n",
       "    </tr>\n",
       "    <tr>\n",
       "      <th>unique</th>\n",
       "      <td>179</td>\n",
       "    </tr>\n",
       "    <tr>\n",
       "      <th>top</th>\n",
       "      <td>25/07/2024;17:19;10;cachorro quente;alimentacao;</td>\n",
       "    </tr>\n",
       "    <tr>\n",
       "      <th>freq</th>\n",
       "      <td>1</td>\n",
       "    </tr>\n",
       "  </tbody>\n",
       "</table>\n",
       "</div>"
      ],
      "text/plain": [
       "                         data;hora;gasto;descricao;tipo;\n",
       "count                                                179\n",
       "unique                                               179\n",
       "top     25/07/2024;17:19;10;cachorro quente;alimentacao;\n",
       "freq                                                   1"
      ]
     },
     "execution_count": 18,
     "metadata": {},
     "output_type": "execute_result"
    }
   ],
   "source": [
    "# Retorna estatísticas descritivas sobre as colunas do DataFrame\n",
    "df.describe()\n"
   ]
  },
  {
   "cell_type": "markdown",
   "metadata": {},
   "source": [
    "#### `3. Renomear Colunas`"
   ]
  },
  {
   "cell_type": "code",
   "execution_count": 19,
   "metadata": {},
   "outputs": [
    {
     "name": "stdout",
     "output_type": "stream",
     "text": [
      "Primeiras linhas do DataFrame após a renomeação:\n",
      "         Data   Hora  Gasto        Descricao         Tipo  OutraColuna\n",
      "0  25/07/2024  17:19     10  cachorro quente  alimentacao          NaN\n",
      "1  24/07/2024  16:00     15       energetico  alimentacao          NaN\n",
      "2  24/07/2024  07:20     11   lanche escolar  alimentacao          NaN\n",
      "3  25/07/2024  19:00    150      mouse gamer  informatica          NaN\n",
      "4  24/07/2024  22:00    250         cinemark        lazer          NaN\n"
     ]
    }
   ],
   "source": [
    "novos_nomes = [\"Data\", \"Hora\", \"Gasto\", \"Descricao\", \"Tipo\", \"OutraColuna\"]\n",
    "dados.columns = novos_nomes\n",
    "print(\"Primeiras linhas do DataFrame após a renomeação:\")\n",
    "print(dados.head())"
   ]
  },
  {
   "cell_type": "code",
   "execution_count": 20,
   "metadata": {},
   "outputs": [
    {
     "name": "stdout",
     "output_type": "stream",
     "text": [
      "Nomes das colunas originais:\n",
      "Index(['Data', 'Hora', 'Gasto', 'Descricao', 'Tipo', 'OutraColuna'], dtype='object')\n",
      "Primeiras linhas do DataFrame após a renomeação:\n",
      "         Data   Hora  Gasto        Descricao         Tipo  OutraColuna\n",
      "0  25/07/2024  17:19     10  cachorro quente  alimentacao          NaN\n",
      "1  24/07/2024  16:00     15       energetico  alimentacao          NaN\n",
      "2  24/07/2024  07:20     11   lanche escolar  alimentacao          NaN\n",
      "3  25/07/2024  19:00    150      mouse gamer  informatica          NaN\n",
      "4  24/07/2024  22:00    250         cinemark        lazer          NaN\n"
     ]
    }
   ],
   "source": [
    "# Verificando os nomes das colunas atuais\n",
    "print(\"Nomes das colunas originais:\")\n",
    "print(dados.columns)\n",
    "\n",
    "# Renomeando as colunas do DataFrame (certifique-se de que o número de novos nomes corresponda ao número de colunas existentes)\n",
    "novos_nomes = [\"Data\", \"Hora\", \"Gasto\", \"Descricao\", \"Tipo\", \"OutraColuna\"]  # Ajuste este array conforme necessário\n",
    "dados.columns = novos_nomes\n",
    "\n",
    "# Verificando as primeiras linhas após a renomeação\n",
    "print(\"Primeiras linhas do DataFrame após a renomeação:\")\n",
    "print(dados.head())"
   ]
  },
  {
   "cell_type": "markdown",
   "metadata": {},
   "source": [
    "#### `4. Selecionar colunas e linhas`"
   ]
  },
  {
   "cell_type": "markdown",
   "metadata": {},
   "source": [
    "#### `5. Adicionar e remover colunas`"
   ]
  },
  {
   "cell_type": "markdown",
   "metadata": {},
   "source": [
    "#### `6. Realizar consultas`"
   ]
  },
  {
   "cell_type": "markdown",
   "metadata": {},
   "source": [
    "#### `7. Ordenar itens`"
   ]
  },
  {
   "cell_type": "markdown",
   "metadata": {},
   "source": [
    "#### `8. Combinar e concatenar dataframes`"
   ]
  },
  {
   "cell_type": "markdown",
   "metadata": {},
   "source": [
    "#### `9. Salvar Dataframes`"
   ]
  }
 ],
 "metadata": {
  "kernelspec": {
   "display_name": ".venv",
   "language": "python",
   "name": "python3"
  },
  "language_info": {
   "codemirror_mode": {
    "name": "ipython",
    "version": 3
   },
   "file_extension": ".py",
   "mimetype": "text/x-python",
   "name": "python",
   "nbconvert_exporter": "python",
   "pygments_lexer": "ipython3",
   "version": "3.12.4"
  }
 },
 "nbformat": 4,
 "nbformat_minor": 2
}
