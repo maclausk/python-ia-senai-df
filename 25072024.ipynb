{
 "cells": [
  {
   "cell_type": "markdown",
   "metadata": {},
   "source": [
    "#### Semana de Ciência de Dados com Python/IA - SENAI-DF - Vespertino - 25/07/2024 - Marcelo Pereira Avelino"
   ]
  },
  {
   "cell_type": "markdown",
   "metadata": {},
   "source": [
    "---\n",
    "##### 📝 `Competências Pandas`\n",
    "\n",
    "- 1. Entender as funções básicas\n",
    "- 2. Utilizar as funções básicas\n",
    "- 3. Renomear colunas\n",
    "- 4. Selecionar colunas e linhas\n",
    "- 5. Adicionar e remover colunas\n",
    "- 6. Realizar consultas\n",
    "- 7. Ordenaar itens\n",
    "- 8. Combinar e concatenar dataframes\n",
    "- 9. Salvar Dataframes\n",
    "---"
   ]
  },
  {
   "cell_type": "markdown",
   "metadata": {},
   "source": [
    "#### `1. Entender as funções básicas`\n",
    "\n",
    "- **head():** Visualiza as primeiras `n` linhas de um dataframe. Por padrão, retorna as cinco primeiras linhas.\n",
    "- **tail():** Visualiza as últimas n linhas de um dataframe. Por padrão, retorna as cinco últimas linha\n",
    "- **shape:** Retorna o número de linhas e colunas do dataframe.\n",
    "- **info():** Retorna índices, colunas, contagem de células não nulas, tipo de dado e memória usada pelo dataframe.\n",
    "- **columns:** Mostra todas as colunas do datafram.\n",
    "- **count():** Conta as células preenchidas em cada coluna do dataframes.\n",
    "- **describe():** Retorna estatísticas descritivas sobre as colunas do dataframe, como média, percentis, desvio padrão e mediana (percentil 50%)."
   ]
  },
  {
   "cell_type": "markdown",
   "metadata": {},
   "source": [
    "#### `2. Utilizar as funções básicas`"
   ]
  },
  {
   "cell_type": "code",
   "execution_count": 3,
   "metadata": {},
   "outputs": [],
   "source": [
    "# Importa a biblioteca pandas e define o alias 'pd'\n",
    "import pandas as pd"
   ]
  },
  {
   "cell_type": "code",
   "execution_count": 4,
   "metadata": {},
   "outputs": [],
   "source": [
    "# Importando o arquivo controlegastos.csv e armazenando seu conteúdo no dataframe 'df'.\n",
    "url = \"dataset/controlegastos.csv\"\n",
    "df = pd.read_csv(url)"
   ]
  },
  {
   "cell_type": "code",
   "execution_count": 5,
   "metadata": {},
   "outputs": [
    {
     "data": {
      "text/html": [
       "<div>\n",
       "<style scoped>\n",
       "    .dataframe tbody tr th:only-of-type {\n",
       "        vertical-align: middle;\n",
       "    }\n",
       "\n",
       "    .dataframe tbody tr th {\n",
       "        vertical-align: top;\n",
       "    }\n",
       "\n",
       "    .dataframe thead th {\n",
       "        text-align: right;\n",
       "    }\n",
       "</style>\n",
       "<table border=\"1\" class=\"dataframe\">\n",
       "  <thead>\n",
       "    <tr style=\"text-align: right;\">\n",
       "      <th></th>\n",
       "      <th>data;hora;gasto;descricao;tipo;</th>\n",
       "    </tr>\n",
       "  </thead>\n",
       "  <tbody>\n",
       "    <tr>\n",
       "      <th>0</th>\n",
       "      <td>25/07/2024;17:19;10;cachorro quente;alimentacao;</td>\n",
       "    </tr>\n",
       "    <tr>\n",
       "      <th>1</th>\n",
       "      <td>24/07/2024;16:00;15;energetico;alimentacao;</td>\n",
       "    </tr>\n",
       "    <tr>\n",
       "      <th>2</th>\n",
       "      <td>24/07/2024;07:20;11;lanche escolar;alimentacao;</td>\n",
       "    </tr>\n",
       "    <tr>\n",
       "      <th>3</th>\n",
       "      <td>25/07/2024;19:00;150;mouse gamer;informatica;</td>\n",
       "    </tr>\n",
       "    <tr>\n",
       "      <th>4</th>\n",
       "      <td>24/07/2024;22:00;250;cinemark;lazer;</td>\n",
       "    </tr>\n",
       "    <tr>\n",
       "      <th>5</th>\n",
       "      <td>23/07/2024;13:45;20;sorvete;alimentacao;</td>\n",
       "    </tr>\n",
       "    <tr>\n",
       "      <th>6</th>\n",
       "      <td>22/07/2024;18:30;50;gasolina;transporte;</td>\n",
       "    </tr>\n",
       "    <tr>\n",
       "      <th>7</th>\n",
       "      <td>21/07/2024;09:15;30;livro;educacao;</td>\n",
       "    </tr>\n",
       "    <tr>\n",
       "      <th>8</th>\n",
       "      <td>21/07/2024;20:00;40;pizza;alimentacao;</td>\n",
       "    </tr>\n",
       "    <tr>\n",
       "      <th>9</th>\n",
       "      <td>20/07/2024;14:00;60;parque;lazer;</td>\n",
       "    </tr>\n",
       "  </tbody>\n",
       "</table>\n",
       "</div>"
      ],
      "text/plain": [
       "                    data;hora;gasto;descricao;tipo;\n",
       "0  25/07/2024;17:19;10;cachorro quente;alimentacao;\n",
       "1       24/07/2024;16:00;15;energetico;alimentacao;\n",
       "2   24/07/2024;07:20;11;lanche escolar;alimentacao;\n",
       "3     25/07/2024;19:00;150;mouse gamer;informatica;\n",
       "4              24/07/2024;22:00;250;cinemark;lazer;\n",
       "5          23/07/2024;13:45;20;sorvete;alimentacao;\n",
       "6          22/07/2024;18:30;50;gasolina;transporte;\n",
       "7               21/07/2024;09:15;30;livro;educacao;\n",
       "8            21/07/2024;20:00;40;pizza;alimentacao;\n",
       "9                 20/07/2024;14:00;60;parque;lazer;"
      ]
     },
     "execution_count": 5,
     "metadata": {},
     "output_type": "execute_result"
    }
   ],
   "source": [
    "# Visualiza as primeiras 10 linhas do DataFrame\n",
    "df.head(10)"
   ]
  },
  {
   "cell_type": "code",
   "execution_count": 7,
   "metadata": {},
   "outputs": [
    {
     "data": {
      "text/html": [
       "<div>\n",
       "<style scoped>\n",
       "    .dataframe tbody tr th:only-of-type {\n",
       "        vertical-align: middle;\n",
       "    }\n",
       "\n",
       "    .dataframe tbody tr th {\n",
       "        vertical-align: top;\n",
       "    }\n",
       "\n",
       "    .dataframe thead th {\n",
       "        text-align: right;\n",
       "    }\n",
       "</style>\n",
       "<table border=\"1\" class=\"dataframe\">\n",
       "  <thead>\n",
       "    <tr style=\"text-align: right;\">\n",
       "      <th></th>\n",
       "      <th>data;hora;gasto;descricao;tipo;</th>\n",
       "    </tr>\n",
       "  </thead>\n",
       "  <tbody>\n",
       "    <tr>\n",
       "      <th>164</th>\n",
       "      <td>15/02/2024;11:00;60;cinema;lazer;</td>\n",
       "    </tr>\n",
       "    <tr>\n",
       "      <th>165</th>\n",
       "      <td>14/02/2024;19:00;75;jogo;informatica;</td>\n",
       "    </tr>\n",
       "    <tr>\n",
       "      <th>166</th>\n",
       "      <td>13/02/2024;09:00;15;mochila;acessorios;</td>\n",
       "    </tr>\n",
       "    <tr>\n",
       "      <th>167</th>\n",
       "      <td>12/02/2024;17:00;35;revista;educacao;</td>\n",
       "    </tr>\n",
       "    <tr>\n",
       "      <th>168</th>\n",
       "      <td>11/02/2024;10:00;50;show;lazer;</td>\n",
       "    </tr>\n",
       "    <tr>\n",
       "      <th>169</th>\n",
       "      <td>10/02/2024;20:00;60;livro;educacao;</td>\n",
       "    </tr>\n",
       "    <tr>\n",
       "      <th>170</th>\n",
       "      <td>09/02/2024;08:30;75;doceria;alimentacao;</td>\n",
       "    </tr>\n",
       "    <tr>\n",
       "      <th>171</th>\n",
       "      <td>08/02/2024;19:00;15;padaria;alimentacao;</td>\n",
       "    </tr>\n",
       "    <tr>\n",
       "      <th>172</th>\n",
       "      <td>07/02/2024;13:00;35;restaurante;alimentacao;</td>\n",
       "    </tr>\n",
       "    <tr>\n",
       "      <th>173</th>\n",
       "      <td>06/02/2024;11:00;50;livraria;educacao;</td>\n",
       "    </tr>\n",
       "    <tr>\n",
       "      <th>174</th>\n",
       "      <td>05/02/2024;17:00;22;café;alimentacao;</td>\n",
       "    </tr>\n",
       "    <tr>\n",
       "      <th>175</th>\n",
       "      <td>04/02/2024;09:00;40;mochila;acessorios;</td>\n",
       "    </tr>\n",
       "    <tr>\n",
       "      <th>176</th>\n",
       "      <td>03/02/2024;19:00;60;cinema;lazer;</td>\n",
       "    </tr>\n",
       "    <tr>\n",
       "      <th>177</th>\n",
       "      <td>02/02/2024;14:00;75;jogo;informatica;</td>\n",
       "    </tr>\n",
       "    <tr>\n",
       "      <th>178</th>\n",
       "      <td>01/02/2024;10:00;100;cadeira gamer;informatica;</td>\n",
       "    </tr>\n",
       "  </tbody>\n",
       "</table>\n",
       "</div>"
      ],
      "text/plain": [
       "                     data;hora;gasto;descricao;tipo;\n",
       "164                15/02/2024;11:00;60;cinema;lazer;\n",
       "165            14/02/2024;19:00;75;jogo;informatica;\n",
       "166          13/02/2024;09:00;15;mochila;acessorios;\n",
       "167            12/02/2024;17:00;35;revista;educacao;\n",
       "168                  11/02/2024;10:00;50;show;lazer;\n",
       "169              10/02/2024;20:00;60;livro;educacao;\n",
       "170         09/02/2024;08:30;75;doceria;alimentacao;\n",
       "171         08/02/2024;19:00;15;padaria;alimentacao;\n",
       "172     07/02/2024;13:00;35;restaurante;alimentacao;\n",
       "173           06/02/2024;11:00;50;livraria;educacao;\n",
       "174            05/02/2024;17:00;22;café;alimentacao;\n",
       "175          04/02/2024;09:00;40;mochila;acessorios;\n",
       "176                03/02/2024;19:00;60;cinema;lazer;\n",
       "177            02/02/2024;14:00;75;jogo;informatica;\n",
       "178  01/02/2024;10:00;100;cadeira gamer;informatica;"
      ]
     },
     "execution_count": 7,
     "metadata": {},
     "output_type": "execute_result"
    }
   ],
   "source": [
    "# Visualiza as últimas 15 linhas do DataFrame\n",
    "df.tail(15)"
   ]
  },
  {
   "cell_type": "code",
   "execution_count": 16,
   "metadata": {},
   "outputs": [
    {
     "data": {
      "text/plain": [
       "(179, 1)"
      ]
     },
     "execution_count": 16,
     "metadata": {},
     "output_type": "execute_result"
    }
   ],
   "source": [
    "# Retorna o número de linhas e colunas do DataFrame\n",
    "df.shape"
   ]
  },
  {
   "cell_type": "code",
   "execution_count": 13,
   "metadata": {},
   "outputs": [
    {
     "name": "stdout",
     "output_type": "stream",
     "text": [
      "<class 'pandas.core.frame.DataFrame'>\n",
      "RangeIndex: 179 entries, 0 to 178\n",
      "Data columns (total 1 columns):\n",
      " #   Column                           Non-Null Count  Dtype \n",
      "---  ------                           --------------  ----- \n",
      " 0   data;hora;gasto;descricao;tipo;  179 non-null    object\n",
      "dtypes: object(1)\n",
      "memory usage: 1.5+ KB\n"
     ]
    }
   ],
   "source": [
    "# Retorna índices, colunas, contagem de células não nulas, tipo de dado e memória usada pelo DataFrame\n",
    "df.info()"
   ]
  },
  {
   "cell_type": "code",
   "execution_count": 14,
   "metadata": {},
   "outputs": [
    {
     "data": {
      "text/plain": [
       "Index(['data;hora;gasto;descricao;tipo;'], dtype='object')"
      ]
     },
     "execution_count": 14,
     "metadata": {},
     "output_type": "execute_result"
    }
   ],
   "source": [
    "# Mostra todas as colunas do DataFrame\n",
    "df.columns\n"
   ]
  },
  {
   "cell_type": "code",
   "execution_count": 15,
   "metadata": {},
   "outputs": [
    {
     "data": {
      "text/plain": [
       "data;hora;gasto;descricao;tipo;    179\n",
       "dtype: int64"
      ]
     },
     "execution_count": 15,
     "metadata": {},
     "output_type": "execute_result"
    }
   ],
   "source": [
    "# Conta as células preenchidas em cada coluna do DataFrame\n",
    "df.count()\n"
   ]
  },
  {
   "cell_type": "code",
   "execution_count": 18,
   "metadata": {},
   "outputs": [
    {
     "data": {
      "text/html": [
       "<div>\n",
       "<style scoped>\n",
       "    .dataframe tbody tr th:only-of-type {\n",
       "        vertical-align: middle;\n",
       "    }\n",
       "\n",
       "    .dataframe tbody tr th {\n",
       "        vertical-align: top;\n",
       "    }\n",
       "\n",
       "    .dataframe thead th {\n",
       "        text-align: right;\n",
       "    }\n",
       "</style>\n",
       "<table border=\"1\" class=\"dataframe\">\n",
       "  <thead>\n",
       "    <tr style=\"text-align: right;\">\n",
       "      <th></th>\n",
       "      <th>data;hora;gasto;descricao;tipo;</th>\n",
       "    </tr>\n",
       "  </thead>\n",
       "  <tbody>\n",
       "    <tr>\n",
       "      <th>count</th>\n",
       "      <td>179</td>\n",
       "    </tr>\n",
       "    <tr>\n",
       "      <th>unique</th>\n",
       "      <td>179</td>\n",
       "    </tr>\n",
       "    <tr>\n",
       "      <th>top</th>\n",
       "      <td>25/07/2024;17:19;10;cachorro quente;alimentacao;</td>\n",
       "    </tr>\n",
       "    <tr>\n",
       "      <th>freq</th>\n",
       "      <td>1</td>\n",
       "    </tr>\n",
       "  </tbody>\n",
       "</table>\n",
       "</div>"
      ],
      "text/plain": [
       "                         data;hora;gasto;descricao;tipo;\n",
       "count                                                179\n",
       "unique                                               179\n",
       "top     25/07/2024;17:19;10;cachorro quente;alimentacao;\n",
       "freq                                                   1"
      ]
     },
     "execution_count": 18,
     "metadata": {},
     "output_type": "execute_result"
    }
   ],
   "source": [
    "# Retorna estatísticas descritivas sobre as colunas do DataFrame\n",
    "df.describe()\n"
   ]
  },
  {
   "cell_type": "markdown",
   "metadata": {},
   "source": [
    "#### `3. Renomear Colunas`"
   ]
  },
  {
   "cell_type": "markdown",
   "metadata": {},
   "source": [
    "#### `4. Selecionar colunas e linhas`"
   ]
  },
  {
   "cell_type": "markdown",
   "metadata": {},
   "source": [
    "#### `5. Adicionar e remover colunas`"
   ]
  },
  {
   "cell_type": "markdown",
   "metadata": {},
   "source": [
    "#### `6. Realizar consultas`"
   ]
  },
  {
   "cell_type": "markdown",
   "metadata": {},
   "source": [
    "#### `7. Ordenar itens`"
   ]
  },
  {
   "cell_type": "markdown",
   "metadata": {},
   "source": [
    "#### `8. Combinar e concatenar dataframes`"
   ]
  },
  {
   "cell_type": "markdown",
   "metadata": {},
   "source": [
    "#### `9. Salvar Dataframes`"
   ]
  }
 ],
 "metadata": {
  "kernelspec": {
   "display_name": ".venv",
   "language": "python",
   "name": "python3"
  },
  "language_info": {
   "codemirror_mode": {
    "name": "ipython",
    "version": 3
   },
   "file_extension": ".py",
   "mimetype": "text/x-python",
   "name": "python",
   "nbconvert_exporter": "python",
   "pygments_lexer": "ipython3",
   "version": "3.12.4"
  }
 },
 "nbformat": 4,
 "nbformat_minor": 2
}
