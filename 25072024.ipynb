{
 "cells": [
  {
   "cell_type": "markdown",
   "metadata": {},
   "source": [
    "#### Semana de Ciência de Dados com Python/IA - SENAI-DF - Vespertino - 25/07/2024 - Marcelo Pereira Avelino"
   ]
  },
  {
   "cell_type": "markdown",
   "metadata": {},
   "source": [
    "---\n",
    "##### 📝 `Competências Pandas`\n",
    "\n",
    "- 1. Entender as funções básicas\n",
    "- 2. Utilizar as funções básicas\n",
    "- 3. Renomear colunas\n",
    "- 4. Selecionar colunas e linhas\n",
    "- 5. Adicionar e remover colunas\n",
    "- 6. Realizar consultas\n",
    "- 7. Ordenaar itens\n",
    "- 8. Combinar e concatenar dataframes\n",
    "- 9. Salvar Dataframes\n",
    "---"
   ]
  },
  {
   "cell_type": "markdown",
   "metadata": {},
   "source": [
    "#### `Entender as funções básicas`\n",
    "\n",
    "- **head():** Visualiza n linhas de um dataframe. Por padrão retorna as cinco primeiras linhas.\n",
    "- **tail():** Visualiza n linhas de um dataframe. Por padrão retorna as cinco últimas linhas.\n",
    "- **shape:** Retorna o número de linhas e colunas.\n",
    "- **info():** Retorna indices, colunas, contagem de células, tipo e memória usada.\n",
    "- **columns:** mostra todas as colunas.\n",
    "- **count():** conta as células preenchidas.\n",
    "- **describe():** retorna medicas estatisticas sobre as colunas (média, percentis, desvio padrão, percentis 50%-mediana)"
   ]
  },
  {
   "cell_type": "code",
   "execution_count": 1,
   "metadata": {},
   "outputs": [],
   "source": [
    "import pandas as pd"
   ]
  },
  {
   "cell_type": "code",
   "execution_count": 6,
   "metadata": {},
   "outputs": [
    {
     "data": {
      "text/html": [
       "<div>\n",
       "<style scoped>\n",
       "    .dataframe tbody tr th:only-of-type {\n",
       "        vertical-align: middle;\n",
       "    }\n",
       "\n",
       "    .dataframe tbody tr th {\n",
       "        vertical-align: top;\n",
       "    }\n",
       "\n",
       "    .dataframe thead th {\n",
       "        text-align: right;\n",
       "    }\n",
       "</style>\n",
       "<table border=\"1\" class=\"dataframe\">\n",
       "  <thead>\n",
       "    <tr style=\"text-align: right;\">\n",
       "      <th></th>\n",
       "      <th>data;hora;gasto;descricao;tipo;</th>\n",
       "    </tr>\n",
       "  </thead>\n",
       "  <tbody>\n",
       "    <tr>\n",
       "      <th>count</th>\n",
       "      <td>5</td>\n",
       "    </tr>\n",
       "    <tr>\n",
       "      <th>unique</th>\n",
       "      <td>5</td>\n",
       "    </tr>\n",
       "    <tr>\n",
       "      <th>top</th>\n",
       "      <td>25/07/2024;17:19;10;cachorro quente;alimentacao;</td>\n",
       "    </tr>\n",
       "    <tr>\n",
       "      <th>freq</th>\n",
       "      <td>1</td>\n",
       "    </tr>\n",
       "  </tbody>\n",
       "</table>\n",
       "</div>"
      ],
      "text/plain": [
       "                         data;hora;gasto;descricao;tipo;\n",
       "count                                                  5\n",
       "unique                                                 5\n",
       "top     25/07/2024;17:19;10;cachorro quente;alimentacao;\n",
       "freq                                                   1"
      ]
     },
     "execution_count": 6,
     "metadata": {},
     "output_type": "execute_result"
    }
   ],
   "source": [
    "url = \"dataset/controlegastos.csv\"\n",
    "df = pd.read_csv(url)\n",
    "df\n",
    "df.describe()"
   ]
  }
 ],
 "metadata": {
  "kernelspec": {
   "display_name": ".venv",
   "language": "python",
   "name": "python3"
  },
  "language_info": {
   "codemirror_mode": {
    "name": "ipython",
    "version": 3
   },
   "file_extension": ".py",
   "mimetype": "text/x-python",
   "name": "python",
   "nbconvert_exporter": "python",
   "pygments_lexer": "ipython3",
   "version": "3.12.4"
  }
 },
 "nbformat": 4,
 "nbformat_minor": 2
}
