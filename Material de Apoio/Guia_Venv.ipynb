{
 "cells": [
  {
   "cell_type": "markdown",
   "metadata": {},
   "source": [
    "### Como Criar um Ambiente Virtual (.venv) no Python\n",
    "\n",
    "Para isolar as dependências do seu projeto Python e evitar conflitos com outras bibliotecas instaladas globalmente, é uma boa prática criar um ambiente virtual. Um ambiente virtual é uma espécie de \"contenedor\" onde você pode instalar pacotes específicos para o seu projeto, sem afetar o ambiente global do Python.\n",
    "\n",
    "#### Criando um Ambiente Virtual (.venv)\n",
    "\n",
    "1. **Abra o Terminal ou Prompt de Comando**:\n",
    "   - Navegue até a pasta do seu projeto.\n",
    "\n",
    "2. **Execute o Comando para Criar o Ambiente Virtual**:\n",
    "   - No terminal, execute o seguinte comando:\n",
    "\n",
    "```bash\n",
    "python -m venv venv\n",
    "```\n",
    "\n",
    "**Explicação:**\n",
    "- `python -m venv`: Utiliza o módulo venv do Python para criar um ambiente virtual.\n",
    "- **venv**: Esse é o nome do diretório onde o ambiente virtual será criado. Você pode nomeá-lo como quiser, mas venv é uma convenção comum.\n",
    "\n",
    "3. **Ativando o Ambiente Virtual:**\n",
    "- Após a criação, você precisa ativar o ambiente virtual para começar a usá-lo.\n",
    "\n",
    "```bash\n",
    ".\\venv\\Scripts\\activate\n",
    "```\n",
    "\n",
    "4. **Instalando Pacotes no Ambiente Virtual:**\n",
    "- Com o ambiente virtual ativado, qualquer pacote que você instalar usando pip será instalado apenas nesse ambiente, e não globalmente.\n",
    "\n",
    "```bash\n",
    "pip install nome-do-pacote\n",
    "```\n",
    "\n",
    "5. **Desativando o Ambiente Virtual:**\n",
    "\n",
    "- Quando terminar de trabalhar no seu projeto, você pode desativar o ambiente virtual com o comando:\n",
    "\n",
    "```bash\n",
    "deactivate\n",
    "```\n",
    "\n",
    "6. **Benefícios do Uso de um Ambiente Virtual**\n",
    "- **Isolamento:** Assegura que as dependências de um projeto não afetem outros projetos.\n",
    "- **Controle de Dependências:** Facilita o gerenciamento das bibliotecas e versões específicas que seu projeto requer.\n",
    "- **Portabilidade:** Ao compartilhar seu projeto, outros desenvolvedores podem recriar o mesmo ambiente usando um arquivo de dependências, como requirements.txt.\n",
    "\n",
    "<i>Criar e usar ambientes virtuais é uma prática recomendada em todos os projetos Python, garantindo maior controle e organização no desenvolvimento.</i>"
   ]
  }
 ],
 "metadata": {
  "language_info": {
   "name": "python"
  }
 },
 "nbformat": 4,
 "nbformat_minor": 2
}
