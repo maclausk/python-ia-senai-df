{
 "cells": [
  {
   "cell_type": "markdown",
   "metadata": {},
   "source": [
    "#### Resumo de comandos - Github\n",
    "\n",
    "```sh\n",
    "# Configurar nome de usuário e e-mail\n",
    "git config --global user.name \"maclausk\"\n",
    "git config --global user.email \"maclausk@yahoo.com.br\"\n",
    "\n",
    "# Inicializar o repositório Git\n",
    "git init\n",
    "\n",
    "# Adicionar todos os arquivos ao índice do Git\n",
    "git add .\n",
    "\n",
    "# Verificar o status dos arquivos\n",
    "git status\n",
    "\n",
    "# Fazer um commit com uma mensagem descritiva\n",
    "git commit -m \"Semana de Ciência de Dados com Python - Marcelo Avelino\"\n",
    "\n",
    "# Adicionar o repositório remoto no GitHub\n",
    "git remote add origin https://github.com/maclausk/marceloavelino-semanadatascience.git\n",
    "\n",
    "# Enviar os arquivos para o repositório remoto\n",
    "git push -u origin main\n"
   ]
  }
 ],
 "metadata": {
  "kernelspec": {
   "display_name": "Python 3",
   "language": "python",
   "name": "python3"
  },
  "language_info": {
   "name": "python",
   "version": "3.12.4"
  }
 },
 "nbformat": 4,
 "nbformat_minor": 2
}
