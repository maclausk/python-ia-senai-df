{
 "cells": [
  {
   "cell_type": "markdown",
   "metadata": {},
   "source": [
    "#### **Resumo de Comandos - Github**\n",
    "\n",
    "#### **Comandos Iniciais**\n",
    "\n",
    "```sh\n",
    "# Configurar nome de usuário e e-mail\n",
    "git config --global user.name \"nome"\n",
    "git config --global user.email \"email@dominio.com\"\n",
    "\n",
    "# Inicializar o repositório Git\n",
    "git init\n",
    "\n",
    "# Adicionar todos os arquivos ao índice do Git\n",
    "git add .\n",
    "\n",
    "# Verificar o status dos arquivos\n",
    "git status\n",
    "\n",
    "# Fazer um commit com uma mensagem descritiva\n",
    "git commit -m \"Descrever as ações que foram realizadas\"\n",
    "\n",
    "# Adicionar o repositório remoto no GitHub\n",
    "git remote add origin \"endereço do repositório\"\n",
    "\n",
    "# Enviar os arquivos para o repositório remoto\n",
    "git push -u origin main\n",
    "\n",
    "# Navegar até o diretório do projeto\n",
    "cd python-ia-senai-df/\n",
    "\n",
    "# Verificar se o repositório remoto já está configurado\n",
    "git remote add origin \"endereço do repositório\"\n",
    "\n",
    "# Se você encontrar o erro \"remote origin already exists\", execute o comando abaixo para redefinir o repositório remoto\n",
    "git remote set-url origin \"endereço do repositório\"\n"
   ]
  },
  {
   "cell_type": "markdown",
   "metadata": {},
   "source": [
    "#### **Atualizar Diretório Remoto ao Final da Aula**\n",
    "\n",
    "```sh\n",
    "# Navegar até o diretório do projeto, se ainda não estiver lá\n",
    "cd /caminho/para/seu/projeto\n",
    "\n",
    "# Adicionar todos os arquivos modificados ao índice do Git\n",
    "git add .\n",
    "\n",
    "# Verificar o status dos arquivos (opcional, mas útil para verificar o que será comitado)\n",
    "git status\n",
    "\n",
    "# Fazer um commit com uma mensagem descritiva\n",
    "git commit -m \"Descrição das mudanças realizadas\"\n",
    "\n",
    "# Enviar os arquivos atualizados para o repositório remoto\n",
    "git push origin main"
   ]
  },
  {
   "cell_type": "markdown",
   "metadata": {},
   "source": [
    "#### **Atualizar Diretório Local em Casa**\n",
    "\n",
    "```sh\n",
    "# Navegar até o diretório do projeto, se ainda não estiver lá\n",
    "cd /caminho/para/seu/projeto\n",
    "\n",
    "# Atualizar o repositório local com as mudanças do repositório remoto\n",
    "git pull origin main"
   ]
  },
  {
   "cell_type": "markdown",
   "metadata": {},
   "source": [
    "### **Sincronizar o Repositório Local do Computador do Curso**\n",
    "\n",
    "```sh\n",
    "# Navegar até o diretório do projeto, se ainda não estiver lá\n",
    "cd /caminho/para/seu/projeto\n",
    "\n",
    "# Atualizar o repositório local com as mudanças do repositório remoto\n",
    "git pull origin main"
   ]
  }
 ],
 "metadata": {
  "kernelspec": {
   "display_name": "Python 3",
   "language": "python",
   "name": "python3"
  },
  "language_info": {
   "name": "python",
   "version": "3.12.4"
  }
 },
 "nbformat": 4,
 "nbformat_minor": 2
}
