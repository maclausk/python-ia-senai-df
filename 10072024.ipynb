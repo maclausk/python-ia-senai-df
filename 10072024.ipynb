{
 "cells": [
  {
   "cell_type": "markdown",
   "metadata": {},
   "source": [
    "### Introdução às Listas em Python\n",
    "\n",
    "Listas são uma parte fundamental da programação e são extremamente úteis para armazenar e manipular conjuntos de dados.\n",
    "\n",
    "#### 1. Declarando uma Lista\n",
    "\n",
    "Uma lista em Python é uma coleção de itens que são ordenados e mutáveis. Listas são definidas usando colchetes [].\n",
    "\n",
    "```python\n",
    "# Declarando uma lista vazia\n",
    "minha_lista = []\n",
    "\n",
    "# Declarando uma lista com elementos\n",
    "minha_lista = [1, 2, 3, 4, 5]\n",
    "```\n",
    "\n",
    "#### 2. Manipulação de Lista\n",
    "\n",
    "Você pode acessar e manipular elementos de uma lista usando índices. Lembre-se, os índices começam em 0.\n",
    "\n",
    "```python\n",
    "# Acessando elementos da lista\n",
    "print(minha_lista[0])  # Imprime o primeiro elemento\n",
    "print(minha_lista[2])  # Imprime o terceiro elemento\n",
    "\n",
    "# Modificando elementos da lista\n",
    "minha_lista[1] = 10\n",
    "print(minha_lista)  # Imprime [1, 10, 3, 4, 5]\n",
    "```\n",
    "\n",
    "#### 3. Adicionando um Novo Elemento na Lista\n",
    "\n",
    "Para adicionar um elemento ao final da lista, use o método append().\n",
    "\n",
    "```python\n",
    "minha_lista.append(6)\n",
    "print(minha_lista)  # Imprime [1, 10, 3, 4, 5, 6]\n",
    "```\n",
    "\n",
    "#### 4. Adicionando Elemento em uma Posição na Lista\n",
    "\n",
    "Para adicionar um elemento em uma posição específica, use o método insert().\n",
    "\n",
    "```python\n",
    "minha_lista.insert(1, 20)  # Adiciona 20 na posição 1\n",
    "print(minha_lista)  # Imprime [1, 20, 10, 3, 4, 5, 6]\n",
    "```\n",
    "\n",
    "#### 5. Removendo um Elemento da Lista\n",
    "\n",
    "Para remover um elemento da lista, use o método remove().\n",
    "\n",
    "```python\n",
    "minha_lista.remove(10)  # Remove o elemento 10\n",
    "print(minha_lista)  # Imprime [1, 20, 3, 4, 5, 6]\n",
    "```\n",
    "\n",
    "#### 6. Mostrando Segundo, Terceiro e Quarto Elemento da Lista\n",
    "\n",
    "Para acessar múltiplos elementos, use fatiamento (slicing).\n",
    "\n",
    "```python\n",
    "print(minha_lista[1:4])  # Imprime [20, 3, 4]\n",
    "```\n",
    "\n",
    "#### 7. Mostrando o Último Elemento da Lista\n",
    "\n",
    "Para acessar o último elemento da lista, use o índice -1.\n",
    "\n",
    "```python\n",
    "print(minha_lista[-1])  # Imprime 6\n",
    "```\n",
    "\n",
    "#### 8. Ordenando Lista\n",
    "\n",
    "Para ordenar os elementos da lista, use o método sort().\n",
    "\n",
    "```python\n",
    "minha_lista.sort()\n",
    "print(minha_lista)  # Imprime [1, 3, 4, 5, 6, 20]\n",
    "```\n",
    "\n",
    "#### 9. Pesquisando Dados em uma Lista\n",
    "\n",
    "Verificar se um elemento está na lista (in)\n",
    "\n",
    "```python\n",
    "print(3 in minha_lista)  # Imprime True\n",
    "```\n",
    "\n",
    "Encontrar o índice de um elemento (index)\n",
    "\n",
    "```python\n",
    "print(minha_lista.index(3))  # Imprime 1 (posição do elemento 3)\n",
    "```\n",
    "\n",
    "Contar quantas vezes um elemento aparece na lista (count)\n",
    "\n",
    "```python\n",
    "print(minha_lista.count(3))  # Imprime 1\n",
    "```\n",
    "\n",
    "#### 10. Copiando uma Lista\n",
    "\n",
    "Para copiar uma lista, use o método copy().\n",
    "\n",
    "```python\n",
    "nova_lista = minha_lista.copy()\n",
    "print(nova_lista)  # Imprime [1, 3, 4, 5, 6, 20]\n",
    "```\n",
    "---\n",
    "\n",
    "#### Exercícios Práticos\n",
    "\n",
    "1. Criar e Manipular uma Lista:\n",
    "\n",
    "    - Crie uma lista de números.\n",
    "    - Adicione um número ao final da lista.\n",
    "    - Adicione um número em uma posição específica.\n",
    "    - Remova um número da lista.\n",
    "    - Imprima o segundo, terceiro e quarto elemento da lista.\n",
    "    - Imprima o último elemento da lista.\n",
    "\n",
    "2. Ordenar e Pesquisar em uma Lista:\n",
    "\n",
    "    - Crie uma lista de números desordenados.\n",
    "    - Ordene a lista.\n",
    "    - Verifique se um número está na lista.\n",
    "    - Encontre o índice de um número na lista.\n",
    "    - Conte quantas vezes um número aparece na lista.\n",
    "\n",
    "3. Copiar uma Lista:\n",
    "\n",
    "    - Crie uma lista.\n",
    "    - Copie a lista para uma nova variável.\n",
    "    - Modifique a nova lista e mostre que a lista original não foi alterada."
   ]
  },
  {
   "cell_type": "code",
   "execution_count": null,
   "metadata": {},
   "outputs": [],
   "source": [
    "# 1. Criar e Manipular uma Lista:\n",
    "\n",
    "# Crie uma lista de números.\n",
    "numeros = [10, 20, 30, 40, 50, 60, 70, 80, 90, 100]\n",
    "print(numeros) #imprime [10, 20, 30, 40, 50, 60, 70, 80, 90, 100]\n",
    "\n",
    "# Adicione um número ao final da lista.\n",
    "numeros.append(110)\n",
    "print(numeros) #imprime [10, 20, 30, 40, 50, 60, 70, 80, 90, 100, 110]\n",
    "\n",
    "# Adicione um número em uma posição específica.\n",
    "numeros.insert(3, 25)\n",
    "print(numeros) #imprime [10, 20, 30, 25, 40, 50, 60, 70, 80, 90, 100, 110]\n",
    "\n",
    "# Remova um número da lista.\n",
    "numeros.remove(50)\n",
    "print(numeros) #imprime [10, 20, 30, 25, 40, 60, 70, 80, 90, 100, 110]\n",
    "\n",
    "# Imprima o segundo, terceiro e quarto elemento da lista.\n",
    "print(numeros[1:4]) #imprime [20, 30, 25]\n",
    "\n",
    "# Imprimir o último elemento da lista\n",
    "print(numeros[-1]) #imprime 110"
   ]
  },
  {
   "cell_type": "code",
   "execution_count": null,
   "metadata": {},
   "outputs": [],
   "source": [
    "# 2. Ordenar e Pesquisar em uma Lista:\n",
    "\n",
    "# Números desordenados\n",
    "numeros_desordenados = [9, 7, 3, 5, 1]\n",
    "print(numeros_desordenados) # imprime [9, 7, 3, 5, 1]\n",
    "\n",
    "# Ordene a lista.\n",
    "numeros_desordenados.sort()\n",
    "print(numeros_desordenados) # imprime [1, 3, 5, 7, 9]\n",
    "\n",
    "# Verificar se um número está na lista\n",
    "print(9 in numeros_desordenados)  # Imprime True\n",
    "print(4 in numeros_desordenados)  # Imprime False\n",
    "\n",
    "# Encontre o índice de um número na lista\n",
    "print(numeros_desordenados) # imprime [1, 3, 5, 7, 9] porque eles já foram ordenados anteriormente\n",
    "print(numeros_desordenados.index(3))  # Imprime 1, porque o número 3 está no indice 1 da lista.\n",
    "\n",
    "# Conte quantas vezes um número aparece na lista.\n",
    "print(numeros_desordenados.count(5))  # Imprime 1"
   ]
  },
  {
   "cell_type": "code",
   "execution_count": 16,
   "metadata": {},
   "outputs": [
    {
     "name": "stdout",
     "output_type": "stream",
     "text": [
      "[1, 2, 3, 4, 5, 6, 7, 8, 9, 10]\n",
      "[1, 2, 3, 4, 5, 6, 7, 8, 9, 10]\n",
      "[1, 2, 3, 4, 5, 6, 7, 8, 9, 10]\n",
      "[1, 2, 3, 4, 5, 6, 7, 8, 9, 10, 11]\n",
      "[1, 2, 3, 4, 12, 5, 6, 7, 8, 9, 10, 11]\n",
      "[1, 2, 3, 4, 12, 5, 6, 8, 9, 10, 11]\n",
      "[1, 2, 3, 4, 5, 6, 7, 8, 9, 10]\n",
      "[1, 2, 3, 4, 12, 5, 6, 8, 9, 10, 11]\n"
     ]
    }
   ],
   "source": [
    "# 3. Copiar uma Lista:\n",
    "\n",
    "# Crie uma lista.\n",
    "listaoriginal = [1, 2, 3, 4, 5, 6, 7, 8, 9, 10]\n",
    "print(listaoriginal) # imprime [1, 2, 3, 4, 5, 6, 7, 8, 9, 10]\n",
    "\n",
    "# Copie a lista para uma nova variável.\n",
    "copia = listaoriginal.copy()\n",
    "print(listaoriginal) # imprime [1, 2, 3, 4, 5, 6, 7, 8, 9, 10]\n",
    "print(copia) # imprime [1, 2, 3, 4, 5, 6, 7, 8, 9, 10]\n",
    "\n",
    "# Adicione um número ao final da copia da lista\n",
    "copia.append(11)\n",
    "print(copia) #imprime [1, 2, 3, 4, 5, 6, 7, 8, 9, 10, 11]\n",
    "\n",
    "# Adicione um número em uma posição específica.\n",
    "copia.insert(4, 12)\n",
    "print(copia) #imprime [1, 2, 3, 4, 12, 5, 6, 7, 8, 9, 10, 11]\n",
    "\n",
    "# Remova um número da lista.\n",
    "copia.remove(7)\n",
    "print(copia) #imprime [1, 2, 3, 4, 12, 5, 6, 8, 9, 10, 11]\n",
    "\n",
    "print(listaoriginal) # imprime [1, 2, 3, 4, 5, 6, 7, 8, 9, 10]\n",
    "print(copia)         # imprime [1, 2, 3, 4, 12, 5, 6, 8, 9, 10, 11]"
   ]
  },
  {
   "cell_type": "markdown",
   "metadata": {},
   "source": [
    "### Complemento Auxiliar sobre Listas em Python (com base na aula dada pelo professor)"
   ]
  },
  {
   "cell_type": "code",
   "execution_count": 23,
   "metadata": {},
   "outputs": [
    {
     "name": "stdout",
     "output_type": "stream",
     "text": [
      "['marcelo', 'miguel', 'moises', 'ester', 'jennifer', 'ellie', 'doss', 'charlie', 'jennifer']\n"
     ]
    }
   ],
   "source": [
    "# Declarando uma lista de nomes\n",
    "nomes = ['marcelo', 'miguel', 'moises', 'ester', 'jennifer', 'ellie', 'doss', 'charlie', 'jennifer']\n",
    "print(nomes) # imprime ['marcelo', 'miguel', 'moises', 'ester', 'jennifer', 'ellie', 'doss', 'charlie', 'jennifer']"
   ]
  },
  {
   "cell_type": "code",
   "execution_count": 24,
   "metadata": {},
   "outputs": [
    {
     "name": "stdout",
     "output_type": "stream",
     "text": [
      "O primeiro nome da lista é marcelo\n"
     ]
    }
   ],
   "source": [
    "# Retornando o primeiro elemento da lista\n",
    "print(f'O primeiro nome da lista é {nomes[0]}') \n",
    "# [0] = índice 0 é a primeira posição da lista. \n",
    "# imprime O primeiro nome da lista é marcelo"
   ]
  },
  {
   "cell_type": "code",
   "execution_count": 25,
   "metadata": {},
   "outputs": [
    {
     "name": "stdout",
     "output_type": "stream",
     "text": [
      "jennifer\n",
      "['marcelo', 'miguel', 'moises', 'ester', 'jennifer', 'ellie', 'doss', 'charlie', 'jennifer']\n"
     ]
    }
   ],
   "source": [
    "# Retornando o último elemento da lista\n",
    "print(nomes[-1]) #imprime jennifer\n",
    "print(nomes) #imprime ['marcelo', 'miguel', 'moises', 'ester', 'jennifer', 'ellie', 'doss', 'charlie', 'jennifer']"
   ]
  },
  {
   "cell_type": "code",
   "execution_count": 26,
   "metadata": {},
   "outputs": [
    {
     "name": "stdout",
     "output_type": "stream",
     "text": [
      "['marcelo', 'miguel', 'moises', 'ester', 'ellie', 'doss', 'charlie', 'jennifer']\n"
     ]
    }
   ],
   "source": [
    "# Removendo o primeiro 'jennifer' da lista\n",
    "nomes.remove('jennifer')\n",
    "print(nomes) # imprime ['marcelo', 'miguel', 'moises', 'ester', 'ellie', 'doss', 'charlie', 'jennifer']"
   ]
  },
  {
   "cell_type": "code",
   "execution_count": 27,
   "metadata": {},
   "outputs": [
    {
     "name": "stdout",
     "output_type": "stream",
     "text": [
      "['marcelo', 'miguel', 'moises', 'ester', 'ellie', 'charlie', 'jennifer']\n"
     ]
    }
   ],
   "source": [
    "# Removendo o item na posição 5\n",
    "nomes.pop(5)\n",
    "print(nomes) # imprime ['marcelo', 'miguel', 'moises', 'ester', 'ellie', 'charlie', 'jennifer']"
   ]
  },
  {
   "cell_type": "code",
   "execution_count": 28,
   "metadata": {},
   "outputs": [
    {
     "name": "stdout",
     "output_type": "stream",
     "text": [
      "['ester', 'ellie', 'charlie', 'jennifer']\n"
     ]
    }
   ],
   "source": [
    "# Removendo itens da posição 0 até a 2\n",
    "del nomes[:3]\n",
    "print(nomes) # imprime ['ester', 'ellie', 'charlie', 'jennifer']"
   ]
  },
  {
   "cell_type": "code",
   "execution_count": 29,
   "metadata": {},
   "outputs": [
    {
     "name": "stdout",
     "output_type": "stream",
     "text": [
      "['moises', 'ester', 'jennifer']\n"
     ]
    }
   ],
   "source": [
    "# Mostrando os elementos do índice 2 ao 4\n",
    "nomes = ['marcelo', 'miguel', 'moises', 'ester', 'jennifer', 'ellie', 'doss', 'charlie', 'jennifer']\n",
    "print(nomes[2:5]) # imprime ['moises', 'ester', 'jennifer']\n"
   ]
  },
  {
   "cell_type": "code",
   "execution_count": 30,
   "metadata": {},
   "outputs": [
    {
     "name": "stdout",
     "output_type": "stream",
     "text": [
      "['marcelo', 'miguel', 'moises', 'ester', 'jennifer', 'ellie', 'doss', 'charlie', 'jennifer', 'joao']\n"
     ]
    }
   ],
   "source": [
    "# Adicionando um novo nome ao final da lista\n",
    "nomes.append('joao')\n",
    "print(nomes) # imprime ['marcelo', 'miguel', 'moises', 'ester', 'jennifer', 'ellie', 'doss', 'charlie', 'jennifer', 'joao']"
   ]
  },
  {
   "cell_type": "code",
   "execution_count": 31,
   "metadata": {},
   "outputs": [
    {
     "name": "stdout",
     "output_type": "stream",
     "text": [
      "['marcelo', 'miguel', 'moises', 'ester', 'jennifer', 'ellie', 'doss', 'charlie', 'jennifer', 'joao']\n",
      "['marcelo', 'miguel', 'moises', 'ester', 'vera', 'jennifer', 'ellie', 'doss', 'charlie', 'jennifer', 'joao']\n"
     ]
    }
   ],
   "source": [
    "# Adicionando nome em posição específica\n",
    "print(nomes) # imprime ['marcelo', 'miguel', 'moises', 'ester', 'jennifer', 'ellie', 'doss', 'charlie', 'jennifer', 'joao']\n",
    "nomes.insert(4, 'vera') # imprime ['marcelo', 'miguel', 'moises', 'ester', 'vera', 'jennifer', 'ellie', 'doss', 'charlie', 'jennifer', 'joao']\n",
    "print(nomes)"
   ]
  },
  {
   "cell_type": "code",
   "execution_count": 32,
   "metadata": {},
   "outputs": [
    {
     "name": "stdout",
     "output_type": "stream",
     "text": [
      "1° nome da lista: marcelo\n",
      "2° nome da lista: miguel\n",
      "3° nome da lista: moises\n",
      "4° nome da lista: ester\n",
      "5° nome da lista: vera\n",
      "6° nome da lista: jennifer\n",
      "7° nome da lista: ellie\n",
      "8° nome da lista: doss\n",
      "9° nome da lista: charlie\n",
      "10° nome da lista: jennifer\n",
      "11° nome da lista: joao\n"
     ]
    }
   ],
   "source": [
    "# Imprimindo a Lista Ignorando o Índice 0\n",
    "for i in range(len(nomes)):\n",
    "    print(f'{i + 1}° nome da lista: {nomes[i]}')\n",
    "\n",
    "'''\n",
    "Imprime\n",
    "\n",
    "1° nome da lista: marcelo\n",
    "2° nome da lista: miguel\n",
    "3° nome da lista: moises\n",
    "4° nome da lista: ester\n",
    "5° nome da lista: vera\n",
    "6° nome da lista: jennifer\n",
    "7° nome da lista: ellie\n",
    "8° nome da lista: doss\n",
    "9° nome da lista: charlie\n",
    "10° nome da lista: jennifer\n",
    "11° nome da lista: joao\n",
    "\n",
    "'''"
   ]
  },
  {
   "cell_type": "code",
   "execution_count": 33,
   "metadata": {},
   "outputs": [
    {
     "name": "stdout",
     "output_type": "stream",
     "text": [
      "\n",
      "============================== Lista atualizada ==============================\n",
      "1° nome da lista: marcelo\n",
      "2° nome da lista: miguel\n",
      "3° nome da lista: moises\n",
      "4° nome da lista: ester\n",
      "5° nome da lista: vera\n",
      "6° nome da lista: jack\n",
      "7° nome da lista: jennifer\n",
      "8° nome da lista: ellie\n",
      "9° nome da lista: doss\n",
      "10° nome da lista: charlie\n",
      "11° nome da lista: jennifer\n",
      "12° nome da lista: joao\n"
     ]
    }
   ],
   "source": [
    "# Recebendo um novo nome e posição para adicionar à lista\n",
    "novo_nome = input(\"Digite um novo nome a ser adicionado na lista: \")\n",
    "posicao = int(input('Informe a posição desejada para adicionar o novo nome: ')) - 1\n",
    "\n",
    "if posicao >= 0 and posicao <= len(nomes):\n",
    "    nomes.insert(posicao, novo_nome)\n",
    "else:\n",
    "    print('Posição inválida')\n",
    "\n",
    "print()\n",
    "print(30 * '=', 'Lista atualizada', 30 * '=')\n",
    "for i in range(len(nomes)):\n",
    "    print(f'{i + 1}° nome da lista: {nomes[i]}')\n",
    "\n",
    "'''\n",
    "============================== Lista atualizada ==============================\n",
    "1° nome da lista: marcelo\n",
    "2° nome da lista: miguel\n",
    "3° nome da lista: moises\n",
    "4° nome da lista: ester\n",
    "5° nome da lista: vera\n",
    "6° nome da lista: jack\n",
    "7° nome da lista: jennifer\n",
    "8° nome da lista: ellie\n",
    "9° nome da lista: doss\n",
    "10° nome da lista: charlie\n",
    "11° nome da lista: jennifer\n",
    "12° nome da lista: joao\n",
    "'''"
   ]
  },
  {
   "cell_type": "code",
   "execution_count": 35,
   "metadata": {},
   "outputs": [
    {
     "name": "stdout",
     "output_type": "stream",
     "text": [
      "['marcelo', 'miguel', 'moises', 'ester', 'vera', 'jones', 'jennifer', 'ellie', 'doss', 'charlie', 'jennifer', 'joao']\n"
     ]
    }
   ],
   "source": [
    "# Substituindo o valor na posição 5\n",
    "nomes[5] = 'jones'\n",
    "print(nomes) # imprime ['marcelo', 'miguel', 'moises', 'ester', 'vera', 'jones', 'jennifer', 'ellie', 'doss', 'charlie', 'jennifer', 'joao']\n",
    "\n"
   ]
  },
  {
   "cell_type": "code",
   "execution_count": 40,
   "metadata": {},
   "outputs": [
    {
     "name": "stdout",
     "output_type": "stream",
     "text": [
      "Lista desordenada: ['marcelo', 'miguel', 'moises', 'ester', 'jennifer', 'ellie', 'doss', 'charlie', 'jennifer']\n",
      "Lista ordenada: ['charlie', 'doss', 'ellie', 'ester', 'jennifer', 'jennifer', 'marcelo', 'miguel', 'moises']\n"
     ]
    }
   ],
   "source": [
    "nomes = ['marcelo', 'miguel', 'moises', 'ester', 'jennifer', 'ellie', 'doss', 'charlie', 'jennifer']\n",
    "print(f'Lista desordenada: {nomes}')\n",
    "# imprime Lista desordenada: ['marcelo', 'miguel', 'moises', 'ester', 'jennifer', 'ellie', 'doss', 'charlie', 'jennifer']\n",
    "\n",
    "nomes.sort()\n",
    "print(f'Lista ordenada: {nomes}') \n",
    "# imprime Lista ordenada: ['charlie', 'doss', 'ellie', 'ester', 'jennifer', 'jennifer', 'marcelo', 'miguel', 'moises']"
   ]
  },
  {
   "cell_type": "code",
   "execution_count": 43,
   "metadata": {},
   "outputs": [
    {
     "name": "stdout",
     "output_type": "stream",
     "text": [
      "Lista desordenada: ['marcelo', 'miguel', 'moises', 'ester', 'jennifer', 'ellie', 'doss', 'charlie', 'jennifer']\n",
      "Lista ordenada Decrescente: ['moises', 'miguel', 'marcelo', 'jennifer', 'jennifer', 'ester', 'ellie', 'doss', 'charlie']\n"
     ]
    }
   ],
   "source": [
    "nomes = ['marcelo', 'miguel', 'moises', 'ester', 'jennifer', 'ellie', 'doss', 'charlie', 'jennifer']\n",
    "print(f'Lista desordenada: {nomes}')\n",
    "# imprime Lista desordenada: ['marcelo', 'miguel', 'moises', 'ester', 'jennifer', 'ellie', 'doss', 'charlie', 'jennifer']\n",
    "\n",
    "\n",
    "nomes.sort(reverse=True)\n",
    "print(f'Lista ordenada Decrescente: {nomes}')\n",
    "# imprime Lista ordenada Decrescente: ['moises', 'miguel', 'marcelo', 'jennifer', 'jennifer', 'ester', 'ellie', 'doss', 'charlie']\n"
   ]
  }
 ],
 "metadata": {
  "kernelspec": {
   "display_name": "Python 3",
   "language": "python",
   "name": "python3"
  },
  "language_info": {
   "codemirror_mode": {
    "name": "ipython",
    "version": 3
   },
   "file_extension": ".py",
   "mimetype": "text/x-python",
   "name": "python",
   "nbconvert_exporter": "python",
   "pygments_lexer": "ipython3",
   "version": "3.12.4"
  }
 },
 "nbformat": 4,
 "nbformat_minor": 2
}
