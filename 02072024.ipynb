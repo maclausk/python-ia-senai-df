{
 "cells": [
  {
   "cell_type": "markdown",
   "metadata": {},
   "source": [
    "### ***02/07/2024 - Operações aritméticas básicas***"
   ]
  },
  {
   "cell_type": "markdown",
   "metadata": {},
   "source": [
    "#### ***Links sugeridos na aula de hoje***\n",
    "\n",
    "- Curso de Python ministrado por Gustavo Guanabara [Youtube]: https://www.youtube.com/watch?v=S9uPNppGsGo&t=7s ou direto pelo seu website, dando o direito da emisão de certificado https://www.cursoemvideo.com/curso/python-3-mundo-1/ \n",
    "- Github do Professor Karython Gomes: https://github.com/karython"
   ]
  },
  {
   "cell_type": "markdown",
   "metadata": {},
   "source": [
    "### Lógica de Programação - Operadores\n",
    "\n",
    "- soma\n",
    "- subtração\n",
    "- multiplicação\n",
    "- divisão"
   ]
  },
  {
   "cell_type": "code",
   "execution_count": null,
   "metadata": {},
   "outputs": [],
   "source": [
    "# Soma de números inteiros\n",
    "print(10 + 10)  # = 20 : Utilizando inteiros, ele soma.\n",
    "\n",
    "# Concatenação de strings\n",
    "print('10' + '10')  # = 1010 : Utilizando strings, ele concatena.\n",
    "\n",
    "# Somando com variáveis\n",
    "num1 = 10\n",
    "num2 = 10\n",
    "soma = num1 + num2  # As variáveis são somadas, mas o resultado não será exibido porque a variável 'soma' não foi chamada no print.\n",
    "print(soma)  # Agora a variável 'soma' é chamada no print, exibindo o resultado da soma entre 'num1' e 'num2'.\n",
    "\n",
    "# Declarando variáveis com valores informados pelo usuário\n",
    "\n",
    "# O padrão do input é string, então o valor será textual e não numérico.\n",
    "valor1 = input('Digite o primeiro valor: ')\n",
    "valor2 = input('Digite o segundo valor: ')\n",
    "\n",
    "# A maneira correta, já que estamos falando de soma, é converter os valores para inteiros.\n",
    "valor1 = int(input('Digite o primeiro valor: '))\n",
    "valor2 = int(input('Digite o segundo valor: '))\n",
    "\n",
    "resultado = valor1 + valor2\n",
    "print(f'O resultado é: {resultado}')  # O uso do 'f' permite a formatação de strings, inserindo o valor da variável 'resultado' diretamente no texto.\n"
   ]
  },
  {
   "cell_type": "code",
   "execution_count": null,
   "metadata": {},
   "outputs": [],
   "source": [
    "# Subtração de números inteiros\n",
    "print(20 - 10)  # = 10 : Utilizando inteiros, ele subtrai.\n",
    "\n",
    "# Concatenar strings não se aplica aqui, pois subtração não é uma operação válida para strings.\n",
    "\n",
    "# Subtraindo com variáveis\n",
    "num1 = 20\n",
    "num2 = 10\n",
    "subtracao = num1 - num2  # As variáveis são subtraídas, mas o resultado não será exibido porque a variável 'subtracao' não foi chamada no print.\n",
    "print(subtracao)  # Agora a variável 'subtracao' é chamada no print, exibindo o resultado da subtração entre 'num1' e 'num2'.\n",
    "\n",
    "# Declarando variáveis com valores informados pelo usuário\n",
    "\n",
    "# O padrão do input é string, então o valor será textual e não numérico.\n",
    "valor1 = input('Digite o primeiro valor: ')\n",
    "valor2 = input('Digite o segundo valor: ')\n",
    "\n",
    "# A maneira correta, já que estamos falando de subtração, é converter os valores para inteiros.\n",
    "valor1 = int(input('Digite o primeiro valor: '))\n",
    "valor2 = int(input('Digite o segundo valor: '))\n",
    "\n",
    "subtracao = valor1 - valor2\n",
    "print(f'O resultado é: {subtracao}')  # O uso do 'f' permite a formatação de strings, inserindo o valor da variável 'resultado' diretamente no texto.\n"
   ]
  },
  {
   "cell_type": "code",
   "execution_count": null,
   "metadata": {},
   "outputs": [],
   "source": [
    "# Multiplicação de números inteiros\n",
    "print(10 * 10)  # = 100 : Utilizando inteiros, ele multiplica.\n",
    "\n",
    "# Multiplicação de strings não se aplica diretamente, mas é possível repetir a string.\n",
    "print('10' * 3)  # = 101010 : Utilizando strings, ele repete a string.\n",
    "\n",
    "# Multiplicando com variáveis\n",
    "num1 = 10\n",
    "num2 = 10\n",
    "multiplicacao = num1 * num2  # As variáveis são multiplicadas, mas o resultado não será exibido porque a variável 'multiplicacao' não foi chamada no print.\n",
    "print(multiplicacao)  # Agora a variável 'multiplicacao' é chamada no print, exibindo o resultado da multiplicação entre 'num1' e 'num2'.\n",
    "\n",
    "# Declarando variáveis com valores informados pelo usuário\n",
    "\n",
    "# O padrão do input é string, então o valor será textual e não numérico.\n",
    "valor1 = input('Digite o primeiro valor: ')\n",
    "valor2 = input('Digite o segundo valor: ')\n",
    "\n",
    "# A maneira correta, já que estamos falando de multiplicação, é converter os valores para inteiros.\n",
    "valor1 = int(input('Digite o primeiro valor: '))\n",
    "valor2 = int(input('Digite o segundo valor: '))\n",
    "\n",
    "resultado = valor1 * valor2\n",
    "print(f'O resultado é: {resultado}')  # O uso do 'f' permite a formatação de strings, inserindo o valor da variável 'resultado' diretamente no texto.\n"
   ]
  },
  {
   "cell_type": "code",
   "execution_count": null,
   "metadata": {},
   "outputs": [],
   "source": [
    "# Divisão de números inteiros\n",
    "print(10 / 2)  # = 5.0 : Utilizando inteiros, ele divide e o resultado é um número decimal (float).\n",
    "\n",
    "# Divisão de strings não se aplica, pois não é uma operação válida para strings.\n",
    "\n",
    "# Dividindo com variáveis\n",
    "num1 = 20\n",
    "num2 = 4\n",
    "divisao = num1 / num2  # As variáveis são divididas, mas o resultado não será exibido porque a variável 'divisao' não foi chamada no print.\n",
    "print(divisao)  # Agora a variável 'divisao' é chamada no print, exibindo o resultado da divisão entre 'num1' e 'num2'.\n",
    "\n",
    "# Declarando variáveis com valores informados pelo usuário\n",
    "\n",
    "# O padrão do input é string, então o valor será textual e não numérico.\n",
    "valor1 = input('Digite o primeiro valor: ')\n",
    "valor2 = input('Digite o segundo valor: ')\n",
    "\n",
    "# A maneira correta, já que estamos falando de divisão, é converter os valores para float.\n",
    "valor1 = float(input('Digite o primeiro valor: '))\n",
    "valor2 = float(input('Digite o segundo valor: '))\n",
    "\n",
    "resultado = valor1 / valor2\n",
    "print(f'O resultado é: {resultado}')  # O uso do 'f' permite a formatação de strings, inserindo o valor da variável 'resultado' diretamente no texto."
   ]
  },
  {
   "cell_type": "code",
   "execution_count": 28,
   "metadata": {},
   "outputs": [
    {
     "name": "stdout",
     "output_type": "stream",
     "text": [
      "O valor da soma dos dois valores já definidos é 115.\n"
     ]
    }
   ],
   "source": [
    "# Desafio 1 - Declare duas variáveis, cada uma com um valor definido. Some e mostre o resultado concatenado a um texto.\n",
    "\n",
    "# Declaração de variáveis com valores já definidos\n",
    "var1 = 55\n",
    "var2 = 60\n",
    "\n",
    "# Soma dos valores das variáveis\n",
    "soma = var1 + var2\n",
    "\n",
    "# Exibição do resultado da soma concatenado a um texto\n",
    "print(f'O valor da soma dos dois valores já definidos é {soma}.')\n",
    "\n"
   ]
  },
  {
   "cell_type": "code",
   "execution_count": 29,
   "metadata": {},
   "outputs": [
    {
     "name": "stdout",
     "output_type": "stream",
     "text": [
      "O valor da soma dos dois valores informados pelo usuário é 30.\n"
     ]
    }
   ],
   "source": [
    "# Desafio 1.1 - Declare duas variáveis, informando ao usuário para que digite o valor de cada uma delas. Some e mostre o resultado concatenado a um texto.\n",
    "\n",
    "# Inserção de variáveis com valores definidos pelo usuário\n",
    "var1 = int(input('Informe um valor inteiro: '))\n",
    "var2 = int(input('Informe um segundo valor inteiro: '))\n",
    "\n",
    "# Soma dos valores informados\n",
    "soma = var1 + var2\n",
    "\n",
    "# Exibição do resultado da soma concatenado a um texto\n",
    "print(f'O valor da soma dos dois valores informados pelo usuário é {soma}.')\n"
   ]
  },
  {
   "cell_type": "code",
   "execution_count": 30,
   "metadata": {},
   "outputs": [
    {
     "name": "stdout",
     "output_type": "stream",
     "text": [
      "O primeiro valor apresentado pelo usuário foi 55 enquanto o segundo foi 60.\n",
      "A soma dos valores apresentados pelo usuário é 115.\n",
      "A subtração dos primeiro pelo segundo valor informado pelo usuário é -5.\n",
      "A multiplicação entre os números informados pelo usuário é: 3300.\n",
      "Enquanto o resultado da divisão entre os números informados pelo usuário é 0.9166666666666666.\n"
     ]
    }
   ],
   "source": [
    "# Desafio 2 - Crie um sistema onde o usuário insira dois valores, armazene-os em variáveis, e em seguida realize as quatro operações matemáticas básicas (+, -, * e /).\n",
    "# Mostre o resultado de cada operação na tela com um texto indicando qual operação foi realizada.\n",
    "\n",
    "# Inserção de variáveis com valores definidos pelo usuário\n",
    "num1 = int(input('Insira o primeiro valor inteiro: '))\n",
    "num2 = int(input('Insira o segundo valor inteiro: '))\n",
    "\n",
    "# Realização das quatro operações matemáticas básicas com os números informados pelo usuário\n",
    "soma = num1 + num2\n",
    "subtracao = num1 - num2\n",
    "multiplicacao = num1 * num2\n",
    "divisao = num1 / num2\n",
    "\n",
    "# Apresentação do resultado das quatro operações matemáticas básicas\n",
    "print(f'O primeiro valor informado pelo usuário foi {num1}, enquanto o segundo foi {num2}.')\n",
    "print(f'A soma dos valores informados pelo usuário é {soma}.')\n",
    "print(f'A subtração do primeiro pelo segundo valor informado pelo usuário é {subtracao}.')\n",
    "print(f'A multiplicação dos valores informados pelo usuário é {multiplicacao}.')\n",
    "print(f'A divisão do primeiro pelo segundo valor informado pelo usuário é {divisao}.')"
   ]
  },
  {
   "cell_type": "code",
   "execution_count": 34,
   "metadata": {},
   "outputs": [
    {
     "name": "stdout",
     "output_type": "stream",
     "text": [
      "Seu nome é Marcelo e você possui 42 anos.\n",
      "É isso aí, Marcelo de 42 anos. A soma dos dois valores apresentados por você é 30.\n"
     ]
    }
   ],
   "source": [
    "# Desafio 3 - Crie um sistema que receba o nome do usuário e a idade (somente valores inteiros).\n",
    "# Em seguida, mostre as informações obtidas (nome e idade) e peça ao usuário que digite dois números para serem somados.\n",
    "# Mostre a soma dos dois números.\n",
    "\n",
    "# Inserção de informações pelo usuário\n",
    "nome = input('Digite seu nome: ')\n",
    "idade = int(input('Informe sua idade: '))\n",
    "\n",
    "# Apresentação do nome e idade do usuário\n",
    "print(f'Seu nome é {nome} e você possui {idade} anos.')\n",
    "\n",
    "# Inserção de dois números inteiros\n",
    "num1 = int(input('Agora, insira o primeiro valor inteiro: '))\n",
    "num2 = int(input('Agora, insira um segundo valor inteiro: '))\n",
    "\n",
    "# Soma dos dois números informados pelo usuário\n",
    "soma = num1 + num2\n",
    "\n",
    "print(f'É isso aí, {nome} de {idade} anos. A soma dos dois valores apresentados por você é {soma}.')\n"
   ]
  }
 ],
 "metadata": {
  "kernelspec": {
   "display_name": ".venv",
   "language": "python",
   "name": "python3"
  },
  "language_info": {
   "codemirror_mode": {
    "name": "ipython",
    "version": 3
   },
   "file_extension": ".py",
   "mimetype": "text/x-python",
   "name": "python",
   "nbconvert_exporter": "python",
   "pygments_lexer": "ipython3",
   "version": "3.12.4"
  }
 },
 "nbformat": 4,
 "nbformat_minor": 2
}
