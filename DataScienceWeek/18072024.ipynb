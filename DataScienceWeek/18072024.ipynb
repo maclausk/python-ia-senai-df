{
 "cells": [
  {
   "cell_type": "markdown",
   "metadata": {},
   "source": [
    "#### Semana de Ciência de Dados com Python/IA - SENAI-DF - Vespertino - 18/07/2024\n",
    "##### Atividade Assíncrona - Orientado a Objeto\n",
    "\n",
    "##### Marcelo Pereira Avelino\n",
    "---\n",
    "- O que é?\n",
    "- Para que serve?\n",
    "- Como fazer?\n",
    "---\n",
    "- Paradigma\n",
    "- Objeto\n",
    "- Classe\n",
    "- Método\n",
    "- Herança\n",
    "- Polimorfismo\n",
    "- Encapsulamento"
   ]
  },
  {
   "cell_type": "markdown",
   "metadata": {},
   "source": [
    "#### Semana de Ciência de Dados com Python - Python/IA - SENAI-DF - Vespertino - 18/07/2024\n",
    "##### Atividade Assíncrona - Orientado a Objeto\n",
    "\n",
    "##### Marcelo Pereira Avelino\n",
    "\n",
    "---\n",
    "\n",
    "### O que é?\n",
    "- Orientação a Objetos (O.O) é um paradigma de programação que utiliza \"objetos\" e suas interações para designar aplicativos e programas de computador.\n",
    "\n",
    "### Para que serve?\n",
    "- Serve para organizar e estruturar o código de maneira modular e reutilizável, facilitando a manutenção e evolução dos sistemas.\n",
    "\n",
    "### Como fazer?\n",
    "- Para utilizar a programação orientada a objetos em Python, é necessário entender alguns conceitos fundamentais como objetos, classes, métodos, herança, polimorfismo e encapsulamento.\n",
    "\n",
    "---\n",
    "\n",
    "### Conceitos Fundamentais:\n",
    "\n",
    "- **O.O (Orientado a Objeto)**: Paradigma de programação baseado em \"objetos\", que são instâncias de \"classes\".\n",
    "- **Objeto**: Instância de uma classe, representando uma entidade do mundo real com atributos e comportamentos.\n",
    "- **Classe**: Modelo ou molde para criar objetos. Define atributos e métodos que os objetos criados a partir dela terão.\n",
    "- **Método**: Função definida dentro de uma classe que descreve os comportamentos dos objetos dessa classe.\n",
    "- **Herança**: Mecanismo pelo qual uma classe pode herdar atributos e métodos de outra classe.\n",
    "- **Polimorfismo**: Capacidade de diferentes classes serem tratadas de forma uniforme através de uma interface comum.\n",
    "- **Encapsulamento**: Restrição do acesso direto a alguns dos componentes de um objeto, o que pode impedir a alteração inadvertida do estado interno do objeto.\n",
    "\n",
    "### Paradigma:\n",
    "- **Multiparadigma**: Python é uma linguagem de programação que suporta múltiplos paradigmas de programação, incluindo:\n",
    "  - **Programação Orientado a Objeto (O.O)**: Utilizado em frameworks como Django.\n",
    "  - **Programação Funcional**: Utilizado em notebooks Jupyter para manipulação de dados.\n",
    "  - **Programação Estruturada**: Utilizado em algoritmos estruturados.\n"
   ]
  },
  {
   "cell_type": "markdown",
   "metadata": {},
   "source": [
    "#### Semana de Ciência de Dados com Python - Python/IA - SENAI-DF - Vespertino - 18/07/2024\n",
    "##### Atividade Assíncrona - Orientado a Objeto\n",
    "\n",
    "##### Marcelo Pereira Avelino\n",
    "\n",
    "---\n",
    "\n",
    "### O que é?\n",
    "- **O.O (Orientado a Objeto)**: Paradigma de programação baseado em \"objetos\", que são instâncias de \"classes\".\n",
    "- **Objeto**: Instância de uma classe, representando uma entidade do mundo real com atributos e comportamentos.\n",
    "- **Classe**: Modelo ou molde para criar objetos. Define atributos e métodos que os objetos criados a partir dela terão.\n",
    "- **Método**: Função definida dentro de uma classe que descreve os comportamentos dos objetos dessa classe.\n",
    "- **Herança**: Mecanismo pelo qual uma classe pode herdar atributos e métodos de outra classe.\n",
    "- **Polimorfismo**: Capacidade de diferentes classes serem tratadas de forma uniforme através de uma interface comum.\n",
    "- **Encapsulamento**: Restrição do acesso direto a alguns dos componentes de um objeto, o que pode impedir a alteração inadvertida do estado interno do objeto.\n",
    "- **Paradigma**: Modelo ou padrão de como programar. Python é multiparadigma, suportando Programação Orientada a Objeto, Programação Funcional e Programação Estruturada.\n",
    "\n",
    "### Para que serve?\n",
    "- **O.O (Orientado a Objeto)**: Serve para organizar e estruturar o código de maneira modular e reutilizável, facilitando a manutenção e evolução dos sistemas.\n",
    "- **Objeto**: Representa entidades do mundo real de forma concreta no código, permitindo manipular dados e comportamentos de forma intuitiva.\n",
    "- **Classe**: Serve como um modelo para criar objetos com atributos e comportamentos específicos.\n",
    "- **Método**: Define comportamentos dos objetos e permite a interação com os dados internos da classe.\n",
    "- **Herança**: Facilita a reutilização de código e a criação de hierarquias de classes, promovendo a reutilização e a extensão das funcionalidades existentes.\n",
    "- **Polimorfismo**: Permite que diferentes classes sejam tratadas de maneira uniforme, facilitando a integração e a flexibilidade do código.\n",
    "- **Encapsulamento**: Protege os dados internos de um objeto e controla o acesso a eles, melhorando a segurança e a integridade do código.\n",
    "- **Paradigma**: Diferentes paradigmas de programação permitem escolher a abordagem mais adequada para resolver um problema específico.\n",
    "  - Orientado a Objeto (Django): Framework web que usa O.O para estruturação do código.\n",
    "  - Funcional (Jupyter Notebook): Manipulação de dados em DataFrames usando funções.\n",
    "  - Estruturado (Algoritmo Estruturado): Scripts lineares que seguem uma sequência lógica de passos."
   ]
  },
  {
   "cell_type": "code",
   "execution_count": 1,
   "metadata": {},
   "outputs": [],
   "source": [
    "# O.O (Orientado a Objeto)\n",
    "class NomeDaClasse:\n",
    "  def __init__(self, atributo):\n",
    "      self.atributo = atributo"
   ]
  },
  {
   "cell_type": "code",
   "execution_count": null,
   "metadata": {},
   "outputs": [],
   "source": [
    "objeto = NomeDaClasse(valor)"
   ]
  },
  {
   "cell_type": "code",
   "execution_count": null,
   "metadata": {},
   "outputs": [],
   "source": [
    "class Carro:\n",
    "    def __init__(self, marca, modelo):\n",
    "        self.marca = marca\n",
    "        self.modelo = modelo"
   ]
  },
  {
   "cell_type": "code",
   "execution_count": null,
   "metadata": {},
   "outputs": [],
   "source": [
    "class Carro:\n",
    "    def __init__(self, marca, modelo):\n",
    "        self.marca = marca\n",
    "        self.modelo = modelo\n",
    "\n",
    "    def descrever(self):\n",
    "        return f\"{self.marca} {self.modelo}\""
   ]
  },
  {
   "cell_type": "code",
   "execution_count": null,
   "metadata": {},
   "outputs": [],
   "source": [
    "class Veiculo:\n",
    "    def __init__(self, marca):\n",
    "        self.marca = marca\n",
    "\n",
    "class Carro(Veiculo):\n",
    "    def __init__(self, marca, modelo):\n",
    "        super().__init__(marca)\n",
    "        self.modelo = modelo"
   ]
  },
  {
   "cell_type": "code",
   "execution_count": null,
   "metadata": {},
   "outputs": [],
   "source": [
    "class Animal:\n",
    "    def fazer_som(self):\n",
    "        pass\n",
    "\n",
    "class Cachorro(Animal):\n",
    "    def fazer_som(self):\n",
    "        return \"Latido\"\n",
    "\n",
    "class Gato(Animal):\n",
    "    def fazer_som(self):\n",
    "        return \"Miau\""
   ]
  },
  {
   "cell_type": "code",
   "execution_count": null,
   "metadata": {},
   "outputs": [],
   "source": [
    "class ContaBancaria:\n",
    "    def __init__(self, saldo):\n",
    "        self.__saldo = saldo\n",
    "\n",
    "    def depositar(self, quantia):\n",
    "        self.__saldo += quantia\n",
    "\n",
    "    def obter_saldo(self):\n",
    "        return self.__saldo"
   ]
  }
 ],
 "metadata": {
  "kernelspec": {
   "display_name": "Python 3",
   "language": "python",
   "name": "python3"
  },
  "language_info": {
   "codemirror_mode": {
    "name": "ipython",
    "version": 3
   },
   "file_extension": ".py",
   "mimetype": "text/x-python",
   "name": "python",
   "nbconvert_exporter": "python",
   "pygments_lexer": "ipython3",
   "version": "3.12.4"
  }
 },
 "nbformat": 4,
 "nbformat_minor": 2
}
