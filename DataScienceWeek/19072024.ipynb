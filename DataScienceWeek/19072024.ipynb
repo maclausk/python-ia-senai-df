{
 "cells": [
  {
   "cell_type": "markdown",
   "metadata": {},
   "source": [
    "#### Semana de Ciência de Dados com Python/IA - SENAI-DF - Vespertina - 18/07/2024\n",
    "##### Atividade Assíncrona - Estatística na Ciência de Dados\n",
    "---\n",
    "- O que é?\n",
    "- Para que serve?\n",
    "- Como fazer?\n",
    "---\n",
    "- Média : 5\n",
    "- Mediana : 10\n",
    "- Moda : 10\n",
    "- Quartis : 40\n",
    "- Desvio Padrão : 60"
   ]
  }
 ],
 "metadata": {
  "language_info": {
   "name": "python"
  }
 },
 "nbformat": 4,
 "nbformat_minor": 2
}
