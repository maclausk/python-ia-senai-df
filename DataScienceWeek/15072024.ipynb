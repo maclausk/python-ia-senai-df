{
 "cells": [
  {
   "cell_type": "markdown",
   "metadata": {},
   "source": [
    "### Semana de Ciência de Dados com Python - Python/IA - SENAI-DF - 15/07/2024\n",
    "#### Importação e exploração do dataset aluguel.csv\n",
    "\n",
    "##### Marcelo Pereira Avelino"
   ]
  },
  {
   "cell_type": "markdown",
   "metadata": {},
   "source": [
    "#### Tarefa 1 - Importar e conhecer a base de dados\n",
    "\n",
    "- Instalar a biblioteca Pandas: \n",
    "- Verificar as bibliotecas instaladas.\n",
    "- Criar uma variavel para receber o dataset (Importando dados)"
   ]
  },
  {
   "cell_type": "code",
   "execution_count": null,
   "metadata": {},
   "outputs": [],
   "source": [
    "# Instalando a biblioteca Pandas\n",
    "\n",
    "# Execute o comando abaixo no terminal para instalar a biblioteca Pandas.\n",
    "# Este comando irá baixar e instalar a Pandas e suas dependências no seu ambiente Python.\n",
    "# Não execute este comando diretamente no seu script Python ou Jupyter Notebook.\n",
    "\n",
    "pip install pandas  # no terminal"
   ]
  },
  {
   "cell_type": "code",
   "execution_count": null,
   "metadata": {},
   "outputs": [],
   "source": [
    "# Listar todas as bibliotecas instaladas com suas versões exatas\n",
    "!pip freeze\n",
    "\n",
    "# Listar todas as bibliotecas instaladas de forma legível\n",
    "!pip list\n",
    "\n",
    "# Como esses comandos são normalmente executados no terminal, você pode executá-los diretamente em um Jupyter Notebook usando o comando ! antes do comando."
   ]
  },
  {
   "cell_type": "code",
   "execution_count": 40,
   "metadata": {},
   "outputs": [],
   "source": [
    "# Importa a biblioteca pandas e define o alias 'pd'\n",
    "\n",
    "import pandas as pd"
   ]
  },
  {
   "cell_type": "code",
   "execution_count": 41,
   "metadata": {},
   "outputs": [
    {
     "data": {
      "text/html": [
       "<div>\n",
       "<style scoped>\n",
       "    .dataframe tbody tr th:only-of-type {\n",
       "        vertical-align: middle;\n",
       "    }\n",
       "\n",
       "    .dataframe tbody tr th {\n",
       "        vertical-align: top;\n",
       "    }\n",
       "\n",
       "    .dataframe thead th {\n",
       "        text-align: right;\n",
       "    }\n",
       "</style>\n",
       "<table border=\"1\" class=\"dataframe\">\n",
       "  <thead>\n",
       "    <tr style=\"text-align: right;\">\n",
       "      <th></th>\n",
       "      <th>Tipo;Bairro;Quartos;Vagas;Suites;Area;Valor;Condominio;IPTU</th>\n",
       "    </tr>\n",
       "  </thead>\n",
       "  <tbody>\n",
       "    <tr>\n",
       "      <th>0</th>\n",
       "      <td>Quitinete;Copacabana;1;0;0;40;1700;500;60</td>\n",
       "    </tr>\n",
       "    <tr>\n",
       "      <th>1</th>\n",
       "      <td>Casa;Jardim Botânico;2;0;1;100;7000;;</td>\n",
       "    </tr>\n",
       "    <tr>\n",
       "      <th>2</th>\n",
       "      <td>Conjunto Comercial/Sala;Barra da Tijuca;0;4;0;...</td>\n",
       "    </tr>\n",
       "    <tr>\n",
       "      <th>3</th>\n",
       "      <td>Apartamento;Centro;1;0;0;15;800;390;20</td>\n",
       "    </tr>\n",
       "    <tr>\n",
       "      <th>4</th>\n",
       "      <td>Apartamento;Higienópolis;1;0;0;48;800;230;</td>\n",
       "    </tr>\n",
       "    <tr>\n",
       "      <th>...</th>\n",
       "      <td>...</td>\n",
       "    </tr>\n",
       "    <tr>\n",
       "      <th>32955</th>\n",
       "      <td>Quitinete;Centro;0;0;0;27;800;350;25</td>\n",
       "    </tr>\n",
       "    <tr>\n",
       "      <th>32956</th>\n",
       "      <td>Apartamento;Jacarepaguá;3;1;2;78;1800;800;40</td>\n",
       "    </tr>\n",
       "    <tr>\n",
       "      <th>32957</th>\n",
       "      <td>Apartamento;São Francisco Xavier;2;1;0;48;1400...</td>\n",
       "    </tr>\n",
       "    <tr>\n",
       "      <th>32958</th>\n",
       "      <td>Apartamento;Leblon;2;0;0;70;3000;760;</td>\n",
       "    </tr>\n",
       "    <tr>\n",
       "      <th>32959</th>\n",
       "      <td>Conjunto Comercial/Sala;Centro;0;0;0;250;6500;...</td>\n",
       "    </tr>\n",
       "  </tbody>\n",
       "</table>\n",
       "<p>32960 rows × 1 columns</p>\n",
       "</div>"
      ],
      "text/plain": [
       "      Tipo;Bairro;Quartos;Vagas;Suites;Area;Valor;Condominio;IPTU\n",
       "0              Quitinete;Copacabana;1;0;0;40;1700;500;60         \n",
       "1                  Casa;Jardim Botânico;2;0;1;100;7000;;         \n",
       "2      Conjunto Comercial/Sala;Barra da Tijuca;0;4;0;...         \n",
       "3                 Apartamento;Centro;1;0;0;15;800;390;20         \n",
       "4             Apartamento;Higienópolis;1;0;0;48;800;230;         \n",
       "...                                                  ...         \n",
       "32955               Quitinete;Centro;0;0;0;27;800;350;25         \n",
       "32956       Apartamento;Jacarepaguá;3;1;2;78;1800;800;40         \n",
       "32957  Apartamento;São Francisco Xavier;2;1;0;48;1400...         \n",
       "32958              Apartamento;Leblon;2;0;0;70;3000;760;         \n",
       "32959  Conjunto Comercial/Sala;Centro;0;0;0;250;6500;...         \n",
       "\n",
       "[32960 rows x 1 columns]"
      ]
     },
     "execution_count": 41,
     "metadata": {},
     "output_type": "execute_result"
    }
   ],
   "source": [
    "# Importando os dados\n",
    "\n",
    "# Definindo a URL do dataset url = \"dataset/aluguel.csv\" \n",
    "# A URL é o caminho relativo para o arquivo CSV dentro do diretório do projeto.\n",
    "# Um caminho relativo indica a localização de um arquivo em relação ao diretório atual do script.\n",
    "# No exemplo acima, 'dataset' é a pasta onde o arquivo 'aluguel.csv' está localizado.\n",
    "# Control + barra de espaço pode ser usado como atalho para autocompletar o caminho do arquivo no editor.\n",
    "# A função pd.read_csv(url) lê o arquivo CSV e carrega os dados em um DataFrame do pandas.\n",
    "\n",
    "url = \"dataset/aluguel.csv\"\n",
    "pd.read_csv(url)"
   ]
  },
  {
   "cell_type": "code",
   "execution_count": 42,
   "metadata": {},
   "outputs": [
    {
     "name": "stdout",
     "output_type": "stream",
     "text": [
      "O tipo de dado da variável url é \"<class 'str'>\".\n"
     ]
    }
   ],
   "source": [
    "# Verificando o tipo de dado da variável 'url'\n",
    "tipo_url = type(url)  # A função type() retorna o tipo de dado da variável 'url'\n",
    "\n",
    "# Imprimindo o tipo de dado da variável 'url'\n",
    "print(f'O tipo de dado da variável url é \"{tipo_url}\".')"
   ]
  },
  {
   "cell_type": "code",
   "execution_count": 43,
   "metadata": {},
   "outputs": [
    {
     "data": {
      "text/html": [
       "<div>\n",
       "<style scoped>\n",
       "    .dataframe tbody tr th:only-of-type {\n",
       "        vertical-align: middle;\n",
       "    }\n",
       "\n",
       "    .dataframe tbody tr th {\n",
       "        vertical-align: top;\n",
       "    }\n",
       "\n",
       "    .dataframe thead th {\n",
       "        text-align: right;\n",
       "    }\n",
       "</style>\n",
       "<table border=\"1\" class=\"dataframe\">\n",
       "  <thead>\n",
       "    <tr style=\"text-align: right;\">\n",
       "      <th></th>\n",
       "      <th>Tipo;Bairro;Quartos;Vagas;Suites;Area;Valor;Condominio;IPTU</th>\n",
       "    </tr>\n",
       "  </thead>\n",
       "  <tbody>\n",
       "    <tr>\n",
       "      <th>0</th>\n",
       "      <td>Quitinete;Copacabana;1;0;0;40;1700;500;60</td>\n",
       "    </tr>\n",
       "    <tr>\n",
       "      <th>1</th>\n",
       "      <td>Casa;Jardim Botânico;2;0;1;100;7000;;</td>\n",
       "    </tr>\n",
       "    <tr>\n",
       "      <th>2</th>\n",
       "      <td>Conjunto Comercial/Sala;Barra da Tijuca;0;4;0;...</td>\n",
       "    </tr>\n",
       "    <tr>\n",
       "      <th>3</th>\n",
       "      <td>Apartamento;Centro;1;0;0;15;800;390;20</td>\n",
       "    </tr>\n",
       "    <tr>\n",
       "      <th>4</th>\n",
       "      <td>Apartamento;Higienópolis;1;0;0;48;800;230;</td>\n",
       "    </tr>\n",
       "    <tr>\n",
       "      <th>...</th>\n",
       "      <td>...</td>\n",
       "    </tr>\n",
       "    <tr>\n",
       "      <th>32955</th>\n",
       "      <td>Quitinete;Centro;0;0;0;27;800;350;25</td>\n",
       "    </tr>\n",
       "    <tr>\n",
       "      <th>32956</th>\n",
       "      <td>Apartamento;Jacarepaguá;3;1;2;78;1800;800;40</td>\n",
       "    </tr>\n",
       "    <tr>\n",
       "      <th>32957</th>\n",
       "      <td>Apartamento;São Francisco Xavier;2;1;0;48;1400...</td>\n",
       "    </tr>\n",
       "    <tr>\n",
       "      <th>32958</th>\n",
       "      <td>Apartamento;Leblon;2;0;0;70;3000;760;</td>\n",
       "    </tr>\n",
       "    <tr>\n",
       "      <th>32959</th>\n",
       "      <td>Conjunto Comercial/Sala;Centro;0;0;0;250;6500;...</td>\n",
       "    </tr>\n",
       "  </tbody>\n",
       "</table>\n",
       "<p>32960 rows × 1 columns</p>\n",
       "</div>"
      ],
      "text/plain": [
       "      Tipo;Bairro;Quartos;Vagas;Suites;Area;Valor;Condominio;IPTU\n",
       "0              Quitinete;Copacabana;1;0;0;40;1700;500;60         \n",
       "1                  Casa;Jardim Botânico;2;0;1;100;7000;;         \n",
       "2      Conjunto Comercial/Sala;Barra da Tijuca;0;4;0;...         \n",
       "3                 Apartamento;Centro;1;0;0;15;800;390;20         \n",
       "4             Apartamento;Higienópolis;1;0;0;48;800;230;         \n",
       "...                                                  ...         \n",
       "32955               Quitinete;Centro;0;0;0;27;800;350;25         \n",
       "32956       Apartamento;Jacarepaguá;3;1;2;78;1800;800;40         \n",
       "32957  Apartamento;São Francisco Xavier;2;1;0;48;1400...         \n",
       "32958              Apartamento;Leblon;2;0;0;70;3000;760;         \n",
       "32959  Conjunto Comercial/Sala;Centro;0;0;0;250;6500;...         \n",
       "\n",
       "[32960 rows x 1 columns]"
      ]
     },
     "execution_count": 43,
     "metadata": {},
     "output_type": "execute_result"
    }
   ],
   "source": [
    "# Criação da variável 'dados' para guardar o dataset\n",
    "# A função pd.read_csv(url) lê o arquivo CSV e transforma-o em um DataFrame\n",
    "\n",
    "dados = pd.read_csv(url)\n",
    "\n",
    "# Exibindo o conteúdo do DataFrame 'dados'\n",
    "\n",
    "dados"
   ]
  },
  {
   "cell_type": "code",
   "execution_count": null,
   "metadata": {},
   "outputs": [],
   "source": [
    "# Lendo o Arquivo CSV com o Separador Correto\n",
    "# O resultado esperado é que os dados sejam separados por vírgulas (','), \n",
    "# pois CSV (Comma Separated Values) indica que os valores são separados por vírgulas.\n",
    "# Se os valores estiverem separados por ponto e vírgula (';'), \n",
    "# isso deve ser corrigido ajustando o parâmetro 'sep' no comando pd.read_csv(url, sep=';').\n",
    "\n",
    "dados = pd.read_csv(url, sep=';')\n",
    "print(dados)\n",
    "\n",
    "# O comando pd.read_csv(url, sep=';') lê o arquivo CSV e o carrega em um DataFrame.\n",
    "# DataFrame é uma estrutura de dados do Pandas, similar a uma tabela em uma base de dados ou uma planilha.\n",
    "# Ele possui linhas e colunas, onde as colunas são os campos e as linhas são os registros de dados.\n",
    "# A primeira coluna do DataFrame, conhecida como índice, começa com 0 por padrão.\n",
    "# Isso significa que a contagem de linhas começa do 0."
   ]
  },
  {
   "cell_type": "code",
   "execution_count": null,
   "metadata": {},
   "outputs": [],
   "source": [
    "# Métodos de visualização de dados do DataFrame\n",
    "\n",
    "# O método head() é usado para visualizar as primeiras linhas do DataFrame.\n",
    "# Por padrão, head() retorna as primeiras 5 linhas, mas você pode especificar um número diferente como argumento.\n",
    "# Por exemplo, dados.head(10) retornaria as primeiras 10 linhas.\n",
    "\n",
    "primeiras_linhas = dados.head() \n",
    "print(primeiras_linhas)\n",
    "\n",
    "# Armazenamento: O resultado das primeiras 5 linhas do DataFrame é armazenado na variável primeiras_linhas.\n",
    "# Uso Posterior: Você pode reutilizar a variável primeiras_linhas em outros pontos do código sem precisar chamar dados.head() novamente.\n",
    "# Exibição: O conteúdo da variável primeiras_linhas é exibido usando print.\n",
    "\n",
    "# ou simplesmente dados.head(), caso não queria atribuir uma variável, que nesse caso foi atribuida para ser visualizada posteriormente em alguma parte do código ao ser consultada.\n",
    "\n",
    "\n",
    "# Chamada Direta: O método head() é chamado diretamente no DataFrame dados.\n",
    "# Uso Único: O resultado não é armazenado, apenas exibido no momento da chamada.\n",
    "# Exibição: Dependendo do ambiente, os resultados podem ser exibidos automaticamente (por exemplo, em um Jupyter Notebook) sem a necessidade de um comando print.\n",
    "\n",
    "dados.head()"
   ]
  },
  {
   "cell_type": "code",
   "execution_count": null,
   "metadata": {},
   "outputs": [],
   "source": [
    "# Métodos de visualização de dados do DataFrame\n",
    "\n",
    "# O método tail(n) é usado para visualizar as últimas 'n' linhas do DataFrame.\n",
    "# Neste caso, estamos visualizando as últimas 5 linhas.\n",
    "# Isso é útil para verificar os dados finais contidos no DataFrame e garantir a consistência.\n",
    "\n",
    "ultimas_5_linhas = dados.tail(5)\n",
    "print(ultimas_5_linhas)\n",
    "\n",
    "# ou\n",
    "\n",
    "dados.tail()"
   ]
  },
  {
   "cell_type": "code",
   "execution_count": 49,
   "metadata": {},
   "outputs": [
    {
     "name": "stdout",
     "output_type": "stream",
     "text": [
      "10237\n"
     ]
    }
   ],
   "source": [
    "# Verificação de valores nulos na coluna 'IPTU'\n",
    "print(dados['IPTU'].isnull().sum())\n",
    "# Na coluna 'IPTU', alguns valores podem estar vazios ou nulos.\n",
    "# NaN (Not a Number) é a representação para valores nulos ou ausentes em um DataFrame.\n",
    "# O método isnull() verifica quais valores são nulos e sum() conta quantos valores nulos existem na coluna.\n",
    "# df['IPTU'].isnull().sum() irá mostrar a quantidade total de valores nulos na coluna 'IPTU'."
   ]
  },
  {
   "cell_type": "code",
   "execution_count": 50,
   "metadata": {},
   "outputs": [
    {
     "name": "stdout",
     "output_type": "stream",
     "text": [
      "                          Tipo                    Bairro  Quartos  Vagas  \\\n",
      "1                         Casa           Jardim Botânico        2      0   \n",
      "4                  Apartamento              Higienópolis        1      0   \n",
      "5                  Apartamento              Vista Alegre        3      1   \n",
      "7           Casa de Condomínio           Barra da Tijuca        5      4   \n",
      "8           Casa de Condomínio                     Ramos        2      2   \n",
      "...                        ...                       ...      ...    ...   \n",
      "32942  Conjunto Comercial/Sala           Barra da Tijuca        0      1   \n",
      "32944              Apartamento  Recreio dos Bandeirantes        3      2   \n",
      "32951              Apartamento            Vila Valqueire        2      0   \n",
      "32954              Box/Garagem                    Centro        0      0   \n",
      "32958              Apartamento                    Leblon        2      0   \n",
      "\n",
      "       Suites  Area    Valor  Condominio  IPTU  \n",
      "1           1   100   7000.0         NaN   NaN  \n",
      "4           0    48    800.0       230.0   NaN  \n",
      "5           0    70   1200.0         NaN   NaN  \n",
      "7           5   750  22000.0         NaN   NaN  \n",
      "8           0    65   1000.0         NaN   NaN  \n",
      "...       ...   ...      ...         ...   ...  \n",
      "32942       0    55   2000.0      1096.0   NaN  \n",
      "32944       1    88   1550.0       790.0   NaN  \n",
      "32951       0    52   1000.0       550.0   NaN  \n",
      "32954       0   755  14000.0         NaN   NaN  \n",
      "32958       0    70   3000.0       760.0   NaN  \n",
      "\n",
      "[10237 rows x 9 columns]\n"
     ]
    }
   ],
   "source": [
    "# Visualização dos valores nulos contidos na coluna 'IPTU'\n",
    "valores_nulos = dados[dados['IPTU'].isnull()]\n",
    "print(valores_nulos)\n",
    "# Aqui, filtramos o DataFrame para mostrar apenas as linhas onde a coluna 'IPTU' possui valores nulos.\n",
    "# df['IPTU'].isnull() cria uma série booleana onde True indica valores nulos.\n",
    "# df[df['IPTU'].isnull()] utiliza essa série booleana para filtrar o DataFrame, retornando apenas as linhas com valores nulos na coluna 'IPTU'.\n",
    "# A variável 'valores_nulos' contém essas linhas e print(valores_nulos) exibe essas linhas."
   ]
  },
  {
   "cell_type": "code",
   "execution_count": 16,
   "metadata": {},
   "outputs": [
    {
     "name": "stdout",
     "output_type": "stream",
     "text": [
      "O tipo do objeto dados é <class 'pandas.core.frame.DataFrame'>.\n"
     ]
    }
   ],
   "source": [
    "# Mostrar o tipo de dados\n",
    "# DataFrame é uma matriz bidimensional com linhas e colunas\n",
    "# Series são vetores que representam uma única coluna do DataFrame\n",
    "\n",
    "tipo_dados = type(dados)\n",
    "print(f'O tipo do objeto dados é {tipo_dados}.')  # Imprime o tipo do objeto 'dados' no console\n",
    "\n",
    "# O comando type(dados) retorna o tipo de objeto da variável 'dados'.\n",
    "# Quando 'dados' é um DataFrame, o tipo será 'pandas.core.frame.DataFrame'.\n",
    "# Imprimir o tipo ajuda a confirmar que 'dados' é realmente um DataFrame."
   ]
  },
  {
   "cell_type": "markdown",
   "metadata": {},
   "source": [
    "#### Tarefa 2 - Verificar algumas características gerais, como:\n",
    "\n",
    "- Quantidade de linhas e colunas;\n",
    "- Quais as colunas da base de dados;\n",
    "- Explorar as diferentes colunas existentes;\n",
    "- Verificar os tipos dos dados."
   ]
  },
  {
   "cell_type": "code",
   "execution_count": 28,
   "metadata": {},
   "outputs": [
    {
     "name": "stdout",
     "output_type": "stream",
     "text": [
      "(32960, 9)\n"
     ]
    }
   ],
   "source": [
    "# Obtendo a quantidade de linhas e colunas\n",
    "\n",
    "# Chamada direta sem armazenamento do valor em variável. Uso único.\n",
    "(dados.shape)  # Exibe a tupla (n_linhas, n_colunas) diretamente\n",
    "\n",
    "# Armazenamento do valor em uma variável. 'shape' retorna uma tupla (n_linhas, n_colunas)\n",
    "quantidade_linhas_colunas = dados.shape  \n",
    "\n",
    "# Imprimindo a quantidade de linhas e colunas armazenadas na variável\n",
    "print(quantidade_linhas_colunas)  # Exibe a tupla com a quantidade de linhas e colunas do DataFrame"
   ]
  },
  {
   "cell_type": "code",
   "execution_count": 31,
   "metadata": {},
   "outputs": [
    {
     "name": "stdout",
     "output_type": "stream",
     "text": [
      "Index(['Tipo', 'Bairro', 'Quartos', 'Vagas', 'Suites', 'Area', 'Valor',\n",
      "       'Condominio', 'IPTU'],\n",
      "      dtype='object')\n"
     ]
    }
   ],
   "source": [
    "# Explorar as diferentes colunas existentes\n",
    "dados.columns\n",
    "\n",
    "# Explorando as diferentes colunas existentes no DataFrame\n",
    "# O atributo 'columns' do DataFrame retorna uma lista com os nomes das colunas.\n",
    "# Isso é útil para verificar quais colunas estão disponíveis no DataFrame.\n",
    "\n",
    "colunas = dados.columns\n",
    "\n",
    "# Imprimindo os nomes das colunas\n",
    "print(colunas)"
   ]
  },
  {
   "cell_type": "code",
   "execution_count": 32,
   "metadata": {},
   "outputs": [
    {
     "name": "stdout",
     "output_type": "stream",
     "text": [
      "<class 'pandas.core.frame.DataFrame'>\n",
      "RangeIndex: 32960 entries, 0 to 32959\n",
      "Data columns (total 9 columns):\n",
      " #   Column      Non-Null Count  Dtype  \n",
      "---  ------      --------------  -----  \n",
      " 0   Tipo        32960 non-null  object \n",
      " 1   Bairro      32960 non-null  object \n",
      " 2   Quartos     32960 non-null  int64  \n",
      " 3   Vagas       32960 non-null  int64  \n",
      " 4   Suites      32960 non-null  int64  \n",
      " 5   Area        32960 non-null  int64  \n",
      " 6   Valor       32943 non-null  float64\n",
      " 7   Condominio  28867 non-null  float64\n",
      " 8   IPTU        22723 non-null  float64\n",
      "dtypes: float64(3), int64(4), object(2)\n",
      "memory usage: 2.3+ MB\n"
     ]
    }
   ],
   "source": [
    "# Explorando as diferentes colunas existentes e suas informações\n",
    "\n",
    "# O método 'info()' do DataFrame fornece um resumo conciso do DataFrame.\n",
    "# Inclui o número de colunas, os nomes das colunas, o número de valores não nulos e os tipos de dados de cada coluna.\n",
    "\n",
    "dados.info()"
   ]
  },
  {
   "cell_type": "code",
   "execution_count": 38,
   "metadata": {},
   "outputs": [
    {
     "data": {
      "text/plain": [
       "pandas.core.frame.DataFrame"
      ]
     },
     "execution_count": 38,
     "metadata": {},
     "output_type": "execute_result"
    }
   ],
   "source": [
    "# Verificando o tipo do objeto 'dados'\n",
    "\n",
    "# O comando 'type()' é usado para verificar o tipo de um objeto em Python.\n",
    "# Aqui, ele é utilizado para determinar o tipo do objeto 'dados'.\n",
    "\n",
    "type(dados)"
   ]
  },
  {
   "cell_type": "code",
   "execution_count": 39,
   "metadata": {},
   "outputs": [
    {
     "data": {
      "text/html": [
       "<div>\n",
       "<style scoped>\n",
       "    .dataframe tbody tr th:only-of-type {\n",
       "        vertical-align: middle;\n",
       "    }\n",
       "\n",
       "    .dataframe tbody tr th {\n",
       "        vertical-align: top;\n",
       "    }\n",
       "\n",
       "    .dataframe thead th {\n",
       "        text-align: right;\n",
       "    }\n",
       "</style>\n",
       "<table border=\"1\" class=\"dataframe\">\n",
       "  <thead>\n",
       "    <tr style=\"text-align: right;\">\n",
       "      <th></th>\n",
       "      <th>Tipo</th>\n",
       "      <th>Valor</th>\n",
       "    </tr>\n",
       "  </thead>\n",
       "  <tbody>\n",
       "    <tr>\n",
       "      <th>0</th>\n",
       "      <td>Quitinete</td>\n",
       "      <td>1700.0</td>\n",
       "    </tr>\n",
       "    <tr>\n",
       "      <th>1</th>\n",
       "      <td>Casa</td>\n",
       "      <td>7000.0</td>\n",
       "    </tr>\n",
       "    <tr>\n",
       "      <th>2</th>\n",
       "      <td>Conjunto Comercial/Sala</td>\n",
       "      <td>5200.0</td>\n",
       "    </tr>\n",
       "    <tr>\n",
       "      <th>3</th>\n",
       "      <td>Apartamento</td>\n",
       "      <td>800.0</td>\n",
       "    </tr>\n",
       "    <tr>\n",
       "      <th>4</th>\n",
       "      <td>Apartamento</td>\n",
       "      <td>800.0</td>\n",
       "    </tr>\n",
       "    <tr>\n",
       "      <th>...</th>\n",
       "      <td>...</td>\n",
       "      <td>...</td>\n",
       "    </tr>\n",
       "    <tr>\n",
       "      <th>32955</th>\n",
       "      <td>Quitinete</td>\n",
       "      <td>800.0</td>\n",
       "    </tr>\n",
       "    <tr>\n",
       "      <th>32956</th>\n",
       "      <td>Apartamento</td>\n",
       "      <td>1800.0</td>\n",
       "    </tr>\n",
       "    <tr>\n",
       "      <th>32957</th>\n",
       "      <td>Apartamento</td>\n",
       "      <td>1400.0</td>\n",
       "    </tr>\n",
       "    <tr>\n",
       "      <th>32958</th>\n",
       "      <td>Apartamento</td>\n",
       "      <td>3000.0</td>\n",
       "    </tr>\n",
       "    <tr>\n",
       "      <th>32959</th>\n",
       "      <td>Conjunto Comercial/Sala</td>\n",
       "      <td>6500.0</td>\n",
       "    </tr>\n",
       "  </tbody>\n",
       "</table>\n",
       "<p>32960 rows × 2 columns</p>\n",
       "</div>"
      ],
      "text/plain": [
       "                          Tipo   Valor\n",
       "0                    Quitinete  1700.0\n",
       "1                         Casa  7000.0\n",
       "2      Conjunto Comercial/Sala  5200.0\n",
       "3                  Apartamento   800.0\n",
       "4                  Apartamento   800.0\n",
       "...                        ...     ...\n",
       "32955                Quitinete   800.0\n",
       "32956              Apartamento  1800.0\n",
       "32957              Apartamento  1400.0\n",
       "32958              Apartamento  3000.0\n",
       "32959  Conjunto Comercial/Sala  6500.0\n",
       "\n",
       "[32960 rows x 2 columns]"
      ]
     },
     "execution_count": 39,
     "metadata": {},
     "output_type": "execute_result"
    }
   ],
   "source": [
    "# Filtrar e visualizar as colunas 'Tipo' e 'Valor' do DataFrame\n",
    "\n",
    "# Utilizando a notação de colchetes duplos para selecionar múltiplas colunas\n",
    "# 'dados[['Tipo', 'Valor']]' seleciona apenas as colunas 'Tipo' e 'Valor' do DataFrame 'dados'\n",
    "\n",
    "dados[['Tipo', 'Valor']] # Exibe o DataFrame resultante com apenas as colunas 'Tipo' e 'Valor'"
   ]
  }
 ],
 "metadata": {
  "kernelspec": {
   "display_name": ".venv",
   "language": "python",
   "name": "python3"
  },
  "language_info": {
   "codemirror_mode": {
    "name": "ipython",
    "version": 3
   },
   "file_extension": ".py",
   "mimetype": "text/x-python",
   "name": "python",
   "nbconvert_exporter": "python",
   "pygments_lexer": "ipython3",
   "version": "3.12.4"
  }
 },
 "nbformat": 4,
 "nbformat_minor": 2
}
