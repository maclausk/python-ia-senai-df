{
 "cells": [
  {
   "cell_type": "markdown",
   "metadata": {},
   "source": [
    "##### Semana de Ciência de Dados com Python/IA - SENAI-DF - Vespertino - 17/07/2024\n",
    "\n",
    "##### **Revisão - Collection**\n",
    "\n",
    "Em Python, temos quatro tipos principais de coleções que nos ajudam a armazenar e manipular grupos de dados: listas, tuplas, conjuntos e dicionários. Vamos entender cada um deles de forma clara e objetiva.\n",
    "\n",
    "## 1. Lista\n",
    "- **Definição**: Uma lista é uma coleção ordenada de itens que podem ser alterados (mutáveis).\n",
    "- **Criação**: Usa colchetes `[]`.\n",
    "- **Mutável**: Você pode adicionar, remover ou alterar itens na lista.\n",
    "- **Ordenada**: Os itens têm uma ordem definida.\n",
    "\n",
    "```python\n",
    "lista_times = [\"Flamengo\", \"Vasco\", \"Palmeiras\", \"Corinthians\"]\n",
    "```\n",
    "\n",
    "## 2. Tupla\n",
    "- **Definição**: Uma tupla é uma coleção ordenada de itens que não podem ser alterados (imutáveis).\n",
    "- **Criação**: Usa parênteses `()`.\n",
    "- **Imutável**: Depois de criada, você não pode alterar a tupla.\n",
    "- **Ordenada**: Os itens têm uma ordem definida.\n",
    "\n",
    "```python\n",
    "tupla_dados = (\"Nome\", \"Telefone\", \"E-mail\", \"Gênero\")\n",
    "```\n",
    "\n",
    "# 3. Conjunto\n",
    "- **Definição**: Um conjunto é uma coleção não ordenada de itens únicos.\n",
    "- **Criação**: Usa chaves `{}`.\n",
    "- **Itens Únicos**: Mesmo que você adicione itens duplicados, o conjunto armazenará apenas valores únicos.\n",
    "- **Não Ordenado**: Os itens não têm uma ordem definida.\n",
    "\n",
    "```python\n",
    "conjunto_times = {\"Vasco\", \"Fla\", \"Flu\", \"Vasco\", \"Flu\", \"Palmeiras\"}\n",
    "```\n",
    "\n",
    "# 4. Dicionário\n",
    "- **Definição**: Um dicionário é uma coleção de pares chave-valor, onde cada chave é única e está associada a um valor.\n",
    "- **Criação**: Usa chaves `{}` com pares chave\n",
    "- **Mutável**: Você pode adicionar, remover ou alterar pares chave-valor.\n",
    "- **Associativo**: Você acessa os valores por meio das chaves.\n",
    "\n",
    "```python\n",
    "dicionario = {\"manga\": \"fruta\", \"cadeira\": \"móvel\"}\n",
    "```"
   ]
  },
  {
   "cell_type": "code",
   "execution_count": 25,
   "metadata": {},
   "outputs": [
    {
     "name": "stdout",
     "output_type": "stream",
     "text": [
      "['Flamengo', 'Vasco', 'Palmeiras', 'Corinthians']\n"
     ]
    }
   ],
   "source": [
    "# Criando uma lista de times de futebol\n",
    "lista_times = [\"Flamengo\", \"Vasco\", \"Palmeiras\", \"Corinthians\"]\n",
    "\n",
    "# Verificando o tipo da variável 'lista_times'\n",
    "# Exibe: <class 'list'>\n",
    "type(lista_times)\n",
    "\n",
    "# Imprimindo a lista de times\n",
    "# Exibe a lista: [\"Flamengo\", \"Vasco\", \"Palmeiras\", \"Corinthians\"]\n",
    "print(lista_times)"
   ]
  },
  {
   "cell_type": "code",
   "execution_count": 24,
   "metadata": {},
   "outputs": [
    {
     "name": "stdout",
     "output_type": "stream",
     "text": [
      "<class 'tuple'>\n",
      "('Nome', 'Telefone', 'E-mail', 'Gênero')\n"
     ]
    }
   ],
   "source": [
    "# Criando uma tupla com diferentes tipos de dados\n",
    "tupla_times = (\"Nome\", \"Telefone\", \"E-mail\", \"Gênero\")\n",
    "\n",
    "# Verificando o tipo da variável 'tupla_times'\n",
    "# A função type() retorna o tipo do objeto passado como argumento.\n",
    "# No caso, retornará <class 'tuple'>, indicando que 'tupla_times' é uma tupla.\n",
    "tipo_tupla_times = type(tupla_times)\n",
    "print(tipo_tupla_times)  # Exibe: <class 'tuple'>\n",
    "\n",
    "# Imprimindo a tupla de dados\n",
    "# A função print() exibe o valor da variável 'tupla_times', mostrando seus elementos.\n",
    "print(tupla_times)  # Exibe a tupla: (\"Nome\", \"Telefone\", \"E-mail\", \"Gênero\")"
   ]
  },
  {
   "cell_type": "code",
   "execution_count": 23,
   "metadata": {},
   "outputs": [
    {
     "name": "stdout",
     "output_type": "stream",
     "text": [
      "<class 'dict'>\n",
      "{'vasco': 'time', 'flamengo': 'time', 'fluminense': 'time', 'são paulo': 'time', 'corinthians': 'time'}\n"
     ]
    }
   ],
   "source": [
    "# Criando um dicionário com times de futebol e suas classificações\n",
    "dicionario_times = {\n",
    "    \"vasco\": \"time\",\n",
    "    \"flamengo\": \"time\",\n",
    "    \"fluminense\": \"time\",\n",
    "    \"são paulo\": \"time\",\n",
    "    \"corinthians\": \"time\"\n",
    "}\n",
    "\n",
    "# Verificando o tipo da variável 'dicionario_times'\n",
    "# A função type() retorna o tipo do objeto passado como argumento.\n",
    "# No caso, retornará <class 'dict'>, indicando que 'dicionario_times' é um dicionário.\n",
    "tipo_dicionario_times = type(dicionario_times)\n",
    "print(tipo_dicionario_times)  # Exibe: <class 'dict'>\n",
    "\n",
    "# Imprimindo o dicionário de times\n",
    "# A função print() exibe o valor da variável 'dicionario_times', mostrando seus pares chave-valor.\n",
    "print(dicionario_times)  # Exibe o dicionário: {\"vasco\": \"time\", \"flamengo\": \"time\", \"fluminense\": \"time\", \"são paulo\": \"time\", \"corinthians\": \"time\"}\n"
   ]
  },
  {
   "cell_type": "code",
   "execution_count": 22,
   "metadata": {},
   "outputs": [
    {
     "name": "stdout",
     "output_type": "stream",
     "text": [
      "<class 'set'>\n",
      "{'corinthians', 'vasco', 'flamengo', 'são paulo', 'fluminense'}\n"
     ]
    }
   ],
   "source": [
    "# Criando um conjunto chamado conjunto_times com nomes de times de futebol.\n",
    "# Aqui, estamos criando um conjunto chamado conjunto_times que contém nomes de times de futebol.\n",
    "# Note que, mesmo que \"vasco\" e \"são paulo\" apareçam mais de uma vez, o conjunto armazenará apenas uma instância de cada elemento porque conjuntos não permitem duplicatas.\n",
    "\n",
    "conjunto_times = {\"vasco\", \"flamengo\", \"fluminense\", \"são paulo\", \"corinthians\", \"vasco\", \"são paulo\"}\n",
    "\n",
    "# Verificando o tipo da variável 'conjunto_times'\n",
    "# A função type() retorna o tipo do objeto passado como argumento.\n",
    "# No caso, retornará <class 'set'>, indicando que 'conjunto_times' é um conjunto.\n",
    "tipo_conjunto = type(conjunto_times)\n",
    "print(tipo_conjunto)  # Exibe: <class 'set'>\n",
    "\n",
    "# Imprimindo o conjunto de times\n",
    "# A função print() exibe o valor da variável 'conjunto_times', mostrando os elementos únicos.\n",
    "print(conjunto_times)  # Exibe o conjunto: {\"vasco\", \"flamengo\", \"fluminense\", \"são paulo\", \"corinthians\"}"
   ]
  }
 ],
 "metadata": {
  "kernelspec": {
   "display_name": "Python 3",
   "language": "python",
   "name": "python3"
  },
  "language_info": {
   "codemirror_mode": {
    "name": "ipython",
    "version": 3
   },
   "file_extension": ".py",
   "mimetype": "text/x-python",
   "name": "python",
   "nbconvert_exporter": "python",
   "pygments_lexer": "ipython3",
   "version": "3.12.4"
  }
 },
 "nbformat": 4,
 "nbformat_minor": 2
}
