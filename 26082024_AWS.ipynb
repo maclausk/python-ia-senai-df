{
 "cells": [
  {
   "cell_type": "markdown",
   "metadata": {},
   "source": [
    "### Ciência de Dados com Python/IA - SENAI-DF - Vespertino - 26/08/2024 - Marcelo Pereira Avelino"
   ]
  },
  {
   "cell_type": "markdown",
   "metadata": {},
   "source": [
    "#### `Aula Complementar - Computação em Nuvem [AWS - Amazon Web Services]`"
   ]
  },
  {
   "cell_type": "markdown",
   "metadata": {},
   "source": [
    "https://dontpad.com/semanaaws\n",
    "\n",
    "- Conceito de nuvem\n",
    "- Aonde ficam esses serviços?\n",
    "- principais serviços. Definir cada um e exemplificar\n",
    "- Clusters - Conceito de clusters e em que se aplica na AWS\n",
    "- Protocolos de rede: informar os mais utilizados como http (get, put, delete, e os outros dois que esqueci), https, e o DNS que ele explorou mais.\n",
    "- diferença entre http e https\n",
    "falar sobre certificados em websites o risco de não ter sites https. quais tipos de ataques pode sofrer por nao ter essa criptografia\n",
    "- nslookup google.com -> explicar o resultado dessa consulta feita no cmd, linha a linha. Pra que serve? alternativa no linux e em mac os\n",
    "tipos de ataques ciberneticos mais comuns. Exemplificar ddos, brutalfoce, man in the middle, engenharia social, sqlinjection, e os demais mais comuns\n",
    "    - o que a aws tem de serviços para evitar esses serviços mais comuns?\n",
    "\n",
    "[noip.com/pt-br](https://www.noip.com/pt-BR) - cadastrar dominio gratuito conforme dominios disponiveis\n",
    "\n",
    "load balancing cluster - esse cenário na aws (elastic load balance)\n",
    "os pilares do aws framework architect. O que é? pra que serve e sua importancia na aws\n",
    "raid 0 etc . difereçnas vantagens e desvatagens entre raids - explicação dos conceitos de raid, cluster e storage e onde tem isso na aws\n",
    "\n",
    "github do professor \\revisaopython\n",
    "concluir o curso da aws\n",
    "\n",
    "\n",
    "https://github.com/GuilhermePiresOliveira/Projeto_Musical/blob/main/trabalhomusical.ipynb\n",
    "\n",
    "https://dontpad.com/semanaaws\n",
    "\n"
   ]
  }
 ],
 "metadata": {
  "language_info": {
   "name": "python"
  }
 },
 "nbformat": 4,
 "nbformat_minor": 2
}
