{
 "cells": [
  {
   "cell_type": "markdown",
   "metadata": {},
   "source": [
    "#### Ciência de Dados com Python/IA - SENAI-DF - Vespertino - 06/08/2024 - Marcelo Pereira Avelino"
   ]
  },
  {
   "cell_type": "markdown",
   "metadata": {},
   "source": [
    "*`A execução do código das próximas 3 (três) células é necesária para dar continuidade a aula de hoje.`*"
   ]
  },
  {
   "cell_type": "code",
   "execution_count": 5,
   "metadata": {},
   "outputs": [],
   "source": [
    "# 1. Importação de Bibliotecas - Bibliotecas necessárias para a execução dos comandos SQL e manipulação de dados:\n",
    "import pandas as pd\n",
    "import urllib.parse\n",
    "from sqlalchemy import create_engine"
   ]
  },
  {
   "cell_type": "code",
   "execution_count": 6,
   "metadata": {},
   "outputs": [],
   "source": [
    "# 2. Definindo a Conexão com o Banco de Dados - Configurando a conexão com o banco de dados MySQL:\n",
    "user = 'root'\n",
    "password = urllib.parse.quote_plus('senai@123')\n",
    "host = 'localhost'  # ou o endereço do seu servidor de banco de dados\n",
    "database = 'projetodiario'\n",
    "\n",
    "# Crie uma URL de conexão\n",
    "connection_string = f'mysql+pymysql://{user}:{password}@{host}/{database}'\n",
    "\n",
    "# Crie um engine do SQLAlchemy\n",
    "engine = create_engine(connection_string)"
   ]
  },
  {
   "cell_type": "code",
   "execution_count": 7,
   "metadata": {},
   "outputs": [
    {
     "data": {
      "text/html": [
       "<div>\n",
       "<style scoped>\n",
       "    .dataframe tbody tr th:only-of-type {\n",
       "        vertical-align: middle;\n",
       "    }\n",
       "\n",
       "    .dataframe tbody tr th {\n",
       "        vertical-align: top;\n",
       "    }\n",
       "\n",
       "    .dataframe thead th {\n",
       "        text-align: right;\n",
       "    }\n",
       "</style>\n",
       "<table border=\"1\" class=\"dataframe\">\n",
       "  <thead>\n",
       "    <tr style=\"text-align: right;\">\n",
       "      <th></th>\n",
       "      <th>id</th>\n",
       "      <th>ra</th>\n",
       "      <th>nome</th>\n",
       "      <th>tempoestudo</th>\n",
       "      <th>rendafamiliar</th>\n",
       "    </tr>\n",
       "  </thead>\n",
       "  <tbody>\n",
       "    <tr>\n",
       "      <th>0</th>\n",
       "      <td>1</td>\n",
       "      <td>00169506</td>\n",
       "      <td>Marcelo Avelino</td>\n",
       "      <td>6.0</td>\n",
       "      <td>2500.50</td>\n",
       "    </tr>\n",
       "    <tr>\n",
       "      <th>1</th>\n",
       "      <td>2</td>\n",
       "      <td>00034548</td>\n",
       "      <td>Ana Silva</td>\n",
       "      <td>5.0</td>\n",
       "      <td>3000.75</td>\n",
       "    </tr>\n",
       "    <tr>\n",
       "      <th>2</th>\n",
       "      <td>3</td>\n",
       "      <td>00034549</td>\n",
       "      <td>Bruno Costa</td>\n",
       "      <td>4.0</td>\n",
       "      <td>2000.00</td>\n",
       "    </tr>\n",
       "    <tr>\n",
       "      <th>3</th>\n",
       "      <td>4</td>\n",
       "      <td>00034550</td>\n",
       "      <td>Carlos Pereira</td>\n",
       "      <td>7.0</td>\n",
       "      <td>3500.20</td>\n",
       "    </tr>\n",
       "    <tr>\n",
       "      <th>4</th>\n",
       "      <td>5</td>\n",
       "      <td>00034551</td>\n",
       "      <td>Daniela Souza</td>\n",
       "      <td>3.0</td>\n",
       "      <td>1500.40</td>\n",
       "    </tr>\n",
       "  </tbody>\n",
       "</table>\n",
       "</div>"
      ],
      "text/plain": [
       "   id        ra             nome  tempoestudo  rendafamiliar\n",
       "0   1  00169506  Marcelo Avelino          6.0        2500.50\n",
       "1   2  00034548        Ana Silva          5.0        3000.75\n",
       "2   3  00034549      Bruno Costa          4.0        2000.00\n",
       "3   4  00034550   Carlos Pereira          7.0        3500.20\n",
       "4   5  00034551    Daniela Souza          3.0        1500.40"
      ]
     },
     "execution_count": 7,
     "metadata": {},
     "output_type": "execute_result"
    }
   ],
   "source": [
    "# 3. Escreva sua consulta SQL\n",
    "query_alunos = \"SELECT * FROM aluno\"\n",
    "\n",
    "# Use pandas para executar a consulta e importar os dados\n",
    "df_alunos = pd.read_sql(query_alunos, engine)\n",
    "\n",
    "# Mostre os primeiros registros do DataFrame\n",
    "df_alunos.head()"
   ]
  },
  {
   "cell_type": "code",
   "execution_count": 8,
   "metadata": {},
   "outputs": [
    {
     "data": {
      "text/html": [
       "<div>\n",
       "<style scoped>\n",
       "    .dataframe tbody tr th:only-of-type {\n",
       "        vertical-align: middle;\n",
       "    }\n",
       "\n",
       "    .dataframe tbody tr th {\n",
       "        vertical-align: top;\n",
       "    }\n",
       "\n",
       "    .dataframe thead th {\n",
       "        text-align: right;\n",
       "    }\n",
       "</style>\n",
       "<table border=\"1\" class=\"dataframe\">\n",
       "  <thead>\n",
       "    <tr style=\"text-align: right;\">\n",
       "      <th></th>\n",
       "      <th>tempoestudo</th>\n",
       "      <th>rendafamiliar</th>\n",
       "    </tr>\n",
       "  </thead>\n",
       "  <tbody>\n",
       "    <tr>\n",
       "      <th>0</th>\n",
       "      <td>6.0</td>\n",
       "      <td>2500.50</td>\n",
       "    </tr>\n",
       "    <tr>\n",
       "      <th>1</th>\n",
       "      <td>5.0</td>\n",
       "      <td>3000.75</td>\n",
       "    </tr>\n",
       "  </tbody>\n",
       "</table>\n",
       "</div>"
      ],
      "text/plain": [
       "   tempoestudo  rendafamiliar\n",
       "0          6.0        2500.50\n",
       "1          5.0        3000.75"
      ]
     },
     "execution_count": 8,
     "metadata": {},
     "output_type": "execute_result"
    }
   ],
   "source": [
    "# Retorne o DataFrame da última aula com as duas primeiras linhas como amostras.\n",
    "\n",
    "df_tempo_renda = df_alunos[['tempoestudo', 'rendafamiliar']]\n",
    "df_tempo_renda.head(2)"
   ]
  },
  {
   "cell_type": "code",
   "execution_count": 9,
   "metadata": {},
   "outputs": [
    {
     "data": {
      "text/html": [
       "<div>\n",
       "<style scoped>\n",
       "    .dataframe tbody tr th:only-of-type {\n",
       "        vertical-align: middle;\n",
       "    }\n",
       "\n",
       "    .dataframe tbody tr th {\n",
       "        vertical-align: top;\n",
       "    }\n",
       "\n",
       "    .dataframe thead th {\n",
       "        text-align: right;\n",
       "    }\n",
       "</style>\n",
       "<table border=\"1\" class=\"dataframe\">\n",
       "  <thead>\n",
       "    <tr style=\"text-align: right;\">\n",
       "      <th></th>\n",
       "      <th>tempoestudo</th>\n",
       "      <th>rendafamiliar</th>\n",
       "    </tr>\n",
       "  </thead>\n",
       "  <tbody>\n",
       "    <tr>\n",
       "      <th>28</th>\n",
       "      <td>NaN</td>\n",
       "      <td>NaN</td>\n",
       "    </tr>\n",
       "    <tr>\n",
       "      <th>29</th>\n",
       "      <td>NaN</td>\n",
       "      <td>NaN</td>\n",
       "    </tr>\n",
       "  </tbody>\n",
       "</table>\n",
       "</div>"
      ],
      "text/plain": [
       "    tempoestudo  rendafamiliar\n",
       "28          NaN            NaN\n",
       "29          NaN            NaN"
      ]
     },
     "execution_count": 9,
     "metadata": {},
     "output_type": "execute_result"
    }
   ],
   "source": [
    "# Retorne o DataFrame da última aula com as duas últimas linhas como amostras.\n",
    "\n",
    "df_tempo_renda = df_alunos[['tempoestudo', 'rendafamiliar']]\n",
    "df_tempo_renda.tail(2)"
   ]
  },
  {
   "cell_type": "code",
   "execution_count": 10,
   "metadata": {},
   "outputs": [
    {
     "data": {
      "text/plain": [
       "(30, 2)"
      ]
     },
     "execution_count": 10,
     "metadata": {},
     "output_type": "execute_result"
    }
   ],
   "source": [
    "# Retorne o DataFrame da última aula e apresente uma tupla com números de linhas e colunas.\n",
    "df_tempo_renda.shape\n",
    "# Shape é um método/Function."
   ]
  },
  {
   "cell_type": "code",
   "execution_count": 11,
   "metadata": {},
   "outputs": [
    {
     "name": "stdout",
     "output_type": "stream",
     "text": [
      "<class 'pandas.core.frame.DataFrame'>\n",
      "RangeIndex: 30 entries, 0 to 29\n",
      "Data columns (total 2 columns):\n",
      " #   Column         Non-Null Count  Dtype  \n",
      "---  ------         --------------  -----  \n",
      " 0   tempoestudo    20 non-null     float64\n",
      " 1   rendafamiliar  20 non-null     float64\n",
      "dtypes: float64(2)\n",
      "memory usage: 612.0 bytes\n"
     ]
    }
   ],
   "source": [
    "# Retorne o DataFrame da última aula e apresente todas as informações gerais do DataFrame\n",
    "df_tempo_renda.info()\n",
    "# 'info()' = Método/Function"
   ]
  },
  {
   "cell_type": "code",
   "execution_count": 12,
   "metadata": {},
   "outputs": [],
   "source": [
    "# Retorne o DataFrame da última aula e verifique a quantidade de registros\n",
    "# `df_tempo_renda` é o DataFrame retornado anteriormente, contendo as colunas 'tempoestudo' e 'rendafamiliar'\n",
    "qtde = len(df_tempo_renda)  # Conta o número de registros (linhas) no DataFrame\n",
    "\n",
    "# Verifica se a quantidade de registros é menor ou igual a 20\n",
    "if qtde <= 20:\n",
    "    print(f\"Quantidade: {qtde} dentro do ideal.\")  # Se for, imprime uma mensagem indicando que a quantidade está dentro do ideal."
   ]
  },
  {
   "cell_type": "code",
   "execution_count": 13,
   "metadata": {},
   "outputs": [
    {
     "data": {
      "text/plain": [
       "Index(['tempoestudo', 'rendafamiliar'], dtype='object')"
      ]
     },
     "execution_count": 13,
     "metadata": {},
     "output_type": "execute_result"
    }
   ],
   "source": [
    "# Retorne o DataFrame da última aula e retorne as colunas.\n",
    "# Aqui estamos assumindo que 'df_tempo_renda' é um DataFrame já carregado com os dados de interesse.\n",
    "# O método 'columns' do DataFrame retorna uma lista com os nomes das colunas do DataFrame.\n",
    "df_tempo_renda.columns"
   ]
  },
  {
   "cell_type": "code",
   "execution_count": 10,
   "metadata": {},
   "outputs": [
    {
     "name": "stdout",
     "output_type": "stream",
     "text": [
      "<class 'pandas.core.series.Series'>\n",
      "RangeIndex: 30 entries, 0 to 29\n",
      "Series name: rendafamiliar\n",
      "Non-Null Count  Dtype  \n",
      "--------------  -----  \n",
      "20 non-null     float64\n",
      "dtypes: float64(1)\n",
      "memory usage: 372.0 bytes\n"
     ]
    }
   ],
   "source": [
    "# Retorne o DataFrame da última aula e retorne informações apenas da coluna rendafamiliar\n",
    "# Aqui estamos assumindo que 'df_tempo_renda' é um DataFrame já carregado com os dados de interesse.\n",
    "# Selecionamos a coluna 'rendafamiliar' do DataFrame 'df_tempo_renda' utilizando a notação de colchetes.\n",
    "# O método 'info()' fornece informações sobre o DataFrame, como o número de entradas, o tipo de dados, e se há valores nulos.\n",
    "# No caso de uma única coluna, 'info()' retornará informações específicas dessa coluna.\n",
    "df_tempo_renda['rendafamiliar'].info()"
   ]
  },
  {
   "cell_type": "code",
   "execution_count": 11,
   "metadata": {},
   "outputs": [
    {
     "data": {
      "text/plain": [
       "id                 int64\n",
       "ra                object\n",
       "nome              object\n",
       "tempoestudo      float64\n",
       "rendafamiliar    float64\n",
       "dtype: object"
      ]
     },
     "execution_count": 11,
     "metadata": {},
     "output_type": "execute_result"
    }
   ],
   "source": [
    "# Mostre os tipos de dados com dtypes do DataFrame 'df_alunos'\n",
    "\n",
    "# A linha de código abaixo retorna os tipos de dados de cada coluna no DataFrame 'df_alunos'.\n",
    "# O atributo 'dtypes' do DataFrame fornece uma série com o nome da coluna como índice e o tipo de dados da coluna como valor.\n",
    "df_alunos.dtypes\n",
    "\n",
    "# Resultado esperado:\n",
    "# A execução deste comando irá produzir uma saída similar à seguinte:\n",
    "#\n",
    "# id               int64\n",
    "# ra              object\n",
    "# nome            object\n",
    "# tempoestudo      int64\n",
    "# rendafamiliar  float64\n",
    "# dtype: object\n",
    "#\n",
    "# Esta saída mostra os tipos de dados de cada coluna no DataFrame 'df_alunos':\n",
    "# - 'id' é do tipo int64 (inteiro de 64 bits).\n",
    "# - 'ra' e 'nome' são do tipo object, que é geralmente usado para strings.\n",
    "# - 'tempoestudo' é do tipo int64.\n",
    "# - 'rendafamiliar' é do tipo float64 (número de ponto flutuante de 64 bits)."
   ]
  },
  {
   "cell_type": "code",
   "execution_count": 15,
   "metadata": {},
   "outputs": [
    {
     "data": {
      "text/html": [
       "<div>\n",
       "<style scoped>\n",
       "    .dataframe tbody tr th:only-of-type {\n",
       "        vertical-align: middle;\n",
       "    }\n",
       "\n",
       "    .dataframe tbody tr th {\n",
       "        vertical-align: top;\n",
       "    }\n",
       "\n",
       "    .dataframe thead th {\n",
       "        text-align: right;\n",
       "    }\n",
       "</style>\n",
       "<table border=\"1\" class=\"dataframe\">\n",
       "  <thead>\n",
       "    <tr style=\"text-align: right;\">\n",
       "      <th></th>\n",
       "      <th>id</th>\n",
       "      <th>tempoestudo</th>\n",
       "      <th>rendafamiliar</th>\n",
       "    </tr>\n",
       "  </thead>\n",
       "  <tbody>\n",
       "    <tr>\n",
       "      <th>count</th>\n",
       "      <td>30.000000</td>\n",
       "      <td>20.000000</td>\n",
       "      <td>20.000000</td>\n",
       "    </tr>\n",
       "    <tr>\n",
       "      <th>mean</th>\n",
       "      <td>15.500000</td>\n",
       "      <td>5.400000</td>\n",
       "      <td>2715.407500</td>\n",
       "    </tr>\n",
       "    <tr>\n",
       "      <th>std</th>\n",
       "      <td>8.803408</td>\n",
       "      <td>1.500877</td>\n",
       "      <td>699.179489</td>\n",
       "    </tr>\n",
       "    <tr>\n",
       "      <th>min</th>\n",
       "      <td>1.000000</td>\n",
       "      <td>3.000000</td>\n",
       "      <td>1500.400000</td>\n",
       "    </tr>\n",
       "    <tr>\n",
       "      <th>25%</th>\n",
       "      <td>8.250000</td>\n",
       "      <td>4.000000</td>\n",
       "      <td>2275.175000</td>\n",
       "    </tr>\n",
       "    <tr>\n",
       "      <th>50%</th>\n",
       "      <td>15.500000</td>\n",
       "      <td>5.000000</td>\n",
       "      <td>2650.400000</td>\n",
       "    </tr>\n",
       "    <tr>\n",
       "      <th>75%</th>\n",
       "      <td>22.750000</td>\n",
       "      <td>6.250000</td>\n",
       "      <td>3025.587500</td>\n",
       "    </tr>\n",
       "    <tr>\n",
       "      <th>max</th>\n",
       "      <td>30.000000</td>\n",
       "      <td>8.000000</td>\n",
       "      <td>4200.400000</td>\n",
       "    </tr>\n",
       "  </tbody>\n",
       "</table>\n",
       "</div>"
      ],
      "text/plain": [
       "              id  tempoestudo  rendafamiliar\n",
       "count  30.000000    20.000000      20.000000\n",
       "mean   15.500000     5.400000    2715.407500\n",
       "std     8.803408     1.500877     699.179489\n",
       "min     1.000000     3.000000    1500.400000\n",
       "25%     8.250000     4.000000    2275.175000\n",
       "50%    15.500000     5.000000    2650.400000\n",
       "75%    22.750000     6.250000    3025.587500\n",
       "max    30.000000     8.000000    4200.400000"
      ]
     },
     "execution_count": 15,
     "metadata": {},
     "output_type": "execute_result"
    }
   ],
   "source": [
    "# Estatística descritiva do DataFrame 'df_alunos'\n",
    "\n",
    "# A linha de código abaixo gera estatísticas descritivas do DataFrame 'df_alunos'.\n",
    "# O método 'describe()' do DataFrame retorna uma tabela com estatísticas resumidas\n",
    "# das colunas numéricas, como contagem, média, desvio padrão, valores mínimo e máximo,\n",
    "# e os quartis (25%, 50%, e 75%).\n",
    "\n",
    "df_alunos.describe()\n",
    "\n",
    "# Resultado esperado:\n",
    "# A execução deste comando irá produzir uma saída similar à seguinte:\n",
    "#\n",
    "#               id  tempoestudo  rendafamiliar\n",
    "# count  20.000000    20.000000      20.000000\n",
    "# mean   10.500000     5.500000    2750.375000\n",
    "# std     5.916080     1.581139     738.627760\n",
    "# min     1.000000     3.000000    1500.400000\n",
    "# 25%     5.750000     4.000000    2300.000000\n",
    "# 50%    10.500000     5.500000    2700.300000\n",
    "# 75%    15.250000     7.000000    3100.175000\n",
    "# max    20.000000     8.000000    4200.400000\n",
    "#\n",
    "# Esta saída mostra as seguintes estatísticas para as colunas numéricas do DataFrame 'df_alunos':\n",
    "# - 'id': O identificador único do aluno.\n",
    "# - 'tempoestudo': O tempo de estudo do aluno.\n",
    "# - 'rendafamiliar': A renda familiar do aluno.\n",
    "#\n",
    "# Para cada coluna numérica, as seguintes estatísticas são fornecidas:\n",
    "# - count: O número de valores não nulos.\n",
    "# - mean: A média dos valores.\n",
    "# - std: O desvio padrão dos valores.\n",
    "# - min: O valor mínimo.\n",
    "# - 25%: O primeiro quartil (25% dos dados são menores que este valor).\n",
    "# - 50%: O segundo quartil ou mediana (50% dos dados são menores que este valor).\n",
    "# - 75%: O terceiro quartil (75% dos dados são menores que este valor).\n",
    "# - max: O valor máximo."
   ]
  },
  {
   "cell_type": "markdown",
   "metadata": {},
   "source": [
    "*`Exercicio Avaliativo - DataFrame 'pd_diariobordo'`*\n",
    "\n",
    "- Crie o cenário de utilização de recursos considerando a tabela 'diariobordo'"
   ]
  },
  {
   "cell_type": "code",
   "execution_count": 16,
   "metadata": {},
   "outputs": [],
   "source": [
    "# Realizando a consulta SQL na  tabela diariobordo\n",
    "query_diariobordo = \"SELECT * from diariobordo\""
   ]
  },
  {
   "cell_type": "code",
   "execution_count": 17,
   "metadata": {},
   "outputs": [],
   "source": [
    "# Criando o dataframe conforme consulta realizada\n",
    "df_diariobordo = pd.read_sql(query_diariobordo,engine)"
   ]
  },
  {
   "cell_type": "code",
   "execution_count": 18,
   "metadata": {},
   "outputs": [
    {
     "data": {
      "text/html": [
       "<div>\n",
       "<style scoped>\n",
       "    .dataframe tbody tr th:only-of-type {\n",
       "        vertical-align: middle;\n",
       "    }\n",
       "\n",
       "    .dataframe tbody tr th {\n",
       "        vertical-align: top;\n",
       "    }\n",
       "\n",
       "    .dataframe thead th {\n",
       "        text-align: right;\n",
       "    }\n",
       "</style>\n",
       "<table border=\"1\" class=\"dataframe\">\n",
       "  <thead>\n",
       "    <tr style=\"text-align: right;\">\n",
       "      <th></th>\n",
       "      <th>id</th>\n",
       "      <th>texto</th>\n",
       "      <th>datahora</th>\n",
       "      <th>fk_aluno_id</th>\n",
       "    </tr>\n",
       "  </thead>\n",
       "  <tbody>\n",
       "    <tr>\n",
       "      <th>0</th>\n",
       "      <td>1</td>\n",
       "      <td>Introdução ao Python</td>\n",
       "      <td>2024-07-31 09:00:00</td>\n",
       "      <td>1</td>\n",
       "    </tr>\n",
       "    <tr>\n",
       "      <th>1</th>\n",
       "      <td>2</td>\n",
       "      <td>Variáveis e Tipos de Dados</td>\n",
       "      <td>2024-08-01 10:00:00</td>\n",
       "      <td>2</td>\n",
       "    </tr>\n",
       "    <tr>\n",
       "      <th>2</th>\n",
       "      <td>3</td>\n",
       "      <td>Estruturas de Controle</td>\n",
       "      <td>2024-08-02 11:00:00</td>\n",
       "      <td>3</td>\n",
       "    </tr>\n",
       "    <tr>\n",
       "      <th>3</th>\n",
       "      <td>4</td>\n",
       "      <td>Funções e Módulos</td>\n",
       "      <td>2024-08-03 12:00:00</td>\n",
       "      <td>4</td>\n",
       "    </tr>\n",
       "    <tr>\n",
       "      <th>4</th>\n",
       "      <td>5</td>\n",
       "      <td>Introdução ao NumPy</td>\n",
       "      <td>2024-08-04 13:00:00</td>\n",
       "      <td>5</td>\n",
       "    </tr>\n",
       "  </tbody>\n",
       "</table>\n",
       "</div>"
      ],
      "text/plain": [
       "   id                       texto            datahora  fk_aluno_id\n",
       "0   1        Introdução ao Python 2024-07-31 09:00:00            1\n",
       "1   2  Variáveis e Tipos de Dados 2024-08-01 10:00:00            2\n",
       "2   3      Estruturas de Controle 2024-08-02 11:00:00            3\n",
       "3   4           Funções e Módulos 2024-08-03 12:00:00            4\n",
       "4   5         Introdução ao NumPy 2024-08-04 13:00:00            5"
      ]
     },
     "execution_count": 18,
     "metadata": {},
     "output_type": "execute_result"
    }
   ],
   "source": [
    "# Mostrando os cinco primeiros registros do DataFrame df_diariobordo\n",
    "df_diariobordo.head(5)"
   ]
  },
  {
   "cell_type": "code",
   "execution_count": 19,
   "metadata": {},
   "outputs": [
    {
     "data": {
      "text/html": [
       "<div>\n",
       "<style scoped>\n",
       "    .dataframe tbody tr th:only-of-type {\n",
       "        vertical-align: middle;\n",
       "    }\n",
       "\n",
       "    .dataframe tbody tr th {\n",
       "        vertical-align: top;\n",
       "    }\n",
       "\n",
       "    .dataframe thead th {\n",
       "        text-align: right;\n",
       "    }\n",
       "</style>\n",
       "<table border=\"1\" class=\"dataframe\">\n",
       "  <thead>\n",
       "    <tr style=\"text-align: right;\">\n",
       "      <th></th>\n",
       "      <th>id</th>\n",
       "      <th>texto</th>\n",
       "      <th>datahora</th>\n",
       "      <th>fk_aluno_id</th>\n",
       "    </tr>\n",
       "  </thead>\n",
       "  <tbody>\n",
       "    <tr>\n",
       "      <th>15</th>\n",
       "      <td>16</td>\n",
       "      <td>Análise de Dados</td>\n",
       "      <td>2024-08-15 14:00:00</td>\n",
       "      <td>16</td>\n",
       "    </tr>\n",
       "    <tr>\n",
       "      <th>16</th>\n",
       "      <td>17</td>\n",
       "      <td>Prática de Programação</td>\n",
       "      <td>2024-08-16 15:00:00</td>\n",
       "      <td>17</td>\n",
       "    </tr>\n",
       "    <tr>\n",
       "      <th>17</th>\n",
       "      <td>18</td>\n",
       "      <td>Discussão em Grupo</td>\n",
       "      <td>2024-08-17 16:00:00</td>\n",
       "      <td>18</td>\n",
       "    </tr>\n",
       "    <tr>\n",
       "      <th>18</th>\n",
       "      <td>19</td>\n",
       "      <td>Pesquisa de História</td>\n",
       "      <td>2024-08-18 17:00:00</td>\n",
       "      <td>19</td>\n",
       "    </tr>\n",
       "    <tr>\n",
       "      <th>19</th>\n",
       "      <td>20</td>\n",
       "      <td>Exercício de Biologia</td>\n",
       "      <td>2024-08-19 18:00:00</td>\n",
       "      <td>20</td>\n",
       "    </tr>\n",
       "  </tbody>\n",
       "</table>\n",
       "</div>"
      ],
      "text/plain": [
       "    id                   texto            datahora  fk_aluno_id\n",
       "15  16        Análise de Dados 2024-08-15 14:00:00           16\n",
       "16  17  Prática de Programação 2024-08-16 15:00:00           17\n",
       "17  18      Discussão em Grupo 2024-08-17 16:00:00           18\n",
       "18  19    Pesquisa de História 2024-08-18 17:00:00           19\n",
       "19  20   Exercício de Biologia 2024-08-19 18:00:00           20"
      ]
     },
     "execution_count": 19,
     "metadata": {},
     "output_type": "execute_result"
    }
   ],
   "source": [
    "# Mostrando os cinco últimos registros do DataFrame df_diariobordo\n",
    "df_diariobordo.tail(5)"
   ]
  },
  {
   "cell_type": "code",
   "execution_count": 20,
   "metadata": {},
   "outputs": [
    {
     "data": {
      "text/plain": [
       "(20, 4)"
      ]
     },
     "execution_count": 20,
     "metadata": {},
     "output_type": "execute_result"
    }
   ],
   "source": [
    "# Retorne o DataFrame da última aula e apresente uma tupla com números de linhas e colunas.\n",
    "df_diariobordo.shape"
   ]
  },
  {
   "cell_type": "code",
   "execution_count": 21,
   "metadata": {},
   "outputs": [
    {
     "data": {
      "text/plain": [
       "Index(['id', 'texto', 'datahora', 'fk_aluno_id'], dtype='object')"
      ]
     },
     "execution_count": 21,
     "metadata": {},
     "output_type": "execute_result"
    }
   ],
   "source": [
    "# Retorne o DataFrame da última aula e retorne as colunas.\n",
    "df_diariobordo.columns"
   ]
  },
  {
   "cell_type": "code",
   "execution_count": 22,
   "metadata": {},
   "outputs": [],
   "source": [
    "# Gerando um CSV do dataframe 'df_diariobordo'\n",
    "csv_filename = 'diario.csv'\n",
    "df_diariobordo.to_csv(csv_filename, index=False)"
   ]
  },
  {
   "cell_type": "markdown",
   "metadata": {},
   "source": [
    "*`Exercicio Avaliativo - DataFrame 'pd_avaliacao'`*\n",
    "\n",
    "- Crie o cenário de utilização de recursos considerando a tabela 'avaliacao'"
   ]
  },
  {
   "cell_type": "code",
   "execution_count": 23,
   "metadata": {},
   "outputs": [],
   "source": [
    "# Realizando a consulta SQL na  tabela diariobordo\n",
    "query_avaliacao = \"SELECT * from avaliacao\""
   ]
  },
  {
   "cell_type": "code",
   "execution_count": 24,
   "metadata": {},
   "outputs": [],
   "source": [
    "# Criando o dataframe conforme consulta realizada\n",
    "df_avaliacao = pd.read_sql(query_avaliacao,engine)"
   ]
  },
  {
   "cell_type": "code",
   "execution_count": 25,
   "metadata": {},
   "outputs": [],
   "source": [
    "# Gerando um CSV do dataframe 'df_avaliacao'\n",
    "csv_filename = 'avaliacao.csv'\n",
    "df_avaliacao.to_csv(csv_filename, index=False)"
   ]
  },
  {
   "cell_type": "code",
   "execution_count": 26,
   "metadata": {},
   "outputs": [
    {
     "data": {
      "text/html": [
       "<div>\n",
       "<style scoped>\n",
       "    .dataframe tbody tr th:only-of-type {\n",
       "        vertical-align: middle;\n",
       "    }\n",
       "\n",
       "    .dataframe tbody tr th {\n",
       "        vertical-align: top;\n",
       "    }\n",
       "\n",
       "    .dataframe thead th {\n",
       "        text-align: right;\n",
       "    }\n",
       "</style>\n",
       "<table border=\"1\" class=\"dataframe\">\n",
       "  <thead>\n",
       "    <tr style=\"text-align: right;\">\n",
       "      <th></th>\n",
       "      <th>id</th>\n",
       "      <th>nota1</th>\n",
       "      <th>nota2</th>\n",
       "      <th>nota3</th>\n",
       "      <th>nota4</th>\n",
       "      <th>fk_aluno_id</th>\n",
       "    </tr>\n",
       "  </thead>\n",
       "  <tbody>\n",
       "    <tr>\n",
       "      <th>10</th>\n",
       "      <td>11</td>\n",
       "      <td>65</td>\n",
       "      <td>70</td>\n",
       "      <td>75</td>\n",
       "      <td>80</td>\n",
       "      <td>11</td>\n",
       "    </tr>\n",
       "    <tr>\n",
       "      <th>11</th>\n",
       "      <td>12</td>\n",
       "      <td>85</td>\n",
       "      <td>88</td>\n",
       "      <td>82</td>\n",
       "      <td>85</td>\n",
       "      <td>12</td>\n",
       "    </tr>\n",
       "    <tr>\n",
       "      <th>12</th>\n",
       "      <td>13</td>\n",
       "      <td>70</td>\n",
       "      <td>72</td>\n",
       "      <td>68</td>\n",
       "      <td>75</td>\n",
       "      <td>13</td>\n",
       "    </tr>\n",
       "    <tr>\n",
       "      <th>13</th>\n",
       "      <td>14</td>\n",
       "      <td>92</td>\n",
       "      <td>93</td>\n",
       "      <td>89</td>\n",
       "      <td>90</td>\n",
       "      <td>14</td>\n",
       "    </tr>\n",
       "    <tr>\n",
       "      <th>14</th>\n",
       "      <td>15</td>\n",
       "      <td>83</td>\n",
       "      <td>85</td>\n",
       "      <td>80</td>\n",
       "      <td>82</td>\n",
       "      <td>15</td>\n",
       "    </tr>\n",
       "    <tr>\n",
       "      <th>15</th>\n",
       "      <td>16</td>\n",
       "      <td>79</td>\n",
       "      <td>78</td>\n",
       "      <td>74</td>\n",
       "      <td>76</td>\n",
       "      <td>16</td>\n",
       "    </tr>\n",
       "    <tr>\n",
       "      <th>16</th>\n",
       "      <td>17</td>\n",
       "      <td>88</td>\n",
       "      <td>90</td>\n",
       "      <td>85</td>\n",
       "      <td>87</td>\n",
       "      <td>17</td>\n",
       "    </tr>\n",
       "    <tr>\n",
       "      <th>17</th>\n",
       "      <td>18</td>\n",
       "      <td>74</td>\n",
       "      <td>77</td>\n",
       "      <td>70</td>\n",
       "      <td>73</td>\n",
       "      <td>18</td>\n",
       "    </tr>\n",
       "    <tr>\n",
       "      <th>18</th>\n",
       "      <td>19</td>\n",
       "      <td>91</td>\n",
       "      <td>89</td>\n",
       "      <td>87</td>\n",
       "      <td>88</td>\n",
       "      <td>19</td>\n",
       "    </tr>\n",
       "    <tr>\n",
       "      <th>19</th>\n",
       "      <td>20</td>\n",
       "      <td>85</td>\n",
       "      <td>87</td>\n",
       "      <td>82</td>\n",
       "      <td>84</td>\n",
       "      <td>20</td>\n",
       "    </tr>\n",
       "  </tbody>\n",
       "</table>\n",
       "</div>"
      ],
      "text/plain": [
       "    id  nota1  nota2  nota3  nota4  fk_aluno_id\n",
       "10  11     65     70     75     80           11\n",
       "11  12     85     88     82     85           12\n",
       "12  13     70     72     68     75           13\n",
       "13  14     92     93     89     90           14\n",
       "14  15     83     85     80     82           15\n",
       "15  16     79     78     74     76           16\n",
       "16  17     88     90     85     87           17\n",
       "17  18     74     77     70     73           18\n",
       "18  19     91     89     87     88           19\n",
       "19  20     85     87     82     84           20"
      ]
     },
     "execution_count": 26,
     "metadata": {},
     "output_type": "execute_result"
    }
   ],
   "source": [
    "# Mostrando os 10 últimos registros do DataFrame df_diariobordo\n",
    "df_avaliacao.tail(10)"
   ]
  },
  {
   "cell_type": "code",
   "execution_count": 27,
   "metadata": {},
   "outputs": [
    {
     "data": {
      "text/plain": [
       "(20, 6)"
      ]
     },
     "execution_count": 27,
     "metadata": {},
     "output_type": "execute_result"
    }
   ],
   "source": [
    "# Retorne o DataFrame da última aula e apresente uma tupla com números de linhas e colunas.\n",
    "df_avaliacao.shape"
   ]
  },
  {
   "cell_type": "code",
   "execution_count": 28,
   "metadata": {},
   "outputs": [
    {
     "data": {
      "text/plain": [
       "Index(['id', 'nota1', 'nota2', 'nota3', 'nota4', 'fk_aluno_id'], dtype='object')"
      ]
     },
     "execution_count": 28,
     "metadata": {},
     "output_type": "execute_result"
    }
   ],
   "source": [
    "# Retorne o DataFrame 'df_avaliacao' e retorne as colunas.\n",
    "df_avaliacao.columns"
   ]
  },
  {
   "cell_type": "code",
   "execution_count": 29,
   "metadata": {},
   "outputs": [
    {
     "data": {
      "text/plain": [
       "20"
      ]
     },
     "execution_count": 29,
     "metadata": {},
     "output_type": "execute_result"
    }
   ],
   "source": [
    "# Informa a quantidade de registros na tabela 'df_avaliacao'\n",
    "len(df_avaliacao)"
   ]
  },
  {
   "cell_type": "code",
   "execution_count": 30,
   "metadata": {},
   "outputs": [
    {
     "name": "stdout",
     "output_type": "stream",
     "text": [
      "<class 'pandas.core.frame.DataFrame'>\n",
      "RangeIndex: 20 entries, 0 to 19\n",
      "Data columns (total 6 columns):\n",
      " #   Column       Non-Null Count  Dtype\n",
      "---  ------       --------------  -----\n",
      " 0   id           20 non-null     int64\n",
      " 1   nota1        20 non-null     int64\n",
      " 2   nota2        20 non-null     int64\n",
      " 3   nota3        20 non-null     int64\n",
      " 4   nota4        20 non-null     int64\n",
      " 5   fk_aluno_id  20 non-null     int64\n",
      "dtypes: int64(6)\n",
      "memory usage: 1.1 KB\n"
     ]
    }
   ],
   "source": [
    "# Apresente todas as informações gerais do DataFrame\n",
    "df_avaliacao.info()\n",
    "# 'info()' = Método/Function"
   ]
  },
  {
   "cell_type": "code",
   "execution_count": 31,
   "metadata": {},
   "outputs": [
    {
     "data": {
      "text/html": [
       "<div>\n",
       "<style scoped>\n",
       "    .dataframe tbody tr th:only-of-type {\n",
       "        vertical-align: middle;\n",
       "    }\n",
       "\n",
       "    .dataframe tbody tr th {\n",
       "        vertical-align: top;\n",
       "    }\n",
       "\n",
       "    .dataframe thead th {\n",
       "        text-align: right;\n",
       "    }\n",
       "</style>\n",
       "<table border=\"1\" class=\"dataframe\">\n",
       "  <thead>\n",
       "    <tr style=\"text-align: right;\">\n",
       "      <th></th>\n",
       "      <th>id</th>\n",
       "      <th>nota1</th>\n",
       "      <th>nota2</th>\n",
       "      <th>nota3</th>\n",
       "      <th>nota4</th>\n",
       "      <th>fk_aluno_id</th>\n",
       "    </tr>\n",
       "  </thead>\n",
       "  <tbody>\n",
       "    <tr>\n",
       "      <th>5</th>\n",
       "      <td>6</td>\n",
       "      <td>80</td>\n",
       "      <td>85</td>\n",
       "      <td>70</td>\n",
       "      <td>75</td>\n",
       "      <td>6</td>\n",
       "    </tr>\n",
       "    <tr>\n",
       "      <th>6</th>\n",
       "      <td>7</td>\n",
       "      <td>78</td>\n",
       "      <td>82</td>\n",
       "      <td>79</td>\n",
       "      <td>84</td>\n",
       "      <td>7</td>\n",
       "    </tr>\n",
       "    <tr>\n",
       "      <th>7</th>\n",
       "      <td>8</td>\n",
       "      <td>88</td>\n",
       "      <td>89</td>\n",
       "      <td>85</td>\n",
       "      <td>87</td>\n",
       "      <td>8</td>\n",
       "    </tr>\n",
       "    <tr>\n",
       "      <th>8</th>\n",
       "      <td>9</td>\n",
       "      <td>77</td>\n",
       "      <td>74</td>\n",
       "      <td>80</td>\n",
       "      <td>82</td>\n",
       "      <td>9</td>\n",
       "    </tr>\n",
       "    <tr>\n",
       "      <th>9</th>\n",
       "      <td>10</td>\n",
       "      <td>90</td>\n",
       "      <td>91</td>\n",
       "      <td>86</td>\n",
       "      <td>88</td>\n",
       "      <td>10</td>\n",
       "    </tr>\n",
       "  </tbody>\n",
       "</table>\n",
       "</div>"
      ],
      "text/plain": [
       "   id  nota1  nota2  nota3  nota4  fk_aluno_id\n",
       "5   6     80     85     70     75            6\n",
       "6   7     78     82     79     84            7\n",
       "7   8     88     89     85     87            8\n",
       "8   9     77     74     80     82            9\n",
       "9  10     90     91     86     88           10"
      ]
     },
     "execution_count": 31,
     "metadata": {},
     "output_type": "execute_result"
    }
   ],
   "source": [
    "# Fatiamento\n",
    "\n",
    "# O código abaixo realiza uma operação de fatiamento no DataFrame 'df_avaliacao'.\n",
    "# Fatiamento é uma técnica usada para selecionar uma faixa contínua de linhas de um DataFrame.\n",
    "\n",
    "# O comando 'df_avaliacao[5:10]' seleciona as linhas do DataFrame 'df_avaliacao' \n",
    "# começando da linha de índice 5 até, mas não incluindo, a linha de índice 10.\n",
    "# Em outras palavras, ele retorna as linhas de índice 5, 6, 7, 8 e 9.\n",
    "\n",
    "df_avaliacao[5:10]\n",
    "\n",
    "# Resultado esperado:\n",
    "# A execução deste comando irá produzir uma saída similar à seguinte, considerando \n",
    "# que 'df_avaliacao' tem dados e colunas como 'id', 'nota1', 'nota2', 'nota3', 'nota4', 'fk_aluno_id\n"
   ]
  },
  {
   "cell_type": "code",
   "execution_count": null,
   "metadata": {
    "vscode": {
     "languageId": "sql"
    }
   },
   "outputs": [],
   "source": [
    "-- JOIN IN PANDAS\n",
    "-- Consulta realizada\n",
    "\n",
    "SELECT\n",
    "\td.texto,\n",
    "    d.datahora,\n",
    "    a.ra\n",
    "    FROM\n",
    "    diariobordo d\n",
    "\tJOIN\n",
    "\taluno a\n",
    "    ON d.fk_aluno_id = a.id;\n",
    "\n",
    "    /*\n",
    "    `VAMOS FAZER UM JOIN?`\n",
    "\n",
    "#### Passos para o 'Merge\n",
    "- Use o comando 'merge' \n",
    "- Crie uma variável 'resultado'\n",
    "- pd.merge(dataframe1,dataframe2,tipo_união,qual chave da esquerda, qual chave da direita) = resultado = pd.merge(df_diariobordo,df_alunos, how='left', left_on='fk_aluno_id', right_on='id')\n",
    "- qual o tipo de união: how='inner'\n",
    "- Inner significa que queremos um join interno, o que resulta em apenas as linha que tem corcorrespondencia em ambos os dataframes.\n",
    "/*"
   ]
  },
  {
   "cell_type": "code",
   "execution_count": 34,
   "metadata": {},
   "outputs": [],
   "source": [
    "# EXEMPLO DE JOIN\n",
    "\n",
    "# O método pd.merge() é usado para combinar dois DataFrames com base em uma ou mais colunas chave.\n",
    "# Aqui, estamos combinando 'df_diariobordo' e 'df_alunos' usando um 'left join'.\n",
    "# 'left join' significa que todas as linhas do DataFrame 'df_diariobordo' serão mantidas e os dados correspondentes do DataFrame 'df_alunos' serão adicionados com base na chave de junção.\n",
    "\n",
    "# 'left_on' especifica a coluna no DataFrame da esquerda (df_diariobordo) que será usada como chave de junção.\n",
    "# 'right_on' especifica a coluna no DataFrame da direita (df_alunos) que será usada como chave de junção.\n",
    "# Aqui, estamos unindo com base na chave estrangeira 'fk_aluno_id' de 'df_diariobordo' e 'id' de 'df_alunos'.\n",
    "resultado = pd.merge(df_diariobordo, df_alunos, how='left', left_on='fk_aluno_id', right_on='id')"
   ]
  },
  {
   "cell_type": "code",
   "execution_count": 35,
   "metadata": {},
   "outputs": [],
   "source": [
    "# Selecionar as colunas desejadas\n",
    "# Após a junção, o DataFrame 'resultado' terá todas as colunas de ambos os DataFrames.\n",
    "# Aqui, estamos selecionando apenas as colunas 'texto', 'datahora' de 'df_diariobordo' e 'ra' de 'df_alunos' para simplificar a visualização.\n",
    "resultado_selecionado = resultado[['texto', 'datahora', 'ra']]"
   ]
  },
  {
   "cell_type": "code",
   "execution_count": 36,
   "metadata": {},
   "outputs": [
    {
     "data": {
      "text/html": [
       "<div>\n",
       "<style scoped>\n",
       "    .dataframe tbody tr th:only-of-type {\n",
       "        vertical-align: middle;\n",
       "    }\n",
       "\n",
       "    .dataframe tbody tr th {\n",
       "        vertical-align: top;\n",
       "    }\n",
       "\n",
       "    .dataframe thead th {\n",
       "        text-align: right;\n",
       "    }\n",
       "</style>\n",
       "<table border=\"1\" class=\"dataframe\">\n",
       "  <thead>\n",
       "    <tr style=\"text-align: right;\">\n",
       "      <th></th>\n",
       "      <th>texto</th>\n",
       "      <th>datahora</th>\n",
       "      <th>ra</th>\n",
       "    </tr>\n",
       "  </thead>\n",
       "  <tbody>\n",
       "    <tr>\n",
       "      <th>0</th>\n",
       "      <td>Introdução ao Python</td>\n",
       "      <td>2024-07-31 09:00:00</td>\n",
       "      <td>00169506</td>\n",
       "    </tr>\n",
       "    <tr>\n",
       "      <th>1</th>\n",
       "      <td>Variáveis e Tipos de Dados</td>\n",
       "      <td>2024-08-01 10:00:00</td>\n",
       "      <td>00034548</td>\n",
       "    </tr>\n",
       "    <tr>\n",
       "      <th>2</th>\n",
       "      <td>Estruturas de Controle</td>\n",
       "      <td>2024-08-02 11:00:00</td>\n",
       "      <td>00034549</td>\n",
       "    </tr>\n",
       "    <tr>\n",
       "      <th>3</th>\n",
       "      <td>Funções e Módulos</td>\n",
       "      <td>2024-08-03 12:00:00</td>\n",
       "      <td>00034550</td>\n",
       "    </tr>\n",
       "    <tr>\n",
       "      <th>4</th>\n",
       "      <td>Introdução ao NumPy</td>\n",
       "      <td>2024-08-04 13:00:00</td>\n",
       "      <td>00034551</td>\n",
       "    </tr>\n",
       "  </tbody>\n",
       "</table>\n",
       "</div>"
      ],
      "text/plain": [
       "                        texto            datahora        ra\n",
       "0        Introdução ao Python 2024-07-31 09:00:00  00169506\n",
       "1  Variáveis e Tipos de Dados 2024-08-01 10:00:00  00034548\n",
       "2      Estruturas de Controle 2024-08-02 11:00:00  00034549\n",
       "3           Funções e Módulos 2024-08-03 12:00:00  00034550\n",
       "4         Introdução ao NumPy 2024-08-04 13:00:00  00034551"
      ]
     },
     "execution_count": 36,
     "metadata": {},
     "output_type": "execute_result"
    }
   ],
   "source": [
    "# Mostrar o resultado\n",
    "# Exibe as primeiras linhas do DataFrame resultante 'resultado_selecionado' para ver a saída da junção.\n",
    "resultado_selecionado.head()"
   ]
  },
  {
   "cell_type": "code",
   "execution_count": 37,
   "metadata": {},
   "outputs": [],
   "source": [
    "# Exercicio Avaliativo - Criar a Junção do Dataframe 'df_aluno' com o DataFrame 'df_avaliacao'. Apresentando as notas e o RA do Aluno ao final.\n",
    "\n",
    "# DataFrame 'aluno' = df_alunos | DataFrame 'avaliacao' = df_avaliacao\n",
    "\n",
    "# Realizar a junção (join) que será feita usando a coluna 'id' de 'df_alunos' e a coluna 'fk_aluno_id' de 'df_avaliacao'\n",
    "resultado = pd.merge(df_avaliacao, df_alunos, how='inner', left_on='fk_aluno_id', right_on='id')"
   ]
  },
  {
   "cell_type": "code",
   "execution_count": 38,
   "metadata": {},
   "outputs": [],
   "source": [
    "# Selecionar as colunas desejadas: RA e notas\n",
    "resultado_exercicio = resultado[['nota1', 'nota2', 'nota3', 'nota4', 'ra']]"
   ]
  },
  {
   "cell_type": "code",
   "execution_count": 39,
   "metadata": {},
   "outputs": [
    {
     "data": {
      "text/html": [
       "<div>\n",
       "<style scoped>\n",
       "    .dataframe tbody tr th:only-of-type {\n",
       "        vertical-align: middle;\n",
       "    }\n",
       "\n",
       "    .dataframe tbody tr th {\n",
       "        vertical-align: top;\n",
       "    }\n",
       "\n",
       "    .dataframe thead th {\n",
       "        text-align: right;\n",
       "    }\n",
       "</style>\n",
       "<table border=\"1\" class=\"dataframe\">\n",
       "  <thead>\n",
       "    <tr style=\"text-align: right;\">\n",
       "      <th></th>\n",
       "      <th>texto</th>\n",
       "      <th>datahora</th>\n",
       "      <th>ra</th>\n",
       "    </tr>\n",
       "  </thead>\n",
       "  <tbody>\n",
       "    <tr>\n",
       "      <th>0</th>\n",
       "      <td>Introdução ao Python</td>\n",
       "      <td>2024-07-31 09:00:00</td>\n",
       "      <td>00169506</td>\n",
       "    </tr>\n",
       "    <tr>\n",
       "      <th>1</th>\n",
       "      <td>Variáveis e Tipos de Dados</td>\n",
       "      <td>2024-08-01 10:00:00</td>\n",
       "      <td>00034548</td>\n",
       "    </tr>\n",
       "    <tr>\n",
       "      <th>2</th>\n",
       "      <td>Estruturas de Controle</td>\n",
       "      <td>2024-08-02 11:00:00</td>\n",
       "      <td>00034549</td>\n",
       "    </tr>\n",
       "    <tr>\n",
       "      <th>3</th>\n",
       "      <td>Funções e Módulos</td>\n",
       "      <td>2024-08-03 12:00:00</td>\n",
       "      <td>00034550</td>\n",
       "    </tr>\n",
       "    <tr>\n",
       "      <th>4</th>\n",
       "      <td>Introdução ao NumPy</td>\n",
       "      <td>2024-08-04 13:00:00</td>\n",
       "      <td>00034551</td>\n",
       "    </tr>\n",
       "    <tr>\n",
       "      <th>5</th>\n",
       "      <td>Manipulação de Dados com Pandas</td>\n",
       "      <td>2024-08-05 14:00:00</td>\n",
       "      <td>00034552</td>\n",
       "    </tr>\n",
       "    <tr>\n",
       "      <th>6</th>\n",
       "      <td>Visualização de Dados com Matplotlib</td>\n",
       "      <td>2024-08-06 15:00:00</td>\n",
       "      <td>00034553</td>\n",
       "    </tr>\n",
       "    <tr>\n",
       "      <th>7</th>\n",
       "      <td>Introdução ao Machine Learning</td>\n",
       "      <td>2024-08-07 16:00:00</td>\n",
       "      <td>00034554</td>\n",
       "    </tr>\n",
       "    <tr>\n",
       "      <th>8</th>\n",
       "      <td>Redes Neurais com TensorFlow</td>\n",
       "      <td>2024-08-08 17:00:00</td>\n",
       "      <td>00034555</td>\n",
       "    </tr>\n",
       "    <tr>\n",
       "      <th>9</th>\n",
       "      <td>Projeto Final de IA</td>\n",
       "      <td>2024-08-09 18:00:00</td>\n",
       "      <td>00034556</td>\n",
       "    </tr>\n",
       "    <tr>\n",
       "      <th>10</th>\n",
       "      <td>Estudo de Algoritmos</td>\n",
       "      <td>2024-08-10 09:00:00</td>\n",
       "      <td>00034557</td>\n",
       "    </tr>\n",
       "    <tr>\n",
       "      <th>11</th>\n",
       "      <td>Revisão de Matemática</td>\n",
       "      <td>2024-08-11 10:00:00</td>\n",
       "      <td>00034558</td>\n",
       "    </tr>\n",
       "    <tr>\n",
       "      <th>12</th>\n",
       "      <td>Projeto de Física</td>\n",
       "      <td>2024-08-12 11:00:00</td>\n",
       "      <td>00034559</td>\n",
       "    </tr>\n",
       "    <tr>\n",
       "      <th>13</th>\n",
       "      <td>Leitura de Literatura</td>\n",
       "      <td>2024-08-13 12:00:00</td>\n",
       "      <td>00034560</td>\n",
       "    </tr>\n",
       "    <tr>\n",
       "      <th>14</th>\n",
       "      <td>Experimento de Química</td>\n",
       "      <td>2024-08-14 13:00:00</td>\n",
       "      <td>00034561</td>\n",
       "    </tr>\n",
       "    <tr>\n",
       "      <th>15</th>\n",
       "      <td>Análise de Dados</td>\n",
       "      <td>2024-08-15 14:00:00</td>\n",
       "      <td>00034562</td>\n",
       "    </tr>\n",
       "    <tr>\n",
       "      <th>16</th>\n",
       "      <td>Prática de Programação</td>\n",
       "      <td>2024-08-16 15:00:00</td>\n",
       "      <td>00034563</td>\n",
       "    </tr>\n",
       "    <tr>\n",
       "      <th>17</th>\n",
       "      <td>Discussão em Grupo</td>\n",
       "      <td>2024-08-17 16:00:00</td>\n",
       "      <td>00034564</td>\n",
       "    </tr>\n",
       "    <tr>\n",
       "      <th>18</th>\n",
       "      <td>Pesquisa de História</td>\n",
       "      <td>2024-08-18 17:00:00</td>\n",
       "      <td>00034565</td>\n",
       "    </tr>\n",
       "    <tr>\n",
       "      <th>19</th>\n",
       "      <td>Exercício de Biologia</td>\n",
       "      <td>2024-08-19 18:00:00</td>\n",
       "      <td>00034566</td>\n",
       "    </tr>\n",
       "  </tbody>\n",
       "</table>\n",
       "</div>"
      ],
      "text/plain": [
       "                                   texto            datahora        ra\n",
       "0                   Introdução ao Python 2024-07-31 09:00:00  00169506\n",
       "1             Variáveis e Tipos de Dados 2024-08-01 10:00:00  00034548\n",
       "2                 Estruturas de Controle 2024-08-02 11:00:00  00034549\n",
       "3                      Funções e Módulos 2024-08-03 12:00:00  00034550\n",
       "4                    Introdução ao NumPy 2024-08-04 13:00:00  00034551\n",
       "5        Manipulação de Dados com Pandas 2024-08-05 14:00:00  00034552\n",
       "6   Visualização de Dados com Matplotlib 2024-08-06 15:00:00  00034553\n",
       "7         Introdução ao Machine Learning 2024-08-07 16:00:00  00034554\n",
       "8           Redes Neurais com TensorFlow 2024-08-08 17:00:00  00034555\n",
       "9                    Projeto Final de IA 2024-08-09 18:00:00  00034556\n",
       "10                  Estudo de Algoritmos 2024-08-10 09:00:00  00034557\n",
       "11                 Revisão de Matemática 2024-08-11 10:00:00  00034558\n",
       "12                     Projeto de Física 2024-08-12 11:00:00  00034559\n",
       "13                 Leitura de Literatura 2024-08-13 12:00:00  00034560\n",
       "14                Experimento de Química 2024-08-14 13:00:00  00034561\n",
       "15                      Análise de Dados 2024-08-15 14:00:00  00034562\n",
       "16                Prática de Programação 2024-08-16 15:00:00  00034563\n",
       "17                    Discussão em Grupo 2024-08-17 16:00:00  00034564\n",
       "18                  Pesquisa de História 2024-08-18 17:00:00  00034565\n",
       "19                 Exercício de Biologia 2024-08-19 18:00:00  00034566"
      ]
     },
     "execution_count": 39,
     "metadata": {},
     "output_type": "execute_result"
    }
   ],
   "source": [
    "# Mostrar o resultado\n",
    "resultado_selecionado.head(20)"
   ]
  }
 ],
 "metadata": {
  "kernelspec": {
   "display_name": ".venv",
   "language": "python",
   "name": "python3"
  },
  "language_info": {
   "codemirror_mode": {
    "name": "ipython",
    "version": 3
   },
   "file_extension": ".py",
   "mimetype": "text/x-python",
   "name": "python",
   "nbconvert_exporter": "python",
   "pygments_lexer": "ipython3",
   "version": "3.12.5"
  }
 },
 "nbformat": 4,
 "nbformat_minor": 2
}
