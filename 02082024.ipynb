{
 "cells": [
  {
   "cell_type": "markdown",
   "metadata": {},
   "source": [
    "#### Ciência de Dados com Python/IA - SENAI-DF - Vespertino - 02/08/2024 - Marcelo Pereira Avelino"
   ]
  },
  {
   "cell_type": "markdown",
   "metadata": {},
   "source": [
    "## Conectando ao Banco de Dados MySQL com SQLAlchemy e Pandas\n",
    "\n",
    "### Definindo as Credenciais do Banco de Dados\n",
    "\n",
    "```python\n",
    "user = 'root'\n",
    "password = 'root'\n",
    "host = 'localhost'  # ou o endereço do seu servidor de banco de dados\n",
    "database = 'quickreport'\n",
    "\n",
    "# Crie uma URL de conexão\n",
    "connection_string = f'mysql+pymysql://{user}:{password}@{host}/{database}'\n",
    "\n",
    "# Crie um engine do SQLAlchemy\n",
    "engine = create_engine(connection_string)"
   ]
  },
  {
   "cell_type": "code",
   "execution_count": null,
   "metadata": {
    "vscode": {
     "languageId": "sql"
    }
   },
   "outputs": [],
   "source": [
    "-- Escrevendo a Consulta SQL\n",
    "\n",
    "query_alunos = \"SELECT * FROM aluno\"\n",
    "\n",
    "# Use pandas para executar a consulta e importar os dados\n",
    "df_alunos = pd.read_sql(query_alunos, engine)\n",
    "\n",
    "# Mostre os primeiros registros do DataFrame\n",
    "df_alunos.head()"
   ]
  },
  {
   "cell_type": "code",
   "execution_count": null,
   "metadata": {
    "vscode": {
     "languageId": "sql"
    }
   },
   "outputs": [],
   "source": [
    "query_alunos = \"SELECT * FROM aluno\"\n",
    "\n",
    "# Use pandas para executar a consulta e importar os dados\n",
    "df_alunos = pd.read_sql(query_alunos, engine)\n",
    "\n",
    "# Mostre os primeiros registros do DataFrame\n",
    "df_alunos.head()"
   ]
  },
  {
   "cell_type": "markdown",
   "metadata": {},
   "source": [
    "### Objetivos da Aula de 02/08/2024\n",
    "\n",
    "- Entender a importância da conexão com o banco de dados\n",
    "- Compreender o conceito de ORM (Object-Relational Mapping)\n",
    "- Comparar ORM com MER (Modelo Entidade-Relacionamento)\n",
    "- Conhecer Frameworks ORMs de Mercado como Django ORM, SQLAlchemy e Tortoise ORM\n",
    "\n",
    "## Conceitos Importantes\n",
    "\n",
    "### ORM (Object-Relational Mapping)\n",
    "\n",
    "ORM é uma técnica de programação que permite converter dados entre sistemas incompatíveis usando linguagens de programação orientadas a objetos. Na prática, ORM permite que desenvolvedores interajam com um banco de dados relacional usando a linguagem de programação de sua escolha, sem precisar escrever SQL diretamente.\n",
    "\n",
    "### Comparação entre ORM e MER\n",
    "\n",
    "- **ORM**: Facilita o trabalho com banco de dados usando uma linguagem de programação orientada a objetos.\n",
    "- **MER**: É um modelo que define as estruturas de dados e seus relacionamentos, usado para projetar bancos de dados.\n",
    "\n",
    "## Frameworks ORMs de Mercado\n",
    "\n",
    "### Django ORM\n",
    "\n",
    "Django ORM é o mapeamento objeto-relacional embutido no framework Django. Ele permite definir seus modelos de dados e realizar operações CRUD (Create, Read, Update, Delete) sem escrever SQL diretamente.\n",
    "\n",
    "### SQLAlchemy\n",
    "\n",
    "SQLAlchemy é uma biblioteca de ORM para Python que fornece uma abordagem completa para mapeamento objeto-relacional e manipulação de bancos de dados.\n",
    "\n",
    "### Tortoise ORM\n",
    "\n",
    "Tortoise ORM é uma biblioteca de ORM para Python inspirada no Django ORM, mas projetada para ser independente de frameworks, suportando múltiplos bancos de dados.\n",
    "\n",
    "### Outros Frameworks\n",
    "\n",
    "Além dos mencionados, existem outros ORMs populares como Peewee, que é um ORM simples e pequeno para Python."
   ]
  },
  {
   "cell_type": "markdown",
   "metadata": {},
   "source": [
    "### Exemplo Prático de Conexão e Consulta com SQLAlchemy e Pandas"
   ]
  },
  {
   "cell_type": "code",
   "execution_count": null,
   "metadata": {},
   "outputs": [],
   "source": [
    "!pip install sqlalchemy"
   ]
  },
  {
   "cell_type": "markdown",
   "metadata": {},
   "source": [
    "#### Conectando ao Banco de Dados e Realizando uma Consulta"
   ]
  },
  {
   "cell_type": "code",
   "execution_count": null,
   "metadata": {},
   "outputs": [],
   "source": [
    "# Importando bilbiotecas\n",
    "from sqlalchemy import create_engine\n",
    "import pandas as pd\n",
    "\n",
    "# Definindo a conexão com o banco de dados\n",
    "user = 'root'\n",
    "password = 'root'\n",
    "host = 'localhost'\n",
    "database = 'quickreport'\n",
    "\n",
    "# Criando a URL de conexão - Formata a URL de conexão com base nas credenciais fornecidas.\n",
    "connection_string = f'mysql+pymysql://{user}:{password}@{host}/{database}'\n",
    "\n",
    "# Cria o engine do SQLAlchemy para conectar ao banco de dados.\n",
    "engine = create_engine(connection_string)\n",
    "\n",
    "# Escrevendo a consulta SQL - Define a consulta SQL para selecionar todos os registros da tabela `aluno`.\n",
    "query_alunos = \"SELECT * FROM aluno\"\n",
    "\n",
    "# Executa a consulta SQL e importa os dados para um DataFrame pandas.\n",
    "df_alunos = pd.read_sql(query_alunos, engine)\n",
    "\n",
    "# Mostrando os primeiros registros do DataFrame\n",
    "df_alunos.head()"
   ]
  }
 ],
 "metadata": {
  "kernelspec": {
   "display_name": "Python 3",
   "language": "python",
   "name": "python3"
  },
  "language_info": {
   "codemirror_mode": {
    "name": "ipython",
    "version": 3
   },
   "file_extension": ".py",
   "mimetype": "text/x-python",
   "name": "python",
   "nbconvert_exporter": "python",
   "pygments_lexer": "ipython3",
   "version": "3.12.4"
  }
 },
 "nbformat": 4,
 "nbformat_minor": 2
}
