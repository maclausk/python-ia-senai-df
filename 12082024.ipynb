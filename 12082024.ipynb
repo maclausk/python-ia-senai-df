{
 "cells": [
  {
   "cell_type": "markdown",
   "metadata": {},
   "source": [
    "#### Ciência de Dados com Python/IA - SENAI-DF - Vespertino - 12/08/2024 - Marcelo Pereira Avelino\n",
    "\n",
    "#### `Exercício Avaliativo - Risco de Crédito`\n",
    "\n",
    "#### Risco de Crédito - Crie um notebook utilizando o dataset `credit_risk_dataset`, disponível no website [Kaggle](https://www.kaggle.com/datasets/laotse/credit-risk-dataset).\n",
    "\n",
    "\n",
    "* Descreva o objetivo do Dataset.\n",
    "\n",
    "* Renomeie as colunas para Português.\n",
    "\n",
    "* Explique, no contexto do DataFrame, a utilização da coluna `loan_status`\n",
    "\n",
    "* Utilize funções básicas do Pandas:\n",
    "    - `describe()\n",
    "    - head()\n",
    "    - tail()\n",
    "    - shape\n",
    "    - columns\n",
    " \n",
    "* Realize a análise exploratória (EDA):\n",
    "    * Qualitativa:\n",
    "        - Nominais\n",
    "        - Ordinais\n",
    "\n",
    "    * Quantitativa:\n",
    "        - Discretas\n",
    "        - Contínuas\n",
    "\n",
    "* Pesquise e explique no contexto do dataset:\n",
    "    - O que é quartil?\n",
    "    - O que é percentil (%)?\n",
    "    - O que é mediana?\n",
    "    - O que é média?\n",
    "\n",
    "* Responda:\n",
    "    - Quais pessoas ganham acima da média? \n",
    "    - Quais pessoas têm um risco baixo e ainda assim pedem empréstimos?\n",
    "\n",
    "* Gere gráficos utilizando o Matplotlib.\n",
    "\n",
    "* Crie os modelos:\n",
    "    - Conceitual\n",
    "    - Lógico\n",
    "    - Físico"
   ]
  },
  {
   "cell_type": "markdown",
   "metadata": {},
   "source": [
    "#### `Objetivo do Dataset`\n",
    "\n",
    "- O objetivo do dataset 'credit_risk_dataset' é fornecer informações que permitam a análise e a previsão do risco de crédito de indivíduos ou entidades. Esse conjunto de dados contém variáveis que representam características financeiras e demográficas dos solicitantes de crédito, como renda, histórico de crédito, situação de emprego, entre outros fatores.\n",
    "\n",
    "- A análise desse dataset é crucial para identificar padrões e fatores que influenciam a probabilidade de inadimplência, permitindo que instituições financeiras tomem decisões informadas sobre a concessão de crédito, minimizando os riscos associados a empréstimos.\n",
    "\n",
    "- Em um contexto mais amplo, o dataset pode ser utilizado para treinar modelos de machine learning que predizem a probabilidade de um solicitante de crédito não pagar suas dívidas, ajudando a desenvolver estratégias de mitigação de risco e de aprovação de crédito mais eficazes."
   ]
  },
  {
   "cell_type": "markdown",
   "metadata": {},
   "source": [
    "#### `Pré-Requisitos para análise dos dados`"
   ]
  },
  {
   "cell_type": "code",
   "execution_count": null,
   "metadata": {},
   "outputs": [],
   "source": [
    "# 1. Ativar a .venv\n",
    "\n",
    "# 2. Carregar o arquivo requirements.txt\n",
    "! pip install -r requirements.txt\n",
    "! pip install pandas\n",
    "! pip install matplotlib\n",
    "! pip install numpy\n",
    "! pip install scipy"
   ]
  },
  {
   "cell_type": "code",
   "execution_count": 52,
   "metadata": {},
   "outputs": [],
   "source": [
    "# 3. Importando as Biblioteca Necessárias\n",
    "import pandas as pd  # Importa a biblioteca pandas para manipulação de dados\n",
    "import matplotlib.pyplot as plt  # Importa a biblioteca para geração de gráficos\n",
    "import numpy as np  # Importa a biblioteca para operações numéricas\n",
    "from scipy import stats  # Importa a biblioteca para funções estatísticas"
   ]
  },
  {
   "cell_type": "markdown",
   "metadata": {},
   "source": [
    "### `Apresentando e carregando os Dados`"
   ]
  },
  {
   "cell_type": "code",
   "execution_count": 60,
   "metadata": {},
   "outputs": [
    {
     "data": {
      "text/html": [
       "<div>\n",
       "<style scoped>\n",
       "    .dataframe tbody tr th:only-of-type {\n",
       "        vertical-align: middle;\n",
       "    }\n",
       "\n",
       "    .dataframe tbody tr th {\n",
       "        vertical-align: top;\n",
       "    }\n",
       "\n",
       "    .dataframe thead th {\n",
       "        text-align: right;\n",
       "    }\n",
       "</style>\n",
       "<table border=\"1\" class=\"dataframe\">\n",
       "  <thead>\n",
       "    <tr style=\"text-align: right;\">\n",
       "      <th></th>\n",
       "      <th>person_age</th>\n",
       "      <th>person_income</th>\n",
       "      <th>person_home_ownership</th>\n",
       "      <th>person_emp_length</th>\n",
       "      <th>loan_intent</th>\n",
       "      <th>loan_grade</th>\n",
       "      <th>loan_amnt</th>\n",
       "      <th>loan_int_rate</th>\n",
       "      <th>loan_status</th>\n",
       "      <th>loan_percent_income</th>\n",
       "      <th>cb_person_default_on_file</th>\n",
       "      <th>cb_person_cred_hist_length</th>\n",
       "    </tr>\n",
       "  </thead>\n",
       "  <tbody>\n",
       "    <tr>\n",
       "      <th>0</th>\n",
       "      <td>22</td>\n",
       "      <td>59000</td>\n",
       "      <td>RENT</td>\n",
       "      <td>123.0</td>\n",
       "      <td>PERSONAL</td>\n",
       "      <td>D</td>\n",
       "      <td>35000</td>\n",
       "      <td>16.02</td>\n",
       "      <td>1</td>\n",
       "      <td>0.59</td>\n",
       "      <td>Y</td>\n",
       "      <td>3</td>\n",
       "    </tr>\n",
       "    <tr>\n",
       "      <th>1</th>\n",
       "      <td>21</td>\n",
       "      <td>9600</td>\n",
       "      <td>OWN</td>\n",
       "      <td>5.0</td>\n",
       "      <td>EDUCATION</td>\n",
       "      <td>B</td>\n",
       "      <td>1000</td>\n",
       "      <td>11.14</td>\n",
       "      <td>0</td>\n",
       "      <td>0.10</td>\n",
       "      <td>N</td>\n",
       "      <td>2</td>\n",
       "    </tr>\n",
       "    <tr>\n",
       "      <th>2</th>\n",
       "      <td>25</td>\n",
       "      <td>9600</td>\n",
       "      <td>MORTGAGE</td>\n",
       "      <td>1.0</td>\n",
       "      <td>MEDICAL</td>\n",
       "      <td>C</td>\n",
       "      <td>5500</td>\n",
       "      <td>12.87</td>\n",
       "      <td>1</td>\n",
       "      <td>0.57</td>\n",
       "      <td>N</td>\n",
       "      <td>3</td>\n",
       "    </tr>\n",
       "    <tr>\n",
       "      <th>3</th>\n",
       "      <td>23</td>\n",
       "      <td>65500</td>\n",
       "      <td>RENT</td>\n",
       "      <td>4.0</td>\n",
       "      <td>MEDICAL</td>\n",
       "      <td>C</td>\n",
       "      <td>35000</td>\n",
       "      <td>15.23</td>\n",
       "      <td>1</td>\n",
       "      <td>0.53</td>\n",
       "      <td>N</td>\n",
       "      <td>2</td>\n",
       "    </tr>\n",
       "    <tr>\n",
       "      <th>4</th>\n",
       "      <td>24</td>\n",
       "      <td>54400</td>\n",
       "      <td>RENT</td>\n",
       "      <td>8.0</td>\n",
       "      <td>MEDICAL</td>\n",
       "      <td>C</td>\n",
       "      <td>35000</td>\n",
       "      <td>14.27</td>\n",
       "      <td>1</td>\n",
       "      <td>0.55</td>\n",
       "      <td>Y</td>\n",
       "      <td>4</td>\n",
       "    </tr>\n",
       "  </tbody>\n",
       "</table>\n",
       "</div>"
      ],
      "text/plain": [
       "   person_age  person_income person_home_ownership  person_emp_length  \\\n",
       "0          22          59000                  RENT              123.0   \n",
       "1          21           9600                   OWN                5.0   \n",
       "2          25           9600              MORTGAGE                1.0   \n",
       "3          23          65500                  RENT                4.0   \n",
       "4          24          54400                  RENT                8.0   \n",
       "\n",
       "  loan_intent loan_grade  loan_amnt  loan_int_rate  loan_status  \\\n",
       "0    PERSONAL          D      35000          16.02            1   \n",
       "1   EDUCATION          B       1000          11.14            0   \n",
       "2     MEDICAL          C       5500          12.87            1   \n",
       "3     MEDICAL          C      35000          15.23            1   \n",
       "4     MEDICAL          C      35000          14.27            1   \n",
       "\n",
       "   loan_percent_income cb_person_default_on_file  cb_person_cred_hist_length  \n",
       "0                 0.59                         Y                           3  \n",
       "1                 0.10                         N                           2  \n",
       "2                 0.57                         N                           3  \n",
       "3                 0.53                         N                           2  \n",
       "4                 0.55                         Y                           4  "
      ]
     },
     "execution_count": 60,
     "metadata": {},
     "output_type": "execute_result"
    }
   ],
   "source": [
    "# Definindo o caminho do arquivo CSV na variável 'url'\n",
    "url = \"dataset/credit_risk_dataset.csv\"\n",
    "\n",
    "# Lendo o arquivo CSV e armazenando os dados em um DataFrame chamado df_credito\n",
    "df_credito = pd.read_csv(url)\n",
    "\n",
    "# Exibindo as primeiras linhas do DataFrame 'df_credito'\n",
    "df_credito.head()"
   ]
  },
  {
   "cell_type": "markdown",
   "metadata": {},
   "source": [
    "#### `Renomeando as Colunas para Português`"
   ]
  },
  {
   "cell_type": "code",
   "execution_count": 61,
   "metadata": {},
   "outputs": [
    {
     "data": {
      "text/html": [
       "<div>\n",
       "<style scoped>\n",
       "    .dataframe tbody tr th:only-of-type {\n",
       "        vertical-align: middle;\n",
       "    }\n",
       "\n",
       "    .dataframe tbody tr th {\n",
       "        vertical-align: top;\n",
       "    }\n",
       "\n",
       "    .dataframe thead th {\n",
       "        text-align: right;\n",
       "    }\n",
       "</style>\n",
       "<table border=\"1\" class=\"dataframe\">\n",
       "  <thead>\n",
       "    <tr style=\"text-align: right;\">\n",
       "      <th></th>\n",
       "      <th>idade_pessoa</th>\n",
       "      <th>renda_pessoa</th>\n",
       "      <th>propriedade_residencial</th>\n",
       "      <th>tempo_emprego</th>\n",
       "      <th>intencao_emprestimo</th>\n",
       "      <th>loan_grade</th>\n",
       "      <th>valor_emprestimo</th>\n",
       "      <th>loan_int_rate</th>\n",
       "      <th>status_emprestimo</th>\n",
       "      <th>percentual_renda_emprestimo</th>\n",
       "      <th>registro_inadimplencia</th>\n",
       "      <th>tempo_historico_credito</th>\n",
       "    </tr>\n",
       "  </thead>\n",
       "  <tbody>\n",
       "    <tr>\n",
       "      <th>0</th>\n",
       "      <td>22</td>\n",
       "      <td>59000</td>\n",
       "      <td>RENT</td>\n",
       "      <td>123.0</td>\n",
       "      <td>PERSONAL</td>\n",
       "      <td>D</td>\n",
       "      <td>35000</td>\n",
       "      <td>16.02</td>\n",
       "      <td>1</td>\n",
       "      <td>0.59</td>\n",
       "      <td>Y</td>\n",
       "      <td>3</td>\n",
       "    </tr>\n",
       "    <tr>\n",
       "      <th>1</th>\n",
       "      <td>21</td>\n",
       "      <td>9600</td>\n",
       "      <td>OWN</td>\n",
       "      <td>5.0</td>\n",
       "      <td>EDUCATION</td>\n",
       "      <td>B</td>\n",
       "      <td>1000</td>\n",
       "      <td>11.14</td>\n",
       "      <td>0</td>\n",
       "      <td>0.10</td>\n",
       "      <td>N</td>\n",
       "      <td>2</td>\n",
       "    </tr>\n",
       "    <tr>\n",
       "      <th>2</th>\n",
       "      <td>25</td>\n",
       "      <td>9600</td>\n",
       "      <td>MORTGAGE</td>\n",
       "      <td>1.0</td>\n",
       "      <td>MEDICAL</td>\n",
       "      <td>C</td>\n",
       "      <td>5500</td>\n",
       "      <td>12.87</td>\n",
       "      <td>1</td>\n",
       "      <td>0.57</td>\n",
       "      <td>N</td>\n",
       "      <td>3</td>\n",
       "    </tr>\n",
       "    <tr>\n",
       "      <th>3</th>\n",
       "      <td>23</td>\n",
       "      <td>65500</td>\n",
       "      <td>RENT</td>\n",
       "      <td>4.0</td>\n",
       "      <td>MEDICAL</td>\n",
       "      <td>C</td>\n",
       "      <td>35000</td>\n",
       "      <td>15.23</td>\n",
       "      <td>1</td>\n",
       "      <td>0.53</td>\n",
       "      <td>N</td>\n",
       "      <td>2</td>\n",
       "    </tr>\n",
       "    <tr>\n",
       "      <th>4</th>\n",
       "      <td>24</td>\n",
       "      <td>54400</td>\n",
       "      <td>RENT</td>\n",
       "      <td>8.0</td>\n",
       "      <td>MEDICAL</td>\n",
       "      <td>C</td>\n",
       "      <td>35000</td>\n",
       "      <td>14.27</td>\n",
       "      <td>1</td>\n",
       "      <td>0.55</td>\n",
       "      <td>Y</td>\n",
       "      <td>4</td>\n",
       "    </tr>\n",
       "  </tbody>\n",
       "</table>\n",
       "</div>"
      ],
      "text/plain": [
       "   idade_pessoa  renda_pessoa propriedade_residencial  tempo_emprego  \\\n",
       "0            22         59000                    RENT          123.0   \n",
       "1            21          9600                     OWN            5.0   \n",
       "2            25          9600                MORTGAGE            1.0   \n",
       "3            23         65500                    RENT            4.0   \n",
       "4            24         54400                    RENT            8.0   \n",
       "\n",
       "  intencao_emprestimo loan_grade  valor_emprestimo  loan_int_rate  \\\n",
       "0            PERSONAL          D             35000          16.02   \n",
       "1           EDUCATION          B              1000          11.14   \n",
       "2             MEDICAL          C              5500          12.87   \n",
       "3             MEDICAL          C             35000          15.23   \n",
       "4             MEDICAL          C             35000          14.27   \n",
       "\n",
       "   status_emprestimo  percentual_renda_emprestimo registro_inadimplencia  \\\n",
       "0                  1                         0.59                      Y   \n",
       "1                  0                         0.10                      N   \n",
       "2                  1                         0.57                      N   \n",
       "3                  1                         0.53                      N   \n",
       "4                  1                         0.55                      Y   \n",
       "\n",
       "   tempo_historico_credito  \n",
       "0                        3  \n",
       "1                        2  \n",
       "2                        3  \n",
       "3                        2  \n",
       "4                        4  "
      ]
     },
     "execution_count": 61,
     "metadata": {},
     "output_type": "execute_result"
    }
   ],
   "source": [
    "# Renomeando as Colunas para Português\n",
    "novos_nomes = {  # Cria um dicionário com mapeamento das colunas de inglês para português\n",
    "    'person_age': 'idade_pessoa',  # Renomeia 'person_age' para 'idade_pessoa'\n",
    "    'person_income': 'renda_pessoa',  # Renomeia 'person_income' para 'renda_pessoa'\n",
    "    'person_home_ownership': 'propriedade_residencial',  # Renomeia 'person_home_ownership' para 'propriedade_residencial'\n",
    "    'person_emp_length': 'tempo_emprego',  # Renomeia 'person_emp_length' para 'tempo_emprego'\n",
    "    'loan_intent': 'intencao_emprestimo',  # Renomeia 'loan_intent' para 'intencao_emprestimo'\n",
    "    'loan_amnt': 'valor_emprestimo',  # Renomeia 'loan_amnt' para 'valor_emprestimo'\n",
    "    'loan_status': 'status_emprestimo',  # Renomeia 'loan_status' para 'status_emprestimo'\n",
    "    'loan_percent_income': 'percentual_renda_emprestimo',  # Renomeia 'loan_percent_income' para 'percentual_renda_emprestimo'\n",
    "    'cb_person_default_on_file': 'registro_inadimplencia',  # Renomeia 'cb_person_default_on_file' para 'registro_inadimplencia'\n",
    "    'cb_person_cred_hist_length': 'tempo_historico_credito'  # Renomeia 'cb_person_cred_hist_length' para 'tempo_historico_credito'\n",
    "}\n",
    "\n",
    "# Renomeia as colunas do DataFrame usando o dicionário criado\n",
    "df_credito.rename(columns=novos_nomes, inplace=True)\n",
    "\n",
    "# Exibe as primeiras linhas do DataFrame após renomear as colunas\n",
    "df_credito.head()\n",
    "\n",
    "# Explicação:\n",
    "# - O método rename() do pandas é utilizado para renomear as colunas ou os índices de um DataFrame.\n",
    "# - O argumento columns=novos_nomes indica que queremos renomear as colunas, onde 'novos_nomes' é um dicionário.\n",
    "# - O dicionário 'novos_nomes' deve conter os nomes atuais das colunas como chaves e os novos nomes como valores.\n",
    "#   Por exemplo, se o nome original de uma coluna é 'loan_status' e queremos renomeá-la para 'status_do_emprestimo',\n",
    "#   o dicionário incluiria {'loan_status': 'status_do_emprestimo'}.\n",
    "# - O argumento inplace=True é utilizado para modificar o DataFrame original diretamente, em vez de criar uma cópia\n",
    "#   com as colunas renomeadas. Isso significa que as mudanças serão aplicadas ao DataFrame 'df_credito' diretamente.\n",
    "# - Após a execução deste comando, todas as colunas do DataFrame 'df_credito' que têm um nome correspondente no \n",
    "#   dicionário 'novos_nomes' serão renomeadas de acordo com os valores especificados no dicionário."
   ]
  },
  {
   "cell_type": "markdown",
   "metadata": {},
   "source": [
    "#### `Utilização da coluna loan_status`\n",
    "\n",
    "- A coluna `loan_status`, renomeada para `status_emprestimo`, é uma variável categórica que reflete o status do pagamento dos empréstimos no dataset. Esta coluna é crucial para a análise de risco de crédito, pois indica se um empréstimo foi pago normalmente ou se houve inadimplência.\n",
    "- Onde `0` poderia representar que o empréstimo foi pago em dia e `1` poderia indicar que houve atraso ou inadimplência."
   ]
  },
  {
   "cell_type": "code",
   "execution_count": 62,
   "metadata": {},
   "outputs": [
    {
     "name": "stdout",
     "output_type": "stream",
     "text": [
      "[1 0]\n"
     ]
    },
    {
     "data": {
      "text/html": [
       "<div>\n",
       "<style scoped>\n",
       "    .dataframe tbody tr th:only-of-type {\n",
       "        vertical-align: middle;\n",
       "    }\n",
       "\n",
       "    .dataframe tbody tr th {\n",
       "        vertical-align: top;\n",
       "    }\n",
       "\n",
       "    .dataframe thead th {\n",
       "        text-align: right;\n",
       "    }\n",
       "</style>\n",
       "<table border=\"1\" class=\"dataframe\">\n",
       "  <thead>\n",
       "    <tr style=\"text-align: right;\">\n",
       "      <th></th>\n",
       "      <th>status_emprestimo</th>\n",
       "    </tr>\n",
       "  </thead>\n",
       "  <tbody>\n",
       "    <tr>\n",
       "      <th>0</th>\n",
       "      <td>1</td>\n",
       "    </tr>\n",
       "    <tr>\n",
       "      <th>1</th>\n",
       "      <td>0</td>\n",
       "    </tr>\n",
       "    <tr>\n",
       "      <th>2</th>\n",
       "      <td>1</td>\n",
       "    </tr>\n",
       "    <tr>\n",
       "      <th>3</th>\n",
       "      <td>1</td>\n",
       "    </tr>\n",
       "    <tr>\n",
       "      <th>4</th>\n",
       "      <td>1</td>\n",
       "    </tr>\n",
       "  </tbody>\n",
       "</table>\n",
       "</div>"
      ],
      "text/plain": [
       "   status_emprestimo\n",
       "0                  1\n",
       "1                  0\n",
       "2                  1\n",
       "3                  1\n",
       "4                  1"
      ]
     },
     "execution_count": 62,
     "metadata": {},
     "output_type": "execute_result"
    }
   ],
   "source": [
    "# loan_status | Status_emprestimo\n",
    "\n",
    "# Exibindo os valores únicos presentes na coluna 'status_emprestimo' para entender os possíveis status\n",
    "print(df_credito['status_emprestimo'].unique())\n",
    "\n",
    "# Exibindo as primeiras linhas da coluna 'status_emprestimo'\n",
    "df_credito[['status_emprestimo']].head()"
   ]
  },
  {
   "cell_type": "markdown",
   "metadata": {},
   "source": [
    "#### `Explorando funções básicas da Biblioteca Pandas`"
   ]
  },
  {
   "cell_type": "code",
   "execution_count": 63,
   "metadata": {},
   "outputs": [
    {
     "data": {
      "text/html": [
       "<div>\n",
       "<style scoped>\n",
       "    .dataframe tbody tr th:only-of-type {\n",
       "        vertical-align: middle;\n",
       "    }\n",
       "\n",
       "    .dataframe tbody tr th {\n",
       "        vertical-align: top;\n",
       "    }\n",
       "\n",
       "    .dataframe thead th {\n",
       "        text-align: right;\n",
       "    }\n",
       "</style>\n",
       "<table border=\"1\" class=\"dataframe\">\n",
       "  <thead>\n",
       "    <tr style=\"text-align: right;\">\n",
       "      <th></th>\n",
       "      <th>idade_pessoa</th>\n",
       "      <th>renda_pessoa</th>\n",
       "      <th>propriedade_residencial</th>\n",
       "      <th>tempo_emprego</th>\n",
       "      <th>intencao_emprestimo</th>\n",
       "      <th>loan_grade</th>\n",
       "      <th>valor_emprestimo</th>\n",
       "      <th>loan_int_rate</th>\n",
       "      <th>status_emprestimo</th>\n",
       "      <th>percentual_renda_emprestimo</th>\n",
       "      <th>registro_inadimplencia</th>\n",
       "      <th>tempo_historico_credito</th>\n",
       "    </tr>\n",
       "  </thead>\n",
       "  <tbody>\n",
       "    <tr>\n",
       "      <th>0</th>\n",
       "      <td>22</td>\n",
       "      <td>59000</td>\n",
       "      <td>RENT</td>\n",
       "      <td>123.0</td>\n",
       "      <td>PERSONAL</td>\n",
       "      <td>D</td>\n",
       "      <td>35000</td>\n",
       "      <td>16.02</td>\n",
       "      <td>1</td>\n",
       "      <td>0.59</td>\n",
       "      <td>Y</td>\n",
       "      <td>3</td>\n",
       "    </tr>\n",
       "    <tr>\n",
       "      <th>1</th>\n",
       "      <td>21</td>\n",
       "      <td>9600</td>\n",
       "      <td>OWN</td>\n",
       "      <td>5.0</td>\n",
       "      <td>EDUCATION</td>\n",
       "      <td>B</td>\n",
       "      <td>1000</td>\n",
       "      <td>11.14</td>\n",
       "      <td>0</td>\n",
       "      <td>0.10</td>\n",
       "      <td>N</td>\n",
       "      <td>2</td>\n",
       "    </tr>\n",
       "    <tr>\n",
       "      <th>2</th>\n",
       "      <td>25</td>\n",
       "      <td>9600</td>\n",
       "      <td>MORTGAGE</td>\n",
       "      <td>1.0</td>\n",
       "      <td>MEDICAL</td>\n",
       "      <td>C</td>\n",
       "      <td>5500</td>\n",
       "      <td>12.87</td>\n",
       "      <td>1</td>\n",
       "      <td>0.57</td>\n",
       "      <td>N</td>\n",
       "      <td>3</td>\n",
       "    </tr>\n",
       "    <tr>\n",
       "      <th>3</th>\n",
       "      <td>23</td>\n",
       "      <td>65500</td>\n",
       "      <td>RENT</td>\n",
       "      <td>4.0</td>\n",
       "      <td>MEDICAL</td>\n",
       "      <td>C</td>\n",
       "      <td>35000</td>\n",
       "      <td>15.23</td>\n",
       "      <td>1</td>\n",
       "      <td>0.53</td>\n",
       "      <td>N</td>\n",
       "      <td>2</td>\n",
       "    </tr>\n",
       "    <tr>\n",
       "      <th>4</th>\n",
       "      <td>24</td>\n",
       "      <td>54400</td>\n",
       "      <td>RENT</td>\n",
       "      <td>8.0</td>\n",
       "      <td>MEDICAL</td>\n",
       "      <td>C</td>\n",
       "      <td>35000</td>\n",
       "      <td>14.27</td>\n",
       "      <td>1</td>\n",
       "      <td>0.55</td>\n",
       "      <td>Y</td>\n",
       "      <td>4</td>\n",
       "    </tr>\n",
       "  </tbody>\n",
       "</table>\n",
       "</div>"
      ],
      "text/plain": [
       "   idade_pessoa  renda_pessoa propriedade_residencial  tempo_emprego  \\\n",
       "0            22         59000                    RENT          123.0   \n",
       "1            21          9600                     OWN            5.0   \n",
       "2            25          9600                MORTGAGE            1.0   \n",
       "3            23         65500                    RENT            4.0   \n",
       "4            24         54400                    RENT            8.0   \n",
       "\n",
       "  intencao_emprestimo loan_grade  valor_emprestimo  loan_int_rate  \\\n",
       "0            PERSONAL          D             35000          16.02   \n",
       "1           EDUCATION          B              1000          11.14   \n",
       "2             MEDICAL          C              5500          12.87   \n",
       "3             MEDICAL          C             35000          15.23   \n",
       "4             MEDICAL          C             35000          14.27   \n",
       "\n",
       "   status_emprestimo  percentual_renda_emprestimo registro_inadimplencia  \\\n",
       "0                  1                         0.59                      Y   \n",
       "1                  0                         0.10                      N   \n",
       "2                  1                         0.57                      N   \n",
       "3                  1                         0.53                      N   \n",
       "4                  1                         0.55                      Y   \n",
       "\n",
       "   tempo_historico_credito  \n",
       "0                        3  \n",
       "1                        2  \n",
       "2                        3  \n",
       "3                        2  \n",
       "4                        4  "
      ]
     },
     "execution_count": 63,
     "metadata": {},
     "output_type": "execute_result"
    }
   ],
   "source": [
    "# Exibe as primeiras 5 linhas do DataFrame para uma visão geral dos dados\n",
    "df_credito.head()"
   ]
  },
  {
   "cell_type": "code",
   "execution_count": 64,
   "metadata": {},
   "outputs": [
    {
     "data": {
      "text/html": [
       "<div>\n",
       "<style scoped>\n",
       "    .dataframe tbody tr th:only-of-type {\n",
       "        vertical-align: middle;\n",
       "    }\n",
       "\n",
       "    .dataframe tbody tr th {\n",
       "        vertical-align: top;\n",
       "    }\n",
       "\n",
       "    .dataframe thead th {\n",
       "        text-align: right;\n",
       "    }\n",
       "</style>\n",
       "<table border=\"1\" class=\"dataframe\">\n",
       "  <thead>\n",
       "    <tr style=\"text-align: right;\">\n",
       "      <th></th>\n",
       "      <th>idade_pessoa</th>\n",
       "      <th>renda_pessoa</th>\n",
       "      <th>propriedade_residencial</th>\n",
       "      <th>tempo_emprego</th>\n",
       "      <th>intencao_emprestimo</th>\n",
       "      <th>loan_grade</th>\n",
       "      <th>valor_emprestimo</th>\n",
       "      <th>loan_int_rate</th>\n",
       "      <th>status_emprestimo</th>\n",
       "      <th>percentual_renda_emprestimo</th>\n",
       "      <th>registro_inadimplencia</th>\n",
       "      <th>tempo_historico_credito</th>\n",
       "    </tr>\n",
       "  </thead>\n",
       "  <tbody>\n",
       "    <tr>\n",
       "      <th>32576</th>\n",
       "      <td>57</td>\n",
       "      <td>53000</td>\n",
       "      <td>MORTGAGE</td>\n",
       "      <td>1.0</td>\n",
       "      <td>PERSONAL</td>\n",
       "      <td>C</td>\n",
       "      <td>5800</td>\n",
       "      <td>13.16</td>\n",
       "      <td>0</td>\n",
       "      <td>0.11</td>\n",
       "      <td>N</td>\n",
       "      <td>30</td>\n",
       "    </tr>\n",
       "    <tr>\n",
       "      <th>32577</th>\n",
       "      <td>54</td>\n",
       "      <td>120000</td>\n",
       "      <td>MORTGAGE</td>\n",
       "      <td>4.0</td>\n",
       "      <td>PERSONAL</td>\n",
       "      <td>A</td>\n",
       "      <td>17625</td>\n",
       "      <td>7.49</td>\n",
       "      <td>0</td>\n",
       "      <td>0.15</td>\n",
       "      <td>N</td>\n",
       "      <td>19</td>\n",
       "    </tr>\n",
       "    <tr>\n",
       "      <th>32578</th>\n",
       "      <td>65</td>\n",
       "      <td>76000</td>\n",
       "      <td>RENT</td>\n",
       "      <td>3.0</td>\n",
       "      <td>HOMEIMPROVEMENT</td>\n",
       "      <td>B</td>\n",
       "      <td>35000</td>\n",
       "      <td>10.99</td>\n",
       "      <td>1</td>\n",
       "      <td>0.46</td>\n",
       "      <td>N</td>\n",
       "      <td>28</td>\n",
       "    </tr>\n",
       "    <tr>\n",
       "      <th>32579</th>\n",
       "      <td>56</td>\n",
       "      <td>150000</td>\n",
       "      <td>MORTGAGE</td>\n",
       "      <td>5.0</td>\n",
       "      <td>PERSONAL</td>\n",
       "      <td>B</td>\n",
       "      <td>15000</td>\n",
       "      <td>11.48</td>\n",
       "      <td>0</td>\n",
       "      <td>0.10</td>\n",
       "      <td>N</td>\n",
       "      <td>26</td>\n",
       "    </tr>\n",
       "    <tr>\n",
       "      <th>32580</th>\n",
       "      <td>66</td>\n",
       "      <td>42000</td>\n",
       "      <td>RENT</td>\n",
       "      <td>2.0</td>\n",
       "      <td>MEDICAL</td>\n",
       "      <td>B</td>\n",
       "      <td>6475</td>\n",
       "      <td>9.99</td>\n",
       "      <td>0</td>\n",
       "      <td>0.15</td>\n",
       "      <td>N</td>\n",
       "      <td>30</td>\n",
       "    </tr>\n",
       "  </tbody>\n",
       "</table>\n",
       "</div>"
      ],
      "text/plain": [
       "       idade_pessoa  renda_pessoa propriedade_residencial  tempo_emprego  \\\n",
       "32576            57         53000                MORTGAGE            1.0   \n",
       "32577            54        120000                MORTGAGE            4.0   \n",
       "32578            65         76000                    RENT            3.0   \n",
       "32579            56        150000                MORTGAGE            5.0   \n",
       "32580            66         42000                    RENT            2.0   \n",
       "\n",
       "      intencao_emprestimo loan_grade  valor_emprestimo  loan_int_rate  \\\n",
       "32576            PERSONAL          C              5800          13.16   \n",
       "32577            PERSONAL          A             17625           7.49   \n",
       "32578     HOMEIMPROVEMENT          B             35000          10.99   \n",
       "32579            PERSONAL          B             15000          11.48   \n",
       "32580             MEDICAL          B              6475           9.99   \n",
       "\n",
       "       status_emprestimo  percentual_renda_emprestimo registro_inadimplencia  \\\n",
       "32576                  0                         0.11                      N   \n",
       "32577                  0                         0.15                      N   \n",
       "32578                  1                         0.46                      N   \n",
       "32579                  0                         0.10                      N   \n",
       "32580                  0                         0.15                      N   \n",
       "\n",
       "       tempo_historico_credito  \n",
       "32576                       30  \n",
       "32577                       19  \n",
       "32578                       28  \n",
       "32579                       26  \n",
       "32580                       30  "
      ]
     },
     "execution_count": 64,
     "metadata": {},
     "output_type": "execute_result"
    }
   ],
   "source": [
    "# Exibe as últimas 5 linhas do DataFrame\n",
    "df_credito.tail()"
   ]
  },
  {
   "cell_type": "code",
   "execution_count": 65,
   "metadata": {},
   "outputs": [
    {
     "data": {
      "text/plain": [
       "(32581, 12)"
      ]
     },
     "execution_count": 65,
     "metadata": {},
     "output_type": "execute_result"
    }
   ],
   "source": [
    "# Exibe a quantidade de linhas e colunas do DataFrame\n",
    "df_credito.shape  # O método shape retorna uma tupla com o número de linhas e colunas do DataFrame"
   ]
  },
  {
   "cell_type": "code",
   "execution_count": 66,
   "metadata": {},
   "outputs": [
    {
     "data": {
      "text/html": [
       "<div>\n",
       "<style scoped>\n",
       "    .dataframe tbody tr th:only-of-type {\n",
       "        vertical-align: middle;\n",
       "    }\n",
       "\n",
       "    .dataframe tbody tr th {\n",
       "        vertical-align: top;\n",
       "    }\n",
       "\n",
       "    .dataframe thead th {\n",
       "        text-align: right;\n",
       "    }\n",
       "</style>\n",
       "<table border=\"1\" class=\"dataframe\">\n",
       "  <thead>\n",
       "    <tr style=\"text-align: right;\">\n",
       "      <th></th>\n",
       "      <th>idade_pessoa</th>\n",
       "      <th>renda_pessoa</th>\n",
       "      <th>tempo_emprego</th>\n",
       "      <th>valor_emprestimo</th>\n",
       "      <th>loan_int_rate</th>\n",
       "      <th>status_emprestimo</th>\n",
       "      <th>percentual_renda_emprestimo</th>\n",
       "      <th>tempo_historico_credito</th>\n",
       "    </tr>\n",
       "  </thead>\n",
       "  <tbody>\n",
       "    <tr>\n",
       "      <th>count</th>\n",
       "      <td>32581.000000</td>\n",
       "      <td>3.258100e+04</td>\n",
       "      <td>31686.000000</td>\n",
       "      <td>32581.000000</td>\n",
       "      <td>29465.000000</td>\n",
       "      <td>32581.000000</td>\n",
       "      <td>32581.000000</td>\n",
       "      <td>32581.000000</td>\n",
       "    </tr>\n",
       "    <tr>\n",
       "      <th>mean</th>\n",
       "      <td>27.734600</td>\n",
       "      <td>6.607485e+04</td>\n",
       "      <td>4.789686</td>\n",
       "      <td>9589.371106</td>\n",
       "      <td>11.011695</td>\n",
       "      <td>0.218164</td>\n",
       "      <td>0.170203</td>\n",
       "      <td>5.804211</td>\n",
       "    </tr>\n",
       "    <tr>\n",
       "      <th>std</th>\n",
       "      <td>6.348078</td>\n",
       "      <td>6.198312e+04</td>\n",
       "      <td>4.142630</td>\n",
       "      <td>6322.086646</td>\n",
       "      <td>3.240459</td>\n",
       "      <td>0.413006</td>\n",
       "      <td>0.106782</td>\n",
       "      <td>4.055001</td>\n",
       "    </tr>\n",
       "    <tr>\n",
       "      <th>min</th>\n",
       "      <td>20.000000</td>\n",
       "      <td>4.000000e+03</td>\n",
       "      <td>0.000000</td>\n",
       "      <td>500.000000</td>\n",
       "      <td>5.420000</td>\n",
       "      <td>0.000000</td>\n",
       "      <td>0.000000</td>\n",
       "      <td>2.000000</td>\n",
       "    </tr>\n",
       "    <tr>\n",
       "      <th>25%</th>\n",
       "      <td>23.000000</td>\n",
       "      <td>3.850000e+04</td>\n",
       "      <td>2.000000</td>\n",
       "      <td>5000.000000</td>\n",
       "      <td>7.900000</td>\n",
       "      <td>0.000000</td>\n",
       "      <td>0.090000</td>\n",
       "      <td>3.000000</td>\n",
       "    </tr>\n",
       "    <tr>\n",
       "      <th>50%</th>\n",
       "      <td>26.000000</td>\n",
       "      <td>5.500000e+04</td>\n",
       "      <td>4.000000</td>\n",
       "      <td>8000.000000</td>\n",
       "      <td>10.990000</td>\n",
       "      <td>0.000000</td>\n",
       "      <td>0.150000</td>\n",
       "      <td>4.000000</td>\n",
       "    </tr>\n",
       "    <tr>\n",
       "      <th>75%</th>\n",
       "      <td>30.000000</td>\n",
       "      <td>7.920000e+04</td>\n",
       "      <td>7.000000</td>\n",
       "      <td>12200.000000</td>\n",
       "      <td>13.470000</td>\n",
       "      <td>0.000000</td>\n",
       "      <td>0.230000</td>\n",
       "      <td>8.000000</td>\n",
       "    </tr>\n",
       "    <tr>\n",
       "      <th>max</th>\n",
       "      <td>144.000000</td>\n",
       "      <td>6.000000e+06</td>\n",
       "      <td>123.000000</td>\n",
       "      <td>35000.000000</td>\n",
       "      <td>23.220000</td>\n",
       "      <td>1.000000</td>\n",
       "      <td>0.830000</td>\n",
       "      <td>30.000000</td>\n",
       "    </tr>\n",
       "  </tbody>\n",
       "</table>\n",
       "</div>"
      ],
      "text/plain": [
       "       idade_pessoa  renda_pessoa  tempo_emprego  valor_emprestimo  \\\n",
       "count  32581.000000  3.258100e+04   31686.000000      32581.000000   \n",
       "mean      27.734600  6.607485e+04       4.789686       9589.371106   \n",
       "std        6.348078  6.198312e+04       4.142630       6322.086646   \n",
       "min       20.000000  4.000000e+03       0.000000        500.000000   \n",
       "25%       23.000000  3.850000e+04       2.000000       5000.000000   \n",
       "50%       26.000000  5.500000e+04       4.000000       8000.000000   \n",
       "75%       30.000000  7.920000e+04       7.000000      12200.000000   \n",
       "max      144.000000  6.000000e+06     123.000000      35000.000000   \n",
       "\n",
       "       loan_int_rate  status_emprestimo  percentual_renda_emprestimo  \\\n",
       "count   29465.000000       32581.000000                 32581.000000   \n",
       "mean       11.011695           0.218164                     0.170203   \n",
       "std         3.240459           0.413006                     0.106782   \n",
       "min         5.420000           0.000000                     0.000000   \n",
       "25%         7.900000           0.000000                     0.090000   \n",
       "50%        10.990000           0.000000                     0.150000   \n",
       "75%        13.470000           0.000000                     0.230000   \n",
       "max        23.220000           1.000000                     0.830000   \n",
       "\n",
       "       tempo_historico_credito  \n",
       "count             32581.000000  \n",
       "mean                  5.804211  \n",
       "std                   4.055001  \n",
       "min                   2.000000  \n",
       "25%                   3.000000  \n",
       "50%                   4.000000  \n",
       "75%                   8.000000  \n",
       "max                  30.000000  "
      ]
     },
     "execution_count": 66,
     "metadata": {},
     "output_type": "execute_result"
    }
   ],
   "source": [
    "# Exibe o resumo estatístico das colunas numéricas do DataFrame\n",
    "df_credito.describe()  # O método describe() gera estatísticas descritivas como média, desvio padrão, valores mínimos e máximos"
   ]
  },
  {
   "cell_type": "code",
   "execution_count": 67,
   "metadata": {},
   "outputs": [
    {
     "data": {
      "text/plain": [
       "Index(['idade_pessoa', 'renda_pessoa', 'propriedade_residencial',\n",
       "       'tempo_emprego', 'intencao_emprestimo', 'loan_grade',\n",
       "       'valor_emprestimo', 'loan_int_rate', 'status_emprestimo',\n",
       "       'percentual_renda_emprestimo', 'registro_inadimplencia',\n",
       "       'tempo_historico_credito'],\n",
       "      dtype='object')"
      ]
     },
     "execution_count": 67,
     "metadata": {},
     "output_type": "execute_result"
    }
   ],
   "source": [
    "# Exibe a lista de colunas do DataFrame\n",
    "df_credito.columns  # O atributo columns retorna o índice das colunas do DataFrame"
   ]
  },
  {
   "cell_type": "markdown",
   "metadata": {},
   "source": [
    "#### `Análise exploratória (EDA) - Qualitativas`\n",
    "\n",
    "* A análise exploratória de dados (EDA) qualitativa envolve o exame das características categóricas dos dados. Essas características podem ser divididas em dois tipos principais: nominais e ordinais."
   ]
  },
  {
   "cell_type": "markdown",
   "metadata": {},
   "source": [
    "1. Variáveis Nominais\n",
    "    * Definição: Variáveis nominais são aquelas que representam categorias sem uma ordem intrínseca. Cada categoria é distinta e não existe uma relação de hierarquia entre elas.\n",
    "\n",
    "    * Exemplo no DataFrame:\n",
    "        * intencao_emprestimo (loan_intent): Representa a finalidade do empréstimo, como \"Educação\", \"Carro\", \"Casa\", etc. Não há ordem entre essas categorias, ou seja, \"Educação\" não é superior ou inferior a \"Carro\".\n",
    "        * propriedade_residencial (person_home_ownership): Indica o tipo de posse da residência, como \"Aluguel\", \"Própria\", \"Hipoteca\". Novamente, não há uma hierarquia entre essas categorias.\n",
    "\n",
    "    * Análise:\n",
    "\n",
    "        * Distribuição de Frequência: Podemos contar a frequência de cada categoria para entender quais são mais comuns."
   ]
  },
  {
   "cell_type": "code",
   "execution_count": 74,
   "metadata": {},
   "outputs": [
    {
     "data": {
      "text/plain": [
       "intencao_emprestimo\n",
       "EDUCATION            6453\n",
       "MEDICAL              6071\n",
       "VENTURE              5719\n",
       "PERSONAL             5521\n",
       "DEBTCONSOLIDATION    5212\n",
       "HOMEIMPROVEMENT      3605\n",
       "Name: count, dtype: int64"
      ]
     },
     "execution_count": 74,
     "metadata": {},
     "output_type": "execute_result"
    }
   ],
   "source": [
    "df_credito['intencao_emprestimo'].value_counts()"
   ]
  },
  {
   "cell_type": "code",
   "execution_count": 75,
   "metadata": {},
   "outputs": [
    {
     "data": {
      "text/plain": [
       "propriedade_residencial\n",
       "RENT        16446\n",
       "MORTGAGE    13444\n",
       "OWN          2584\n",
       "OTHER         107\n",
       "Name: count, dtype: int64"
      ]
     },
     "execution_count": 75,
     "metadata": {},
     "output_type": "execute_result"
    }
   ],
   "source": [
    "df_credito['propriedade_residencial'].value_counts()"
   ]
  },
  {
   "cell_type": "markdown",
   "metadata": {},
   "source": [
    "1. Variáveis Ordinais\n",
    "    * Definição: Variáveis ordinais representam categorias que têm uma ordem ou hierarquia natural. As categorias podem ser classificadas, mas as diferenças entre elas não são necessariamente iguais.\n",
    "\n",
    "    * Exemplo no DataFrame:\n",
    "        * status_emprestimo (loan_status): Pode ser considerado ordinal se for categorizado de forma que reflita uma progressão de risco, como \"Totalmente Pago\", \"Em Dia\", \"Atrasado\", \"Cancelado por Inadimplência\".\n",
    "        * registro_inadimplencia (cb_person_default_on_file): Pode ser representado como \"Sim\" ou \"Não\", onde \"Sim\" indica um maior risco de crédito do que \"Não\".\n",
    "\n",
    "    * Análise:\n",
    "\n",
    "        * Distribuição de Frequência: Assim como nas variáveis nominais, podemos contar a frequência das categorias e visualizar essa distribuição.\n",
    "        * Comparações: Podemos comparar variáveis ordinais com outras variáveis quantitativas ou qualitativas para entender melhor as relações. Por exemplo, podemos verificar se o status_emprestimo está relacionado ao tempo_historico_credito."
   ]
  },
  {
   "cell_type": "code",
   "execution_count": 76,
   "metadata": {},
   "outputs": [
    {
     "name": "stdout",
     "output_type": "stream",
     "text": [
      "Distribuição de intencao_emprestimo:\n",
      "intencao_emprestimo\n",
      "EDUCATION            6453\n",
      "MEDICAL              6071\n",
      "VENTURE              5719\n",
      "PERSONAL             5521\n",
      "DEBTCONSOLIDATION    5212\n",
      "HOMEIMPROVEMENT      3605\n",
      "Name: count, dtype: int64\n"
     ]
    }
   ],
   "source": [
    "# Analisando variáveis nominais\n",
    "print(\"Distribuição de intencao_emprestimo:\")\n",
    "print(df_credito['intencao_emprestimo'].value_counts())"
   ]
  },
  {
   "cell_type": "code",
   "execution_count": 77,
   "metadata": {},
   "outputs": [
    {
     "name": "stdout",
     "output_type": "stream",
     "text": [
      "\n",
      "Distribuição de propriedade_residencial:\n",
      "propriedade_residencial\n",
      "RENT        16446\n",
      "MORTGAGE    13444\n",
      "OWN          2584\n",
      "OTHER         107\n",
      "Name: count, dtype: int64\n"
     ]
    }
   ],
   "source": [
    "print(\"\\nDistribuição de propriedade_residencial:\")\n",
    "print(df_credito['propriedade_residencial'].value_counts())"
   ]
  },
  {
   "cell_type": "code",
   "execution_count": 78,
   "metadata": {},
   "outputs": [
    {
     "name": "stdout",
     "output_type": "stream",
     "text": [
      "\n",
      "Distribuição de status_emprestimo:\n",
      "status_emprestimo\n",
      "0    25473\n",
      "1     7108\n",
      "Name: count, dtype: int64\n"
     ]
    }
   ],
   "source": [
    "# Analisando variáveis ordinais\n",
    "print(\"\\nDistribuição de status_emprestimo:\")\n",
    "print(df_credito['status_emprestimo'].value_counts())"
   ]
  },
  {
   "cell_type": "code",
   "execution_count": 79,
   "metadata": {},
   "outputs": [
    {
     "name": "stdout",
     "output_type": "stream",
     "text": [
      "\n",
      "Distribuição de registro_inadimplencia:\n",
      "registro_inadimplencia\n",
      "N    26836\n",
      "Y     5745\n",
      "Name: count, dtype: int64\n"
     ]
    }
   ],
   "source": [
    "print(\"\\nDistribuição de registro_inadimplencia:\")\n",
    "print(df_credito['registro_inadimplencia'].value_counts())"
   ]
  },
  {
   "cell_type": "code",
   "execution_count": 80,
   "metadata": {},
   "outputs": [],
   "source": [
    "# Visualização com gráfico de barras (exemplo para intencao_emprestimo)\n",
    "import matplotlib.pyplot as plt"
   ]
  },
  {
   "cell_type": "code",
   "execution_count": 81,
   "metadata": {},
   "outputs": [
    {
     "data": {
      "image/png": "[encoded data removed]",
      "text/plain": [
       "<Figure size 640x480 with 1 Axes>"
      ]
     },
     "metadata": {},
     "output_type": "display_data"
    }
   ],
   "source": [
    "df_credito['intencao_emprestimo'].value_counts().plot(kind='bar', title='Distribuição da Intenção de Empréstimo')\n",
    "plt.show()"
   ]
  },
  {
   "cell_type": "markdown",
   "metadata": {},
   "source": [
    "#### `Análise exploratória (EDA) - Quantitativas`"
   ]
  },
  {
   "cell_type": "markdown",
   "metadata": {},
   "source": [
    "1. Variáveis Discretas\n",
    "\n",
    "    * Definição: Variáveis discretas são aquelas que assumem valores contáveis e distintos. Elas não podem assumir valores fracionários. No contexto do dataset de risco de crédito, um exemplo de variável discreta pode ser o número de anos de emprego da pessoa (tempo_emprego)."
   ]
  },
  {
   "cell_type": "code",
   "execution_count": 82,
   "metadata": {},
   "outputs": [
    {
     "data": {
      "text/plain": [
       "count    31686.000000\n",
       "mean         4.789686\n",
       "std          4.142630\n",
       "min          0.000000\n",
       "25%          2.000000\n",
       "50%          4.000000\n",
       "75%          7.000000\n",
       "max        123.000000\n",
       "Name: tempo_emprego, dtype: float64"
      ]
     },
     "execution_count": 82,
     "metadata": {},
     "output_type": "execute_result"
    }
   ],
   "source": [
    "# Exibindo um resumo estatístico da variável 'tempo_emprego' (discreta)\n",
    "df_credito['tempo_emprego'].describe()"
   ]
  },
  {
   "cell_type": "code",
   "execution_count": 83,
   "metadata": {},
   "outputs": [
    {
     "data": {
      "text/plain": [
       "<Axes: title={'center': 'Distribuição do Tempo de Emprego'}, xlabel='tempo_emprego'>"
      ]
     },
     "execution_count": 83,
     "metadata": {},
     "output_type": "execute_result"
    },
    {
     "data": {
      "image/png": "[encoded data removed]",
      "text/plain": [
       "<Figure size 640x480 with 1 Axes>"
      ]
     },
     "metadata": {},
     "output_type": "display_data"
    }
   ],
   "source": [
    "# Exibindo a distribuição da variável 'tempo_emprego'\n",
    "df_credito['tempo_emprego'].value_counts().sort_index().plot(kind='bar', title='Distribuição do Tempo de Emprego')"
   ]
  },
  {
   "cell_type": "markdown",
   "metadata": {},
   "source": [
    "2. Variáveis Contínuas\n",
    "\n",
    "    * Definição: Variáveis contínuas são aquelas que podem assumir qualquer valor em um intervalo contínuo, incluindo valores fracionários. Um exemplo de variável contínua no dataset é a renda da pessoa (renda_pessoa)."
   ]
  },
  {
   "cell_type": "code",
   "execution_count": 86,
   "metadata": {},
   "outputs": [
    {
     "data": {
      "text/plain": [
       "count    3.258100e+04\n",
       "mean     6.607485e+04\n",
       "std      6.198312e+04\n",
       "min      4.000000e+03\n",
       "25%      3.850000e+04\n",
       "50%      5.500000e+04\n",
       "75%      7.920000e+04\n",
       "max      6.000000e+06\n",
       "Name: renda_pessoa, dtype: float64"
      ]
     },
     "execution_count": 86,
     "metadata": {},
     "output_type": "execute_result"
    }
   ],
   "source": [
    "# Exibindo um resumo estatístico da variável 'renda_pessoa' (contínua)\n",
    "df_credito['renda_pessoa'].describe()\n",
    "\n",
    "# describe(): Gera um resumo estatístico básico da coluna selecionada, incluindo contagem, média, desvio padrão, valores mínimo, máximo, e quartis."
   ]
  },
  {
   "cell_type": "code",
   "execution_count": 87,
   "metadata": {},
   "outputs": [
    {
     "data": {
      "text/plain": [
       "<Axes: title={'center': 'Distribuição da Renda das Pessoas'}, ylabel='Frequency'>"
      ]
     },
     "execution_count": 87,
     "metadata": {},
     "output_type": "execute_result"
    },
    {
     "data": {
      "image/png": "[encoded data removed]",
      "text/plain": [
       "<Figure size 640x480 with 1 Axes>"
      ]
     },
     "metadata": {},
     "output_type": "display_data"
    }
   ],
   "source": [
    "# Exibindo a distribuição da variável 'renda_pessoa'\n",
    "df_credito['renda_pessoa'].plot(kind='hist', bins=30, title='Distribuição da Renda das Pessoas')\n",
    "\n",
    "# plot(kind='bar'): Cria um gráfico de barras para visualizar a distribuição de uma variável discreta.\n",
    "# plot(kind='hist'): Cria um histograma para visualizar a distribuição de uma variável contínua."
   ]
  },
  {
   "cell_type": "markdown",
   "metadata": {},
   "source": [
    "#### `Quartil, Percentil (%), Mediana e Média no Contexto do Dataset`\n",
    "\n",
    "* Quartil divide os dados em 4 partes;\n",
    "* Percentil divide os dados em 100 partes;\n",
    "* Mediana é o valor central;\n",
    "* Média é o valor médio."
   ]
  },
  {
   "cell_type": "markdown",
   "metadata": {},
   "source": [
    "`Quartil:`\n",
    "\n",
    "* Definição: Quartis são valores que dividem um conjunto de dados ordenados em quatro partes iguais, cada uma representando 25% dos dados.\n",
    "* Contexto no Dataset: No dataset de risco de crédito, os quartis podem ser utilizados para entender a distribuição de variáveis como renda_pessoa. Por exemplo, o primeiro quartil (Q1) representa o ponto abaixo do qual 25% dos valores da renda_pessoa se encontram"
   ]
  },
  {
   "cell_type": "code",
   "execution_count": 88,
   "metadata": {},
   "outputs": [
    {
     "data": {
      "text/plain": [
       "0.25    38500.0\n",
       "0.50    55000.0\n",
       "0.75    79200.0\n",
       "Name: renda_pessoa, dtype: float64"
      ]
     },
     "execution_count": 88,
     "metadata": {},
     "output_type": "execute_result"
    }
   ],
   "source": [
    "# Exemplo: Calculando os quartis da variável 'renda_pessoa'\n",
    "quartis = df_credito['renda_pessoa'].quantile([0.25, 0.5, 0.75])\n",
    "quartis"
   ]
  },
  {
   "cell_type": "markdown",
   "metadata": {},
   "source": [
    "`Percentil (%):`\n",
    "\n",
    "* Definição: Percentis são valores que dividem um conjunto de dados ordenados em 100 partes iguais. Um percentil indica o valor abaixo do qual uma certa porcentagem dos dados se encontra.\n",
    "* Contexto no Dataset: No contexto do dataset, percentis podem ser usados para avaliar onde um valor específico da renda_pessoa se encontra em relação aos outros. Por exemplo, o 90º percentil indica que 90% das observações estão abaixo desse valor."
   ]
  },
  {
   "cell_type": "code",
   "execution_count": 89,
   "metadata": {},
   "outputs": [
    {
     "data": {
      "text/plain": [
       "np.float64(110004.0)"
      ]
     },
     "execution_count": 89,
     "metadata": {},
     "output_type": "execute_result"
    }
   ],
   "source": [
    "# Exemplo: Calculando o 90º percentil da variável 'renda_pessoa'\n",
    "percentil_90 = df_credito['renda_pessoa'].quantile(0.9)\n",
    "percentil_90"
   ]
  },
  {
   "cell_type": "markdown",
   "metadata": {},
   "source": [
    "`Mediana:`\n",
    "\n",
    "* Definição: A mediana é o valor central que separa a metade superior da metade inferior de um conjunto de dados ordenado.\n",
    "* Contexto no Dataset: A mediana é uma medida robusta da tendência central e é particularmente útil quando a distribuição da variável, como renda_pessoa, é assimétrica. Ela indica o ponto em que 50% dos valores estão abaixo e 50% estão acima."
   ]
  },
  {
   "cell_type": "code",
   "execution_count": 90,
   "metadata": {},
   "outputs": [
    {
     "data": {
      "text/plain": [
       "np.float64(55000.0)"
      ]
     },
     "execution_count": 90,
     "metadata": {},
     "output_type": "execute_result"
    }
   ],
   "source": [
    "# Exemplo: Calculando a mediana da variável 'renda_pessoa'\n",
    "mediana = df_credito['renda_pessoa'].median()\n",
    "mediana"
   ]
  },
  {
   "cell_type": "markdown",
   "metadata": {},
   "source": [
    "`Média:`\n",
    "\n",
    "* Definição: A média é a soma de todos os valores dividida pelo número total de valores. É uma medida comum da tendência central.\n",
    "* Contexto no Dataset: A média da renda_pessoa no dataset indica o valor médio que uma pessoa ganha. Ela pode ser influenciada por valores extremos (outliers)."
   ]
  },
  {
   "cell_type": "code",
   "execution_count": 91,
   "metadata": {},
   "outputs": [
    {
     "data": {
      "text/plain": [
       "np.float64(66074.84846996715)"
      ]
     },
     "execution_count": 91,
     "metadata": {},
     "output_type": "execute_result"
    }
   ],
   "source": [
    "# Exemplo: Calculando a média da variável 'renda_pessoa'\n",
    "media = df_credito['renda_pessoa'].mean()\n",
    "media"
   ]
  },
  {
   "cell_type": "markdown",
   "metadata": {},
   "source": [
    "`Quais pessoas ganham acima da média?`\n",
    "\n",
    "Para responder a essa pergunta, vamos primeiro calcular a média da renda das pessoas (renda_pessoa). Em seguida, filtraremos o DataFrame para encontrar as pessoas cuja renda é maior que a média."
   ]
  },
  {
   "cell_type": "code",
   "execution_count": 92,
   "metadata": {},
   "outputs": [],
   "source": [
    "# Calculando a média da coluna 'renda_pessoa'\n",
    "media_renda = df_credito['renda_pessoa'].mean()\n",
    "\n",
    "# Média da Renda (mean): Calculamos a média da renda (renda_pessoa) para determinar o valor médio que as pessoas ganham no dataset."
   ]
  },
  {
   "cell_type": "code",
   "execution_count": 97,
   "metadata": {},
   "outputs": [],
   "source": [
    "# Filtrando as pessoas que ganham acima da média\n",
    "pessoas_acima_media = df_credito[df_credito['renda_pessoa'] > media_renda]\n",
    "\n",
    "# Filtragem (>): Utilizamos uma comparação para filtrar as pessoas que têm renda acima da média, resultando em um DataFrame contendo apenas essas pessoas.\n",
    "# Risco Baixo (status_emprestimo == 0): Assumimos que o status_emprestimo reflete o risco, onde 0 é baixo risco. Filtramos as pessoas com esse status para identificar aquelas com baixo risco."
   ]
  },
  {
   "cell_type": "code",
   "execution_count": 94,
   "metadata": {},
   "outputs": [
    {
     "data": {
      "text/html": [
       "<div>\n",
       "<style scoped>\n",
       "    .dataframe tbody tr th:only-of-type {\n",
       "        vertical-align: middle;\n",
       "    }\n",
       "\n",
       "    .dataframe tbody tr th {\n",
       "        vertical-align: top;\n",
       "    }\n",
       "\n",
       "    .dataframe thead th {\n",
       "        text-align: right;\n",
       "    }\n",
       "</style>\n",
       "<table border=\"1\" class=\"dataframe\">\n",
       "  <thead>\n",
       "    <tr style=\"text-align: right;\">\n",
       "      <th></th>\n",
       "      <th>idade_pessoa</th>\n",
       "      <th>renda_pessoa</th>\n",
       "      <th>propriedade_residencial</th>\n",
       "      <th>tempo_emprego</th>\n",
       "      <th>intencao_emprestimo</th>\n",
       "      <th>loan_grade</th>\n",
       "      <th>valor_emprestimo</th>\n",
       "      <th>loan_int_rate</th>\n",
       "      <th>status_emprestimo</th>\n",
       "      <th>percentual_renda_emprestimo</th>\n",
       "      <th>registro_inadimplencia</th>\n",
       "      <th>tempo_historico_credito</th>\n",
       "    </tr>\n",
       "  </thead>\n",
       "  <tbody>\n",
       "    <tr>\n",
       "      <th>6</th>\n",
       "      <td>26</td>\n",
       "      <td>77100</td>\n",
       "      <td>RENT</td>\n",
       "      <td>8.0</td>\n",
       "      <td>EDUCATION</td>\n",
       "      <td>B</td>\n",
       "      <td>35000</td>\n",
       "      <td>12.42</td>\n",
       "      <td>1</td>\n",
       "      <td>0.45</td>\n",
       "      <td>N</td>\n",
       "      <td>3</td>\n",
       "    </tr>\n",
       "    <tr>\n",
       "      <th>7</th>\n",
       "      <td>24</td>\n",
       "      <td>78956</td>\n",
       "      <td>RENT</td>\n",
       "      <td>5.0</td>\n",
       "      <td>MEDICAL</td>\n",
       "      <td>B</td>\n",
       "      <td>35000</td>\n",
       "      <td>11.11</td>\n",
       "      <td>1</td>\n",
       "      <td>0.44</td>\n",
       "      <td>N</td>\n",
       "      <td>4</td>\n",
       "    </tr>\n",
       "    <tr>\n",
       "      <th>8</th>\n",
       "      <td>24</td>\n",
       "      <td>83000</td>\n",
       "      <td>RENT</td>\n",
       "      <td>8.0</td>\n",
       "      <td>PERSONAL</td>\n",
       "      <td>A</td>\n",
       "      <td>35000</td>\n",
       "      <td>8.90</td>\n",
       "      <td>1</td>\n",
       "      <td>0.42</td>\n",
       "      <td>N</td>\n",
       "      <td>2</td>\n",
       "    </tr>\n",
       "    <tr>\n",
       "      <th>10</th>\n",
       "      <td>22</td>\n",
       "      <td>85000</td>\n",
       "      <td>RENT</td>\n",
       "      <td>6.0</td>\n",
       "      <td>VENTURE</td>\n",
       "      <td>B</td>\n",
       "      <td>35000</td>\n",
       "      <td>10.37</td>\n",
       "      <td>1</td>\n",
       "      <td>0.41</td>\n",
       "      <td>N</td>\n",
       "      <td>4</td>\n",
       "    </tr>\n",
       "    <tr>\n",
       "      <th>12</th>\n",
       "      <td>23</td>\n",
       "      <td>95000</td>\n",
       "      <td>RENT</td>\n",
       "      <td>2.0</td>\n",
       "      <td>VENTURE</td>\n",
       "      <td>A</td>\n",
       "      <td>35000</td>\n",
       "      <td>7.90</td>\n",
       "      <td>1</td>\n",
       "      <td>0.37</td>\n",
       "      <td>N</td>\n",
       "      <td>2</td>\n",
       "    </tr>\n",
       "    <tr>\n",
       "      <th>...</th>\n",
       "      <td>...</td>\n",
       "      <td>...</td>\n",
       "      <td>...</td>\n",
       "      <td>...</td>\n",
       "      <td>...</td>\n",
       "      <td>...</td>\n",
       "      <td>...</td>\n",
       "      <td>...</td>\n",
       "      <td>...</td>\n",
       "      <td>...</td>\n",
       "      <td>...</td>\n",
       "      <td>...</td>\n",
       "    </tr>\n",
       "    <tr>\n",
       "      <th>32570</th>\n",
       "      <td>58</td>\n",
       "      <td>72000</td>\n",
       "      <td>RENT</td>\n",
       "      <td>5.0</td>\n",
       "      <td>HOMEIMPROVEMENT</td>\n",
       "      <td>B</td>\n",
       "      <td>4500</td>\n",
       "      <td>NaN</td>\n",
       "      <td>0</td>\n",
       "      <td>0.06</td>\n",
       "      <td>N</td>\n",
       "      <td>23</td>\n",
       "    </tr>\n",
       "    <tr>\n",
       "      <th>32573</th>\n",
       "      <td>56</td>\n",
       "      <td>90000</td>\n",
       "      <td>MORTGAGE</td>\n",
       "      <td>0.0</td>\n",
       "      <td>PERSONAL</td>\n",
       "      <td>A</td>\n",
       "      <td>7200</td>\n",
       "      <td>6.17</td>\n",
       "      <td>0</td>\n",
       "      <td>0.08</td>\n",
       "      <td>N</td>\n",
       "      <td>19</td>\n",
       "    </tr>\n",
       "    <tr>\n",
       "      <th>32577</th>\n",
       "      <td>54</td>\n",
       "      <td>120000</td>\n",
       "      <td>MORTGAGE</td>\n",
       "      <td>4.0</td>\n",
       "      <td>PERSONAL</td>\n",
       "      <td>A</td>\n",
       "      <td>17625</td>\n",
       "      <td>7.49</td>\n",
       "      <td>0</td>\n",
       "      <td>0.15</td>\n",
       "      <td>N</td>\n",
       "      <td>19</td>\n",
       "    </tr>\n",
       "    <tr>\n",
       "      <th>32578</th>\n",
       "      <td>65</td>\n",
       "      <td>76000</td>\n",
       "      <td>RENT</td>\n",
       "      <td>3.0</td>\n",
       "      <td>HOMEIMPROVEMENT</td>\n",
       "      <td>B</td>\n",
       "      <td>35000</td>\n",
       "      <td>10.99</td>\n",
       "      <td>1</td>\n",
       "      <td>0.46</td>\n",
       "      <td>N</td>\n",
       "      <td>28</td>\n",
       "    </tr>\n",
       "    <tr>\n",
       "      <th>32579</th>\n",
       "      <td>56</td>\n",
       "      <td>150000</td>\n",
       "      <td>MORTGAGE</td>\n",
       "      <td>5.0</td>\n",
       "      <td>PERSONAL</td>\n",
       "      <td>B</td>\n",
       "      <td>15000</td>\n",
       "      <td>11.48</td>\n",
       "      <td>0</td>\n",
       "      <td>0.10</td>\n",
       "      <td>N</td>\n",
       "      <td>26</td>\n",
       "    </tr>\n",
       "  </tbody>\n",
       "</table>\n",
       "<p>11855 rows × 12 columns</p>\n",
       "</div>"
      ],
      "text/plain": [
       "       idade_pessoa  renda_pessoa propriedade_residencial  tempo_emprego  \\\n",
       "6                26         77100                    RENT            8.0   \n",
       "7                24         78956                    RENT            5.0   \n",
       "8                24         83000                    RENT            8.0   \n",
       "10               22         85000                    RENT            6.0   \n",
       "12               23         95000                    RENT            2.0   \n",
       "...             ...           ...                     ...            ...   \n",
       "32570            58         72000                    RENT            5.0   \n",
       "32573            56         90000                MORTGAGE            0.0   \n",
       "32577            54        120000                MORTGAGE            4.0   \n",
       "32578            65         76000                    RENT            3.0   \n",
       "32579            56        150000                MORTGAGE            5.0   \n",
       "\n",
       "      intencao_emprestimo loan_grade  valor_emprestimo  loan_int_rate  \\\n",
       "6               EDUCATION          B             35000          12.42   \n",
       "7                 MEDICAL          B             35000          11.11   \n",
       "8                PERSONAL          A             35000           8.90   \n",
       "10                VENTURE          B             35000          10.37   \n",
       "12                VENTURE          A             35000           7.90   \n",
       "...                   ...        ...               ...            ...   \n",
       "32570     HOMEIMPROVEMENT          B              4500            NaN   \n",
       "32573            PERSONAL          A              7200           6.17   \n",
       "32577            PERSONAL          A             17625           7.49   \n",
       "32578     HOMEIMPROVEMENT          B             35000          10.99   \n",
       "32579            PERSONAL          B             15000          11.48   \n",
       "\n",
       "       status_emprestimo  percentual_renda_emprestimo registro_inadimplencia  \\\n",
       "6                      1                         0.45                      N   \n",
       "7                      1                         0.44                      N   \n",
       "8                      1                         0.42                      N   \n",
       "10                     1                         0.41                      N   \n",
       "12                     1                         0.37                      N   \n",
       "...                  ...                          ...                    ...   \n",
       "32570                  0                         0.06                      N   \n",
       "32573                  0                         0.08                      N   \n",
       "32577                  0                         0.15                      N   \n",
       "32578                  1                         0.46                      N   \n",
       "32579                  0                         0.10                      N   \n",
       "\n",
       "       tempo_historico_credito  \n",
       "6                            3  \n",
       "7                            4  \n",
       "8                            2  \n",
       "10                           4  \n",
       "12                           2  \n",
       "...                        ...  \n",
       "32570                       23  \n",
       "32573                       19  \n",
       "32577                       19  \n",
       "32578                       28  \n",
       "32579                       26  \n",
       "\n",
       "[11855 rows x 12 columns]"
      ]
     },
     "execution_count": 94,
     "metadata": {},
     "output_type": "execute_result"
    }
   ],
   "source": [
    "# Exibindo as pessoas que ganham acima da média\n",
    "pessoas_acima_media"
   ]
  },
  {
   "cell_type": "markdown",
   "metadata": {},
   "source": [
    "`Quais pessoas têm um risco baixo e ainda assim pedem empréstimos?`\n",
    "\n",
    "* Para responder a essa pergunta, precisamos identificar a coluna que representa o risco (geralmente baseada no status_emprestimo ou uma coluna semelhante). Em seguida, filtraremos as pessoas que têm um risco baixo e verificaremos se elas pedem empréstimos.\n",
    "\n",
    "* Assumindo que a coluna status_emprestimo indica o risco (onde 0 é risco baixo e 1 é risco alto):"
   ]
  },
  {
   "cell_type": "code",
   "execution_count": 95,
   "metadata": {},
   "outputs": [],
   "source": [
    "# Filtrando as pessoas que têm um risco baixo (status_emprestimo == 0)\n",
    "pessoas_risco_baixo = df_credito[df_credito['status_emprestimo'] == 0]"
   ]
  },
  {
   "cell_type": "code",
   "execution_count": 96,
   "metadata": {},
   "outputs": [
    {
     "data": {
      "text/html": [
       "<div>\n",
       "<style scoped>\n",
       "    .dataframe tbody tr th:only-of-type {\n",
       "        vertical-align: middle;\n",
       "    }\n",
       "\n",
       "    .dataframe tbody tr th {\n",
       "        vertical-align: top;\n",
       "    }\n",
       "\n",
       "    .dataframe thead th {\n",
       "        text-align: right;\n",
       "    }\n",
       "</style>\n",
       "<table border=\"1\" class=\"dataframe\">\n",
       "  <thead>\n",
       "    <tr style=\"text-align: right;\">\n",
       "      <th></th>\n",
       "      <th>idade_pessoa</th>\n",
       "      <th>renda_pessoa</th>\n",
       "      <th>propriedade_residencial</th>\n",
       "      <th>tempo_emprego</th>\n",
       "      <th>intencao_emprestimo</th>\n",
       "      <th>loan_grade</th>\n",
       "      <th>valor_emprestimo</th>\n",
       "      <th>loan_int_rate</th>\n",
       "      <th>status_emprestimo</th>\n",
       "      <th>percentual_renda_emprestimo</th>\n",
       "      <th>registro_inadimplencia</th>\n",
       "      <th>tempo_historico_credito</th>\n",
       "    </tr>\n",
       "  </thead>\n",
       "  <tbody>\n",
       "    <tr>\n",
       "      <th>1</th>\n",
       "      <td>21</td>\n",
       "      <td>9600</td>\n",
       "      <td>OWN</td>\n",
       "      <td>5.0</td>\n",
       "      <td>EDUCATION</td>\n",
       "      <td>B</td>\n",
       "      <td>1000</td>\n",
       "      <td>11.14</td>\n",
       "      <td>0</td>\n",
       "      <td>0.10</td>\n",
       "      <td>N</td>\n",
       "      <td>2</td>\n",
       "    </tr>\n",
       "    <tr>\n",
       "      <th>14</th>\n",
       "      <td>23</td>\n",
       "      <td>115000</td>\n",
       "      <td>RENT</td>\n",
       "      <td>2.0</td>\n",
       "      <td>EDUCATION</td>\n",
       "      <td>A</td>\n",
       "      <td>35000</td>\n",
       "      <td>7.90</td>\n",
       "      <td>0</td>\n",
       "      <td>0.30</td>\n",
       "      <td>N</td>\n",
       "      <td>4</td>\n",
       "    </tr>\n",
       "    <tr>\n",
       "      <th>15</th>\n",
       "      <td>23</td>\n",
       "      <td>500000</td>\n",
       "      <td>MORTGAGE</td>\n",
       "      <td>7.0</td>\n",
       "      <td>DEBTCONSOLIDATION</td>\n",
       "      <td>B</td>\n",
       "      <td>30000</td>\n",
       "      <td>10.65</td>\n",
       "      <td>0</td>\n",
       "      <td>0.06</td>\n",
       "      <td>N</td>\n",
       "      <td>3</td>\n",
       "    </tr>\n",
       "    <tr>\n",
       "      <th>16</th>\n",
       "      <td>23</td>\n",
       "      <td>120000</td>\n",
       "      <td>RENT</td>\n",
       "      <td>0.0</td>\n",
       "      <td>EDUCATION</td>\n",
       "      <td>A</td>\n",
       "      <td>35000</td>\n",
       "      <td>7.90</td>\n",
       "      <td>0</td>\n",
       "      <td>0.29</td>\n",
       "      <td>N</td>\n",
       "      <td>4</td>\n",
       "    </tr>\n",
       "    <tr>\n",
       "      <th>20</th>\n",
       "      <td>25</td>\n",
       "      <td>162500</td>\n",
       "      <td>RENT</td>\n",
       "      <td>2.0</td>\n",
       "      <td>VENTURE</td>\n",
       "      <td>A</td>\n",
       "      <td>35000</td>\n",
       "      <td>7.49</td>\n",
       "      <td>0</td>\n",
       "      <td>0.22</td>\n",
       "      <td>N</td>\n",
       "      <td>4</td>\n",
       "    </tr>\n",
       "    <tr>\n",
       "      <th>...</th>\n",
       "      <td>...</td>\n",
       "      <td>...</td>\n",
       "      <td>...</td>\n",
       "      <td>...</td>\n",
       "      <td>...</td>\n",
       "      <td>...</td>\n",
       "      <td>...</td>\n",
       "      <td>...</td>\n",
       "      <td>...</td>\n",
       "      <td>...</td>\n",
       "      <td>...</td>\n",
       "      <td>...</td>\n",
       "    </tr>\n",
       "    <tr>\n",
       "      <th>32575</th>\n",
       "      <td>52</td>\n",
       "      <td>64500</td>\n",
       "      <td>RENT</td>\n",
       "      <td>0.0</td>\n",
       "      <td>EDUCATION</td>\n",
       "      <td>B</td>\n",
       "      <td>5000</td>\n",
       "      <td>11.26</td>\n",
       "      <td>0</td>\n",
       "      <td>0.08</td>\n",
       "      <td>N</td>\n",
       "      <td>20</td>\n",
       "    </tr>\n",
       "    <tr>\n",
       "      <th>32576</th>\n",
       "      <td>57</td>\n",
       "      <td>53000</td>\n",
       "      <td>MORTGAGE</td>\n",
       "      <td>1.0</td>\n",
       "      <td>PERSONAL</td>\n",
       "      <td>C</td>\n",
       "      <td>5800</td>\n",
       "      <td>13.16</td>\n",
       "      <td>0</td>\n",
       "      <td>0.11</td>\n",
       "      <td>N</td>\n",
       "      <td>30</td>\n",
       "    </tr>\n",
       "    <tr>\n",
       "      <th>32577</th>\n",
       "      <td>54</td>\n",
       "      <td>120000</td>\n",
       "      <td>MORTGAGE</td>\n",
       "      <td>4.0</td>\n",
       "      <td>PERSONAL</td>\n",
       "      <td>A</td>\n",
       "      <td>17625</td>\n",
       "      <td>7.49</td>\n",
       "      <td>0</td>\n",
       "      <td>0.15</td>\n",
       "      <td>N</td>\n",
       "      <td>19</td>\n",
       "    </tr>\n",
       "    <tr>\n",
       "      <th>32579</th>\n",
       "      <td>56</td>\n",
       "      <td>150000</td>\n",
       "      <td>MORTGAGE</td>\n",
       "      <td>5.0</td>\n",
       "      <td>PERSONAL</td>\n",
       "      <td>B</td>\n",
       "      <td>15000</td>\n",
       "      <td>11.48</td>\n",
       "      <td>0</td>\n",
       "      <td>0.10</td>\n",
       "      <td>N</td>\n",
       "      <td>26</td>\n",
       "    </tr>\n",
       "    <tr>\n",
       "      <th>32580</th>\n",
       "      <td>66</td>\n",
       "      <td>42000</td>\n",
       "      <td>RENT</td>\n",
       "      <td>2.0</td>\n",
       "      <td>MEDICAL</td>\n",
       "      <td>B</td>\n",
       "      <td>6475</td>\n",
       "      <td>9.99</td>\n",
       "      <td>0</td>\n",
       "      <td>0.15</td>\n",
       "      <td>N</td>\n",
       "      <td>30</td>\n",
       "    </tr>\n",
       "  </tbody>\n",
       "</table>\n",
       "<p>25473 rows × 12 columns</p>\n",
       "</div>"
      ],
      "text/plain": [
       "       idade_pessoa  renda_pessoa propriedade_residencial  tempo_emprego  \\\n",
       "1                21          9600                     OWN            5.0   \n",
       "14               23        115000                    RENT            2.0   \n",
       "15               23        500000                MORTGAGE            7.0   \n",
       "16               23        120000                    RENT            0.0   \n",
       "20               25        162500                    RENT            2.0   \n",
       "...             ...           ...                     ...            ...   \n",
       "32575            52         64500                    RENT            0.0   \n",
       "32576            57         53000                MORTGAGE            1.0   \n",
       "32577            54        120000                MORTGAGE            4.0   \n",
       "32579            56        150000                MORTGAGE            5.0   \n",
       "32580            66         42000                    RENT            2.0   \n",
       "\n",
       "      intencao_emprestimo loan_grade  valor_emprestimo  loan_int_rate  \\\n",
       "1               EDUCATION          B              1000          11.14   \n",
       "14              EDUCATION          A             35000           7.90   \n",
       "15      DEBTCONSOLIDATION          B             30000          10.65   \n",
       "16              EDUCATION          A             35000           7.90   \n",
       "20                VENTURE          A             35000           7.49   \n",
       "...                   ...        ...               ...            ...   \n",
       "32575           EDUCATION          B              5000          11.26   \n",
       "32576            PERSONAL          C              5800          13.16   \n",
       "32577            PERSONAL          A             17625           7.49   \n",
       "32579            PERSONAL          B             15000          11.48   \n",
       "32580             MEDICAL          B              6475           9.99   \n",
       "\n",
       "       status_emprestimo  percentual_renda_emprestimo registro_inadimplencia  \\\n",
       "1                      0                         0.10                      N   \n",
       "14                     0                         0.30                      N   \n",
       "15                     0                         0.06                      N   \n",
       "16                     0                         0.29                      N   \n",
       "20                     0                         0.22                      N   \n",
       "...                  ...                          ...                    ...   \n",
       "32575                  0                         0.08                      N   \n",
       "32576                  0                         0.11                      N   \n",
       "32577                  0                         0.15                      N   \n",
       "32579                  0                         0.10                      N   \n",
       "32580                  0                         0.15                      N   \n",
       "\n",
       "       tempo_historico_credito  \n",
       "1                            2  \n",
       "14                           4  \n",
       "15                           3  \n",
       "16                           4  \n",
       "20                           4  \n",
       "...                        ...  \n",
       "32575                       20  \n",
       "32576                       30  \n",
       "32577                       19  \n",
       "32579                       26  \n",
       "32580                       30  \n",
       "\n",
       "[25473 rows x 12 columns]"
      ]
     },
     "execution_count": 96,
     "metadata": {},
     "output_type": "execute_result"
    }
   ],
   "source": [
    "# Exibindo as pessoas que têm um risco baixo e pedem empréstimos\n",
    "pessoas_risco_baixo"
   ]
  },
  {
   "cell_type": "code",
   "execution_count": 98,
   "metadata": {},
   "outputs": [
    {
     "data": {
      "image/png": "[encoded data removed]",
      "text/plain": [
       "<Figure size 800x600 with 1 Axes>"
      ]
     },
     "metadata": {},
     "output_type": "display_data"
    }
   ],
   "source": [
    "\n",
    "# Gráfico de Barras: Distribuição de Risco de Empréstimo (Loan Status)\n",
    "import matplotlib.pyplot as plt\n",
    "\n",
    "# Contando o número de ocorrências de cada status de empréstimo\n",
    "status_count = df_credito['status_emprestimo'].value_counts()\n",
    "\n",
    "# Criando o gráfico de barras\n",
    "plt.figure(figsize=(8, 6))\n",
    "status_count.plot(kind='bar', color=['blue', 'orange'])\n",
    "plt.title('Distribuição de Risco de Empréstimo')\n",
    "plt.xlabel('Status de Empréstimo')\n",
    "plt.ylabel('Número de Ocorrências')\n",
    "plt.xticks(ticks=[0, 1], labels=['Risco Baixo', 'Risco Alto'], rotation=0)\n",
    "plt.show()\n",
    "\n",
    "# Explicação:\n",
    "# - Este gráfico de barras mostra a distribuição dos status de empréstimo no dataset.\n",
    "# - Cada barra representa o número de pessoas com risco baixo ou risco alto de inadimplência.\n"
   ]
  },
  {
   "cell_type": "code",
   "execution_count": 99,
   "metadata": {},
   "outputs": [
    {
     "data": {
      "image/png": "[encoded data removed]",
      "text/plain": [
       "<Figure size 800x600 with 1 Axes>"
      ]
     },
     "metadata": {},
     "output_type": "display_data"
    }
   ],
   "source": [
    "# Histograma: Distribuição da Idade das Pessoas\n",
    "# Criando um histograma para a idade das pessoas\n",
    "plt.figure(figsize=(8, 6))\n",
    "plt.hist(df_credito['idade_pessoa'], bins=20, color='green', edgecolor='black')\n",
    "plt.title('Distribuição da Idade das Pessoas')\n",
    "plt.xlabel('Idade')\n",
    "plt.ylabel('Frequência')\n",
    "plt.show()\n",
    "\n",
    "# Explicação:\n",
    "# - Este histograma mostra a distribuição das idades das pessoas no dataset.\n",
    "# - Ele ajuda a entender a faixa etária predominante entre os solicitantes de empréstimo."
   ]
  },
  {
   "cell_type": "code",
   "execution_count": 100,
   "metadata": {},
   "outputs": [
    {
     "data": {
      "image/png": "[encoded data removed]",
      "text/plain": [
       "<Figure size 800x600 with 1 Axes>"
      ]
     },
     "metadata": {},
     "output_type": "display_data"
    }
   ],
   "source": [
    "# Boxplot: Distribuição da Renda das Pessoas\n",
    "\n",
    "# Criando um boxplot para a renda das pessoas\n",
    "plt.figure(figsize=(8, 6))\n",
    "plt.boxplot(df_credito['renda_pessoa'], vert=False)\n",
    "plt.title('Distribuição da Renda das Pessoas')\n",
    "plt.xlabel('Renda')\n",
    "plt.show()\n",
    "\n",
    "# Explicação:\n",
    "# - Este boxplot visualiza a distribuição da renda das pessoas.\n",
    "# - Ele mostra a mediana, os quartis e possíveis outliers na renda dos solicitantes de crédito.\n"
   ]
  },
  {
   "cell_type": "code",
   "execution_count": 101,
   "metadata": {},
   "outputs": [
    {
     "data": {
      "image/png": "[encoded data removed]",
      "text/plain": [
       "<Figure size 800x600 with 1 Axes>"
      ]
     },
     "metadata": {},
     "output_type": "display_data"
    }
   ],
   "source": [
    "# Gráfico de Dispersão: Renda vs. Valor do Empréstimo\n",
    "\n",
    "# Criando um gráfico de dispersão para renda vs. valor do empréstimo\n",
    "plt.figure(figsize=(8, 6))\n",
    "plt.scatter(df_credito['renda_pessoa'], df_credito['valor_emprestimo'], alpha=0.5)\n",
    "plt.title('Renda vs. Valor do Empréstimo')\n",
    "plt.xlabel('Renda')\n",
    "plt.ylabel('Valor do Empréstimo')\n",
    "plt.show()\n",
    "\n",
    "# Explicação:\n",
    "# - Este gráfico de dispersão mostra a relação entre a renda das pessoas e o valor do empréstimo solicitado.\n",
    "# - Ele ajuda a visualizar se há uma correlação entre a renda e o valor do empréstimo."
   ]
  },
  {
   "cell_type": "code",
   "execution_count": 102,
   "metadata": {},
   "outputs": [
    {
     "data": {
      "image/png": "[encoded data removed]",
      "text/plain": [
       "<Figure size 800x600 with 1 Axes>"
      ]
     },
     "metadata": {},
     "output_type": "display_data"
    }
   ],
   "source": [
    "# Gráfico de Barras: Distribuição de Propriedade Residencial\n",
    "\n",
    "# Contando o número de ocorrências de cada tipo de propriedade residencial\n",
    "residencia_count = df_credito['propriedade_residencial'].value_counts()\n",
    "\n",
    "# Criando o gráfico de barras\n",
    "plt.figure(figsize=(8, 6))\n",
    "residencia_count.plot(kind='bar', color=['purple', 'red', 'blue', 'orange'])\n",
    "plt.title('Distribuição de Propriedade Residencial')\n",
    "plt.xlabel('Tipo de Propriedade')\n",
    "plt.ylabel('Número de Ocorrências')\n",
    "plt.show()\n",
    "\n",
    "# Explicação:\n",
    "# - Este gráfico de barras mostra a distribuição dos diferentes tipos de propriedade residencial.\n",
    "# - Ele ajuda a entender quais tipos de propriedade são mais comuns entre os solicitantes de crédito."
   ]
  },
  {
   "cell_type": "markdown",
   "metadata": {},
   "source": [
    "* Crie os modelos:\n",
    "    - Conceitual\n",
    "    - Lógico\n",
    "    - Físico"
   ]
  }
 ],
 "metadata": {
  "kernelspec": {
   "display_name": ".venv",
   "language": "python",
   "name": "python3"
  },
  "language_info": {
   "codemirror_mode": {
    "name": "ipython",
    "version": 3
   },
   "file_extension": ".py",
   "mimetype": "text/x-python",
   "name": "python",
   "nbconvert_exporter": "python",
   "pygments_lexer": "ipython3",
   "version": "3.12.5"
  }
 },
 "nbformat": 4,
 "nbformat_minor": 2
}
