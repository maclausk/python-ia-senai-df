{
 "cells": [
  {
   "cell_type": "markdown",
   "metadata": {},
   "source": [
    "### **SENAI-DF - Python Developer - Vespertino - QUA.491.002**\n",
    "### **Guia de Git e GitHub**"
   ]
  },
  {
   "cell_type": "markdown",
   "metadata": {},
   "source": [
    "### 1. **Configurações Iniciais**\n",
    "\n",
    "Antes de começar a usar o Git, é necessário configurar seu nome de usuário e e-mail. Isso garante que seus commits sejam associados corretamente a você.\n",
    "\n",
    "```bash\n",
    "# Configurar nome de usuário e e-mail\n",
    "git config --global user.name \"seu_nome\"\n",
    "git config --global user.email \"seu_email@dominio.com\"\n",
    "\n",
    "# Listar as configurações globais\n",
    "git config --global --list\n",
    "\n",
    "# Remover credenciais, se necessário\n",
    "git config --global --unset user.name\n",
    "git config --global --unset user.email"
   ]
  },
  {
   "cell_type": "markdown",
   "metadata": {},
   "source": [
    "### 2. **Inicialização do Repositório**\n",
    "\n",
    "Para começar a trabalhar em um projeto usando o Git, você precisa inicializar um repositório Git no diretório do seu projeto.\n",
    "\n",
    "```bash\n",
    "# Inicializar o repositório Git\n",
    "git init\n",
    "```"
   ]
  },
  {
   "cell_type": "markdown",
   "metadata": {},
   "source": [
    "### 3. **Adicionando Arquivos ao Controle de Versão**\n",
    "\n",
    "Depois de fazer alterações em seus arquivos, você precisa adicionar esses arquivos ao índice do Git antes de poder commitá-los.\n",
    "\n",
    "```bash\n",
    "# Adicionar todos os arquivos ao índice do Git\n",
    "git add .\n",
    "\n",
    "# Verificar o status dos arquivos\n",
    "git status\n",
    "```"
   ]
  },
  {
   "cell_type": "markdown",
   "metadata": {},
   "source": [
    "### 4. **Fazendo Commit das Alterações**\n",
    "\n",
    "Com os arquivos adicionados ao índice, você pode fazer o commit, que é o processo de salvar as mudanças no repositório Git.\n",
    "\n",
    "```bash\n",
    "# Fazer um commit com uma mensagem descritiva\n",
    "git commit -m \"Descrição das mudanças realizadas\"\n",
    "```"
   ]
  },
  {
   "cell_type": "markdown",
   "metadata": {},
   "source": [
    "### 5. **Trabalhando com Repositórios Remotos**\n",
    "\n",
    "Você pode conectar seu repositório local ao GitHub (ou outra plataforma de repositórios remotos) para compartilhar seu código com outros.\n",
    "\n",
    "```bash\n",
    "# Adicionar o repositório remoto no GitHub\n",
    "git remote add origin https://github.com/usuario/nomerepositorio.git\n",
    "\n",
    "# Enviar os arquivos para o repositório remoto\n",
    "git push -u origin main\n",
    "```"
   ]
  },
  {
   "cell_type": "markdown",
   "metadata": {},
   "source": [
    "### 6. **Sincronizando Repositórios**\n",
    "**6.1. Atualizar o Diretório Remoto ao Final da Aula**\n",
    "\n",
    "Sempre que fizer alterações importantes, atualize o repositório remoto para garantir que o código mais recente esteja salvo.\n",
    "\n",
    "```bash\n",
    "# Adicionar todos os arquivos modificados ao índice do Git\n",
    "git add .\n",
    "\n",
    "# Fazer um commit com uma mensagem descritiva\n",
    "git commit -m \"Descrição das mudanças realizadas\"\n",
    "\n",
    "# Enviar os arquivos atualizados para o repositório remoto\n",
    "git push origin main\n",
    "```\n",
    "\n",
    "**6.2. Atualizar o Diretório Local em Casa**\n",
    "\n",
    "Quando for trabalhar em um projeto em casa, você deve atualizar seu repositório local para garantir que ele esteja sincronizado com o repositório remoto.\n",
    "\n",
    "```bash\n",
    "# Atualizar o repositório local com as mudanças do repositório remoto\n",
    "git pull origin main\n",
    "```"
   ]
  },
  {
   "cell_type": "markdown",
   "metadata": {},
   "source": [
    "### 7. **Entendendo Branches no Git**\n",
    "\n",
    "No Git, as branches são essenciais para gerenciar diferentes linhas de desenvolvimento no mesmo projeto. Isso permite que você trabalhe em novas funcionalidades ou correções de bugs sem afetar a versão estável do código.\n",
    "\n",
    "\n",
    "**7.1. Vantagens de Usar Branches**\n",
    "\n",
    "- Segurança: Mantém o código principal seguro e estável.\n",
    "- Organização: Facilita a organização do trabalho, especialmente em projetos colaborativos.\n",
    "- Facilidade de Reversão: Permite descartar mudanças em uma branch sem impactar o código principal.\n",
    "\n",
    "**7.2 Exemplo Prático com Branches main, aula1, e aula2**\n",
    "    **7.2.1 Criando e Alternando Entre Branches**\n",
    "\n",
    "```bash\n",
    "# Verificar a branch atual\n",
    "git branch\n",
    "\n",
    "# Criar uma nova branch chamada `aula1`\n",
    "git branch aula1\n",
    "\n",
    "# Alternar para a branch `aula1`\n",
    "git checkout aula1\n",
    "\n",
    "# Fazer alterações e commit na branch `aula1`\n",
    "git add .\n",
    "git commit -m \"Alterações na branch aula1\"\n",
    "\n",
    "# Criar a branch `aula2` a partir da `aula1` e alternar para ela\n",
    "git checkout -b aula2\n",
    "\n",
    "# Fazer alterações e commit na branch `aula2`\n",
    "git add .\n",
    "git commit -m \"Alterações na branch aula2\"\n",
    "```\n",
    "\n",
    "    **7.2.2 Mesclando Branches**\n",
    "\n",
    "Após concluir o trabalho nas branches secundárias, você pode mesclar as mudanças na branch principal (main).\n",
    "\n",
    "```bash\n",
    "# Voltar para a branch principal (`main`)\n",
    "git checkout main\n",
    "\n",
    "# Mesclar a branch `aula1` na `main`\n",
    "git merge aula1\n",
    "\n",
    "# Mesclar a branch `aula2` na `main`\n",
    "git merge aula2\n",
    "```\n",
    "\n",
    "**7.3 Conclusão**\n",
    "\n",
    "O uso de branches permite um desenvolvimento organizado e seguro, onde diferentes funcionalidades podem ser desenvolvidas simultaneamente sem interferir no código principal.\n",
    "\n",
    "As branches `aula1` e `aula2` são exemplos de como gerenciar essas linhas de desenvolvimento de forma eficiente."
   ]
  },
  {
   "cell_type": "markdown",
   "metadata": {},
   "source": [
    "### 8. **Considerações Finais**\n",
    "\n",
    "Trabalhar com Git e GitHub é essencial para o desenvolvimento moderno de software, especialmente em projetos colaborativos. Este guia forneceu uma visão geral de como configurar e usar essas ferramentas, desde a inicialização do repositório até o gerenciamento de branches e a sincronização com repositórios remotos. Seguindo essas práticas, você garantirá que seu código seja bem organizado, seguro e acessível a todos os membros da equipe."
   ]
  }
 ],
 "metadata": {
  "kernelspec": {
   "display_name": "Python 3 (ipykernel)",
   "language": "python",
   "name": "python3"
  },
  "language_info": {
   "codemirror_mode": {
    "name": "ipython",
    "version": 3
   },
   "file_extension": ".py",
   "mimetype": "text/x-python",
   "name": "python",
   "nbconvert_exporter": "python",
   "pygments_lexer": "ipython3",
   "version": "3.12.5"
  }
 },
 "nbformat": 4,
 "nbformat_minor": 4
}
