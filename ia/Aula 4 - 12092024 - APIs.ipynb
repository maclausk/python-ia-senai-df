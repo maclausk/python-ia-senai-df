{
 "cells": [
  {
   "cell_type": "markdown",
   "metadata": {},
   "source": [
    "### **SENAI-DF - Python : Artificial Intelligence - Vespertino - QUA.494.002 - 12/09/2024**\n",
    "### Aula 04 - APis"
   ]
  },
  {
   "cell_type": "markdown",
   "metadata": {},
   "source": [
    "**--- API CLIMA ---**"
   ]
  },
  {
   "cell_type": "code",
   "execution_count": 4,
   "metadata": {},
   "outputs": [
    {
     "name": "stdout",
     "output_type": "stream",
     "text": [
      "Data e hora local: 2024-09-13 10:09\n",
      "País: Brasil\n",
      "Temperatura: 24.1°C\n",
      "Vento: 15.8 km/h\n",
      "Condição: Sunny\n",
      "Sensação térmica: 24.4°C\n",
      "Umidade: 47%\n",
      "Visibilidade: 10.0 km\n",
      "Pressão atmosférica: 1023.0 mb\n",
      "Última atualização: 2024-09-13 10:00\n",
      "Índice UV: 8.0\n",
      "Precipitação: 0.0 mm\n",
      "Direção do vento: ENE\n",
      "Fuso horário: America/Sao_Paulo\n",
      "Localização: Brasília, Distrito Federal, Brasil\n",
      "Coordenadas: -15.78, -47.92\n"
     ]
    }
   ],
   "source": [
    "# Importando a biblioteca requests para fazer requisições HTTP\n",
    "import requests\n",
    "\n",
    "# Definindo a chave da API\n",
    "# A chave da API é usada para autenticar a solicitação. No caso, estamos usando uma chave fornecida pela Weather API.\n",
    "api_key = \"da7d7856826a4e9daae192630241109\"\n",
    "\n",
    "# Definindo a cidade para a qual queremos obter informações climáticas\n",
    "# Aqui, 'Brasília' é a cidade que estamos consultando. Você pode alterar isso para qualquer outra cidade.\n",
    "cidade = \"Brasília\"\n",
    "\n",
    "# Montando a URL da API\n",
    "# Esta é a URL completa que usaremos para fazer a solicitação à API WeatherAPI. A chave da API e a cidade estão incluídas na URL.\n",
    "url = f\"http://api.weatherapi.com/v1/current.json?key={api_key}&q={cidade}\"\n",
    "\n",
    "# Enviando uma solicitação GET para a API e recebendo os dados em formato JSON\n",
    "# O método 'requests.get' faz a solicitação para a URL e 'response.json()' converte a resposta em um dicionário Python (formato JSON).\n",
    "response = requests.get(url).json()\n",
    "\n",
    "# Exibindo a data e hora local da cidade consultada\n",
    "print(f\"Data e hora local: {response['location']['localtime']}\")\n",
    "\n",
    "# Exibindo o país da cidade consultada\n",
    "print(f\"País: {response['location']['country']}\")\n",
    "\n",
    "# Exibindo a temperatura atual em graus Celsius\n",
    "print(f\"Temperatura: {response['current']['temp_c']}°C\")\n",
    "\n",
    "# Exibindo a velocidade do vento em quilômetros por hora\n",
    "print(f\"Vento: {response['current']['wind_kph']} km/h\")\n",
    "\n",
    "# Exibindo a condição climática (exemplo: \"Ensolarado\", \"Chuvoso\", etc.)\n",
    "print(f\"Condição: {response['current']['condition']['text']}\")\n",
    "\n",
    "# Exibindo a sensação térmica (temperatura que a pessoa realmente sente) em graus Celsius\n",
    "print(f\"Sensação térmica: {response['current']['feelslike_c']}°C\")\n",
    "\n",
    "# Exibindo a umidade relativa do ar em porcentagem\n",
    "print(f\"Umidade: {response['current']['humidity']}%\")\n",
    "\n",
    "# Exibindo a visibilidade em quilômetros\n",
    "print(f\"Visibilidade: {response['current']['vis_km']} km\")\n",
    "\n",
    "# Exibindo a pressão atmosférica em milibares (mb)\n",
    "print(f\"Pressão atmosférica: {response['current']['pressure_mb']} mb\")\n",
    "\n",
    "# Exibindo a última vez que os dados climáticos foram atualizados\n",
    "print(f\"Última atualização: {response['current']['last_updated']}\")\n",
    "\n",
    "# Exibindo o índice UV (indicador da intensidade da radiação ultravioleta)\n",
    "print(f\"Índice UV: {response['current']['uv']}\")\n",
    "\n",
    "# Exibindo a quantidade de precipitação (chuva) em milímetros\n",
    "print(f\"Precipitação: {response['current']['precip_mm']} mm\")\n",
    "\n",
    "# Exibindo a direção do vento (por exemplo, \"N\" para norte, \"S\" para sul, etc.)\n",
    "print(f\"Direção do vento: {response['current']['wind_dir']}\")\n",
    "\n",
    "# Exibindo o fuso horário da cidade consultada\n",
    "print(f\"Fuso horário: {response['location']['tz_id']}\")\n",
    "\n",
    "# Exibindo o nome da cidade, região e país da localização\n",
    "print(f\"Localização: {response['location']['name']}, {response['location']['region']}, {response['location']['country']}\")\n",
    "\n",
    "# Exibindo as coordenadas geográficas (latitude e longitude) da cidade consultada\n",
    "print(f\"Coordenadas: {response['location']['lat']}, {response['location']['lon']}\")\n",
    "\n",
    "\n",
    "# API significa \"Interface de Programação de Aplicações\" (Application Programming Interface). Basicamente, é um meio que um programa usa para se comunicar com outro.\n",
    "# No caso do código acima, estamos usando a Weather API, que nos fornece informações sobre o clima de uma cidade. Nós solicitamos (através de uma requisição HTTP) os dados climáticos, e a API responde com informações sobre temperatura, vento, umidade, etc.\n",
    "\n",
    "# Como funciona este código?\n",
    "\n",
    "# Chave da API: Precisamos de uma chave única que identifica nossa solicitação para a API. Cada API pode ter suas regras de uso, e a chave é como se fosse uma senha de acesso.\n",
    "\n",
    "# Requisição GET: Quando queremos pegar dados de uma API, fazemos uma \"requisição GET\". O código faz isso com a função requests.get(url), que acessa a URL da API e busca os dados.\n",
    "\n",
    "# JSON: A resposta da API vem no formato JSON, que é uma maneira fácil de organizar e compartilhar dados. Quando usamos response.json(), transformamos esses dados em um formato que o Python pode entender e manipular (dicionários e listas).\n",
    "\n",
    "# https://www.weatherapi.com/docs/"
   ]
  },
  {
   "cell_type": "markdown",
   "metadata": {},
   "source": [
    "**--- API CEP ---**"
   ]
  },
  {
   "cell_type": "code",
   "execution_count": 11,
   "metadata": {},
   "outputs": [
    {
     "data": {
      "text/plain": [
       "{'cep': '72152-008',\n",
       " 'logradouro': 'Quadra QNL 19 Conjunto H',\n",
       " 'complemento': '',\n",
       " 'unidade': '',\n",
       " 'bairro': 'Taguatinga Norte (Taguatinga)',\n",
       " 'localidade': 'Brasília',\n",
       " 'uf': 'DF',\n",
       " 'estado': 'Distrito Federal',\n",
       " 'regiao': 'Centro-Oeste',\n",
       " 'ibge': '5300108',\n",
       " 'gia': '',\n",
       " 'ddd': '61',\n",
       " 'siafi': '9701'}"
      ]
     },
     "execution_count": 11,
     "metadata": {},
     "output_type": "execute_result"
    }
   ],
   "source": [
    "# Definir a variável CEP\n",
    "# Aqui, estamos definindo o CEP que será consultado na API ViaCEP. O valor \"72152008\" é um exemplo de CEP válido.\n",
    "cep = \"72152008\" \n",
    "\n",
    "# Definindo a variável URL\n",
    "# A URL da API ViaCEP utiliza o CEP fornecido para buscar informações. A API espera que o CEP seja inserido no caminho da URL, por isso estamos utilizando uma string formatada (f-string) para substituir {cep} pelo valor da variável 'cep'.\n",
    "url = f\"https://viacep.com.br/ws/{cep}/json\"\n",
    "\n",
    "# Realizar a requisição\n",
    "# Estamos enviando uma requisição HTTP do tipo GET para a URL definida acima, utilizando a biblioteca requests.\n",
    "# O método .json() é utilizado para converter a resposta em um dicionário Python, facilitando o acesso aos dados.\n",
    "response = requests.get(url).json()\n",
    "\n",
    "# Exibir a resposta crua do CEP para verificar as informações retornadas\n",
    "response"
   ]
  },
  {
   "cell_type": "code",
   "execution_count": 19,
   "metadata": {},
   "outputs": [
    {
     "name": "stdout",
     "output_type": "stream",
     "text": [
      "============================== CONSULTA CEP ==============================\n",
      "Bairro: Taguatinga Norte (Taguatinga)\n",
      "Estado: DF\n",
      "CEP: 72152-008\n",
      "Logradouro: Quadra QNL 19 Conjunto H\n",
      "Localidade: Brasília\n",
      "==========================================================================\n"
     ]
    }
   ],
   "source": [
    "# Exibindo informações sobre o CEP\n",
    "# Aqui, estamos acessando as informações contidas no dicionário 'response' retornado pela API. Cada chave no dicionário corresponde a um atributo do endereço:\n",
    "# - 'bairro' se refere ao bairro.\n",
    "# - 'uf' é a sigla do estado.\n",
    "# - 'cep' é o próprio CEP.\n",
    "# - 'logradouro' corresponde à rua.\n",
    "# - 'localidade' é o nome da cidade.\n",
    "print(30*'=', 'CONSULTA CEP', 30*'=')\n",
    "input('Digite o CEP a ser consultado (apenas números):')\n",
    "print(f\"Bairro: {response['bairro']}\")\n",
    "print(f\"Estado: {response['uf']}\")\n",
    "print(f\"CEP: {response['cep']}\")\n",
    "print(f\"Logradouro: {response['logradouro']}\")\n",
    "print(f\"Localidade: {response['localidade']}\")\n",
    "print(74*'=')\n",
    "\n",
    "# CEP: A variável cep armazena o CEP que queremos consultar, no exemplo \"72152008\".\n",
    "# URL: Utilizamos uma string formatada para incluir o CEP na URL da API ViaCEP, de forma que a API processe a solicitação e retorne os dados do CEP.\n",
    "# Requisição GET: O método requests.get() é usado para enviar uma requisição para a URL da API. A resposta é convertida diretamente em um dicionário Python usando .json().\n",
    "# Exibição da resposta: Ao final, o dicionário response contém todas as informações sobre o CEP fornecido, como logradouro, bairro, cidade e estado.\n",
    "# Se você executar o código, a variável response conterá todas as informações detalhadas sobre o CEP consultado."
   ]
  },
  {
   "cell_type": "markdown",
   "metadata": {},
   "source": [
    "**--- API SUPER HERO ---**"
   ]
  },
  {
   "cell_type": "code",
   "execution_count": null,
   "metadata": {},
   "outputs": [],
   "source": [
    "import requests\n",
    "\n",
    "# ID do super-herói que você quer consultar (exemplo: Spider-Man)\n",
    "superhero_id = 620\n",
    "\n",
    "# URL da SuperHero API (substitua 'ACCESS_TOKEN' pelo seu token de autenticação da API)\n",
    "url = f\"https://superheroapi.com/api/ACCESS_TOKEN/{superhero_id}\"\n",
    "\n",
    "# Enviar a requisição GET para a API\n",
    "response = requests.get(url)\n",
    "\n",
    "# Verificar o status da requisição\n",
    "if response.status_code == 200:\n",
    "    # Converter a resposta JSON em um dicionário Python\n",
    "    data = response.json()\n",
    "    \n",
    "    # Exibir informações do super-herói\n",
    "    print(f\"Nome: {data['name']}\")\n",
    "    print(f\"Nome Real: {data['biography']['full-name']}\")\n",
    "    print(f\"Inteligência: {data['powerstats']['intelligence']}\")\n",
    "    print(f\"Força: {data['powerstats']['strength']}\")\n",
    "    print(f\"Velocidade: {data['powerstats']['speed']}\")\n",
    "    print(f\"Durabilidade: {data['powerstats']['durability']}\")\n",
    "    print(f\"Poder: {data['powerstats']['power']}\")\n",
    "    print(f\"Combate: {data['powerstats']['combat']}\")\n",
    "else:\n",
    "    print(f\"Erro {response.status_code}: Não foi possível obter os dados do super-herói.\")"
   ]
  }
 ],
 "metadata": {
  "kernelspec": {
   "display_name": ".venv",
   "language": "python",
   "name": "python3"
  },
  "language_info": {
   "codemirror_mode": {
    "name": "ipython",
    "version": 3
   },
   "file_extension": ".py",
   "mimetype": "text/x-python",
   "name": "python",
   "nbconvert_exporter": "python",
   "pygments_lexer": "ipython3",
   "version": "3.12.4"
  }
 },
 "nbformat": 4,
 "nbformat_minor": 2
}
