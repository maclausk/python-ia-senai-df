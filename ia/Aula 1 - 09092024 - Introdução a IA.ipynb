{
 "cells": [
  {
   "cell_type": "markdown",
   "metadata": {},
   "source": [
    "### **SENAI-DF - Python : Artificial Intelligence - Vespertino - QUA.494.002 - 09/09/2024**\n",
    "### Aula 01 - Introdução à Inteligência Artificial (IA)"
   ]
  },
  {
   "cell_type": "markdown",
   "metadata": {},
   "source": [
    "**Bloco de Anotações Utlizado**\n",
    "\n",
    "https://dontpad.com/semanatextmining"
   ]
  },
  {
   "cell_type": "markdown",
   "metadata": {},
   "source": [
    "A **Inteligência Artificial (IA)** é uma área da ciência da computação que tem como objetivo criar sistemas capazes de realizar tarefas que normalmente requerem inteligência humana. Essas tarefas incluem a capacidade de aprender, raciocinar, tomar decisões e resolver problemas. A IA já está presente no nosso dia a dia, em assistentes virtuais como Siri ou Alexa, em recomendações de filmes, e até na automação de processos industriais.\n",
    "\n",
    "#### Principais conceitos de IA:\n",
    "\n",
    "- **Imitação do comportamento humano**: IA tenta replicar comportamentos humanos, como aprender, adaptar-se a novas situações e tomar decisões.\n",
    "- **Aumento da produtividade**: A IA pode automatizar tarefas repetitivas ou complexas, permitindo que as pessoas se concentrem em atividades mais estratégicas e criativas.\n",
    "- **Imitação dos sentidos humanos**: Sistemas de IA podem simular habilidades humanas, como visão (por meio de câmeras), audição (reconhecimento de voz), e até emoções (através de análise de sentimentos).\n",
    "- **Reconhecimento de padrões**: IA é usada para identificar padrões em grandes volumes de dados, o que permite prever tendências, otimizar processos e resolver problemas de maneira mais eficiente.\n",
    "\n",
    "#### Machine Learning (Aprendizado de Máquina):\n",
    "\n",
    "O **Machine Learning** é uma subárea da IA que envolve a criação de modelos que aprendem a partir dos dados. Existem três principais tipos de aprendizado:\n",
    "\n",
    "- **Supervisionado**: O modelo aprende a partir de dados rotulados (ex.: classificação de imagens).\n",
    "- **Não supervisionado**: O modelo identifica padrões em dados não rotulados (ex.: agrupamento de clientes).\n",
    "- **Aprendizado por reforço**: O modelo aprende com tentativas e erros, buscando maximizar recompensas (ex.: jogar xadrez).\n",
    "\n",
    "#### Deep Learning:\n",
    "\n",
    "O **Deep Learning** é uma subcategoria do Machine Learning, que utiliza redes neurais profundas. Esse tipo de rede é particularmente eficiente em tarefas complexas como reconhecimento de imagens, processamento de linguagem natural (PLN), e condução autônoma.\n",
    "\n",
    "#### Aplicações de IA:\n",
    "\n",
    "1. **Transformar texto em áudio**: Por exemplo, assistentes virtuais podem \"ler\" um texto em voz alta.\n",
    "2. **Identificar e comparar imagens**: Reconhecimento facial e diagnóstico de imagens médicas.\n",
    "3. **Analisar sentimentos**: Detectar emoções em comentários de redes sociais ou análises de produtos.\n",
    "4. **Automação de veículos**: Treinar táxis autônomos para dirigir sem intervenção humana.\n",
    "5. **Recomendações de filmes**: Com base no histórico de avaliações dos usuários, algoritmos de IA recomendam filmes.\n",
    "\n",
    "#### Terminologias Importantes:\n",
    "\n",
    "- **Overfitting**: O overfitting ocorre quando o modelo \"aprende demais\" a partir dos dados de treino, memorizando detalhes e ruídos que são específicos daquele conjunto de dados. Isso faz com que ele tenha um ótimo desempenho nos dados de treino, mas um desempenho ruim em novos dados (generalização). \n",
    "  - **Exemplo**: Imagine que você está treinando um modelo para prever preços de casas com base em dados históricos de vendas. Se o modelo se ajustar muito aos dados de treino, ele pode \"aprender\" detalhes irrelevantes, como o fato de que uma casa específica foi vendida em um dia chuvoso, algo que não afeta realmente o preço. Quando aplicado a novos dados, ele terá dificuldade em prever corretamente, pois se baseou em padrões irrelevantes.\n",
    "  - **Caso real**: No Kaggle, competições de modelagem frequentemente enfrentam o problema de overfitting. Participantes que ajustam seus modelos excessivamente aos dados de treino conseguem alta pontuação na fase de treino, mas caem drasticamente na fase de teste, onde os dados são diferentes.\n",
    "\n",
    "- **Underfitting**: O underfitting ocorre quando o modelo não consegue capturar os padrões nos dados de treino, seja por ser muito simples ou por não ser treinado o suficiente. Isso leva a um desempenho ruim tanto nos dados de treino quanto nos novos dados.\n",
    "  - **Exemplo**: Se você tentar prever os preços de casas usando apenas um fator simples, como o número de quartos, ignorando outros aspectos como localização e tamanho, o modelo não será capaz de fazer boas previsões, pois ele não está capturando a complexidade dos dados. \n",
    "  - **Caso real**: Um exemplo comum de underfitting pode ser observado em modelos lineares muito simples aplicados a dados complexos. Se você tentar ajustar uma reta a dados não lineares, o modelo terá um desempenho ruim porque não conseguirá capturar a variação real nos dados.\n",
    "\n",
    "- **Viés**: O viés refere-se às restrições que um modelo pode ter ao tentar fazer previsões. Modelos com alto viés tendem a ser muito rígidos, o que pode resultar em previsões inadequadas. Um viés muito alto pode impedir o modelo de capturar padrões nos dados, levando ao underfitting.\n",
    "  - **Exemplo**: Em um modelo de classificação de imagens, um viés alto pode ocorrer se o modelo presumir que todas as imagens de gatos devem ter certas características específicas (como serem de uma determinada cor), o que pode fazer com que ele falhe ao reconhecer gatos com padrões de cor diferentes.\n",
    "  - **Caso real**: O **Google Photos** enfrentou um problema de viés quando um de seus algoritmos de reconhecimento de imagem identificou incorretamente pessoas negras como gorilas. Esse tipo de viés resultou de um treinamento inadequado, onde os dados não eram suficientemente variados e representativos de diferentes tons de pele.\n",
    "\n",
    "- **Variância**: A variância refere-se à flexibilidade do modelo em se adaptar aos dados. Modelos com alta variância podem ajustar-se demais aos dados de treino, o que pode resultar em overfitting. Modelos com baixa variância tendem a ser mais rígidos, resultando em underfitting.\n",
    "  - **Exemplo**: Um modelo de árvore de decisão muito profundo pode ter alta variância, ajustando-se excessivamente aos dados de treino e capturando todos os detalhes e variações, incluindo os ruídos, levando ao overfitting.\n",
    "  - **Caso real**: Um exemplo de alta variância pode ser encontrado em **redes neurais muito complexas**, que ajustam milhares de parâmetros. Se os dados de treino forem limitados ou ruidosos, a rede neural pode aprender os detalhes irrelevantes dos dados de treino, resultando em um modelo que não generaliza bem para novos dados.\n",
    "\n",
    "#### Métricas de Avaliação:\n",
    "\n",
    "- **Função de Custo**: A função de custo é uma medida que avalia o desempenho do modelo, comparando as previsões feitas com os resultados reais. Quanto menor for o valor da função de custo, melhor o modelo está desempenhando. Um exemplo comum de função de custo é o **Erro Quadrático Médio (MSE - Mean Squared Error)**, que calcula a média dos quadrados das diferenças entre os valores previstos e os valores reais.\n",
    "  - **Exemplo prático**: Suponha que você esteja treinando um modelo para prever os preços de casas. Se o modelo prever que uma casa vale R$ 300.000, mas seu preço real é R$ 320.000, o MSE calcularia a diferença (R$ 320.000 - R$ 300.000 = R$ 20.000), elevaria ao quadrado (20.000² = 400.000.000) e tiraria a média de todas essas diferenças quadradas para dar uma ideia de quão longe o modelo está das previsões reais. Quanto maior o MSE, pior é o desempenho do modelo.\n",
    "  - **Caso real**: Em previsões financeiras, como previsão de receitas de empresas, o MSE é utilizado para avaliar o quão bem o modelo está capturando as variações nas receitas ao longo do tempo. Modelos com MSE muito alto indicam que as previsões estão frequentemente longe dos valores reais.\n",
    "\n",
    "- **Otimizadores**: Os otimizadores são algoritmos usados para ajustar os parâmetros do modelo a fim de minimizar a função de custo. Eles têm como objetivo encontrar os melhores valores para os pesos e vieses do modelo, de modo a melhorar a precisão das previsões. Um otimizador popular é o **Gradiente Descendente (Gradient Descent)**, que ajusta os parâmetros do modelo em pequenas etapas, descendo a \"curva de erro\" até encontrar o ponto de menor custo.\n",
    "  - **Exemplo prático**: Imagine que você esteja escalando uma montanha e deseja chegar ao ponto mais baixo possível. O algoritmo de Gradiente Descendente simula esse processo, onde a cada passo você avalia a inclinação da montanha (a função de custo) e decide a direção para descer. O objetivo é chegar ao ponto onde a inclinação é zero, ou seja, o erro mínimo.\n",
    "  - **Caso real**: Em redes neurais profundas, o otimizador é essencial para ajustar os pesos de cada camada da rede durante o processo de treinamento. O **Adam Optimizer**, uma versão aprimorada do Gradiente Descendente, é amplamente utilizado para treinar redes neurais em tarefas como reconhecimento de imagens, onde a busca pelos melhores pesos requer ajustes finos em milhares de parâmetros.\n",
    "\n",
    "Essas métricas e otimizadores são fundamentais para garantir que o modelo esteja aprendendo da maneira correta e sendo capaz de generalizar bem para novos dados. Sem uma boa função de custo e um otimizador eficiente, o modelo pode não atingir seu potencial máximo e cometer muitos erros em suas previsões.\n",
    "\n",
    "---"
   ]
  },
  {
   "cell_type": "markdown",
   "metadata": {},
   "source": [
    "### Exemplo de Implementação para Overfitting e Underfitting\n",
    "\n",
    "1. Overfitting e Underfitting\n",
    "\n",
    "Vamos criar um exemplo bem simples de como um modelo pode \"aprender demais\" (overfitting) ou \"aprender de menos\" (underfitting).\n",
    "\n",
    "Imagine que você tem dados sobre o tamanho de frutas (em centímetros) e suas classificações (maçã ou laranja). Queremos criar um modelo que aprenda a identificar se a fruta é uma maçã ou uma laranja com base no seu tamanho.\n",
    "\n",
    "Nesse exemplo, estamos dizendo ao modelo que aprenda com dados muito simples, usando apenas o tamanho das frutas. Um modelo com pouca profundidade (max_depth=1) terá dificuldade em capturar detalhes. Isso é chamado de underfitting, ou seja, o modelo não está aprendendo o suficiente para fazer boas previsões.\n",
    "\n",
    "Esse exemplo ajuda a entender como o modelo de árvore de decisão funciona:\n",
    "\n",
    "O modelo vai aprender a classificar com base nas alturas fornecidas.\n",
    "Como usamos um modelo muito simples (profundidade de 1), ele só vai fazer uma divisão bem básica nos dados (underfitting).\n",
    "\n",
    "Neste exemplo, o modelo vai criar uma regra simples: \"Se a altura for menor ou igual a 145 cm, é uma criança, senão é um adulto.\""
   ]
  },
  {
   "cell_type": "code",
   "execution_count": 11,
   "metadata": {},
   "outputs": [
    {
     "name": "stdout",
     "output_type": "stream",
     "text": [
      "A previsão é: Maçã\n"
     ]
    }
   ],
   "source": [
    "# Importar a biblioteca DecisionTreeClassifier da Scikit-Learn, que será usada para criar o modelo de árvore de decisão.\n",
    "from sklearn.tree import DecisionTreeClassifier\n",
    "\n",
    "# Dados simplificados: Tamanhos de frutas (em centímetros) e suas classificações (0 para maçã, 1 para laranja)\n",
    "# Aqui temos 6 frutas: três maçãs e três laranjas, e o modelo aprenderá com esses dados.\n",
    "tamanhos = [[4], [5], [6], [7], [8], [9]]  # Tamanhos de frutas em uma lista\n",
    "frutas = [0, 0, 0, 1, 1, 1]  # 0 representa Maçã, 1 representa Laranja\n",
    "\n",
    "# Criar um modelo de árvore de decisão simples com uma profundidade máxima de 1.\n",
    "# Isso significa que a árvore será muito simples, e pode não capturar toda a complexidade dos dados (underfitting).\n",
    "modelo = DecisionTreeClassifier(max_depth=1)  # Modelo subajustado (underfitting)\n",
    "modelo.fit(tamanhos, frutas)  # Treinar o modelo com os dados de tamanhos e suas classificações (maçã ou laranja)\n",
    "\n",
    "# Fazer uma previsão para um novo dado, ou seja, prever o tipo de fruta para uma fruta com tamanho 6.5 cm.\n",
    "# O modelo vai tentar classificar essa fruta com base nos dados que aprendeu.\n",
    "resultado = modelo.predict([[6.5]])\n",
    "\n",
    "# Exibir o resultado da previsão. Se o modelo prever \"0\", é uma maçã. Se prever \"1\", é uma laranja.\n",
    "print(f\"A previsão é: {'Maçã' if resultado == 0 else 'Laranja'}\")"
   ]
  },
  {
   "cell_type": "markdown",
   "metadata": {},
   "source": [
    "2. Função de Custo e Otimizadores (Exemplo Simplificado)\n",
    "\n",
    "A função de custo basicamente mostra quão \"longe\" o modelo está da resposta certa. Pense nisso como a pontuação de um jogo: quanto maior a pontuação, pior o modelo está.\n",
    "\n",
    "Vamos imaginar um jogo em que o modelo tem que adivinhar quantas maçãs há em uma cesta. Se ele errar, calculamos a diferença entre o número correto e a previsão.\n",
    "\n",
    "Aqui estamos apenas comparando quantas maçãs o modelo previu versus quantas realmente existem. A diferença (erro) nos diz o quão longe o modelo está da resposta correta. A ideia de um otimizador é ajustar as previsões para diminuir essa diferença."
   ]
  },
  {
   "cell_type": "code",
   "execution_count": 10,
   "metadata": {},
   "outputs": [
    {
     "name": "stdout",
     "output_type": "stream",
     "text": [
      "Diferença entre previsão e real: [2, 3, 1]\n"
     ]
    }
   ],
   "source": [
    "# Dados: número real de maçãs e a previsão do modelo\n",
    "real = [10, 12, 14]  # Número real de maçãs em três cestas\n",
    "previsao = [8, 15, 13]  # Previsão feita pelo modelo\n",
    "\n",
    "# Calcular a diferença\n",
    "erro = [abs(r - p) for r, p in zip(real, previsao)]\n",
    "\n",
    "# Mostrar os erros\n",
    "print(f\"Diferença entre previsão e real: {erro}\")"
   ]
  },
  {
   "cell_type": "markdown",
   "metadata": {},
   "source": [
    "3. Aplicação Simples de IA: Recomendação de Filmes\n",
    "\n",
    "Agora, um exemplo muito simples de como a IA pode ser usada para recomendar filmes. Em vez de um algoritmo complicado, pense nisso como uma \"adivinhação\". Se você gostou de um filme, o sistema pode sugerir outros filmes parecidos.\n",
    "\n",
    "Aqui, o sistema verifica o que você já assistiu e, com base nisso, recomenda outro filme semelhante. É uma forma bem simples de recomendação, que é uma das aplicações mais comuns de IA."
   ]
  },
  {
   "cell_type": "code",
   "execution_count": 12,
   "metadata": {},
   "outputs": [
    {
     "name": "stdout",
     "output_type": "stream",
     "text": [
      "Recomendamos assistir 'Thor'.\n"
     ]
    }
   ],
   "source": [
    "# Lista de filmes que você assistiu\n",
    "filmes_assistidos = [\"Vingadores\", \"Capitão América\", \"Homem de Ferro\"]\n",
    "\n",
    "# Baseado nos filmes que você assistiu, vamos recomendar um novo filme\n",
    "if \"Vingadores\" in filmes_assistidos:\n",
    "    recomendacao = \"Recomendamos assistir 'Thor'.\"\n",
    "else:\n",
    "    recomendacao = \"Recomendamos assistir 'Pantera Negra'.\"\n",
    "\n",
    "print(recomendacao)"
   ]
  },
  {
   "cell_type": "markdown",
   "metadata": {},
   "source": [
    "### Resumo dos Aprendizados:\n",
    "- **Inteligência Artificial**: Área da computação que cria sistemas capazes de realizar tarefas humanas.\n",
    "- **Machine Learning**: Subcampo da IA que envolve a criação de modelos que aprendem a partir de dados.\n",
    "- **Overfitting**: Quando o modelo se ajusta muito aos dados de treino, mas não generaliza bem para novos dados.\n",
    "- **Underfitting**: Quando o modelo é muito simples e não captura padrões importantes nos dados.\n",
    "- **Função de Custo**: Mede a diferença entre o valor real e o valor previsto pelo modelo.\n",
    "- **Otimizadores**: Ajustam os parâmetros do modelo para minimizar a função de custo e melhorar as previsões."
   ]
  },
  {
   "cell_type": "markdown",
   "metadata": {},
   "source": [
    "### Referências:\n",
    "- [Scikit-Learn Documentation](https://scikit-learn.org/stable/)\n",
    "- [Python Data Science Handbook](https://jakevdp.github.io/PythonDataScienceHandbook/)"
   ]
  }
 ],
 "metadata": {
  "kernelspec": {
   "display_name": "Python 3",
   "language": "python",
   "name": "python3"
  },
  "language_info": {
   "codemirror_mode": {
    "name": "ipython",
    "version": 3
   },
   "file_extension": ".py",
   "mimetype": "text/x-python",
   "name": "python",
   "nbconvert_exporter": "python",
   "pygments_lexer": "ipython3",
   "version": "3.12.4"
  }
 },
 "nbformat": 4,
 "nbformat_minor": 2
}
