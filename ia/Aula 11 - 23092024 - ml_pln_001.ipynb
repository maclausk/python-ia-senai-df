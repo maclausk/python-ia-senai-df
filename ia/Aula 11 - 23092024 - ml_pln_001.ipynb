{
 "cells": [
  {
   "cell_type": "markdown",
   "metadata": {},
   "source": [
    "### **SENAI-DF - Python : Artificial Intelligence - Vespertino - QUA.494.002 - 23/09/2024**\n",
    "### **Aula 11 - Semana Machine Learning - ml_pln_001**"
   ]
  },
  {
   "cell_type": "markdown",
   "metadata": {},
   "source": [
    "**https://linktr.ee/semanadatascience**"
   ]
  },
  {
   "cell_type": "markdown",
   "metadata": {},
   "source": [
    "### Potênciação e Potência\n",
    "\n",
    "- Potênciação é a multiplicação sucessiva de números iguais.\n",
    "\n",
    "- Potência é o resultado da potênciação\n",
    "\n",
    "- Base - é a parte de baixo\n",
    "- Expotente - é a parte de cima\n",
    "\n",
    "\n",
    "- Todo número elevado a 1 é igual a ele mesmo.\n",
    "- Todo número decimal não nulo elevado a zero é igual a 1\n",
    "- A propriedade de que qualquer número multiplicado por zero resulta em zero é uma regra fundamental da matemática."
   ]
  },
  {
   "cell_type": "markdown",
   "metadata": {},
   "source": [
    "### Versão Programação Orientada a Objetos Power\n",
    "\n",
    "1.  Interface (polimorfismo)\n",
    "2.  Classe Abstrata (polimorfismo)\n",
    "3.  Classe\n",
    "4.  Construtor\n",
    "5.  get e set (encapsulamento)\n",
    "6.  Cria um objeto\n",
    "7.  Chame o construtor\n",
    "8.  Chame a função"
   ]
  },
  {
   "cell_type": "markdown",
   "metadata": {},
   "source": [
    "1.  Interface (polimorfismo)"
   ]
  },
  {
   "cell_type": "code",
   "execution_count": 1,
   "metadata": {},
   "outputs": [],
   "source": [
    "# prompt: crie uma interface em python para calcular_potencia( )\n",
    "# abc\n",
    "from abc import ABC, abstractmethod\n",
    "\n",
    "# Interface ou I\n",
    "# PotenciaInteface ou IPotencia\n",
    "# Orientada a Objetos - padrão para os objetos.\n",
    "\n",
    "class IPotencia(ABC): # herança\n",
    "  @abstractmethod # assinatura com contrato\n",
    "  def calcular_potencia(self, base, expoente):\n",
    "     pass"
   ]
  },
  {
   "cell_type": "code",
   "execution_count": 2,
   "metadata": {},
   "outputs": [],
   "source": [
    "class Potencia(IPotencia):\n",
    "  def calcular_potencia(self, base, expoente):\n",
    "    return pow(base, expoente)"
   ]
  },
  {
   "cell_type": "code",
   "execution_count": 3,
   "metadata": {},
   "outputs": [],
   "source": [
    "p = Potencia()"
   ]
  },
  {
   "cell_type": "code",
   "execution_count": 4,
   "metadata": {},
   "outputs": [
    {
     "name": "stdout",
     "output_type": "stream",
     "text": [
      "potência: 0.5120\n"
     ]
    }
   ],
   "source": [
    "print(f\"potência: {p.calcular_potencia(0.8,3):.4f}\")"
   ]
  },
  {
   "cell_type": "code",
   "execution_count": 5,
   "metadata": {},
   "outputs": [],
   "source": [
    "from abc import ABC, abstractmethod\n",
    "\n",
    "class ICalculadora(ABC):\n",
    "\n",
    "  @abstractmethod\n",
    "  def multiplicar(self):\n",
    "    pass"
   ]
  },
  {
   "cell_type": "code",
   "execution_count": 6,
   "metadata": {},
   "outputs": [],
   "source": [
    "class CalculadoraPadrao(ICalculadora):\n",
    "  def __init__(self, num1=None, num2=None, num3=None):\n",
    "    self.__num1 = num1\n",
    "    self.__num2 = num2\n",
    "    self.__num3 = num3\n",
    "\n",
    "  def multiplicar(self):\n",
    "    return self.__num1 * self.__num2 * self.__num3\n",
    "\n",
    "  @property\n",
    "  def num1(self):\n",
    "    return self.__num1\n",
    "\n",
    "  @num1.setter\n",
    "  def num1(self, value):\n",
    "    self.__num1 = value\n",
    "\n",
    "  @property\n",
    "  def num2(self):\n",
    "    return self.__num2\n",
    "\n",
    "  @num2.setter\n",
    "  def num2(self, value):\n",
    "    self.__num2 = value\n",
    "\n",
    "  @property\n",
    "  def num3(self):\n",
    "    return self.__num3\n",
    "\n",
    "  @num3.setter\n",
    "  def num3(self, value):\n",
    "    self.__num3 = value"
   ]
  },
  {
   "cell_type": "code",
   "execution_count": 7,
   "metadata": {},
   "outputs": [],
   "source": [
    "# NUNCA NUNCA NUNCA - crie objeto de interfaces ou classes abstratas.\n",
    "objeto = CalculadoraPadrao()"
   ]
  },
  {
   "cell_type": "code",
   "execution_count": 8,
   "metadata": {},
   "outputs": [
    {
     "name": "stdout",
     "output_type": "stream",
     "text": [
      "Resultado da multiplicação (construtor):  0.512\n"
     ]
    }
   ],
   "source": [
    "# Usando o construtor\n",
    "calculadora1 = CalculadoraPadrao(0.8,0.8,0.8)\n",
    "\n",
    "resultado1 = calculadora1.multiplicar()\n",
    "print(f\"Resultado da multiplicação (construtor): {resultado1 : .3f}\")"
   ]
  },
  {
   "cell_type": "code",
   "execution_count": 10,
   "metadata": {},
   "outputs": [
    {
     "name": "stdout",
     "output_type": "stream",
     "text": [
      "Resultado da multiplicação (get e set):  108.528 \n"
     ]
    }
   ],
   "source": [
    "# Usando get e set\n",
    "calculadora2 = CalculadoraPadrao()\n",
    "calculadora2.num1 = float(input(\"Digite uma variável númerica contínua (fracionária)\"))\n",
    "calculadora2.num2 = float(input(\"Digite uma variável númerica contínua (fracionária)\"))\n",
    "calculadora2.num3 = float(input(\"Digite uma variável númerica contínua (fracionária)\"))\n",
    "resultado2 = calculadora2.multiplicar()\n",
    "print(f\"Resultado da multiplicação (get e set): {resultado2: .3f} \")"
   ]
  },
  {
   "cell_type": "markdown",
   "metadata": {},
   "source": [
    "### Revisão - Static\n",
    "\n",
    "# static : é da classe\n",
    "\n",
    "# no-static : é de instância\n",
    "\n",
    "class MinhaClasse:\n",
    "    \n",
    "    # Atributo de classe para contar instâncias\n",
    "    \n",
    "    contagem = 0\n",
    "\n",
    "    def __init__(self):\n",
    "        # Incrementa a contagem sempre que um objeto é criado\n",
    "        MinhaClasse.contagem += 1\n",
    "\n",
    "    @staticmethod\n",
    "    def obter_contagem(self):\n",
    "        \"\"\"Método estático para retornar a contagem de objetos criados.\"\"\"\n",
    "        return MinhaClasse.contagem\n",
    "\n",
    "# Exemplo de uso\n",
    "objeto1 = MinhaClasse()\n",
    "objeto2 = MinhaClasse()\n",
    "objeto3 = MinhaClasse()\n",
    "objeto4 = MinhaClasse()\n",
    "\n",
    "print(MinhaClasse.obter_contagem())  # Saída: 3"
   ]
  },
  {
   "cell_type": "code",
   "execution_count": 12,
   "metadata": {},
   "outputs": [
    {
     "name": "stdout",
     "output_type": "stream",
     "text": [
      "4\n"
     ]
    }
   ],
   "source": [
    "# static : é da classe\n",
    "\n",
    "# no-static : é de instância\n",
    "\n",
    "class MinhaClasse:\n",
    "\n",
    "    # Atributo de classe para contar instâncias\n",
    "\n",
    "    contagem = 0\n",
    "\n",
    "    def __init__(self):\n",
    "        # Incrementa a contagem sempre que um objeto é criado\n",
    "        MinhaClasse.contagem += 1\n",
    "\n",
    "    @staticmethod\n",
    "    def obter_contagem():\n",
    "        \"\"\"Método estático para retornar a contagem de objetos criados.\"\"\"\n",
    "        return MinhaClasse.contagem\n",
    "\n",
    "# Exemplo de uso\n",
    "objeto1 = MinhaClasse()\n",
    "objeto2 = MinhaClasse()\n",
    "objeto3 = MinhaClasse()\n",
    "objeto4 = MinhaClasse()\n",
    "\n",
    "\n",
    "\n",
    "print(MinhaClasse.obter_contagem())  # Saída: 3"
   ]
  },
  {
   "cell_type": "code",
   "execution_count": 13,
   "metadata": {},
   "outputs": [],
   "source": [
    "def conectar():\n",
    "  return \"conexao\"\n",
    "\n",
    "@staticmethod\n",
    "def conectar():\n",
    "  return \"conectei\""
   ]
  },
  {
   "cell_type": "markdown",
   "metadata": {},
   "source": [
    "### O que é static?\n",
    "\n",
    "- Em Python, o termo \"static\" geralmente se refere a atributos e métodos estáticos.\n",
    "- Esses elementos pertencem à classe, não a instâncias individuais da classe.\n",
    "- Eles são usados quando você quer que um método ou atributo esteja disponível sem precisar criar uma instância da classe."
   ]
  },
  {
   "cell_type": "code",
   "execution_count": 14,
   "metadata": {},
   "outputs": [
    {
     "name": "stdout",
     "output_type": "stream",
     "text": [
      "Este é um método estático.\n",
      "Este é um método de instância.\n"
     ]
    }
   ],
   "source": [
    "class Exemplo:\n",
    "    @staticmethod\n",
    "    def metodo_estatico():\n",
    "        print(\"Este é um método estático.\")\n",
    "\n",
    "    def metodo_instancia(self):\n",
    "        print(\"Este é um método de instância.\")\n",
    "\n",
    "# Chamando os métodos\n",
    "Exemplo.metodo_estatico()  # Saída: Este é um método estático.\n",
    "\n",
    "objeto = Exemplo()\n",
    "objeto.metodo_instancia()  # Saída: Este é um método de instância."
   ]
  },
  {
   "cell_type": "markdown",
   "metadata": {},
   "source": [
    "### Gostou do Python?\n",
    "\n",
    "- Lançada em 1991 por Guido Van Rossum, o Python é uma linguagem de alto nível, interpretada, imperativa, orientada a objetos, funcional, de tipagem dinâmica e forte - ou seja, o Python é uma linguagem completa e pode ser utilizada em uma vasta quantidade de softwares.\n",
    "- Além disso, o Python é uma linguagem multiplataforma, podendo ser executada em diversos sistemas operacionais, como o Windows, Linux, Mac e até dispositivos móveis, fazendo do Python uma linguagem amplamente utilizada em diversos segmentos e por empresas como Google, NASA, Amazon, Facebook e diversas outras.\n",
    "- Um outro ponto muito interessante sobre o Python são seus Frameworks, fazendo com que seja possível desenvolver aplicativos em Python para Web (através do Django ou Flask) ou aplicativos híbridos em Flet.\n",
    "- Sendo assim é fácil perceber o grande poder do Python e o que ele provê para o desenvolvimento de aplicações, fazendo do Python uma das linguagens mais utilizadas mundialmente."
   ]
  },
  {
   "cell_type": "code",
   "execution_count": 15,
   "metadata": {},
   "outputs": [],
   "source": [
    "# Int: Números inteiros;\n",
    "# Str: Cadeia de caracteres;\n",
    "# Bool: Dados booleanos (True ou False);\n",
    "# List: Estrutura de dados para armazenamento de conjunto de elementos;\n",
    "# Dict: Dicionários;\n",
    "# Files: Arquivos.\n",
    "\n",
    "class Funcionario:\n",
    "    def __init__(self, nome: str, idade: int, ativo: bool, salario: float):\n",
    "        self.nome = nome\n",
    "        self.idade = idade\n",
    "        self.ativo = ativo\n",
    "        self.salario = salario"
   ]
  },
  {
   "cell_type": "code",
   "execution_count": 16,
   "metadata": {},
   "outputs": [
    {
     "name": "stdout",
     "output_type": "stream",
     "text": [
      "Rômulo Cesar\n",
      "45\n",
      "1\n",
      "20000.0\n"
     ]
    }
   ],
   "source": [
    "f = Funcionario('Rômulo Cesar',45,1,20000.00)\n",
    "print(f.nome)\n",
    "print(f.idade)\n",
    "print(f.ativo)\n",
    "print(f.salario)"
   ]
  },
  {
   "cell_type": "code",
   "execution_count": 19,
   "metadata": {},
   "outputs": [
    {
     "data": {
      "text/plain": [
       "'R'"
      ]
     },
     "execution_count": 19,
     "metadata": {},
     "output_type": "execute_result"
    }
   ],
   "source": [
    "# String\n",
    "\n",
    "f.nome[0]"
   ]
  },
  {
   "cell_type": "code",
   "execution_count": 20,
   "metadata": {},
   "outputs": [
    {
     "data": {
      "text/plain": [
       "'ô'"
      ]
     },
     "execution_count": 20,
     "metadata": {},
     "output_type": "execute_result"
    }
   ],
   "source": [
    "f.nome[1]"
   ]
  },
  {
   "cell_type": "code",
   "execution_count": 21,
   "metadata": {},
   "outputs": [
    {
     "data": {
      "text/plain": [
       "'Rôm'"
      ]
     },
     "execution_count": 21,
     "metadata": {},
     "output_type": "execute_result"
    }
   ],
   "source": [
    "f.nome[0:3]"
   ]
  },
  {
   "cell_type": "code",
   "execution_count": 22,
   "metadata": {},
   "outputs": [
    {
     "data": {
      "text/plain": [
       "'r'"
      ]
     },
     "execution_count": 22,
     "metadata": {},
     "output_type": "execute_result"
    }
   ],
   "source": [
    "f.nome[-1]"
   ]
  },
  {
   "cell_type": "code",
   "execution_count": 23,
   "metadata": {},
   "outputs": [
    {
     "data": {
      "text/plain": [
       "'a'"
      ]
     },
     "execution_count": 23,
     "metadata": {},
     "output_type": "execute_result"
    }
   ],
   "source": [
    "f.nome[-2]"
   ]
  },
  {
   "cell_type": "code",
   "execution_count": 24,
   "metadata": {},
   "outputs": [
    {
     "data": {
      "text/plain": [
       "'s'"
      ]
     },
     "execution_count": 24,
     "metadata": {},
     "output_type": "execute_result"
    }
   ],
   "source": [
    "f.nome[-3]"
   ]
  },
  {
   "cell_type": "code",
   "execution_count": 25,
   "metadata": {},
   "outputs": [
    {
     "data": {
      "text/plain": [
       "'Rômulo cesar'"
      ]
     },
     "execution_count": 25,
     "metadata": {},
     "output_type": "execute_result"
    }
   ],
   "source": [
    "f.nome.capitalize()"
   ]
  },
  {
   "cell_type": "code",
   "execution_count": 26,
   "metadata": {},
   "outputs": [
    {
     "data": {
      "text/plain": [
       "'rômulo cesar'"
      ]
     },
     "execution_count": 26,
     "metadata": {},
     "output_type": "execute_result"
    }
   ],
   "source": [
    "# casefold( ) é um método que converte a string para uma forma em minúsculas, útil para comparações de strings que não diferenciam maiúsculas de minúsculas.\n",
    "f.nome.casefold()"
   ]
  },
  {
   "cell_type": "code",
   "execution_count": 27,
   "metadata": {},
   "outputs": [
    {
     "name": "stdout",
     "output_type": "stream",
     "text": [
      "Hoje é o seu aniversário, parabéns colaborador Rômulo Cesar\n"
     ]
    }
   ],
   "source": [
    "print(\"Hoje é o seu aniversário, parabéns colaborador \"+f.nome)"
   ]
  },
  {
   "cell_type": "code",
   "execution_count": 28,
   "metadata": {},
   "outputs": [
    {
     "data": {
      "text/html": [
       "<img src=\"https://raw.githubusercontent.com/romulosilvestre/semanamachinelearning-datasets/main/identacao.png\"/>"
      ],
      "text/plain": [
       "<IPython.core.display.Image object>"
      ]
     },
     "metadata": {},
     "output_type": "display_data"
    }
   ],
   "source": [
    "from IPython.display import Image, display\n",
    "\n",
    "# URL da imagem\n",
    "url = 'https://raw.githubusercontent.com/romulosilvestre/semanamachinelearning-datasets/main/identacao.png'\n",
    "\n",
    "# Exibir a imagem\n",
    "display(Image(url=url))"
   ]
  },
  {
   "cell_type": "code",
   "execution_count": 29,
   "metadata": {},
   "outputs": [
    {
     "name": "stdout",
     "output_type": "stream",
     "text": [
      "resposta certa\n"
     ]
    }
   ],
   "source": [
    "# Imagem muito importante que mostra a identação do python. No python a identação é obrigatória.\n",
    "# Vamos falar de identação em alguns algoritmos com o tema probabilidade:\n",
    "\n",
    "pergunta = input(\"Estudos sobre probabilidades fornecem certezas sobre qualquer evento?\")\n",
    "if pergunta == \"sim\":\n",
    "    print(\"resposta errada\")\n",
    "else:\n",
    "    print(\"resposta certa\")\n",
    "\n",
    "# observe que o comando print() se encontra com uma identação , ou seja, tem uma tabulação do código if else é uma estrutura condicional composta.\n",
    "# apenas o if é uma estrutura condicional simples."
   ]
  },
  {
   "cell_type": "code",
   "execution_count": 30,
   "metadata": {},
   "outputs": [],
   "source": [
    "\"\"\"\n",
    "Matemáticamente, o valor atribuído à probabilidade de um evento é a razão entre o número de possibilidades favoráveis\n",
    "e o número total de possibilidades\n",
    "\"\"\"\n",
    "\n",
    "calcular_probabilidade = lambda num_possibilidades_favoraveis,num_total_possibilidades: num_possibilidades_favoraveis/num_total_possibilidades"
   ]
  },
  {
   "cell_type": "code",
   "execution_count": 33,
   "metadata": {},
   "outputs": [
    {
     "data": {
      "text/plain": [
       "'\\nA probabilidade de as duas moedas caírem com a face voltada para cima é de 1/4, pois essa é uma possibilidade em um total de quatro.\\n'"
      ]
     },
     "execution_count": 33,
     "metadata": {},
     "output_type": "execute_result"
    }
   ],
   "source": [
    "# Exemplo o lançamento de duas moedas, há quatro casos possíveis\n",
    "\n",
    "\"\"\"\n",
    "A probabilidade de as duas moedas caírem com a face voltada para cima é de 1/4, pois essa é uma possibilidade em um total de quatro.\n",
    "\"\"\""
   ]
  },
  {
   "cell_type": "code",
   "execution_count": 34,
   "metadata": {},
   "outputs": [
    {
     "data": {
      "text/plain": [
       "0.25"
      ]
     },
     "execution_count": 34,
     "metadata": {},
     "output_type": "execute_result"
    }
   ],
   "source": [
    "# cara ou coroa..\n",
    "\n",
    "calcular_probabilidade(1,4)"
   ]
  },
  {
   "cell_type": "code",
   "execution_count": 35,
   "metadata": {},
   "outputs": [],
   "source": [
    "# O sinal de \"=\" é o sinal de atribuição\n",
    "# Nesse sinal guardamos uma variável\n",
    "\n",
    "x = 10"
   ]
  },
  {
   "cell_type": "code",
   "execution_count": 36,
   "metadata": {},
   "outputs": [
    {
     "name": "stdout",
     "output_type": "stream",
     "text": [
      "O valor de x é  10\n"
     ]
    }
   ],
   "source": [
    "print(f\"O valor de x é  {x}\")"
   ]
  },
  {
   "cell_type": "code",
   "execution_count": 37,
   "metadata": {},
   "outputs": [
    {
     "data": {
      "text/plain": [
       "0.5172413793103449"
      ]
     },
     "execution_count": 37,
     "metadata": {},
     "output_type": "execute_result"
    }
   ],
   "source": [
    "calcular_probabilidade(15,29)"
   ]
  },
  {
   "cell_type": "code",
   "execution_count": 38,
   "metadata": {},
   "outputs": [
    {
     "data": {
      "text/plain": [
       "0.4827586206896552"
      ]
     },
     "execution_count": 38,
     "metadata": {},
     "output_type": "execute_result"
    }
   ],
   "source": [
    "calcular_probabilidade(14,29)"
   ]
  },
  {
   "cell_type": "code",
   "execution_count": 39,
   "metadata": {},
   "outputs": [
    {
     "name": "stdout",
     "output_type": "stream",
     "text": [
      "10\n"
     ]
    }
   ],
   "source": [
    "# declarando variáveis quantitativas discreta\n",
    "idade = 10\n",
    "print(idade)"
   ]
  },
  {
   "cell_type": "code",
   "execution_count": 40,
   "metadata": {},
   "outputs": [
    {
     "name": "stdout",
     "output_type": "stream",
     "text": [
      "1.7\n"
     ]
    }
   ],
   "source": [
    "# declarando variáveis quantitativas discretas\n",
    "altura = 1.70\n",
    "print(altura)"
   ]
  },
  {
   "cell_type": "code",
   "execution_count": 41,
   "metadata": {},
   "outputs": [
    {
     "name": "stdout",
     "output_type": "stream",
     "text": [
      "Masculino\n"
     ]
    }
   ],
   "source": [
    "# declarando variável qualitativa nominal\n",
    "sexo = \"Masculino\"\n",
    "print(sexo)"
   ]
  },
  {
   "cell_type": "code",
   "execution_count": 42,
   "metadata": {},
   "outputs": [
    {
     "name": "stdout",
     "output_type": "stream",
     "text": [
      "Ensino Médio\n"
     ]
    }
   ],
   "source": [
    "# declarando variável qualitativa ordinal\n",
    "nivel_educacao=\"Ensino Médio\"\n",
    "print(nivel_educacao)"
   ]
  },
  {
   "cell_type": "code",
   "execution_count": 43,
   "metadata": {},
   "outputs": [],
   "source": [
    "# qual a a probabilidadde de obter o número 1 em um dado equilibrado\n",
    "dado_lancado = lambda pp,pt: pp/pt"
   ]
  },
  {
   "cell_type": "code",
   "execution_count": 44,
   "metadata": {},
   "outputs": [
    {
     "data": {
      "text/plain": [
       "0.16666666666666666"
      ]
     },
     "execution_count": 44,
     "metadata": {},
     "output_type": "execute_result"
    }
   ],
   "source": [
    "dado_lancado(1,6)"
   ]
  },
  {
   "cell_type": "code",
   "execution_count": 45,
   "metadata": {},
   "outputs": [],
   "source": [
    "# estrutura de condição simples\n",
    "def verificar_idade(idade):\n",
    "    if idade >= 18:\n",
    "        return \"Você é maior de idade.\""
   ]
  },
  {
   "cell_type": "code",
   "execution_count": 46,
   "metadata": {},
   "outputs": [
    {
     "name": "stdout",
     "output_type": "stream",
     "text": [
      "Você é maior de idade.\n"
     ]
    }
   ],
   "source": [
    "idade = input(\"Digite sua idade: \")\n",
    "idade = int(idade)\n",
    "resultado = verificar_idade(idade)\n",
    "print(resultado)"
   ]
  },
  {
   "cell_type": "code",
   "execution_count": 47,
   "metadata": {},
   "outputs": [],
   "source": [
    "# estrutura de condição composta\n",
    "def verificar_idade_total(idade):\n",
    "    if idade >= 18:\n",
    "        return \"Você é maior de idade.\"\n",
    "    else:\n",
    "        return \"Você é menor de idade.\""
   ]
  },
  {
   "cell_type": "code",
   "execution_count": 48,
   "metadata": {},
   "outputs": [
    {
     "name": "stdout",
     "output_type": "stream",
     "text": [
      "Você é maior de idade.\n"
     ]
    }
   ],
   "source": [
    "idade = input(\"Digite sua idade: \")\n",
    "idade = int(idade)\n",
    "resultado = verificar_idade_total(idade)\n",
    "print(resultado)"
   ]
  },
  {
   "cell_type": "code",
   "execution_count": 49,
   "metadata": {},
   "outputs": [],
   "source": [
    "# estrutura de condição composta encadeada\n",
    "def verificar_numero(numero):\n",
    "    if numero > 0:\n",
    "        return \"O número é positivo.\"\n",
    "    elif numero < 0:\n",
    "        return \"O número é negativo.\"\n",
    "    else:\n",
    "        return \"O número é nulo.\""
   ]
  },
  {
   "cell_type": "code",
   "execution_count": 50,
   "metadata": {},
   "outputs": [
    {
     "name": "stdout",
     "output_type": "stream",
     "text": [
      "O número é positivo.\n"
     ]
    }
   ],
   "source": [
    "# Exemplo de uso\n",
    "numero = float(input(\"Digite um número: \"))\n",
    "resultado = verificar_numero(numero)\n",
    "print(resultado)\n"
   ]
  },
  {
   "cell_type": "code",
   "execution_count": 51,
   "metadata": {},
   "outputs": [],
   "source": [
    "# estrutura de seleção múltipla\n",
    "\n",
    "def mostrar_mes(numero):\n",
    "    match numero:\n",
    "        case 1:\n",
    "            return \"Janeiro\"\n",
    "        case 2:\n",
    "            return \"Fevereiro\"\n",
    "        case 3:\n",
    "            return \"Março\"\n",
    "        case 4:\n",
    "            return \"Abril\"\n",
    "        case 5:\n",
    "            return \"Maio\"\n",
    "        case 6:\n",
    "            return \"Junho\"\n",
    "        case 7:\n",
    "            return \"Julho\"\n",
    "        case 8:\n",
    "            return \"Agosto\"\n",
    "        case 9:\n",
    "            return \"Setembro\"\n",
    "        case 10:\n",
    "            return \"Outubro\"\n",
    "        case 11:\n",
    "            return \"Novembro\"\n",
    "        case 12:\n",
    "            return \"Dezembro\"\n",
    "        case _:\n",
    "            return \"Número inválido! Digite um número de 1 a 12.\""
   ]
  },
  {
   "cell_type": "code",
   "execution_count": 52,
   "metadata": {},
   "outputs": [
    {
     "name": "stdout",
     "output_type": "stream",
     "text": [
      "Agosto\n"
     ]
    }
   ],
   "source": [
    "# Exemplo de uso de função com estrutura múltipla\n",
    "numero = int(input(\"Digite um número de 1 a 12: \"))\n",
    "mes = mostrar_mes(numero)\n",
    "print(mes)"
   ]
  },
  {
   "cell_type": "markdown",
   "metadata": {},
   "source": [
    "### Revisão de PLN na prática"
   ]
  },
  {
   "cell_type": "code",
   "execution_count": 53,
   "metadata": {},
   "outputs": [
    {
     "name": "stdout",
     "output_type": "stream",
     "text": [
      "Collecting textblob\n",
      "  Downloading textblob-0.18.0.post0-py3-none-any.whl.metadata (4.5 kB)\n",
      "Requirement already satisfied: nltk>=3.8 in c:\\users\\marcelo avelino\\appdata\\local\\programs\\python\\python312\\lib\\site-packages (from textblob) (3.9.1)\n",
      "Requirement already satisfied: click in c:\\users\\marcelo avelino\\appdata\\local\\programs\\python\\python312\\lib\\site-packages (from nltk>=3.8->textblob) (8.1.7)\n",
      "Requirement already satisfied: joblib in c:\\users\\marcelo avelino\\appdata\\local\\programs\\python\\python312\\lib\\site-packages (from nltk>=3.8->textblob) (1.4.2)\n",
      "Requirement already satisfied: regex>=2021.8.3 in c:\\users\\marcelo avelino\\appdata\\local\\programs\\python\\python312\\lib\\site-packages (from nltk>=3.8->textblob) (2024.9.11)\n",
      "Requirement already satisfied: tqdm in c:\\users\\marcelo avelino\\appdata\\local\\programs\\python\\python312\\lib\\site-packages (from nltk>=3.8->textblob) (4.66.5)\n",
      "Requirement already satisfied: colorama in c:\\users\\marcelo avelino\\appdata\\local\\programs\\python\\python312\\lib\\site-packages (from click->nltk>=3.8->textblob) (0.4.6)\n",
      "Downloading textblob-0.18.0.post0-py3-none-any.whl (626 kB)\n",
      "   ---------------------------------------- 0.0/626.3 kB ? eta -:--:--\n",
      "   ---------------------------------------- 626.3/626.3 kB 7.7 MB/s eta 0:00:00\n",
      "Installing collected packages: textblob\n",
      "Successfully installed textblob-0.18.0.post0\n"
     ]
    }
   ],
   "source": [
    "!pip install textblob"
   ]
  },
  {
   "cell_type": "code",
   "execution_count": 62,
   "metadata": {},
   "outputs": [],
   "source": [
    "texto = \"Hello Student. During this chapter, we will talk about the types of houses, name of the rooms and some objects we can normally find in them, and also the meaning and  how to use question word correctly in this context.\""
   ]
  },
  {
   "cell_type": "markdown",
   "metadata": {},
   "source": [
    "#### Módulos - usando 'from' e 'import' para trabalhar com módulos e classes."
   ]
  },
  {
   "cell_type": "code",
   "execution_count": 55,
   "metadata": {},
   "outputs": [],
   "source": [
    "from textblob import TextBlob"
   ]
  },
  {
   "cell_type": "code",
   "execution_count": 63,
   "metadata": {},
   "outputs": [],
   "source": [
    "blob = TextBlob(texto)"
   ]
  },
  {
   "cell_type": "code",
   "execution_count": 64,
   "metadata": {},
   "outputs": [
    {
     "ename": "AttributeError",
     "evalue": "'TextBlob' object has no attribute 'translate'",
     "output_type": "error",
     "traceback": [
      "\u001b[1;31m---------------------------------------------------------------------------\u001b[0m",
      "\u001b[1;31mAttributeError\u001b[0m                            Traceback (most recent call last)",
      "Cell \u001b[1;32mIn[64], line 2\u001b[0m\n\u001b[0;32m      1\u001b[0m \u001b[38;5;66;03m# traduzindo o texto\u001b[39;00m\n\u001b[1;32m----> 2\u001b[0m \u001b[43mblob\u001b[49m\u001b[38;5;241;43m.\u001b[39;49m\u001b[43mtranslate\u001b[49m(from_lang\u001b[38;5;241m=\u001b[39m\u001b[38;5;124m'\u001b[39m\u001b[38;5;124men\u001b[39m\u001b[38;5;124m'\u001b[39m, to\u001b[38;5;241m=\u001b[39m\u001b[38;5;124m'\u001b[39m\u001b[38;5;124mpt\u001b[39m\u001b[38;5;124m'\u001b[39m)\n",
      "\u001b[1;31mAttributeError\u001b[0m: 'TextBlob' object has no attribute 'translate'"
     ]
    }
   ],
   "source": [
    "# traduzindo o texto\n",
    "blob.translate(from_lang='en', to='pt')"
   ]
  },
  {
   "cell_type": "code",
   "execution_count": 65,
   "metadata": {},
   "outputs": [
    {
     "name": "stdout",
     "output_type": "stream",
     "text": [
      "Hello Student. During this chapter, we will talk about the types of houses, name of the rooms and some objects we can normally find in them, and also the meaning and  how to use question word correctly in this context.\n"
     ]
    }
   ],
   "source": [
    "print(texto)"
   ]
  },
  {
   "cell_type": "code",
   "execution_count": 66,
   "metadata": {},
   "outputs": [],
   "source": [
    "# crie uma função que faça o que as células anteriores estão fazendo, uma função que receba o texto em portugues e mostre traduzido.\n",
    "\n",
    "def traduzir_texto(texto):\n",
    "    blob = TextBlob(texto)\n",
    "    traducao = blob.translate(from_lang='en', to='pt-br')\n",
    "    return traducao"
   ]
  },
  {
   "cell_type": "code",
   "execution_count": 67,
   "metadata": {},
   "outputs": [
    {
     "ename": "AttributeError",
     "evalue": "'TextBlob' object has no attribute 'translate'",
     "output_type": "error",
     "traceback": [
      "\u001b[1;31m---------------------------------------------------------------------------\u001b[0m",
      "\u001b[1;31mAttributeError\u001b[0m                            Traceback (most recent call last)",
      "Cell \u001b[1;32mIn[67], line 2\u001b[0m\n\u001b[0;32m      1\u001b[0m texto_entrada \u001b[38;5;241m=\u001b[39m \u001b[38;5;28minput\u001b[39m(\u001b[38;5;124m\"\u001b[39m\u001b[38;5;124mDigite o texto: \u001b[39m\u001b[38;5;124m\"\u001b[39m)\n\u001b[1;32m----> 2\u001b[0m \u001b[38;5;28mprint\u001b[39m(\u001b[43mtraduzir_texto\u001b[49m\u001b[43m(\u001b[49m\u001b[43mtexto_entrada\u001b[49m\u001b[43m)\u001b[49m)\n",
      "Cell \u001b[1;32mIn[66], line 5\u001b[0m, in \u001b[0;36mtraduzir_texto\u001b[1;34m(texto)\u001b[0m\n\u001b[0;32m      3\u001b[0m \u001b[38;5;28;01mdef\u001b[39;00m \u001b[38;5;21mtraduzir_texto\u001b[39m(texto):\n\u001b[0;32m      4\u001b[0m     blob \u001b[38;5;241m=\u001b[39m TextBlob(texto)\n\u001b[1;32m----> 5\u001b[0m     traducao \u001b[38;5;241m=\u001b[39m \u001b[43mblob\u001b[49m\u001b[38;5;241;43m.\u001b[39;49m\u001b[43mtranslate\u001b[49m(from_lang\u001b[38;5;241m=\u001b[39m\u001b[38;5;124m'\u001b[39m\u001b[38;5;124men\u001b[39m\u001b[38;5;124m'\u001b[39m, to\u001b[38;5;241m=\u001b[39m\u001b[38;5;124m'\u001b[39m\u001b[38;5;124mpt-br\u001b[39m\u001b[38;5;124m'\u001b[39m)\n\u001b[0;32m      6\u001b[0m     \u001b[38;5;28;01mreturn\u001b[39;00m traducao\n",
      "\u001b[1;31mAttributeError\u001b[0m: 'TextBlob' object has no attribute 'translate'"
     ]
    }
   ],
   "source": [
    "texto_entrada = input(\"Digite o texto: \")\n",
    "print(traduzir_texto(texto_entrada))"
   ]
  },
  {
   "cell_type": "code",
   "execution_count": 68,
   "metadata": {},
   "outputs": [
    {
     "name": "stdout",
     "output_type": "stream",
     "text": [
      "6\n"
     ]
    }
   ],
   "source": [
    "\"\"\"\n",
    "Uma estrutura de repetição é responsável por permitir que um determinado bloco de código seja executado diversas vezes, até que uma determinada condição seja atendida. No Python, possuímos duas estruturas de repetição:\n",
    "\n",
    "    While\n",
    "    For\n",
    "\n",
    "\n",
    "\"\"\"\n",
    "\n",
    "numero = 0\n",
    "soma = 0\n",
    "while numero < 5 :\n",
    "    numero = int(input(\"Digite um número\"))\n",
    "    soma = soma + numero\n",
    "\n",
    "print(soma)"
   ]
  },
  {
   "cell_type": "code",
   "execution_count": 69,
   "metadata": {},
   "outputs": [
    {
     "name": "stdout",
     "output_type": "stream",
     "text": [
      "1\n",
      "2\n",
      "3\n",
      "4\n",
      "5\n",
      "6\n",
      "7\n",
      "8\n",
      "9\n"
     ]
    }
   ],
   "source": [
    "for x in range(1, 10):\n",
    "    print(x)"
   ]
  },
  {
   "cell_type": "code",
   "execution_count": 70,
   "metadata": {},
   "outputs": [
    {
     "name": "stdout",
     "output_type": "stream",
     "text": [
      "1\n",
      "2\n",
      "3\n",
      "4\n",
      "5\n",
      "6\n",
      "7\n",
      "8\n",
      "9\n",
      "loop encerrado com sucesso\n"
     ]
    }
   ],
   "source": [
    "for x in range(1, 10):\n",
    "    print(x)\n",
    "else:\n",
    "    print(\"loop encerrado com sucesso\")"
   ]
  },
  {
   "cell_type": "code",
   "execution_count": 71,
   "metadata": {},
   "outputs": [
    {
     "ename": "ValueError",
     "evalue": "invalid literal for int() with base 10: ''",
     "output_type": "error",
     "traceback": [
      "\u001b[1;31m---------------------------------------------------------------------------\u001b[0m",
      "\u001b[1;31mValueError\u001b[0m                                Traceback (most recent call last)",
      "Cell \u001b[1;32mIn[71], line 4\u001b[0m\n\u001b[0;32m      2\u001b[0m soma \u001b[38;5;241m=\u001b[39m \u001b[38;5;241m0\u001b[39m\n\u001b[0;32m      3\u001b[0m \u001b[38;5;28;01mwhile\u001b[39;00m numero \u001b[38;5;241m<\u001b[39m \u001b[38;5;241m20\u001b[39m:\n\u001b[1;32m----> 4\u001b[0m     numero \u001b[38;5;241m=\u001b[39m \u001b[38;5;28;43mint\u001b[39;49m\u001b[43m(\u001b[49m\u001b[38;5;28;43minput\u001b[39;49m\u001b[43m(\u001b[49m\u001b[38;5;124;43m\"\u001b[39;49m\u001b[38;5;124;43mDigite um número menor que 20\u001b[39;49m\u001b[38;5;124;43m\"\u001b[39;49m\u001b[43m)\u001b[49m\u001b[43m)\u001b[49m\n\u001b[0;32m      5\u001b[0m     soma \u001b[38;5;241m=\u001b[39m soma \u001b[38;5;241m+\u001b[39m numero\n\u001b[0;32m      6\u001b[0m \u001b[38;5;28;01melse\u001b[39;00m:\n",
      "\u001b[1;31mValueError\u001b[0m: invalid literal for int() with base 10: ''"
     ]
    }
   ],
   "source": [
    "numero = 0\n",
    "soma = 0\n",
    "while numero < 20:\n",
    "    numero = int(input(\"Digite um número menor que 20\"))\n",
    "    soma = soma + numero\n",
    "else:\n",
    "    print(\"loop encerrado com sucesso\")\n",
    "print(soma)"
   ]
  },
  {
   "cell_type": "code",
   "execution_count": 72,
   "metadata": {},
   "outputs": [
    {
     "name": "stdout",
     "output_type": "stream",
     "text": [
      "['Arroz', 'Feijão', 'Macarrão']\n"
     ]
    }
   ],
   "source": [
    "\"\"\"\n",
    "\n",
    "- Uma lista é uma estrutura de dados representada como uma sequência de objetos separados por vírgula.\n",
    "- Podendo armazenar qualquer tipo de dado e ser alterada a qualquer momento.\n",
    "-\n",
    "\n",
    "\"\"\"\n",
    "\n",
    "lista = [\"Arroz\", \"Feijão\"]\n",
    "lista.append(\"Macarrão\")\n",
    "print(lista) #Arroz, Feijão, Macarrão"
   ]
  },
  {
   "cell_type": "code",
   "execution_count": 73,
   "metadata": {},
   "outputs": [],
   "source": [
    "# criar uma função para ir adicionando palavras em inglês que não entendo\n",
    "\n",
    "lista = []\n",
    "def adicionar_palavra(palavra):\n",
    "    lista.append(palavra)\n",
    "\n",
    "def mostrar_palavras():\n",
    "    return lista"
   ]
  },
  {
   "cell_type": "code",
   "execution_count": 74,
   "metadata": {},
   "outputs": [
    {
     "name": "stdout",
     "output_type": "stream",
     "text": [
      "['yes', 'no', 'oh', 'yes', '', '', '', '', '', '', '', '', '']\n"
     ]
    }
   ],
   "source": [
    "# crie um loop para ir perguntando se deseja adicionar alguma palavra\n",
    "\n",
    "while True:\n",
    "    palavra = input(\"Digite uma palavra ou sair para finalizar: \")\n",
    "    if palavra == \"sair\":\n",
    "        break\n",
    "    adicionar_palavra(palavra)\n",
    "\n",
    "\n",
    "print(mostrar_palavras())"
   ]
  },
  {
   "cell_type": "markdown",
   "metadata": {},
   "source": [
    "### Tratamento de exceções no Python\n",
    "\n",
    "É comum que, no desenvolvimento de uma aplicação, queiramos prever situações em que um erro possa ocorrer, com a finalidade de tratarmos estas situações para que a execução do nosso software não seja interrompida.\n",
    "\n",
    "Por exemplo: imagine que temos um programa responsável por realizar as quatro operações básicas da matemática. Sabemos que há alguns casos que são impossíveis de serem realizados, como a divisão por 0. Neste caso, nosso software precisa sempre verificar se esta situação está ocorrendo e, caso esteja, exibir uma mensagem de erro.\n",
    "\n",
    "No Python, os seguintes comandos são utilizados para o tratamento de exceções:\n",
    "\n",
    "- try/except: tenta executar o determinado bloco de código definido no try e, caso este gere um erro, executa o bloco de código definido no except;\n",
    "- try/finally: após o bloco try ser executado, com sucesso ou não, o código definido dentro do finally é executado;\n",
    "- Raise: se, por algum motivo, precisarmos gerar uma exceção em nosso script, utilizamos o comando raise;\n",
    "- Assert: assim como o comando raise, o assert serve para gerar exceções, porém é necessário definir uma condição para isso."
   ]
  },
  {
   "cell_type": "code",
   "execution_count": 75,
   "metadata": {},
   "outputs": [
    {
     "name": "stdout",
     "output_type": "stream",
     "text": [
      "Divisão por zero não existe\n"
     ]
    }
   ],
   "source": [
    "try:\n",
    "    numero = 15/0\n",
    "except:\n",
    "    print(\"Divisão por zero não existe\")"
   ]
  },
  {
   "cell_type": "code",
   "execution_count": 76,
   "metadata": {},
   "outputs": [
    {
     "name": "stdout",
     "output_type": "stream",
     "text": [
      "Divisão por zero não existe\n"
     ]
    }
   ],
   "source": [
    "try:\n",
    "    numero = 15/0\n",
    "except ZeroDivisionError:\n",
    "    print(\"Divisão por zero não existe\")"
   ]
  },
  {
   "cell_type": "code",
   "execution_count": 77,
   "metadata": {},
   "outputs": [
    {
     "name": "stdout",
     "output_type": "stream",
     "text": [
      "Divisão por zero não existe\n",
      "Execução finalizada\n"
     ]
    }
   ],
   "source": [
    "try:\n",
    "    numero = 15/0\n",
    "except ZeroDivisionError:\n",
    "    print(\"Divisão por zero não existe\")\n",
    "finally:\n",
    "    print(\"Execução finalizada\")"
   ]
  },
  {
   "cell_type": "code",
   "execution_count": 78,
   "metadata": {},
   "outputs": [
    {
     "name": "stdout",
     "output_type": "stream",
     "text": [
      "Divisão por zero não existe\n",
      "Execução finalizada\n"
     ]
    }
   ],
   "source": [
    "try:\n",
    "    raise ZeroDivisionError\n",
    "except ZeroDivisionError:\n",
    "    print(\"Divisão por zero não existe\")\n",
    "finally:\n",
    "    print(\"Execução finalizada\")"
   ]
  },
  {
   "cell_type": "code",
   "execution_count": 79,
   "metadata": {},
   "outputs": [
    {
     "name": "stdout",
     "output_type": "stream",
     "text": [
      "Erro: O divisor não pode ser zero.\n"
     ]
    }
   ],
   "source": [
    "# Relançar exceções: Use raise para adicionar contexto a exceções que você deseja relançar.\n",
    "\n",
    "def dividir(a, b):\n",
    "    if b == 0:\n",
    "        # Lança uma exceção personalizada se o divisor for zero\n",
    "        raise ValueError(\"Erro: O divisor não pode ser zero.\")\n",
    "    return a / b\n",
    "\n",
    "try:\n",
    "    resultado = dividir(5, 0)  # Tenta dividir 5 por 0\n",
    "except ValueError as e:\n",
    "    print(e)  # Saída: Erro: O divisor não pode ser zero."
   ]
  },
  {
   "cell_type": "markdown",
   "metadata": {},
   "source": [
    "Lançar exceção: Se b for zero, a linha raise é executada. Isso gera uma exceção do tipo ValueError com uma mensagem personalizada. Essa linha interrompe a execução da função e \"lança\" a exceção para o código que chamou a função."
   ]
  },
  {
   "cell_type": "markdown",
   "metadata": {},
   "source": [
    "### Gerando exceções com Assert\n",
    "\n",
    "Assim como o raise, utilizamos o assert para gerar exceções na execução do nosso sistema. Porém, o assert irá gerar essa exceção a depender de uma condição. Por exemplo:"
   ]
  },
  {
   "cell_type": "code",
   "execution_count": 80,
   "metadata": {},
   "outputs": [
    {
     "name": "stdout",
     "output_type": "stream",
     "text": [
      "Divisão por zero não existe\n",
      "Execução finalizada\n"
     ]
    }
   ],
   "source": [
    "try:\n",
    "    numero = 15\n",
    "    divisor = 0\n",
    "    assert divisor != 0\n",
    "except:\n",
    "    print(\"Divisão por zero não existe\")\n",
    "finally:\n",
    "    print(\"Execução finalizada\")"
   ]
  },
  {
   "cell_type": "code",
   "execution_count": 81,
   "metadata": {},
   "outputs": [],
   "source": [
    "# classe Pessoa\n",
    "class Pessoa():\n",
    "  def __init__(self, nome, idade, sexo):\n",
    "    self.nome = nome\n",
    "    self.idade = idade\n",
    "    self.sexo = sexo\n",
    "  def __del__(self):\n",
    "    print(\"Destruindo objeto\")"
   ]
  },
  {
   "cell_type": "code",
   "execution_count": 82,
   "metadata": {},
   "outputs": [
    {
     "name": "stdout",
     "output_type": "stream",
     "text": [
      "Rômulo\n"
     ]
    }
   ],
   "source": [
    "pessoa1 = Pessoa(\"Rômulo\",45, \"Masculino\")\n",
    "print(pessoa1.nome) #João #Destruindo objeto"
   ]
  },
  {
   "cell_type": "markdown",
   "metadata": {},
   "source": [
    "No dia-a-dia, o método de desconstrução (__del__) não é muito utilizado.\n",
    "\n",
    "Ele só será implementado caso a classe aloque algum recurso/elemento que não será removido da memória quando a mesma for \"destruída\".\n",
    "\n",
    "Por exemplo, um acesso ao banco de dados que é aberto no método construtor ou de inicialização."
   ]
  },
  {
   "cell_type": "markdown",
   "metadata": {},
   "source": [
    "### herança\n",
    "\n",
    "Em orientação a objetos, a herança é um mecanismo pelo qual uma classe consegue obter métodos e atributos de uma outra classe, para isso, dizemos que uma classe filha  herda\" de uma classe pai, onde a classe Pai possui os métodos e atributos que serão herdados."
   ]
  },
  {
   "cell_type": "code",
   "execution_count": 83,
   "metadata": {},
   "outputs": [
    {
     "data": {
      "text/html": [
       "<img src=\"https://github.com/romulosilvestre/semanamachinelearning-datasets/raw/main/orientacao_aobjetos.png\"/>"
      ],
      "text/plain": [
       "<IPython.core.display.Image object>"
      ]
     },
     "metadata": {},
     "output_type": "display_data"
    }
   ],
   "source": [
    "from IPython.display import Image, display\n",
    "\n",
    "# URL da imagem\n",
    "url = \"https://github.com/romulosilvestre/semanamachinelearning-datasets/raw/main/orientacao_aobjetos.png\"\n",
    "\n",
    "# Exibir a imagem\n",
    "display(Image(url=url))"
   ]
  },
  {
   "cell_type": "code",
   "execution_count": 84,
   "metadata": {},
   "outputs": [
    {
     "data": {
      "text/html": [
       "<img src=\"https://github.com/romulosilvestre/semanamachinelearning-datasets/raw/main/oo.png\"/>"
      ],
      "text/plain": [
       "<IPython.core.display.Image object>"
      ]
     },
     "metadata": {},
     "output_type": "display_data"
    }
   ],
   "source": [
    "from IPython.display import Image, display\n",
    "\n",
    "# URL da imagem (com a correção para usar o link direto)\n",
    "url = \"https://github.com/romulosilvestre/semanamachinelearning-datasets/raw/main/oo.png\"\n",
    "\n",
    "# Exibir a imagem\n",
    "display(Image(url=url))"
   ]
  },
  {
   "cell_type": "markdown",
   "metadata": {},
   "source": [
    "### Definindo um interface"
   ]
  },
  {
   "cell_type": "code",
   "execution_count": 85,
   "metadata": {},
   "outputs": [],
   "source": [
    "import abc\n",
    "\n",
    "# Definindo uma interface simples\n",
    "class InterfaceVeiculo(abc.ABC):\n",
    "    @abc.abstractmethod\n",
    "    def ligar(self):\n",
    "        pass\n",
    "\n",
    "    @abc.abstractmethod\n",
    "    def desligar(self):\n",
    "        pass\n",
    "\n",
    "    @abc.abstractmethod\n",
    "    def acelerar(self, velocidade):\n",
    "        pass"
   ]
  },
  {
   "cell_type": "code",
   "execution_count": 86,
   "metadata": {},
   "outputs": [],
   "source": [
    "class Veiculo(InterfaceVeiculo, abc.ABC):\n",
    "    \"\"\"Essa é a classe veículo. Esta classe é utilizada para instanciar novos veículos em nosso programa.\"\"\"\n",
    "\n",
    "    def __init__(self, cor, tipo_combustivel, potencia):\n",
    "        self._cor = cor\n",
    "        self.__tipo_combustivel = tipo_combustivel\n",
    "        self.__potencia = potencia\n",
    "        self._qtd_combustivel = 0\n",
    "        self.__is_ligado = False\n",
    "        self.__velocidade = 0\n",
    "\n",
    "    def __del__(self):\n",
    "        print(\"O objeto foi removido da memória. :)\")\n",
    "\n",
    "    @property\n",
    "    def cor(self):\n",
    "        return self._cor\n",
    "\n",
    "    def pintar(self, cor):\n",
    "        self._cor = cor\n",
    "\n",
    "    def abastecer(self, qtd_combustivel):\n",
    "        \"\"\"O método abastecer recebe como parâmetro a quantidade de combustível e incrementa no atributo qtd_combustivel do objeto veículo.\"\"\"\n",
    "        self._qtd_combustivel += qtd_combustivel\n",
    "\n",
    "    def ligar(self):\n",
    "        if self.__is_ligado:\n",
    "            print(\"O veículo já está ligado.\")\n",
    "        else:\n",
    "            self.__is_ligado = True\n",
    "            print(\"O veículo foi ligado.\")\n",
    "\n",
    "    def desligar(self):\n",
    "        if not self.__is_ligado:\n",
    "            print(\"O veículo já está desligado.\")\n",
    "        else:\n",
    "            self.__is_ligado = False\n",
    "            print(\"O veículo foi desligado.\")\n",
    "\n",
    "    def acelerar(self, velocidade=10):\n",
    "        if self.__is_ligado:\n",
    "            self.__velocidade += velocidade\n",
    "            print(f\"Velocidade atual: {self.__velocidade} km/h\")\n",
    "        else:\n",
    "            print(\"O veículo precisa estar ligado para ser acelerado.\")"
   ]
  },
  {
   "cell_type": "code",
   "execution_count": 87,
   "metadata": {},
   "outputs": [
    {
     "name": "stdout",
     "output_type": "stream",
     "text": [
      "O veículo foi ligado.\n",
      "Velocidade atual: 30 km/h\n",
      "O veículo foi desligado.\n"
     ]
    }
   ],
   "source": [
    "# Exemplo de uso\n",
    "carro = Veiculo(\"vermelho\", \"gasolina\", 120)\n",
    "\n",
    "# Testando os métodos\n",
    "carro.abastecer(20)\n",
    "carro.ligar()\n",
    "carro.acelerar(30)\n",
    "carro.desligar()"
   ]
  },
  {
   "cell_type": "markdown",
   "metadata": {},
   "source": [
    "### Encapsulamento\n",
    "\n",
    "Em Python, o uso de dois underscores (__) antes de um atributo (como self.__atributo) é uma forma de nomeação com \"name mangling\". Isso é usado para encapsular o atributo e evitar que ele seja acessado diretamente de fora da classe. Aqui está o que isso significa e como funciona:\n",
    "\n",
    "- O que significa __atributo\n",
    "\n",
    "- Encapsulamento:\n",
    "        O uso de __ indica que o atributo é \"privado\" ou destinado a ser usado apenas dentro da classe. Embora Python não tenha um verdadeiro modificador de acesso como algumas outras linguagens (por exemplo, private em Java), essa convenção sugere que o atributo não deve ser acessado diretamente fora da classe.\n",
    "\n",
    "- Name Mangling:\n",
    "        Quando você define um atributo com dois underscores, Python altera o nome do atributo internamente para incluir o nome da classe. Por exemplo, se você tiver uma classe chamada Veiculo e um atributo __potencia, ele será renomeado para _Veiculo__potencia. Isso ajuda a evitar conflitos de nome em subclasses."
   ]
  },
  {
   "cell_type": "markdown",
   "metadata": {},
   "source": [
    "### Exercicios\n",
    "\n",
    "- objeto - classe - método abstrato - construtor - static\n",
    "- match\n",
    "\n",
    "<i>Esses exercícios são organizados para demonstrar conceitos de POO (Programação Orientada a Objetos) e verificação condicional, aplicando os conhecimentos discutidos nas aulas.</i>"
   ]
  },
  {
   "cell_type": "code",
   "execution_count": 90,
   "metadata": {},
   "outputs": [
    {
     "name": "stdout",
     "output_type": "stream",
     "text": [
      "Pagamento assinado pelo Presidente.\n",
      "Pagamento assinado pelo Tesoureiro.\n",
      "Pagamento liberado com sucesso!\n"
     ]
    }
   ],
   "source": [
    "# Exercicio 1: Código que requer duas assinaturas - Presidente e Tesoureiro\n",
    "\n",
    "#  O código simula um sistema onde um pagamento só pode ser liberado após as assinaturas do Presidente e do Tesoureiro.\n",
    "# Ambos precisam assinar, e o pagamento só é liberado se ambas as assinaturas estiverem presentes.\n",
    "\n",
    "# Definimos a classe Pagamento, que será responsável por armazenar as assinaturas e liberar o pagamento.\n",
    "class Pagamento:\n",
    "    \n",
    "    # O método __init__ é o construtor da classe, e é executado quando criamos um objeto da classe Pagamento.\n",
    "    # Inicializamos os atributos 'assinado_presidente' e 'assinado_tesoureiro' como False, pois inicialmente \n",
    "    # nenhum dos dois assinou.\n",
    "    def __init__(self):\n",
    "        self.assinado_presidente = False  # Variável que indica se o presidente assinou\n",
    "        self.assinado_tesoureiro = False  # Variável que indica se o tesoureiro assinou\n",
    "\n",
    "    # Método para a assinatura do presidente. Quando chamado, ele altera o valor de 'assinado_presidente' para True\n",
    "    def assinar_presidente(self):\n",
    "        self.assinado_presidente = True  # Marca que o presidente assinou\n",
    "        print(\"Pagamento assinado pelo Presidente.\")  # Exibe uma mensagem indicando a assinatura do presidente\n",
    "\n",
    "    # Método para a assinatura do tesoureiro. Quando chamado, ele altera o valor de 'assinado_tesoureiro' para True\n",
    "    def assinar_tesoureiro(self):\n",
    "        self.assinado_tesoureiro = True  # Marca que o tesoureiro assinou\n",
    "        print(\"Pagamento assinado pelo Tesoureiro.\")  # Exibe uma mensagem indicando a assinatura do tesoureiro\n",
    "\n",
    "    # Método para liberar o pagamento. Ele só libera o pagamento se ambas as assinaturas (presidente e tesoureiro) estiverem presentes.\n",
    "    def liberar_pagamento(self):\n",
    "        # Verificamos se o presidente e o tesoureiro assinaram.\n",
    "        if self.assinado_presidente and self.assinado_tesoureiro:\n",
    "            print(\"Pagamento liberado com sucesso!\")  # Se ambos assinaram, o pagamento é liberado\n",
    "        else:\n",
    "            # Se uma das assinaturas estiver faltando, exibe uma mensagem de erro.\n",
    "            print(\"Erro: Ambas as assinaturas (Presidente e Tesoureiro) são necessárias para liberar o pagamento.\")\n",
    "\n",
    "# Exemplo de uso:\n",
    "\n",
    "# Criamos um objeto da classe Pagamento.\n",
    "pagamento = Pagamento()\n",
    "\n",
    "# O presidente assina o pagamento chamando o método 'assinar_presidente'\n",
    "pagamento.assinar_presidente()  # Presidente assina\n",
    "\n",
    "# O tesoureiro assina o pagamento chamando o método 'assinar_tesoureiro'\n",
    "pagamento.assinar_tesoureiro()  # Tesoureiro assina\n",
    "\n",
    "# Tentamos liberar o pagamento. Se ambos assinaram, o pagamento será liberado.\n",
    "pagamento.liberar_pagamento()   # Pagamento é liberado"
   ]
  },
  {
   "cell_type": "code",
   "execution_count": 91,
   "metadata": {},
   "outputs": [
    {
     "name": "stdout",
     "output_type": "stream",
     "text": [
      "O cavalo é da cor: preto\n",
      "O cavalo é da cor: branco\n",
      "Erro: Apenas cavalos pretos e brancos são aceitos.\n"
     ]
    }
   ],
   "source": [
    "# Exercício 2: Algoritmo que mostra a cor de dois cavalos (preto e branco) e não aceita outras cores.\n",
    "\n",
    "# Definimos uma função chamada verificar_cor_cavalo que recebe como parâmetro a cor do cavalo\n",
    "def verificar_cor_cavalo(cor_cavalo):\n",
    "    # Definimos uma lista de cores aceitas, que contém as cores 'preto' e 'branco'\n",
    "    cores_aceitas = ['preto', 'branco']\n",
    "    \n",
    "    # Verificamos se a cor fornecida está na lista de cores aceitas\n",
    "    # Utilizamos o método .lower() para garantir que a comparação seja feita independentemente do uso de maiúsculas ou minúsculas\n",
    "    if cor_cavalo.lower() in cores_aceitas:\n",
    "        # Se a cor estiver na lista de cores aceitas, exibimos a cor do cavalo\n",
    "        print(f\"O cavalo é da cor: {cor_cavalo}\")\n",
    "    else:\n",
    "        # Se a cor não estiver na lista de cores aceitas, exibimos uma mensagem de erro\n",
    "        print(\"Erro: Apenas cavalos pretos e brancos são aceitos.\")\n",
    "\n",
    "# Exemplo de uso:\n",
    "\n",
    "# Chamamos a função com a cor 'preto'. Como 'preto' está na lista de cores aceitas, o programa exibe a cor do cavalo.\n",
    "verificar_cor_cavalo('preto')  # Saída: O cavalo é da cor: preto\n",
    "\n",
    "# Chamamos a função com a cor 'branco'. Como 'branco' está na lista de cores aceitas, o programa exibe a cor do cavalo.\n",
    "verificar_cor_cavalo('branco') # Saída: O cavalo é da cor: branco\n",
    "\n",
    "# Chamamos a função com a cor 'marrom'. Como 'marrom' não está na lista de cores aceitas, o programa exibe uma mensagem de erro.\n",
    "verificar_cor_cavalo('marrom') # Saída: Erro: Apenas cavalos pretos e brancos são aceitos."
   ]
  }
 ],
 "metadata": {
  "kernelspec": {
   "display_name": "Python 3",
   "language": "python",
   "name": "python3"
  },
  "language_info": {
   "codemirror_mode": {
    "name": "ipython",
    "version": 3
   },
   "file_extension": ".py",
   "mimetype": "text/x-python",
   "name": "python",
   "nbconvert_exporter": "python",
   "pygments_lexer": "ipython3",
   "version": "3.12.4"
  }
 },
 "nbformat": 4,
 "nbformat_minor": 2
}
