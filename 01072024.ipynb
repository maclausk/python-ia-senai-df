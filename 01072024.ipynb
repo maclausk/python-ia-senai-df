{
 "cells": [
  {
   "cell_type": "markdown",
   "metadata": {},
   "source": [
    "### 01/07/2024\n",
    "\n",
    "#### ***Conceito de CRUD***\n",
    "- CRUD: É o acrônimo para Create (criar), Read (ler), Update (atualizar) e Delete (apagar).\n",
    "- Define as operações básicas para criação, leitura, atualização e deleção de informações em diversos contextos de gerenciamento de dados."
   ]
  },
  {
   "cell_type": "code",
   "execution_count": 1,
   "metadata": {},
   "outputs": [
    {
     "data": {
      "text/plain": [
       "'\\nComentário de bloco: utilizado por meio da inserção de três aspas, podendo ser simples ou duplas no inicio e no final do bloco de comentários.\\nEsse tipo de comentário agrega várias linhas.\\n'"
      ]
     },
     "execution_count": 1,
     "metadata": {},
     "output_type": "execute_result"
    }
   ],
   "source": [
    "## TIPOS DE COMENTÁRIOS. PODEM SER DE LINHA OU DE BLOCO\n",
    "\n",
    "## Comentário de linha. Identificado pelo '#'.\n",
    "\n",
    "'''\n",
    "Comentário de bloco: utilizado por meio da inserção de três aspas, podendo ser simples ou duplas no inicio e no final do bloco de comentários.\n",
    "Esse tipo de comentário agrega várias linhas.\n",
    "'''"
   ]
  },
  {
   "cell_type": "markdown",
   "metadata": {},
   "source": [
    "### ***Variáveis***\n",
    "\n",
    "- É um espaço reservado na memória e serve para armazenar valores.\n",
    "\n",
    "As mais comumentes utilizadas são:\n",
    "\n",
    "- **string** - armazenam texto, onde o seu conteúdo é informado entre aspas simples. Exemplo: 'Marcelo Avelino'. \n",
    "- **int** - armazenam números inteiros.\n",
    "- **float** - Valores quebrados, não inteiros.\n",
    "- **boleana** - tipo Verdadeiro ou Falso (True / False), onde T e F devem ser maiusculas. \n",
    "\n",
    "**O Python é sensitive case, ou seja, tem diferença entre letras maiusculas e minusculas.**"
   ]
  },
  {
   "cell_type": "markdown",
   "metadata": {},
   "source": [
    "### Convertendo tipos de Dados"
   ]
  },
  {
   "cell_type": "code",
   "execution_count": 2,
   "metadata": {},
   "outputs": [
    {
     "name": "stdout",
     "output_type": "stream",
     "text": [
      "Marcelo Avelino <class 'str'>\n",
      "<class 'str'>\n",
      "<class 'int'>\n",
      "<class 'float'>\n",
      "<class 'float'>\n",
      "<class 'bool'>\n",
      "valor sem conversão <class 'int'>\n",
      "segundo valor já convertido <class 'str'>\n"
     ]
    }
   ],
   "source": [
    "nome = 'Marcelo Avelino' #string\n",
    "idade = 42 #int\n",
    "peso = 90.0 #float\n",
    "altura = 1.75 #float\n",
    "instrutor = False #bolean\n",
    "\n",
    "\n",
    "#a função 'type' informa o tipo de variável.\n",
    "print(nome, type(nome)) \n",
    "print(type(nome))\n",
    "print(type(idade))\n",
    "print(type(peso))\n",
    "print(type(altura))\n",
    "print(type(instrutor))\n",
    "\n",
    "#Convertendo o valor.\n",
    "valor = 15\n",
    "print('valor sem conversão', type(valor))\n",
    "valor = str(valor)\n",
    "print('segundo valor já convertido', type(valor))"
   ]
  },
  {
   "cell_type": "markdown",
   "metadata": {},
   "source": [
    "### Concatenação de Variáveis\n",
    "\n",
    "- É realizada utilizando o sinal de \"+\". "
   ]
  },
  {
   "cell_type": "code",
   "execution_count": null,
   "metadata": {},
   "outputs": [],
   "source": [
    "# Definição das variáveis\n",
    "nome = 'Marcelo Avelino'\n",
    "idade = 42\n",
    "altura = 1.69\n",
    "\n",
    "# Modo 1: Concatenação de Strings\n",
    "print('Olá, meu nome é ' + nome + ' e tenho ' + str(idade) + ' anos de idade.')\n",
    "\n",
    "# Neste modo, usamos o operador + para concatenar (juntar) várias strings em uma única linha.\n",
    "# A variável idade é convertida em string usando str(idade), pois a concatenação de strings só funciona entre strings.\n",
    "# Este método pode ser um pouco mais complicado e propenso a erros devido à necessidade de conversão de tipos de dados.\n",
    "\n",
    "# Modo 2: Separação por Vírgulas\n",
    "print('Olá, meu nome é', nome, 'e tenho', idade, 'anos de idade.')\n",
    "\n",
    "# Neste modo, passamos as variáveis como argumentos separados por vírgulas para a função print.\n",
    "# O print automaticamente insere espaços entre os argumentos, por isso não é necessário concatenar manualmente.\n",
    "# Este método é mais simples e direto, sem a necessidade de conversão de tipos de dados.\n",
    "\n",
    "# Modo 3: f-strings (Interpolação de Strings)\n",
    "print(f'Olá, meu nome é {nome} e tenho {idade} anos de idade.')\n",
    "\n",
    "# Neste modo, utilizamos f-strings (strings formatadas), introduzidas no Python 3.6.\n",
    "# Colocamos a letra f antes das aspas da string e utilizamos chaves {} para inserir variáveis diretamente dentro da string.\n",
    "# Este método é o mais moderno, legível e conveniente para incluir variáveis dentro de strings.\n",
    "\n",
    "# Todos os três modos produzem o mesmo resultado na tela:\n",
    "# Olá, meu nome é Marcelo Avelino e tenho 42 anos de idade.\n"
   ]
  },
  {
   "cell_type": "markdown",
   "metadata": {},
   "source": [
    "### Entrada de Dados"
   ]
  },
  {
   "cell_type": "code",
   "execution_count": null,
   "metadata": {},
   "outputs": [],
   "source": [
    "nome = input('Digite seu nome: ')\n",
    "print(f'Seu nome é {nome}')"
   ]
  },
  {
   "cell_type": "markdown",
   "metadata": {},
   "source": [
    "### Atividade\n",
    "\n",
    "- Criar um sistema para receber nome, idade, peso e altura do usuário.\n",
    "- Restringir a idade para receber somente valores inteiros.\n",
    "- Restringir a altura e peso para o tipo float.\n",
    "- Imprimam todas as informações do usuário usando a concatenação f string.\n",
    "- Imprimam o tipo de dado de cada uma das variáveis."
   ]
  },
  {
   "cell_type": "code",
   "execution_count": null,
   "metadata": {},
   "outputs": [],
   "source": [
    "# Inserção Manual de Dados\n",
    "nome = str(input('Digite seu nome: '))\n",
    "idade = int(input('Digite sua idade: '))\n",
    "peso = float(input('Digite seu peso: '))\n",
    "altura = float(input('Digite sua altura: '))\n",
    "\n",
    "# Apresentação das informações. Obs: '\\n' é referente a uma quebra de linha.\n",
    "print(f'Seu nome é {nome}! Você tem {idade} anos, pesa {peso} quilos e possui {altura} de altura.')\n",
    "print(f'Olá, seu nome é \\n{nome, type(nome)} \\ntenho {idade} anos de idade, \\nseu peso é {peso} e \\naltura {altura}')\n",
    "\n",
    "#Informando o tipo de dado de cada uma das variáveis.\n",
    "print('As variáveis citadas são do tipo', 'Nome: ', type(nome), 'Idade:', type(idade), 'Peso: ' ,type(peso), 'Altura: ' ,type(altura))\n",
    "print('As variáveis apresentadas no programa são do seguinte tipo:\\n', 'Nome:', type(nome), '\\nIdade:', type(idade), '\\nPeso:', type(peso), '\\ne Altura:', type(altura))"
   ]
  },
  {
   "cell_type": "code",
   "execution_count": null,
   "metadata": {},
   "outputs": [],
   "source": [
    "# Exercício Adicional 1: Informação do Usuário - Peça ao usuário para inserir seu nome, idade, peso e altura, e então exiba essas informações em uma única linha e também em linhas separadas.\n",
    "\n",
    "# inserção de dados\n",
    "nome = str(input('Digite seu nome: '))\n",
    "idade = int(input('Digite sua idade: '))\n",
    "peso = float(input('Digite seu peso: '))\n",
    "altura = float(input('Digite sua altura: '))\n",
    "\n",
    "# Apresentação das informações informadas em uma única linha.\n",
    "print(f'Seu nome é {nome}. Possui {idade} anos. Pesa {peso} quilos e tem {altura} de altura')\n",
    "\n",
    "# Apresentação das informações informadas em várias linhas.\n",
    "print(f'Seu nome é {nome}.\\nPossui {idade} anos.\\nPesa {peso} quilos.\\nTem {altura} de altura.')\n",
    "\n"
   ]
  },
  {
   "cell_type": "code",
   "execution_count": 5,
   "metadata": {},
   "outputs": [
    {
     "name": "stdout",
     "output_type": "stream",
     "text": [
      "A soma de 10.0 com 440.0 é: 450.0.\n",
      "A subtração de 10.0 com 440.0 é: -430.0.      \n",
      "A multiplicação de 10.0 com 440.0 é: 4400.0.\n",
      "A divisão de 10.0 com 440.0 é: 0.022727272727272728. \n"
     ]
    }
   ],
   "source": [
    "# Exercício Adicional 2: Crie um programa que peça ao usuário para inserir dois números e exiba a soma, subtração, multiplicação e divisão desses números em linhas separadas.\n",
    "\n",
    "# inserção de dados\n",
    "num1 = float(input('Digite o primeiro número: '))\n",
    "num2 = float(input('Digite o segundo número: '))\n",
    "\n",
    "# Realizando as Operações\n",
    "soma = num1 + num2\n",
    "subtracao = num1 - num2\n",
    "multiplicacao = num1 * num2\n",
    "divisao = num1 / num2\n",
    "\n",
    "print(f'A soma de {num1} com {num2} é: {soma}.\\nA subtração de {num1} com {num2} é: {subtracao}.\\\n",
    "      \\nA multiplicação de {num1} com {num2} é: {multiplicacao}.\\nA divisão de {num1} com {num2} é: {divisao}. ')"
   ]
  },
  {
   "cell_type": "code",
   "execution_count": null,
   "metadata": {},
   "outputs": [],
   "source": [
    "# Exercício Adicional 3: Crie um programa que peça ao usuário para inserir uma temperatura em Celsius e converta essa temperatura para Fahrenheit. Mostre o resultado.\n",
    "\n",
    "# Inserção de dados\n",
    "celsius = float(input('Digite a temperatura em Celsius: '))\n",
    "\n",
    "# Convertendo a temperatura para Fahrenheit\n",
    "fahrenheit = (celsius*1.8)+32\n",
    "\n",
    "# Apresentando o resultado\n",
    "print(f'A temperatura de {celsius} Celsius é referente a {fahrenheit} graus Fahrenheit')\n"
   ]
  },
  {
   "cell_type": "code",
   "execution_count": null,
   "metadata": {},
   "outputs": [],
   "source": [
    "# Exercício Adicional 4: Peça ao usuário para inserir seu nome, idade, peso e altura e exiba essas informações junto com o tipo de cada variável.\n",
    "\n",
    "# Inserção de dados\n",
    "nome = str(input('Digite seu nome: '))\n",
    "idade = int(input('Digite sua idade: '))\n",
    "peso = float(input('Digite seu peso: '))\n",
    "altura =float(input('Digite sua altura: '))\n",
    "\n",
    "print(f'Seu nome é {nome}\\nVocê tem {idade} anos.\\nSeu peso é de {peso} quilos.\\nSua altura é {altura}')\n",
    "\n",
    "print('Os tipos de variáveis utilizadas nesse programa são:\\n',f'Nome: {type(nome)}\\nIdade: {type(idade)}\\nPeso: {type(peso)}\\nAltura:{type(altura)}')    \n"
   ]
  },
  {
   "cell_type": "code",
   "execution_count": 18,
   "metadata": {},
   "outputs": [
    {
     "name": "stdout",
     "output_type": "stream",
     "text": [
      "Parabéns Marcelo, seu futuro é brilhante\n"
     ]
    }
   ],
   "source": [
    "# Exercício Adicional 5: Peça ao usuário para inserir seu nome e, em seguida, mostre uma frase motivacional personalizada.\n",
    "\n",
    "# Inserção de dados\n",
    "nome = str(input('Digite seu nome: '))\n",
    "print(f'Parabéns {nome}, seu futuro é brilhante')"
   ]
  }
 ],
 "metadata": {
  "kernelspec": {
   "display_name": "Python 3",
   "language": "python",
   "name": "python3"
  },
  "language_info": {
   "codemirror_mode": {
    "name": "ipython",
    "version": 3
   },
   "file_extension": ".py",
   "mimetype": "text/x-python",
   "name": "python",
   "nbconvert_exporter": "python",
   "pygments_lexer": "ipython3",
   "version": "3.12.4"
  }
 },
 "nbformat": 4,
 "nbformat_minor": 2
}
