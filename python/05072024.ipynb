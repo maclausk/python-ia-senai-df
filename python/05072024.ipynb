{
 "cells": [
  {
   "cell_type": "markdown",
   "metadata": {},
   "source": [
    "### Operador ternário\n",
    "\n",
    "- O operador ternário em Python permite fazer uma verificação condicional em uma linha só. É útil quando você tem duas opções. Ele torna o código mais curto e fácil de ler.\n",
    "\n",
    "#### Sintaxe do Operador Ternário\n",
    "\n",
    "```sh\n",
    "variavel = valor_se_verdadeiro if condicao else valor_se_falso\n",
    "```\n",
    "- Explicação\n",
    "    - condicao: Isto é o que você está verificando, é a expressão que será avaliada como verdadeira ou falsa.\n",
    "    - valor_se_verdadeiro: Este é o valor que a variável terá se a condição for verdadeira. \n",
    "    - valor_se_falso: Este é o valor que a variável terá se a condição for falsa.\n",
    "\n",
    "#### Quando Usar?\n",
    "\n",
    "    - Use o operador ternário para verificações simples com duas ou três opções.\n",
    "    - Para condições mais complicadas, é melhor usar if-else normal.\n",
    "\n",
    "#### Considerações\n",
    "    - O operador ternário é mais adequado para condições simples e claras. Para condições mais complexas, o uso de estruturas if-else tradicionais pode ser mais legível.\n",
    "    - Embora o operador ternário torne o código mais compacto, ele pode comprometer a clareza se usado de forma excessiva ou em condições complexas.\n",
    "\n",
    "#### Vantagens do Operador Ternário\n",
    "    - Conciso - Menos linhas de código: Reduz a quantidade de linhas de código para expressar uma operação condicional simples.\n",
    "    - Legível - Bom para verificações simples: Facilita a leitura do código quando usado em condições simples e claras.\n",
    "\n",
    "#### Desvantagens do Operador Ternário\n",
    "    - Complexidade: Pode ser difícil de entender se usado em verificações complexas.\n",
    "    - Legibilidade - : Para quem não está acostumado, pode ser confuso / Pode ser menos intuitivo para desenvolvedores que não estão familiarizados com a sintaxe do operador ternário.\n",
    "\n",
    "#### Conclusão\n",
    "    - O operador ternário é útil para escrever verificações simples de forma curta e clara. Use-o para manter seu código limpo e fácil de ler."
   ]
  },
  {
   "cell_type": "code",
   "execution_count": 21,
   "metadata": {},
   "outputs": [
    {
     "name": "stdout",
     "output_type": "stream",
     "text": [
      "Marcelo É menor de idade\n"
     ]
    }
   ],
   "source": [
    "# Exemplo 1: Verificar se a pessoa é maior de idade\n",
    "\n",
    "nome = input('Digite seu nome: ')\n",
    "idade = int(input('Digite sua idade: '))\n",
    "\n",
    "print(nome, 'é maior de idade.' if idade >= 18. else 'é menor de idade')"
   ]
  },
  {
   "cell_type": "code",
   "execution_count": 1,
   "metadata": {},
   "outputs": [
    {
     "name": "stdout",
     "output_type": "stream",
     "text": [
      "O número 6 é Par\n"
     ]
    }
   ],
   "source": [
    "# Exemplo 2 - Verificar se o número é par ou impar (Simples)\n",
    "    # numero % 2 == 0 é a condição.\n",
    "    # \"Par\" é o valor se a condição for verdadeira.\n",
    "    # \"Ímpar\" é o valor se a condição for falsa.\n",
    "\n",
    "numero = 6\n",
    "resultado = \"Par\" if numero % 2 == 0 else \"Impar\"\n",
    "print(f'O número {numero} é {resultado}')\n"
   ]
  },
  {
   "cell_type": "code",
   "execution_count": 30,
   "metadata": {},
   "outputs": [
    {
     "name": "stdout",
     "output_type": "stream",
     "text": [
      "O número 5 é Impar.\n"
     ]
    }
   ],
   "source": [
    "# Exemplo 2.1 - Verificar se o número é par ou impar\n",
    "\n",
    "numero = int(input('Digite um número: '))\n",
    "resultado = 'Par' if numero % 2 == 0 else 'Impar'\n",
    "print(f'O número {numero} é {resultado}.')\n",
    "\n",
    "# numero = int(input('Digite um número: ')): Converte a entrada do usuário de string para inteiro. Isso permite realizar a operação de módulo (%) para verificar se o número é par ou ímpar.\n",
    "# resultado = \"Par\" if numero % 2 == 0 else \"Ímpar\": Usa o operador ternário para determinar se o número é par ou ímpar.\n",
    "# print(f\"O número {numero} é {resultado}.\"): Imprime o resultado."
   ]
  },
  {
   "cell_type": "code",
   "execution_count": 34,
   "metadata": {},
   "outputs": [
    {
     "name": "stdout",
     "output_type": "stream",
     "text": [
      "O número -5 é Negativo.\n"
     ]
    }
   ],
   "source": [
    "# Exemplo 3 - Verificar se um número é positivo, negativo ou zero\n",
    "\n",
    "numero = -5\n",
    "resultado = \"Positivo\" if numero > 0 else (\"Negativo\" if numero < 0 else \"Zero\")\n",
    "print(f\"O número {numero} é {resultado}.\")\n"
   ]
  },
  {
   "cell_type": "code",
   "execution_count": 13,
   "metadata": {},
   "outputs": [
    {
     "name": "stdout",
     "output_type": "stream",
     "text": [
      "Olá Marcelo! Você possui 18 anos! Sendo assim pode votar.\n"
     ]
    }
   ],
   "source": [
    "# Exemplo 4 - Verificar se uma pessoa tem idade suficiente para votar. A idade mínima para votar é 16 anos.\n",
    "\n",
    "nome = input(\"Digite seu nome: \")\n",
    "idade = int(input(\"Digite sua idade: \"))\n",
    "podevotar = \"pode votar.\" if idade >= 16 else \"não pode votar.\"\n",
    "print(f'Olá {nome}! Você possui {idade} anos! Sendo assim {podevotar}')\n",
    "\n",
    "# Entrada: nome e idade da pesoa\n",
    "# Operador Ternário: pode_votar = 'pode votar.' if idade >= 16 else 'não pode votar.'\n",
    "# Saída: Informa se a pessoa pode votar ou não."
   ]
  },
  {
   "cell_type": "code",
   "execution_count": 20,
   "metadata": {},
   "outputs": [
    {
     "name": "stdout",
     "output_type": "stream",
     "text": [
      "O número 13 é Não é múltiplo de 3.\n"
     ]
    }
   ],
   "source": [
    "# Exemplo 5 - Verificar se um número é múltiplo de 3\n",
    "\n",
    "numero = int(input(\"Digite um número: \"))\n",
    "resultado = 'Múltiplo de 3' if numero % 3 == 0 else 'Não é múltiplo de 3'\n",
    "print(f'O número {numero} é {resultado}.')\n",
    "\n",
    "# Entrada: Um número inteiro.\n",
    "# Operador Ternário: resultado = 'Múltiplo de 3' if numero % 3 == 0 else 'Não é múltiplo de 3'\n",
    "# Saída: Informa se o número é múltiplo de 3 ou não."
   ]
  },
  {
   "cell_type": "code",
   "execution_count": 18,
   "metadata": {},
   "outputs": [
    {
     "name": "stdout",
     "output_type": "stream",
     "text": [
      "O número 15 Está no intervalo [10, 20].\n"
     ]
    }
   ],
   "source": [
    "# Exemplo 5 - Verificar se um número está dentro de um intervalo\n",
    "\n",
    "numero = int(input('Digite um número: '))\n",
    "resultado = 'Está no intervalo [10, 20]' if 10 <= numero <= 20 else 'Não está no intervalo [10, 20]'\n",
    "print(f'O número {numero} {resultado}.')\n",
    "\n",
    "# Entrada: Um número inteiro.\n",
    "# Operador Ternário: resultado = 'Está no intervalo [10, 20]' if 10 <= numero <= 20 else 'Não está no intervalo [10, 20]'\n",
    "# Saída: Informa se o número está no intervalo ou não.\n"
   ]
  },
  {
   "cell_type": "markdown",
   "metadata": {},
   "source": [
    "## Método replace() em Python\n",
    "\n",
    "- O método replace() é uma função que faz uma busca e substituição em uma string. Ele cria uma nova string onde todas as ocorrências de uma parte da string (substring) são trocadas por outra substring. Isso é muito útil para modificar e formatar textos.\n",
    "\n",
    "**Explicação Simples**\n",
    "- **replace()**: É uma função que substitui partes de uma string por outra.\n",
    "- Para usar:\n",
    "    - Escreva a string que você quer modificar.\n",
    "    - Chame a função replace().\n",
    "    - Coloque a parte antiga (que quer trocar) e a parte nova (que vai entrar no lugar).\n",
    "\n",
    "    ```python\n",
    "    string.replace(old, new)\n",
    "    ```\n",
    "\n",
    "    - old: A parte da string que você quer substituir.\n",
    "    - new: A nova parte que vai substituir a antiga.\n",
    "\n",
    "\n",
    "### Dicas\n",
    "- Imutabilidade das Strings: Em Python, as strings são imutáveis. Isso significa que replace() não muda a string original, mas retorna uma nova string modificada.\n",
    "- Substituições Múltiplas: Você pode usar replace() várias vezes se precisar fazer várias substituições diferentes.\n",
    "\n",
    "```python\n",
    "texto = \"Hello, World!\"\n",
    "texto = texto.replace(\"Hello\", \"Hi\").replace(\"World\", \"Everyone\")\n",
    "print(texto)  # Saída: Hi, Everyone!\n",
    "```"
   ]
  },
  {
   "cell_type": "code",
   "execution_count": 23,
   "metadata": {},
   "outputs": [
    {
     "name": "stdout",
     "output_type": "stream",
     "text": [
      "1.234.567.89\n"
     ]
    }
   ],
   "source": [
    "# Exemplo 1 - Substituir Vírgulas por Pontos: Se você tem um número com vírgulas e quer trocar por ponto, faça assim:\n",
    "\n",
    "numero = \"1,234,567.89\"\n",
    "numero_corrigido = numero.replace(',', '.')\n",
    "print(numero_corrigido) # Saída: 1.234.567.89\n",
    "\n",
    "# String Original: numero = \"1,234,567.89\"\n",
    "# Chama replace(): numero_corrigido = numero.replace(',', '.')\n",
    "# Resultado: \"1.234.567.89\""
   ]
  },
  {
   "cell_type": "code",
   "execution_count": 21,
   "metadata": {},
   "outputs": [
    {
     "name": "stdout",
     "output_type": "stream",
     "text": [
      "Python é foda\n"
     ]
    }
   ],
   "source": [
    "# Exemplo 2 - Remover Espaços Extras: Se você tem uma frase com espaços extras e quer deixar apenas um espaço entre as palavras, faça assim:\n",
    "\n",
    "frase = \"Python  é  foda\"\n",
    "frase_corrigida = frase.replace(\"  \", \" \")\n",
    "print(frase_corrigida)\n",
    "\n",
    "# String Original: frase = \"Python é foda\"\n",
    "# Chama replace(): frase_corrigida = frase.replace(\" \", \" \")\n",
    "# Resultado: \"Python é foda\""
   ]
  },
  {
   "cell_type": "code",
   "execution_count": 25,
   "metadata": {},
   "outputs": [
    {
     "name": "stdout",
     "output_type": "stream",
     "text": [
      "------------------------------------------------------------ BRINQUEDOLÂNDIA - O MAIOR PARQUE DE BRINQUEDOS DE TAGUATINGA-DF ------------------------------------------------------------\n",
      "Cliente MARCELO AVELINO, você está autorizado a utilizar o brinquedo, pois tem mais de 12 anos e possui altura superior a 1,20m.\n",
      "------------------------------------------------------------ MANTENHA OS BRINQUEDOS EM BOM ESTADO! ------------------------------------------------------------\n"
     ]
    }
   ],
   "source": [
    "## Desafio 01 - Crie um programa para fazer a verificação de um cliente para saber se ele pode usar o brinquedo ou não.\n",
    "# Para brincar ele precisa:\n",
    "    # ter mais que 12 anos\n",
    "    # ter altura minima de 1,20 mts\n",
    "\n",
    "\n",
    "# Informando o nome do cliente, idade e altura\n",
    "\n",
    "print(60 * '-', 'BRINQUEDOLÂNDIA - O MAIOR PARQUE DE DIVERSÕES DE TAGUATINGA-DF', 60 * '-')\n",
    "nomecliente = input('Olá, cliente. Informe seu nome: ').upper()\n",
    "idade = input('Digite sua idade: ')\n",
    "altura = input('Digite sua altura (em metros, use ponto para decimais): ').replace(',', '.')\n",
    "\n",
    "# Conversão do tipo das variáveis\n",
    "idade = int(idade)\n",
    "altura = float(altura)\n",
    "\n",
    "# Verificação da Situação\n",
    "if idade >= 12 and altura >= 1.20:\n",
    "    print(f'Cliente {nomecliente}, você está autorizado a utilizar o brinquedo, pois tem mais de 12 anos e possui altura superior a 1,20m.')\n",
    "else:\n",
    "    print(f'Cliente {nomecliente}, infelizmente você não atende aos pré-requisitos para utilização dos brinquedos que são altura maior que 1,20m e idade igual ou superior a 12 anos!')\n",
    "\n",
    "print(60 * '-', 'MANTENHA OS BRINQUEDOS EM BOM ESTADO!', 60 * '-')\n",
    "\n",
    "\n",
    "'''\n",
    "### Explicação Detalhada\n",
    "- Input e Conversão:\n",
    "\n",
    "    - int(input()) converte a entrada do usuário para um número inteiro.\n",
    "    - float(input()) converte a entrada do usuário para um número decimal, permitindo a entrada de alturas como 1.75.\n",
    "\n",
    "- Operadores Lógicos:\n",
    "\n",
    "    - > verifica se a idade é maior que 12.\n",
    "    - >= verifica se a altura é maior ou igual a 1,20 metros.\n",
    "    - and garante que ambas as condições devem ser verdadeiras para pode_usar ser True.\n",
    "\n",
    "### Maneira Prática de Explicar\n",
    "Imagine que estamos criando um sistema para um parque de diversões. Queremos garantir que apenas crianças mais velhas e suficientemente altas possam usar um brinquedo por segurança. Portanto, nosso programa:\n",
    "\n",
    "### Pede ao cliente sua idade e altura.\n",
    "Verifica se a idade é maior que 12 e se a altura é maior ou igual a 1,20 metros.\n",
    "Imprime uma mensagem dizendo se o cliente pode ou não usar o brinquedo.\n",
    "Este programa ajuda a garantir a segurança das crianças e a conformidade com as regras do parque.\n",
    "\n",
    "#### Resolução\n",
    "\n",
    "**1. Entrada do Usuário:**\n",
    "\n",
    "- nomecliente = input('Olá, cliente. Informe seu nome: ').upper(): Solicita o nome do cliente e converte para maiúsculas.\n",
    "- idade = input('Digite sua idade: '): Solicita a idade do cliente.\n",
    "- altura = input('Digite sua altura (em metros, use ponto para decimais): ').replace(',', '.'): Solicita a altura do cliente e substitui vírgulas por pontos para garantir que o número esteja no formato correto para conversão.\n",
    "\n",
    "**2. Conversão de Tipos:**\n",
    "- idade = int(idade): Converte a idade de string para inteiro.\n",
    "- altura = float(altura): Converte a altura de string para float.\n",
    "\n",
    "**3. Verificação das Condições:**\n",
    "\n",
    "- if idade >= 12 and altura >= 1.20:: Verifica se a idade é maior ou igual a 12 anos e se a altura é maior ou igual a 1,20 metros.\n",
    "\n",
    "**4. Mensagens de Saída:**\n",
    "- Se ambas as condições forem verdadeiras, imprime uma mensagem de autorização.\n",
    "- Se qualquer uma das condições for falsa, imprime uma mensagem de não autorização.\n",
    "'''"
   ]
  },
  {
   "cell_type": "code",
   "execution_count": 33,
   "metadata": {},
   "outputs": [
    {
     "name": "stdout",
     "output_type": "stream",
     "text": [
      "*.*.*.*.*.*.*.*.*.*.*.*.*.*.*.*.*.*.*.*.*.*.*.*.*.*.*.*.*.*.*.*.*.*.*.*.*.*.*.*. SEJA BEM VINDO AO PARQUE ÁQUATICO ÁGUAS RASAS E RARAS *.*.*.*.*.*.*.*.*.*.*.*.*.*.*.*.*.*.*.*.*.*.*.*.*.*.*.*.*.*.*.*.*.*.*.*.*.*.*.*.\n",
      "------------------------------------------------------------ PARQUE AQUÁTICO - AS MELHORES PISCINAS DE TAGUATINGA-DF ------------------------------------------------------------\n",
      "Cliente MARCELO, você está autorizado a entrar na piscina, pois tem mais de 10 anos e sabe nadar.\n",
      "------------------------------------------------------------ DIVIRTA-SE COM RESPONSABILIDADE! ------------------------------------------------------------\n",
      "*.*.*.*.*.*.*.*.*.*.*.*.*.*.*.*.*.*.*.*.*.*.*.*.*.*.*.*.*.*.*.*.*.*.*.*.*.*.*.*. DIVIRTA-SE COM RESPONSABILIDADE! *.*.*.*.*.*.*.*.*.*.*.*.*.*.*.*.*.*.*.*.*.*.*.*.*.*.*.*.*.*.*.*.*.*.*.*.*.*.*.*.\n"
     ]
    }
   ],
   "source": [
    "## Desafio 01.1 - Crie um programa para verificar se um cliente pode entrar na piscina de um parque aquático. Para isso, o cliente precisa:\n",
    "    # Ter mais de 10 anos de idade\n",
    "    # Saber nadar (sim ou não)\n",
    "\n",
    "print(20*'*.*.',\"SEJA BEM VINDO AO PARQUE ÁQUATICO ÁGUAS RASAS E RARAS\",20*'*.*.')\n",
    "\n",
    "# Informando o nome do cliente, idade e se sabe nadar\n",
    "\n",
    "print(60 * '-', 'PARQUE AQUÁTICO - AS MELHORES PISCINAS DE TAGUATINGA-DF', 60 * '-')\n",
    "nome_cliente = input('Olá, cliente. Informe seu nome: ').upper()\n",
    "idade = input('Digite sua idade: ')\n",
    "sabe_nadar = input('Você sabe nadar? (sim/não): ').lower()\n",
    "\n",
    "# Conversão do tipo das variáveis\n",
    "idade = int(idade)\n",
    "\n",
    "# Verificação da Situação\n",
    "if idade > 10 and sabe_nadar == 'sim':\n",
    "    print(f'Cliente {nome_cliente}, você está autorizado a entrar na piscina, pois tem mais de 10 anos e sabe nadar.')\n",
    "else:\n",
    "    print(f'Cliente {nome_cliente}, infelizmente você não atende aos pré-requisitos para entrar na piscina que são saber nadar e ter idade superior a 10 anos!')\n",
    "\n",
    "print(60 * '-', 'DIVIRTA-SE COM RESPONSABILIDADE!', 60 * '-')\n",
    "\n",
    "print(20*'*.*.',\"DIVIRTA-SE COM RESPONSABILIDADE!\",20*'*.*.')\n",
    "\n",
    "'''\n",
    "Explicação do Código\n",
    "Entrada de Dados do Usuário:\n",
    "\n",
    "nome_cliente = input('Olá, cliente. Informe seu nome: ').upper(): Solicita o nome do cliente e converte para maiúsculas.\n",
    "idade = input('Digite sua idade: '): Solicita a idade do cliente.\n",
    "sabe_nadar = input('Você sabe nadar? (sim/não): ').lower(): Solicita ao cliente se sabe nadar e converte a resposta para minúsculas.\n",
    "Conversão de Tipos:\n",
    "\n",
    "idade = int(idade): Converte a idade de string para inteiro.\n",
    "Verificação das Condições:\n",
    "\n",
    "if idade > 10 and sabe_nadar == 'sim':: Verifica se a idade é maior que 10 anos e se a resposta à pergunta \"Você sabe nadar?\" é \"sim\".\n",
    "Mensagens de Saída:\n",
    "\n",
    "Se ambas as condições forem verdadeiras, imprime uma mensagem de autorização.\n",
    "Se qualquer uma das condições for falsa, imprime uma mensagem de não autorização.\n",
    "'''"
   ]
  },
  {
   "cell_type": "code",
   "execution_count": 37,
   "metadata": {},
   "outputs": [
    {
     "name": "stdout",
     "output_type": "stream",
     "text": [
      "MARCELO, Você está acompanhado de um responsavél, porém está de mal humor, sendo assim não é possivel ir até a praia. Volte quando estiver de bom humor.\n"
     ]
    }
   ],
   "source": [
    "## Desafio 02\n",
    "# Crie um programa que verifica se o aluno poderar ir a praia.\n",
    "#    - Para ir a praia ele precisa:\n",
    "#       - Verifica se acordei de bom humor\n",
    "#       - Verifica se o pai ja chegou em casa para leva-lo\n",
    "\n",
    "\n",
    "# Informar o nome do aluno\n",
    "aluno = input('Digite seu nome: ').upper()\n",
    "\n",
    "# Estado Emocional\n",
    "humor = input('Você está de bom humor? Digite (sim/não)').lower().replace('não','nao')\n",
    "\n",
    "# Verificar se o responsavel está em casa\n",
    "paichegou = input('Está acompanhado de seu pai? Digite (sim/não)').lower().replace('não','nao')\n",
    "\n",
    "if humor == 'sim' and paichegou == 'sim':\n",
    "    print(f'{aluno}, você está liberado para ir a praia, pois está acompanhado e está de bom humor.')\n",
    "elif humor == 'sim' and paichegou == 'não':\n",
    "    print(f'{aluno}, você está de bom humor, porém não poderá ir até a praia pois não está acompanhado de um responsável')\n",
    "elif humor == 'nao' and paichegou == 'sim':\n",
    "    print(f'{aluno}, Você está acompanhado de um responsavél, porém está de mal humor, sendo assim não é possivel ir até a praia. Volte quando estiver de bom humor.')\n",
    "else:\n",
    "    print(f'{aluno}, infelizmente você não poderá ir até a praia pois não está acompanhado de um responsável e está de mal humor.')\n",
    "\n",
    "'''\n",
    "Explicação do Código\n",
    "Entrada de Dados do Aluno:\n",
    "\n",
    "aluno = input('Digite seu nome: ').upper(): Solicita o nome do aluno e converte para maiúsculas.\n",
    "humor = input('Você está de bom humor? Digite (sim/nao): ').lower(): Solicita ao aluno que informe se está de bom humor e converte a resposta para minúsculas.\n",
    "paichegou = input('Seu pai está em casa? Digite (sim/nao): ').lower(): Solicita ao aluno que informe se o pai está em casa e converte a resposta para minúsculas.\n",
    "Verificação das Condições:\n",
    "\n",
    "if humor == 'sim' and paichegou == 'sim':: Verifica se o aluno está de bom humor e se o pai está em casa.\n",
    "elif humor == 'sim' and paichegou == 'nao':: Verifica se o aluno está de bom humor, mas o pai não está em casa.\n",
    "elif humor == 'nao' and paichegou == 'sim':: Verifica se o aluno não está de bom humor, mas o pai está em casa.\n",
    "else:: Se nenhuma das condições acima for atendida, o aluno não está de bom humor e o pai não está em casa.\n",
    "Mensagens de Saída:\n",
    "\n",
    "Dependendo das condições verificadas, uma mensagem é impressa informando se o aluno pode ou não ir à praia.\n",
    "'''"
   ]
  },
  {
   "cell_type": "code",
   "execution_count": 4,
   "metadata": {},
   "outputs": [
    {
     "name": "stdout",
     "output_type": "stream",
     "text": [
      "O CPF informado é 924.691.321-34\n",
      "O CPF modificado é 92469132134.\n"
     ]
    }
   ],
   "source": [
    "## Desafio 03 - Crie um programa que modifique o CPF digitado\n",
    "# Pegue um CPF qualquer com todos os dígitos:\n",
    "# Remova os caracteres\n",
    "# Imprima o CPF sem modificação\n",
    "# Imprima o CPF com modificação\n",
    "\n",
    "# Informando o CPF\n",
    "cpf = input('Digite seu CPF com traços e pontos: ')\n",
    "\n",
    "# Imprimindo CPF sem modificação\n",
    "print(f'O CPF digitado foi {cpf}')\n",
    "\n",
    "# Removendo caracteres e imprimindo CPF com modificação\n",
    "cpf_modificado = cpf.replace('-', '').replace('.', '')\n",
    "print(f'O CPF modificado é {cpf_modificado}')\n",
    "\n",
    "'''\n",
    "Explicação do Código\n",
    "Entrada do CPF:\n",
    "\n",
    "cpf = input('Digite seu CPF com traços e pontos: '): Solicita que o usuário digite o CPF com traços e pontos.\n",
    "Impressão do CPF Sem Modificação:\n",
    "\n",
    "print(f'O CPF digitado foi {cpf}'): Imprime o CPF exatamente como foi digitado pelo usuário.\n",
    "Remoção de Caracteres e Impressão do CPF Modificado:\n",
    "\n",
    "cpf_modificado = cpf.replace('-', '').replace('.', ''): Remove os traços (-) e os pontos (.) do CPF usando o método replace().\n",
    "print(f'O CPF modificado é {cpf_modificado}'): Imprime o CPF sem os caracteres de traço e ponto.\n",
    "Detalhamento\n",
    "Método replace():\n",
    "replace('-', ''): Substitui todos os traços (-) por uma string vazia ('').\n",
    "replace('.', ''): Substitui todos os pontos (.) por uma string vazia ('').\n",
    "'''"
   ]
  },
  {
   "cell_type": "code",
   "execution_count": 1,
   "metadata": {},
   "outputs": [
    {
     "name": "stdout",
     "output_type": "stream",
     "text": [
      "Ei, Marcelo, de acordo com seu IMC que é 28.33, você está acima do peso. Bora correr no parque pra recuperar a boa forma?.\n"
     ]
    },
    {
     "data": {
      "text/plain": [
       "'\\n\\nEntrada de Dados:\\n\\nO usuário é solicitado a inserir o nome, peso (em quilogramas) e altura (em metros). As vírgulas nos valores são substituídas por pontos para garantir que os números decimais sejam lidos corretamente.\\nCálculo do IMC:\\n\\nO IMC é calculado usando a fórmula peso / altura ** 2.\\n\\nCondições:\\n\\nO código verifica em qual faixa de IMC o usuário se enquadra e imprime a mensagem correspondente.\\n\\n'"
      ]
     },
     "execution_count": 1,
     "metadata": {},
     "output_type": "execute_result"
    }
   ],
   "source": [
    "## Desafio 04\n",
    "# Crie uma calculadora de IMC\n",
    "# Imprima as seguintes condições:\n",
    "#     - imc < 17: está com anorexia.\n",
    "#     - imc < 18.5: está abaixo do peso.\n",
    "#     - imc < 25: está no peso ideal.\n",
    "#     - imc < 30: está acima do peso.\n",
    "#     - imc < 35: está com grau de obesidade I.\n",
    "#     - imc < 40: está com grau de obesidade II.\n",
    "#     - imc >= 40: está com grau de obesidade mórbida.\n",
    "\n",
    "# Calculadora de IMC\n",
    "\n",
    "# Informando os dados do usuário\n",
    "nome = input(\"Digite seu nome: \")\n",
    "peso = input(\"Digite seu peso (em kg): \").replace(',', '.')  # Substitui vírgulas por pontos para permitir decimais.\n",
    "altura = input(\"Digite sua altura (em metros): \").replace(',', '.')  # Substitui vírgulas por pontos para permitir decimais.\n",
    "\n",
    "# Conversão do tipo de dados das variáveis\n",
    "peso = float(peso)\n",
    "altura = float(altura)\n",
    "\n",
    "# Cálculo do IMC\n",
    "imc = peso / altura ** 2\n",
    "\n",
    "# Condições\n",
    "if imc < 17:\n",
    "    print(f'Ei, {nome}, de acordo com seu IMC que é {imc:.2f}, você possui um quadro de Anorexia. Vai se tratar.')\n",
    "elif imc < 18.5:\n",
    "    print(f'Ei, {nome}, de acordo com seu IMC que é {imc:.2f}, você está abaixo do peso. Vai comer dogão do Centro da Ceilândia a semana toda.')\n",
    "elif imc < 25:\n",
    "    print(f'Ei, {nome}, de acordo com seu IMC que é {imc:.2f}, você está no peso ideal. Não fez mais que sua obrigação, cuidando da sua saúde.')\n",
    "elif imc < 30:\n",
    "    print(f'Ei, {nome}, de acordo com seu IMC que é {imc:.2f}, você está acima do peso. Bora correr no parque pra recuperar a boa forma?.')\n",
    "elif imc < 35:\n",
    "    print(f'Ei, {nome}, de acordo com seu IMC que é {imc:.2f}, você está acima do peso, com grau de obesidade I. É hora de tomar vergonha na cara e se cuidar mano!.')\n",
    "elif imc < 40:\n",
    "    print(f'Ei, {nome}, de acordo com seu IMC que é {imc:.2f}, você está acima do peso, com grau de obesidade II. A coisa tá feia pro seu lado.')\n",
    "else:\n",
    "    print(f'Tenho uma má notícia pra você, {nome}! De acordo com seu IMC que é {imc:.2f}, você está com grau de obesidade mórbida. Vai ter que malhar muito e fechar a boca!')\n",
    "\n",
    "'''\n",
    "\n",
    "Entrada de Dados:\n",
    "\n",
    "O usuário é solicitado a inserir o nome, peso (em quilogramas) e altura (em metros). As vírgulas nos valores são substituídas por pontos para garantir que os números decimais sejam lidos corretamente.\n",
    "Cálculo do IMC:\n",
    "\n",
    "O IMC é calculado usando a fórmula peso / altura ** 2.\n",
    "\n",
    "Condições:\n",
    "\n",
    "O código verifica em qual faixa de IMC o usuário se enquadra e imprime a mensagem correspondente.\n",
    "\n",
    "'''\n"
   ]
  },
  {
   "cell_type": "code",
   "execution_count": 2,
   "metadata": {},
   "outputs": [
    {
     "name": "stdout",
     "output_type": "stream",
     "text": [
      "Escolha a operação matemática que deseja fazer:\n",
      "1. Soma = (+)\n",
      "2. Subtração = (-)\n",
      "3. Multiplicação = (*)\n",
      "4. Divisão = (/)\n",
      "O resultado de 2.0 + 6.0 é 8.0\n"
     ]
    },
    {
     "data": {
      "text/plain": [
       "\"\\nExplicações\\nEntrada de Dados:\\n\\nnum1 = float(input('Informe o primeiro número: ')): Solicita ao usuário o primeiro número e o converte para float.\\nnum2 = float(input('Informe o segundo número: ')): Solicita ao usuário o segundo número e o converte para float.\\nEscolha da Operação:\\n\\nUsa print para listar as opções de operações matemáticas disponíveis.\\noperacao = input('Digite o símbolo da operação desejada (+, -, *, /): '): Solicita ao usuário que escolha uma operação.\\nCálculo e Impressão do Resultado:\\n\\nif operacao == '+': Verifica se a operação escolhida é soma. Calcula num1 + num2 e imprime o resultado.\\nelif operacao == '-': Verifica se a operação escolhida é subtração. Calcula num1 - num2 e imprime o resultado.\\nelif operacao == '*': Verifica se a operação escolhida é multiplicação. Calcula num1 * num2 e imprime o resultado.\\nelif operacao == '/': Verifica se a operação escolhida é divisão.\\nDentro deste bloco, há uma verificação adicional if num2 != 0: para garantir que não haverá divisão por zero. Se num2 não for zero, calcula num1 / num2 e imprime o resultado. Se num2 for zero, imprime uma mensagem de erro.\\nelse: Se o usuário inserir um símbolo de operação inválido, imprime uma mensagem de erro informando que a operação é inválida.\\n\""
      ]
     },
     "execution_count": 2,
     "metadata": {},
     "output_type": "execute_result"
    }
   ],
   "source": [
    "# Desafio 05 - Crie uma calculadora básica.\n",
    "# Solicite 2 números do usuário e pergunte qual operação matemática ele deseja fazer (+, -, /, *)\n",
    "\n",
    "# Inserção de dois números do tipo float, pelo usuário.\n",
    "num1 = float(input('Informe o primeiro número: '))\n",
    "num2 = float(input('Informe o segundo número: '))\n",
    "\n",
    "# Solicita ao usuário qual operação matemática ele deseja fazer.\n",
    "print('Escolha a operação matemática que deseja fazer:')\n",
    "print('1. Soma = (+)')\n",
    "print('2. Subtração = (-)')\n",
    "print('3. Multiplicação = (*)')\n",
    "print('4. Divisão = (/)')\n",
    "\n",
    "operacao = input('Digite o símbolo da operação desejada (+, -, *, /): ')\n",
    "\n",
    "# Cálculo e impressão conforme operação escolhida\n",
    "if operacao == '+':\n",
    "    resultado = num1 + num2\n",
    "    print(f'O resultado de {num1} + {num2} é {resultado}')\n",
    "elif operacao == '-':\n",
    "    resultado = num1 - num2\n",
    "    print(f'O resultado de {num1} - {num2} é {resultado}')\n",
    "elif operacao == '*':\n",
    "    resultado = num1 * num2\n",
    "    print(f'O resultado de {num1} * {num2} é {resultado}')\n",
    "elif operacao == '/':\n",
    "    if num2 != 0:\n",
    "        resultado = num1 / num2\n",
    "        print(f'O resultado de {num1} / {num2} é {resultado}')\n",
    "    else:\n",
    "        print('Erro: Divisão por zero não é permitida.')\n",
    "else:\n",
    "    print('Operação inválida. Por favor, escolha uma operação válida (+, -, *, /).')\n",
    "\n",
    "'''\n",
    "Explicações\n",
    "Entrada de Dados:\n",
    "\n",
    "num1 = float(input('Informe o primeiro número: ')): Solicita ao usuário o primeiro número e o converte para float.\n",
    "num2 = float(input('Informe o segundo número: ')): Solicita ao usuário o segundo número e o converte para float.\n",
    "Escolha da Operação:\n",
    "\n",
    "Usa print para listar as opções de operações matemáticas disponíveis.\n",
    "operacao = input('Digite o símbolo da operação desejada (+, -, *, /): '): Solicita ao usuário que escolha uma operação.\n",
    "Cálculo e Impressão do Resultado:\n",
    "\n",
    "if operacao == '+': Verifica se a operação escolhida é soma. Calcula num1 + num2 e imprime o resultado.\n",
    "elif operacao == '-': Verifica se a operação escolhida é subtração. Calcula num1 - num2 e imprime o resultado.\n",
    "elif operacao == '*': Verifica se a operação escolhida é multiplicação. Calcula num1 * num2 e imprime o resultado.\n",
    "elif operacao == '/': Verifica se a operação escolhida é divisão.\n",
    "Dentro deste bloco, há uma verificação adicional if num2 != 0: para garantir que não haverá divisão por zero. Se num2 não for zero, calcula num1 / num2 e imprime o resultado. Se num2 for zero, imprime uma mensagem de erro.\n",
    "else: Se o usuário inserir um símbolo de operação inválido, imprime uma mensagem de erro informando que a operação é inválida.\n",
    "'''\n"
   ]
  }
 ],
 "metadata": {
  "kernelspec": {
   "display_name": "Python 3",
   "language": "python",
   "name": "python3"
  },
  "language_info": {
   "codemirror_mode": {
    "name": "ipython",
    "version": 3
   },
   "file_extension": ".py",
   "mimetype": "text/x-python",
   "name": "python",
   "nbconvert_exporter": "python",
   "pygments_lexer": "ipython3",
   "version": "3.12.4"
  }
 },
 "nbformat": 4,
 "nbformat_minor": 2
}
