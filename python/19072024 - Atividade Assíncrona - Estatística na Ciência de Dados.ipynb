{
 "cells": [
  {
   "cell_type": "markdown",
   "metadata": {},
   "source": [
    "#### Semana de Ciência de Dados com Python/IA - SENAI-DF - Vespertino - 19/07/2024\n",
    "##### Atividade Assíncrona - Estatística na Ciência de Dados - Marcelo Pereira Avelino\n",
    "\n",
    "---\n",
    "\n",
    "- O que é?\n",
    "- Para que serve?\n",
    "- Como fazer?\n",
    "\n",
    "    - Média\n",
    "    - Mediana\n",
    "    - Moda\n",
    "    - Quartis\n",
    "    - Desvio Padrão\n",
    "\n",
    "---"
   ]
  },
  {
   "cell_type": "markdown",
   "metadata": {},
   "source": [
    "### **Media**\n",
    "\n",
    "##### O que é?\n",
    "* A média é a soma de todos os valores dividida pelo número total de valores. É um valor que representa a tendência central de um conjunto de dados.\n",
    "\n",
    "##### Para que serve?\n",
    "* A média é usada para obter uma visão geral de onde a maioria dos dados está localizada. Ajuda a resumir um conjunto de dados com um único valor representativo.\n",
    "\n",
    "##### Como fazer?\n",
    "* Para calcular a média, some todos os valores e divida pelo número total de valores.\n",
    "\n",
    "```python\n",
    "# Exemplo simples de cálculo da média\n",
    "dados = [10, 20, 30, 40, 50]\n",
    "media = sum(dados) / len(dados)  # Calculando a média\n",
    "print(\"Média:\", media)  # Saída: Média: 30.0"
   ]
  },
  {
   "cell_type": "markdown",
   "metadata": {},
   "source": [
    "### **Mediana**\n",
    "\n",
    "##### O que é?\n",
    "* A mediana é o valor do meio em um conjunto de dados ordenado. Se houver um número par de valores, a mediana é a média dos dois valores do meio.\n",
    "\n",
    "##### Para que serve?\n",
    "* A mediana é útil para identificar a tendência central em um conjunto de dados, especialmente quando há valores extremos que podem distorcer a média.\n",
    "\n",
    "##### Como fazer?\n",
    "* Para calcular a mediana, ordene os valores e encontre o valor do meio. Se o número de valores for par, calcule a média dos dois valores centrais.\n",
    "\n",
    "```python\n",
    "# Exemplo simples de cálculo da mediana\n",
    "dados = [10, 20, 30, 40, 50]\n",
    "dados.sort()  # Ordenando os dados\n",
    "n = len(dados)\n",
    "if n % 2 == 0:\n",
    "    mediana = (dados[n//2 - 1] + dados[n//2]) / 2  # Calculando a mediana para número par de valores\n",
    "else:\n",
    "    mediana = dados[n//2]  # Calculando a mediana para número ímpar de valores\n",
    "print(\"Mediana:\", mediana)  # Saída: Mediana: 30"
   ]
  },
  {
   "cell_type": "markdown",
   "metadata": {},
   "source": [
    "### **Moda**\n",
    "\n",
    "##### O que é?\n",
    "* A moda é o valor que ocorre com mais frequência em um conjunto de dados.\n",
    "\n",
    "##### Para que serve?\n",
    "* A moda é útil para entender qual é o valor mais comum em um conjunto de dados. É particularmente útil para dados categóricos..\n",
    "\n",
    "##### Como fazer?\n",
    "* Para calcular a moda, encontre o valor que aparece com mais frequência.\n",
    "\n",
    "```python\n",
    "from statistics import mode\n",
    "\n",
    "# Exemplo simples de cálculo da moda\n",
    "dados = [10, 20, 30, 30, 40, 50]\n",
    "moda = mode(dados)  # Calculando a moda\n",
    "print(\"Moda:\", moda)  # Saída: Moda: 30\n"
   ]
  },
  {
   "cell_type": "markdown",
   "metadata": {},
   "source": [
    "### **Quartis**\n",
    "\n",
    "##### O que é?\n",
    "* Os quartis dividem um conjunto de dados ordenado em quatro partes iguais. O primeiro quartil (Q1) é o valor que separa os 25% menores dos dados, o segundo quartil (Q2) é a mediana, e o terceiro quartil (Q3) separa os 25% maiores dos dados.\n",
    "\n",
    "##### Para que serve?\n",
    "* Os quartis são usados para entender a dispersão e a distribuição dos dados. Eles ajudam a identificar a faixa em que a maioria dos dados está localizada.\n",
    "\n",
    "##### Como fazer?\n",
    "* Para calcular os quartis, ordene os dados e encontre os valores nos pontos de 25%, 50% e 75%.\n",
    "\n",
    "```python\n",
    "import numpy as np\n",
    "\n",
    "# Exemplo simples de cálculo dos quartis\n",
    "dados = [10, 20, 30, 40, 50, 60, 70, 80, 90, 100]\n",
    "q1 = np.percentile(dados, 25)  # Primeiro quartil (Q1)\n",
    "q2 = np.percentile(dados, 50)  # Segundo quartil (Q2) - Mediana\n",
    "q3 = np.percentile(dados, 75)  # Terceiro quartil (Q3)\n",
    "print(\"Q1:\", q1)  # Saída: Q1: 32.5\n",
    "print(\"Q2 (Mediana):\", q2)  # Saída: Q2 (Mediana): 55.0\n",
    "print(\"Q3:\", q3)  # Saída: Q3: 77.5"
   ]
  },
  {
   "cell_type": "markdown",
   "metadata": {},
   "source": [
    "### **Desvio Padrão**\n",
    "\n",
    "##### O que é?\n",
    "* O desvio padrão mede a quantidade de variação ou dispersão em um conjunto de dados. Um desvio padrão baixo indica que os valores tendem a estar próximos da média, enquanto um desvio padrão alto indica que os valores estão espalhados por uma faixa mais ampla.\n",
    "\n",
    "##### Para que serve?\n",
    "* O desvio padrão é usado para entender a dispersão dos dados em relação à média. É uma medida crucial para a análise estatística e a ciência de dados.\n",
    "\n",
    "##### Como fazer?\n",
    "* Para calcular o desvio padrão, encontre a média dos dados, calcule a diferença de cada valor em relação à média, eleve ao quadrado essas diferenças, encontre a média dessas diferenças ao quadrado e, finalmente, tire a raiz quadrada dessa média.\n",
    "\n",
    "```python\n",
    "import numpy as np\n",
    "\n",
    "# Exemplo simples de cálculo do desvio padrão\n",
    "dados = [10, 20, 30, 40, 50]\n",
    "desvio_padrao = np.std(dados)  # Calculando o desvio padrão\n",
    "print(\"Desvio Padrão:\", desvio_padrao)  # Saída: Desvio Padrão: 14.142135623730951"
   ]
  },
  {
   "cell_type": "code",
   "execution_count": 1,
   "metadata": {},
   "outputs": [
    {
     "name": "stdout",
     "output_type": "stream",
     "text": [
      "A média das notas é: 86.6\n"
     ]
    }
   ],
   "source": [
    "# MÉDIA\n",
    "# Crie uma lista com as notas de um estudante em 5 provas diferentes. Calcule a média das notas e exiba o resultado.\n",
    "\n",
    "# Lista de notas do estudante\n",
    "notas = [85, 90, 78, 92, 88]\n",
    "\n",
    "# Calculando a média das notas\n",
    "media_notas = sum(notas) / len(notas)\n",
    "\n",
    "# Exibindo a média\n",
    "print(\"A média das notas é:\", media_notas)  # Saída: A média das notas é: 86.6"
   ]
  },
  {
   "cell_type": "code",
   "execution_count": null,
   "metadata": {},
   "outputs": [],
   "source": [
    "# MEDIANA\n",
    "# Crie uma lista com a idade de 7 pessoas. Calcule a mediana das idades e exiba o resultado.\n",
    "\n",
    "# Lista de idades\n",
    "idades = [23, 34, 45, 28, 30, 36, 40]\n",
    "\n",
    "# Ordenando a lista de idades\n",
    "idades.sort()\n",
    "\n",
    "# Calculando a mediana\n",
    "n = len(idades)\n",
    "if n % 2 == 0:\n",
    "    mediana_idades = (idades[n//2 - 1] + idades[n//2]) / 2\n",
    "else:\n",
    "    mediana_idades = idades[n//2]\n",
    "\n",
    "# Exibindo a mediana\n",
    "print(\"A mediana das idades é:\", mediana_idades)  # Saída: A mediana das idades é: 34"
   ]
  },
  {
   "cell_type": "code",
   "execution_count": 2,
   "metadata": {},
   "outputs": [
    {
     "name": "stdout",
     "output_type": "stream",
     "text": [
      "A moda dos salários é: 3000\n"
     ]
    }
   ],
   "source": [
    "# MODA\n",
    "# Crie uma lista com os salários de 8 pessoas em uma empresa. Encontre a moda dos salários e exiba o resultado.\n",
    "\n",
    "from statistics import mode\n",
    "\n",
    "# Lista de salários\n",
    "salarios = [3000, 4500, 3000, 5000, 4500, 6000, 3000, 7000]\n",
    "\n",
    "# Calculando a moda dos salários\n",
    "moda_salarios = mode(salarios)\n",
    "\n",
    "# Exibindo a moda\n",
    "print(\"A moda dos salários é:\", moda_salarios)  # Saída: A moda dos salários é: 3000"
   ]
  },
  {
   "cell_type": "code",
   "execution_count": 5,
   "metadata": {},
   "outputs": [
    {
     "name": "stdout",
     "output_type": "stream",
     "text": [
      "Q1 (25%): 182.5\n",
      "Q2 (Mediana, 50%): 205.0\n",
      "Q3 (75%): 242.5\n"
     ]
    }
   ],
   "source": [
    "# QUARTIS\n",
    "# Crie uma lista com a quantidade de vendas diárias de uma loja durante 10 dias. Calcule os quartis das vendas e exiba os resultados.\n",
    "\n",
    "import numpy as np\n",
    "\n",
    "# Lista de vendas diárias\n",
    "vendas_diarias = [150, 200, 180, 250, 300, 220, 170, 190, 210, 260]\n",
    "\n",
    "# Calculando os quartis\n",
    "q1 = np.percentile(vendas_diarias, 25)\n",
    "q2 = np.percentile(vendas_diarias, 50)\n",
    "q3 = np.percentile(vendas_diarias, 75)\n",
    "\n",
    "# Exibindo os quartis\n",
    "print(\"Q1 (25%):\", q1)  # Saída: Q1 (25%): 180.0\n",
    "print(\"Q2 (Mediana, 50%):\", q2)  # Saída: Q2 (Mediana, 50%): 205.0\n",
    "print(\"Q3 (75%):\", q3)  # Saída: Q3 (75%): 235.0\n",
    "\n",
    "# A biblioteca NumPy é amplamente utilizada em ciência de dados e análise de dados devido à sua eficiência e ao grande número de funções úteis que ela oferece para operações matemáticas e estatísticas."
   ]
  },
  {
   "cell_type": "code",
   "execution_count": 6,
   "metadata": {},
   "outputs": [
    {
     "name": "stdout",
     "output_type": "stream",
     "text": [
      "O desvio padrão das temperaturas é: 1.5907898179514348\n"
     ]
    }
   ],
   "source": [
    "# DESVIO PADRÃO\n",
    "# Crie uma lista com as temperaturas registradas em uma cidade durante uma semana. Calcule o desvio padrão das temperaturas e exiba o resultado.\n",
    "\n",
    "import numpy as np\n",
    "\n",
    "# Lista de temperaturas\n",
    "temperaturas = [22, 24, 21, 23, 25, 20, 22]\n",
    "\n",
    "# Calculando o desvio padrão das temperaturas\n",
    "desvio_padrao_temperaturas = np.std(temperaturas)\n",
    "\n",
    "# Exibindo o desvio padrão\n",
    "print(\"O desvio padrão das temperaturas é:\", desvio_padrao_temperaturas)  # Saída: O desvio padrão das temperaturas é: 1.7320508075688772\n",
    "\n",
    "# A biblioteca NumPy é amplamente utilizada em ciência de dados e análise de dados devido à sua eficiência e ao grande número de funções úteis que ela oferece para operações matemáticas e estatísticas."
   ]
  }
 ],
 "metadata": {
  "kernelspec": {
   "display_name": "Python 3",
   "language": "python",
   "name": "python3"
  },
  "language_info": {
   "codemirror_mode": {
    "name": "ipython",
    "version": 3
   },
   "file_extension": ".py",
   "mimetype": "text/x-python",
   "name": "python",
   "nbconvert_exporter": "python",
   "pygments_lexer": "ipython3",
   "version": "3.12.4"
  }
 },
 "nbformat": 4,
 "nbformat_minor": 2
}
