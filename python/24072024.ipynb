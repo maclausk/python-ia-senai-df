{
 "cells": [
  {
   "cell_type": "markdown",
   "metadata": {},
   "source": [
    "#### Semana de Ciência de Dados com Python/IA - SENAI-DF - Vespertino - 24/07/2024 - Marcelo Pereira Avelino"
   ]
  },
  {
   "cell_type": "markdown",
   "metadata": {},
   "source": [
    "`REVISÃO - PROGRAMAÇÃO ORIENTADA A OBJETOS`\n",
    "\n",
    "**1. Atalho para Criar um Ambiente Virtual (.venv)**\n",
    "\n",
    "- Para criar e gerenciar ambientes virtuais no VS Code, você pode usar os seguintes atalhos e comandos:\n",
    "    - Pressione Ctrl + Shift + P para abrir a paleta de comandos.\n",
    "    - Digite Python: Create Environment e selecione a opção desejada.\n",
    "\n",
    "**2. Para criar e gerenciar ambientes virtuais no VS Code, você pode usar os seguintes atalhos e comandos:**\n",
    "    - Atalho para criar ambiente virtual (.venv) - Control + Shift + P\n",
    "        - Ativar .venv -> \\.venv\\Scripts\\activate\n",
    "        - Desativar .venv -> \\.venv\\Scripts\\deactivate\n",
    "    \n",
    "**3. Design para Melhor visualização dos icones: Para melhorar a visualização dos ícones no VS Code, você pode usar a extensão \"Material Icon Theme v5.7.0\".**\n",
    "- Abra a paleta de comandos com Ctrl + Shift + P.\n",
    "- Digite Extensions: Install Extensions e pressione Enter.\n",
    "- Na barra de pesquisa, digite Material Icon Theme e selecione a versão v5.7.0.\n",
    "- Clique em Install para instalar a extensão.\n",
    "\n",
    "**4. Atalhos para Ativar/Desativar o Terminal**\n",
    "    - Ctrl + \" ou Ctrl + J"
   ]
  },
  {
   "cell_type": "markdown",
   "metadata": {},
   "source": [
    "`CONCEITOS DE CLASSE, CONSTRUTOR, ATRIBUTOS, MÉTODO E OBJETO`\n",
    "\n",
    "#### Analogia com uma Receita de Bolo"
   ]
  },
  {
   "cell_type": "code",
   "execution_count": 9,
   "metadata": {},
   "outputs": [],
   "source": [
    "# Classe: Imagine que você está fazendo um bolo. A receita do bolo é como a \"classe\" em programação. Ela contém todas as instruções e ingredientes necessários para fazer o bolo.\n",
    "\n",
    "class Bolo:  # Classe \"Bolo\"\n",
    "    def __init__(self, sabor, cobertura):  # Construtor: define os ingredientes principais\n",
    "        self.sabor = sabor  # Atributo sabor\n",
    "        self.cobertura = cobertura  # Atributo cobertura\n",
    "\n",
    "    def assar(self):  # Método: uma ação, assar o bolo\n",
    "        return f\"O bolo de {self.sabor} com cobertura de {self.cobertura} está assando!\""
   ]
  },
  {
   "cell_type": "code",
   "execution_count": 13,
   "metadata": {},
   "outputs": [],
   "source": [
    "# Construtor: O construtor é como o momento em que você pega os ingredientes e começa a fazer o bolo. Ele define os ingredientes principais do bolo (sabor e cobertura).\n",
    "\n",
    "def __init__(self, sabor, cobertura):  # Construtor\n",
    "    self.sabor = sabor  # Define o sabor do bolo\n",
    "    self.cobertura = cobertura  # Define a cobertura do bolo"
   ]
  },
  {
   "cell_type": "code",
   "execution_count": 14,
   "metadata": {},
   "outputs": [],
   "source": [
    "# Objeto: O objeto é como o bolo que você fez usando a receita. Cada bolo que você faz é um objeto diferente, mesmo que use a mesma receita\n",
    "\n",
    "meu_bolo = Bolo(\"chocolate\", \"morango\")  # Cria um objeto \"meu_bolo\" usando a classe \"Bolo\""
   ]
  },
  {
   "cell_type": "code",
   "execution_count": null,
   "metadata": {},
   "outputs": [],
   "source": [
    "# Atributos: Os atributos são como os ingredientes do bolo, como sabor e cobertura.\n",
    "\n",
    "self.sabor = sabor  # Atributo sabor do bolo\n",
    "self.cobertura = cobertura  # Atributo cobertura do bolo"
   ]
  },
  {
   "cell_type": "code",
   "execution_count": null,
   "metadata": {},
   "outputs": [],
   "source": [
    "# Métodos: Os métodos são como as ações que você faz com o bolo, como assar ou servir.\n",
    "\n",
    "def assar(self):  # Método assar\n",
    "    return f\"O bolo de {self.sabor} com cobertura de {self.cobertura} está assando!\""
   ]
  },
  {
   "cell_type": "code",
   "execution_count": 17,
   "metadata": {},
   "outputs": [
    {
     "name": "stdout",
     "output_type": "stream",
     "text": [
      "O bolo de chocolate com cobertura de morango está assando!\n"
     ]
    }
   ],
   "source": [
    "# Classe Bolo: É como a receita do bolo.\n",
    "# Construtor (__init__): É o momento em que você pega os ingredientes e começa a fazer o bolo.\n",
    "# Atributos: São os ingredientes do bolo (sabor e cobertura).\n",
    "# Método assar: É uma ação, como colocar o bolo no forno para assar.\n",
    "# Objeto meu_bolo: É o bolo que você fez usando a receita.\n",
    "# Chamando o método assar: É como colocar o bolo no forno e dizer que ele está assando.\n",
    "\n",
    "\n",
    "# Definindo a classe Bolo\n",
    "class Bolo:\n",
    "    # Construtor: define os ingredientes principais\n",
    "    def __init__(self, sabor, cobertura):\n",
    "        self.sabor = sabor  # Atributo sabor\n",
    "        self.cobertura = cobertura  # Atributo cobertura\n",
    "\n",
    "    # Método: uma ação, assar o bolo\n",
    "    def assar(self):\n",
    "        return f\"O bolo de {self.sabor} com cobertura de {self.cobertura} está assando!\"\n",
    "\n",
    "# Criando um objeto da classe Bolo\n",
    "meu_bolo = Bolo(\"chocolate\", \"morango\")\n",
    "\n",
    "# Chamando o método assar e imprimindo o resultado\n",
    "print(meu_bolo.assar())  # Saída: O bolo de chocolate com cobertura de morango está assando!"
   ]
  },
  {
   "cell_type": "code",
   "execution_count": 4,
   "metadata": {},
   "outputs": [
    {
     "name": "stdout",
     "output_type": "stream",
     "text": [
      "alerta cartão!\n",
      "faça sua compra\n"
     ]
    }
   ],
   "source": [
    "# Criar uma classe que ajude no controle financeiro com os atributos descricao, valor e categoria\n",
    "\n",
    "class ControleFinanceiro:\n",
    "    # Este é o construtor. Ele é uma função especial que é chamada quando criamos um novo objeto dessa classe.\n",
    "    def __init__(self, descricao, valor, categoria):\n",
    "        # 'self.descricao' é um atributo da classe que armazena a descrição da compra.\n",
    "        self.descricao = descricao\n",
    "        # 'self.valor' é um atributo da classe que armazena o valor da compra.\n",
    "        self.valor = valor\n",
    "        # 'self.categoria' é um atributo da classe que armazena a categoria da compra.\n",
    "        self.categoria = categoria\n",
    "    \n",
    "    # Este é um método da classe. Ele verifica se o valor da compra é maior que 3000.\n",
    "    def verificar_valor(self):\n",
    "        # Se o valor da compra for maior que 3000, retorna a mensagem \"alerta cartão!\".\n",
    "        if self.valor > 3000:\n",
    "            return \"alerta cartão!\"\n",
    "        # Caso contrário, retorna a mensagem \"faça sua compra\".\n",
    "        else:\n",
    "            return \"faça sua compra\"\n",
    "\n",
    "# Aqui estamos criando um novo objeto da classe ControleFinanceiro com a descrição \"Notebook\", valor 3500, e categoria \"Eletrônicos\".\n",
    "compra = ControleFinanceiro(\"Notebook\", 3500, \"Eletrônicos\")\n",
    "# Estamos chamando o método verificar_valor para verificar se a compra pode ser realizada e imprimindo a mensagem retornada.\n",
    "print(compra.verificar_valor())  # Saída: alerta cartão!\n",
    "\n",
    "# Criando outro objeto da classe ControleFinanceiro com a descrição \"Livro\", valor 150, e categoria \"Educação\".\n",
    "compra2 = ControleFinanceiro(\"Livro\", 150, \"Educação\")\n",
    "# Chamando o método verificar_valor novamente para este novo objeto e imprimindo a mensagem retornada.\n",
    "print(compra2.verificar_valor())  # Saída: faça sua compra"
   ]
  },
  {
   "cell_type": "code",
   "execution_count": 5,
   "metadata": {},
   "outputs": [
    {
     "name": "stdout",
     "output_type": "stream",
     "text": [
      "resultado: faça sua compra categoria:lazer\n"
     ]
    }
   ],
   "source": [
    "# versão nomeada : cf = ControleFinanceiro(descricao=\"cinemark familia\",valor=180,categoria=\"lazer\")\n",
    "cf = ControleFinanceiro(\"cinemark familia\",180.25,\"lazer\")\n",
    "print(f\"resultado: {cf.verificar_valor()} categoria:{cf.categoria}\")"
   ]
  },
  {
   "cell_type": "code",
   "execution_count": 6,
   "metadata": {},
   "outputs": [
    {
     "name": "stdout",
     "output_type": "stream",
     "text": [
      "A soma dos atributos X e Y é 9\n",
      "A divisão do atributo X pelo atributo Y é: 2.0\n",
      "A média aritmética entre os atributos X e Y é: 4.5\n",
      "A média ponderada entre os atributos, onde o peso do atributo X é 1 e do atributo Y é 2 é: 4.0\n"
     ]
    }
   ],
   "source": [
    "# Definindo a classe Matemática\n",
    "class Matemática:  # Criação da classe de nome Matemática\n",
    "    def __init__(self, x, y):  # Criação do construtor com atributos x e y\n",
    "        self.x = x  # Atribui o valor de x ao atributo x do objeto\n",
    "        self.y = y  # Atribui o valor de y ao atributo y do objeto\n",
    "\n",
    "    def somar(self):  # Método para somar x e y\n",
    "        return self.x + self.y  # Retorna a soma de x e y\n",
    "    \n",
    "    def dividir(self):  # Método para dividir x por y\n",
    "        if self.y != 0:  # Verifica se y não é zero para evitar divisão por zero\n",
    "            return self.x / self.y  # Retorna o resultado da divisão de x por y\n",
    "        else:  # Se y for zero\n",
    "            return \"Divisão por zero não é permitida\"  # Retorna uma mensagem de erro\n",
    "    \n",
    "    def media(self):  # Método para calcular a média aritmética de x e y\n",
    "        return (self.x + self.y) / 2  # Retorna a média aritmética de x e y\n",
    "    \n",
    "    def media_ponderada(self):  # Método para calcular a média ponderada com peso 1 para x e 2 para y\n",
    "        return (self.x * 1 + self.y * 2) / 3  # Retorna a média ponderada de x e y\n",
    "\n",
    "# Criando um objeto da classe Matemática com os valores 6 e 3\n",
    "numeros = Matemática(6, 3)\n",
    "\n",
    "# Chamando o método somar e imprimindo o resultado\n",
    "print(\"A soma dos atributos X e Y é\", numeros.somar())\n",
    "\n",
    "# Chamando o método dividir e imprimindo o resultado\n",
    "print(\"A divisão do atributo X pelo atributo Y é:\", numeros.dividir())\n",
    "\n",
    "# Chamando o método media e imprimindo o resultado\n",
    "print(\"A média aritmética entre os atributos X e Y é:\", numeros.media())\n",
    "\n",
    "# Chamando o método media_ponderada e imprimindo o resultado\n",
    "print(\"A média ponderada entre os atributos, onde o peso do atributo X é 1 e do atributo Y é 2 é:\", numeros.media_ponderada())\n"
   ]
  },
  {
   "cell_type": "code",
   "execution_count": 7,
   "metadata": {},
   "outputs": [
    {
     "name": "stdout",
     "output_type": "stream",
     "text": [
      "A RAM do computador é: 16 GB\n",
      "A CPU do computador é: Intel i7\n",
      "A capacidade do SSD do computador é: 512 GB\n",
      "A placa de vídeo do computador é: NVIDIA GTX 1050\n"
     ]
    }
   ],
   "source": [
    "# Definindo a classe Computador\n",
    "class Computador:  \n",
    "    # Método construtor para inicializar os atributos do computador\n",
    "    def __init__(self, marca, ram, cpu, ssd, placa_video):\n",
    "        self.marca = marca  # Atributo marca do computador\n",
    "        self.ram = ram  # Atributo RAM (memória) do computador\n",
    "        self.cpu = cpu  # Atributo CPU (processador) do computador\n",
    "        self.ssd = ssd  # Atributo SSD (armazenamento) do computador\n",
    "        self.placa_video = placa_video  # Atributo placa de vídeo do computador\n",
    "    \n",
    "    # Método para exibir a quantidade de RAM do computador\n",
    "    def mostrar_ram(self):\n",
    "        return f\"A RAM do computador é: {self.ram} GB\"\n",
    "    \n",
    "    # Método para exibir o tipo de CPU do computador\n",
    "    def mostrar_cpu(self):\n",
    "        return f\"A CPU do computador é: {self.cpu}\"\n",
    "    \n",
    "    # Método para exibir a capacidade do SSD do computador\n",
    "    def mostrar_ssd(self):\n",
    "        return f\"A capacidade do SSD do computador é: {self.ssd} GB\"\n",
    "\n",
    "    # Método para exibir o tipo de placa de vídeo do computador\n",
    "    def mostrar_placa_video(self):\n",
    "        return f\"A placa de vídeo do computador é: {self.placa_video}\"\n",
    "\n",
    "# Criando um objeto da classe Computador com a marca, RAM, CPU, SSD e placa de vídeo\n",
    "meu_computador = Computador(\"Dell\", 16, \"Intel i7\", 512, \"NVIDIA GTX 1050\")\n",
    "\n",
    "# Chamando o método mostrar_ram e imprimindo o resultado\n",
    "print(meu_computador.mostrar_ram())  # Saída: A RAM do computador é: 16 GB\n",
    "\n",
    "# Chamando o método mostrar_cpu e imprimindo o resultado\n",
    "print(meu_computador.mostrar_cpu())  # Saída: A CPU do computador é: Intel i7\n",
    "\n",
    "# Chamando o método mostrar_ssd e imprimindo o resultado\n",
    "print(meu_computador.mostrar_ssd())  # Saída: A capacidade do SSD do computador é: 512 GB\n",
    "\n",
    "# Chamando o método mostrar_placa_video e imprimindo o resultado\n",
    "print(meu_computador.mostrar_placa_video())  # Saída: A placa de vídeo do computador é: NVIDIA GTX 1050"
   ]
  },
  {
   "cell_type": "code",
   "execution_count": 18,
   "metadata": {},
   "outputs": [
    {
     "name": "stdout",
     "output_type": "stream",
     "text": [
      "O Corolla da Toyota está ligado.\n",
      "O Corolla da Toyota está em movimento.\n",
      "O Corolla da Toyota está parado.\n"
     ]
    }
   ],
   "source": [
    "# Classe Carro: Pense nisso como a planta do carro.\n",
    "# Construtor (__init__): Momento em que o carro é fabricado.\n",
    "# Atributos: Características do carro (marca, modelo e cor).\n",
    "# Métodos: Ações que o carro pode realizar (ligar, dirigir e parar).\n",
    "# Objeto: Um carro específico que foi fabricado usando a planta.\n",
    "\n",
    "# Definindo a classe Carro\n",
    "class Carro:\n",
    "    # Construtor: define as propriedades principais\n",
    "    def __init__(self, marca, modelo, cor):\n",
    "        self.marca = marca  # Atributo marca\n",
    "        self.modelo = modelo  # Atributo modelo\n",
    "        self.cor = cor  # Atributo cor\n",
    "\n",
    "    # Método para ligar o carro\n",
    "    def ligar(self):\n",
    "        return f\"O {self.modelo} da {self.marca} está ligado.\"\n",
    "\n",
    "    # Método para dirigir o carro\n",
    "    def dirigir(self):\n",
    "        return f\"O {self.modelo} da {self.marca} está em movimento.\"\n",
    "\n",
    "    # Método para parar o carro\n",
    "    def parar(self):\n",
    "        return f\"O {self.modelo} da {self.marca} está parado.\"\n",
    "\n",
    "# Criando um objeto da classe Carro\n",
    "meu_carro = Carro(\"Toyota\", \"Corolla\", \"Prata\")\n",
    "\n",
    "# Chamando os métodos e imprimindo os resultados\n",
    "print(meu_carro.ligar())  # Saída: O Corolla da Toyota está ligado.\n",
    "print(meu_carro.dirigir())  # Saída: O Corolla da Toyota está em movimento.\n",
    "print(meu_carro.parar())  # Saída: O Corolla da Toyota está parado."
   ]
  }
 ],
 "metadata": {
  "kernelspec": {
   "display_name": ".venv",
   "language": "python",
   "name": "python3"
  },
  "language_info": {
   "codemirror_mode": {
    "name": "ipython",
    "version": 3
   },
   "file_extension": ".py",
   "mimetype": "text/x-python",
   "name": "python",
   "nbconvert_exporter": "python",
   "pygments_lexer": "ipython3",
   "version": "3.12.4"
  }
 },
 "nbformat": 4,
 "nbformat_minor": 2
}
