{
 "cells": [
  {
   "cell_type": "markdown",
   "metadata": {
    "id": "hvVohJdi2FKN"
   },
   "source": [
    "### **SENAI-DF - Python Developer - Vespertino - QUA.491.002 - 02/09/2024**\n",
    "\n",
    "#### **Seaborn e Plotly**\n",
    "\n",
    "📚**Bibliotecas Que Serão Utilizadas:**\n",
    "\n",
    "*   **[Pandas](https://pandas.pydata.org/docs/user_guide/index.html#user-guide):** Para análise e manipulação de dados.\n",
    "*   **[Matplotlib](https://matplotlib.org/):** Para criação de gráficos estáticos e animados.\n",
    "*   **[Seaborn](https://seaborn.pydata.org/):** Para visualização de dados estatísticos.\n",
    "*   **[Plotly](https://https://plotly.com/https://):** Para criação de gráficos interativos.\n",
    "* **[Flask](https://flask.palletsprojects.com/en/3.0.x/):** Framework web para Python."
   ]
  },
  {
   "cell_type": "code",
   "execution_count": 2,
   "metadata": {
    "id": "74hVw2zhMhih"
   },
   "outputs": [],
   "source": [
    "# Instalando pacotes necessários (VSCode)\n",
    "# ! pip install pandas matplotlib seaborn plotly"
   ]
  },
  {
   "cell_type": "code",
   "execution_count": 3,
   "metadata": {
    "id": "NK3X97BU4pB3"
   },
   "outputs": [],
   "source": [
    "# Importação de bibliotecas\n",
    "import pandas as pd\n",
    "import matplotlib.pyplot as plt\n",
    "import seaborn as sns\n",
    "import plotly.express as px\n",
    "import flask as fl"
   ]
  },
  {
   "cell_type": "markdown",
   "metadata": {
    "id": "GHpMtRPI4ynv"
   },
   "source": [
    "# *Estudo de Gráficos com Seaborn e Plotly: Gerando HTML para o Flask*\n",
    "\n",
    "1. Alô Mundo: Introdução básica à programação.\n",
    "2. Carregar o Dataset: Importar dados para análise.\n",
    "3. Criar o Top_10: Filtrar e ordenar dados.\n",
    "4. Criar um Gráfico no Seaborn: Visualização de dados com Seaborn.\n",
    "5. Criar um Gráfico Interativo: Visualização interativa com Plotly.\n",
    "6. Salvar em HTML: Exportar gráficos para a web.\n",
    "7. Criar Uma Aplicação Flask Com o Gráfico: Integrar gráficos em uma aplicação web.\n",
    "8. Uso de GPT: Explorar aplicações de modelos de linguagem."
   ]
  },
  {
   "cell_type": "markdown",
   "metadata": {
    "id": "X1Nlv_dL74LD"
   },
   "source": [
    "# 1. Alô Mundo 🗺"
   ]
  },
  {
   "cell_type": "code",
   "execution_count": 4,
   "metadata": {
    "colab": {
     "base_uri": "https://localhost:8080/"
    },
    "id": "ARs6n7Ck5zbb",
    "outputId": "bb5b6c48-1ea7-4cb8-9754-de31c7837711"
   },
   "outputs": [
    {
     "name": "stdout",
     "output_type": "stream",
     "text": [
      "Hello World!\n"
     ]
    }
   ],
   "source": [
    "print('Hello World!')"
   ]
  },
  {
   "cell_type": "markdown",
   "metadata": {
    "id": "Y0nVlmTu76kt"
   },
   "source": [
    "# 2. Carregar o Dataset: Importar dados para análise 📋"
   ]
  },
  {
   "cell_type": "code",
   "execution_count": 5,
   "metadata": {
    "colab": {
     "base_uri": "https://localhost:8080/",
     "height": 235
    },
    "id": "20LtDb9r7YKd",
    "outputId": "00e7c921-8655-464f-a2fa-ae1b50817989"
   },
   "outputs": [
    {
     "data": {
      "text/html": [
       "<div>\n",
       "<style scoped>\n",
       "    .dataframe tbody tr th:only-of-type {\n",
       "        vertical-align: middle;\n",
       "    }\n",
       "\n",
       "    .dataframe tbody tr th {\n",
       "        vertical-align: top;\n",
       "    }\n",
       "\n",
       "    .dataframe thead th {\n",
       "        text-align: right;\n",
       "    }\n",
       "</style>\n",
       "<table border=\"1\" class=\"dataframe\">\n",
       "  <thead>\n",
       "    <tr style=\"text-align: right;\">\n",
       "      <th></th>\n",
       "      <th>País</th>\n",
       "      <th>Continente</th>\n",
       "      <th>Região</th>\n",
       "      <th>1980</th>\n",
       "      <th>1981</th>\n",
       "      <th>1982</th>\n",
       "      <th>1983</th>\n",
       "      <th>1984</th>\n",
       "      <th>1985</th>\n",
       "      <th>1986</th>\n",
       "      <th>...</th>\n",
       "      <th>2005</th>\n",
       "      <th>2006</th>\n",
       "      <th>2007</th>\n",
       "      <th>2008</th>\n",
       "      <th>2009</th>\n",
       "      <th>2010</th>\n",
       "      <th>2011</th>\n",
       "      <th>2012</th>\n",
       "      <th>2013</th>\n",
       "      <th>Total</th>\n",
       "    </tr>\n",
       "  </thead>\n",
       "  <tbody>\n",
       "    <tr>\n",
       "      <th>0</th>\n",
       "      <td>Afeganistão</td>\n",
       "      <td>Ásia</td>\n",
       "      <td>Sul da Ásia</td>\n",
       "      <td>16</td>\n",
       "      <td>39</td>\n",
       "      <td>39</td>\n",
       "      <td>47</td>\n",
       "      <td>71</td>\n",
       "      <td>340</td>\n",
       "      <td>496</td>\n",
       "      <td>...</td>\n",
       "      <td>3436</td>\n",
       "      <td>3009</td>\n",
       "      <td>2652</td>\n",
       "      <td>2111</td>\n",
       "      <td>1746</td>\n",
       "      <td>1758</td>\n",
       "      <td>2203</td>\n",
       "      <td>2635</td>\n",
       "      <td>2004</td>\n",
       "      <td>58639</td>\n",
       "    </tr>\n",
       "    <tr>\n",
       "      <th>1</th>\n",
       "      <td>Albânia</td>\n",
       "      <td>Europa</td>\n",
       "      <td>Sul da Europa</td>\n",
       "      <td>1</td>\n",
       "      <td>0</td>\n",
       "      <td>0</td>\n",
       "      <td>0</td>\n",
       "      <td>0</td>\n",
       "      <td>0</td>\n",
       "      <td>1</td>\n",
       "      <td>...</td>\n",
       "      <td>1223</td>\n",
       "      <td>856</td>\n",
       "      <td>702</td>\n",
       "      <td>560</td>\n",
       "      <td>716</td>\n",
       "      <td>561</td>\n",
       "      <td>539</td>\n",
       "      <td>620</td>\n",
       "      <td>603</td>\n",
       "      <td>15699</td>\n",
       "    </tr>\n",
       "    <tr>\n",
       "      <th>2</th>\n",
       "      <td>Argélia</td>\n",
       "      <td>África</td>\n",
       "      <td>Norte da África</td>\n",
       "      <td>80</td>\n",
       "      <td>67</td>\n",
       "      <td>71</td>\n",
       "      <td>69</td>\n",
       "      <td>63</td>\n",
       "      <td>44</td>\n",
       "      <td>69</td>\n",
       "      <td>...</td>\n",
       "      <td>3626</td>\n",
       "      <td>4807</td>\n",
       "      <td>3623</td>\n",
       "      <td>4005</td>\n",
       "      <td>5393</td>\n",
       "      <td>4752</td>\n",
       "      <td>4325</td>\n",
       "      <td>3774</td>\n",
       "      <td>4331</td>\n",
       "      <td>69439</td>\n",
       "    </tr>\n",
       "    <tr>\n",
       "      <th>3</th>\n",
       "      <td>Samoa Americana</td>\n",
       "      <td>Oceânia</td>\n",
       "      <td>Polinésia</td>\n",
       "      <td>0</td>\n",
       "      <td>1</td>\n",
       "      <td>0</td>\n",
       "      <td>0</td>\n",
       "      <td>0</td>\n",
       "      <td>0</td>\n",
       "      <td>0</td>\n",
       "      <td>...</td>\n",
       "      <td>0</td>\n",
       "      <td>1</td>\n",
       "      <td>0</td>\n",
       "      <td>0</td>\n",
       "      <td>0</td>\n",
       "      <td>0</td>\n",
       "      <td>0</td>\n",
       "      <td>0</td>\n",
       "      <td>0</td>\n",
       "      <td>6</td>\n",
       "    </tr>\n",
       "    <tr>\n",
       "      <th>4</th>\n",
       "      <td>Andorra</td>\n",
       "      <td>Europa</td>\n",
       "      <td>Sul da Europa</td>\n",
       "      <td>0</td>\n",
       "      <td>0</td>\n",
       "      <td>0</td>\n",
       "      <td>0</td>\n",
       "      <td>0</td>\n",
       "      <td>0</td>\n",
       "      <td>2</td>\n",
       "      <td>...</td>\n",
       "      <td>0</td>\n",
       "      <td>1</td>\n",
       "      <td>1</td>\n",
       "      <td>0</td>\n",
       "      <td>0</td>\n",
       "      <td>0</td>\n",
       "      <td>0</td>\n",
       "      <td>1</td>\n",
       "      <td>1</td>\n",
       "      <td>15</td>\n",
       "    </tr>\n",
       "  </tbody>\n",
       "</table>\n",
       "<p>5 rows × 38 columns</p>\n",
       "</div>"
      ],
      "text/plain": [
       "              País Continente           Região  1980  1981  1982  1983  1984  \\\n",
       "0      Afeganistão       Ásia      Sul da Ásia    16    39    39    47    71   \n",
       "1          Albânia     Europa    Sul da Europa     1     0     0     0     0   \n",
       "2          Argélia     África  Norte da África    80    67    71    69    63   \n",
       "3  Samoa Americana    Oceânia        Polinésia     0     1     0     0     0   \n",
       "4          Andorra     Europa    Sul da Europa     0     0     0     0     0   \n",
       "\n",
       "   1985  1986  ...  2005  2006  2007  2008  2009  2010  2011  2012  2013  \\\n",
       "0   340   496  ...  3436  3009  2652  2111  1746  1758  2203  2635  2004   \n",
       "1     0     1  ...  1223   856   702   560   716   561   539   620   603   \n",
       "2    44    69  ...  3626  4807  3623  4005  5393  4752  4325  3774  4331   \n",
       "3     0     0  ...     0     1     0     0     0     0     0     0     0   \n",
       "4     0     2  ...     0     1     1     0     0     0     0     1     1   \n",
       "\n",
       "   Total  \n",
       "0  58639  \n",
       "1  15699  \n",
       "2  69439  \n",
       "3      6  \n",
       "4     15  \n",
       "\n",
       "[5 rows x 38 columns]"
      ]
     },
     "execution_count": 5,
     "metadata": {},
     "output_type": "execute_result"
    }
   ],
   "source": [
    "# A maneira descrita abaixo, utilizando um arquivo CSV local, funciona, mas pode ser problemática devido à política de armazenamento temporário do Colab.\n",
    "# df = pd.read_csv('/content/imigrantes_canada.csv')\n",
    "\n",
    "# Forma recomendada: Uma forma mais robusta e eficiente é carregar os dados diretamente de um repositório online, como o GitHub.\n",
    "url = 'https://raw.githubusercontent.com/romulosilvestre/datasets-semanaestastitica/main/imigrantes_canada.csv'\n",
    "df = pd.read_csv(url)\n",
    "df.head()\n",
    "\n",
    "# Vantagens desta abordagem:\n",
    "# - **Dados Persistentes**: O dataset estará sempre disponível, sem depender do armazenamento temporário do Colab.\n",
    "# - **Facilidade de Compartilhamento**: O link do repositório pode ser facilmente compartilhado com outros usuários.\n",
    "# - **Controle de Versões**: Utilizando um sistema de versionamento como o Git, você pode controlar as alterações no dataset."
   ]
  },
  {
   "cell_type": "markdown",
   "metadata": {
    "id": "rzYaPs7e6G9N"
   },
   "source": [
    "**Seaborn: Uma biblioteca poderosa para visualização de dados**\n",
    "\n",
    "**Seaborn** é uma biblioteca Python de visualização de dados baseada no Matplotlib. Ela oferece uma interface de alto nível para criar gráficos estatísticos informativos e visualmente atraentes.\n",
    "\n",
    "**Principais vantagens do Seaborn:**\n",
    "\n",
    "1. **Abstração do Matplotlib**: Simplifica a criação de gráficos\n",
    "complexos.\n",
    "2. **Paletas de Cores Personalizadas**: Oferece paletas de cores pré-definidas e personalizáveis.\n",
    "3. **Facilidade e Produtividade**: Permite criar gráficos com poucas linhas de código.\n",
    "4. **Robusto**: Suporta uma ampla variedade de gráficos e personalizações.\n",
    "5. **Mais Gráficos de Mais Dimensões**: Facilita a visualização de dados multidimensionais.\n",
    "\n",
    "- **Em resumo**: Seaborn é uma ferramenta essencial para cientistas de dados e analistas que desejam comunicar insights através de gráficos."
   ]
  },
  {
   "cell_type": "markdown",
   "metadata": {
    "id": "o6UJ1na_2DYe"
   },
   "source": []
  },
  {
   "cell_type": "markdown",
   "metadata": {
    "id": "zKqczmBC7sw_"
   },
   "source": [
    "# 3. Criar o Top_10: Filtrar e ordenar dados 🔝"
   ]
  },
  {
   "cell_type": "code",
   "execution_count": 6,
   "metadata": {
    "id": "QkPNvqro_ZJM"
   },
   "outputs": [],
   "source": [
    "# Definir a coluna País Como Um Índice\n",
    "df.set_index('País',inplace=True)"
   ]
  },
  {
   "cell_type": "code",
   "execution_count": 7,
   "metadata": {
    "colab": {
     "base_uri": "https://localhost:8080/",
     "height": 649
    },
    "id": "6SRq_cMjDpYh",
    "outputId": "152b7c89-e75b-4ff8-961e-36aaad89bfa0"
   },
   "outputs": [
    {
     "data": {
      "text/html": [
       "<div>\n",
       "<style scoped>\n",
       "    .dataframe tbody tr th:only-of-type {\n",
       "        vertical-align: middle;\n",
       "    }\n",
       "\n",
       "    .dataframe tbody tr th {\n",
       "        vertical-align: top;\n",
       "    }\n",
       "\n",
       "    .dataframe thead th {\n",
       "        text-align: right;\n",
       "    }\n",
       "</style>\n",
       "<table border=\"1\" class=\"dataframe\">\n",
       "  <thead>\n",
       "    <tr style=\"text-align: right;\">\n",
       "      <th></th>\n",
       "      <th>Continente</th>\n",
       "      <th>Região</th>\n",
       "      <th>1980</th>\n",
       "      <th>1981</th>\n",
       "      <th>1982</th>\n",
       "      <th>1983</th>\n",
       "      <th>1984</th>\n",
       "      <th>1985</th>\n",
       "      <th>1986</th>\n",
       "      <th>1987</th>\n",
       "      <th>...</th>\n",
       "      <th>2005</th>\n",
       "      <th>2006</th>\n",
       "      <th>2007</th>\n",
       "      <th>2008</th>\n",
       "      <th>2009</th>\n",
       "      <th>2010</th>\n",
       "      <th>2011</th>\n",
       "      <th>2012</th>\n",
       "      <th>2013</th>\n",
       "      <th>Total</th>\n",
       "    </tr>\n",
       "    <tr>\n",
       "      <th>País</th>\n",
       "      <th></th>\n",
       "      <th></th>\n",
       "      <th></th>\n",
       "      <th></th>\n",
       "      <th></th>\n",
       "      <th></th>\n",
       "      <th></th>\n",
       "      <th></th>\n",
       "      <th></th>\n",
       "      <th></th>\n",
       "      <th></th>\n",
       "      <th></th>\n",
       "      <th></th>\n",
       "      <th></th>\n",
       "      <th></th>\n",
       "      <th></th>\n",
       "      <th></th>\n",
       "      <th></th>\n",
       "      <th></th>\n",
       "      <th></th>\n",
       "      <th></th>\n",
       "    </tr>\n",
       "  </thead>\n",
       "  <tbody>\n",
       "    <tr>\n",
       "      <th>Índia</th>\n",
       "      <td>Ásia</td>\n",
       "      <td>Sul da Ásia</td>\n",
       "      <td>8880</td>\n",
       "      <td>8670</td>\n",
       "      <td>8147</td>\n",
       "      <td>7338</td>\n",
       "      <td>5704</td>\n",
       "      <td>4211</td>\n",
       "      <td>7150</td>\n",
       "      <td>10189</td>\n",
       "      <td>...</td>\n",
       "      <td>36210</td>\n",
       "      <td>33848</td>\n",
       "      <td>28742</td>\n",
       "      <td>28261</td>\n",
       "      <td>29456</td>\n",
       "      <td>34235</td>\n",
       "      <td>27509</td>\n",
       "      <td>30933</td>\n",
       "      <td>33087</td>\n",
       "      <td>691904</td>\n",
       "    </tr>\n",
       "    <tr>\n",
       "      <th>China</th>\n",
       "      <td>Ásia</td>\n",
       "      <td>Ásia Oriental</td>\n",
       "      <td>5123</td>\n",
       "      <td>6682</td>\n",
       "      <td>3308</td>\n",
       "      <td>1863</td>\n",
       "      <td>1527</td>\n",
       "      <td>1816</td>\n",
       "      <td>1960</td>\n",
       "      <td>2643</td>\n",
       "      <td>...</td>\n",
       "      <td>42584</td>\n",
       "      <td>33518</td>\n",
       "      <td>27642</td>\n",
       "      <td>30037</td>\n",
       "      <td>29622</td>\n",
       "      <td>30391</td>\n",
       "      <td>28502</td>\n",
       "      <td>33024</td>\n",
       "      <td>34129</td>\n",
       "      <td>659962</td>\n",
       "    </tr>\n",
       "    <tr>\n",
       "      <th>Reino Unido e Irlanda do Norte</th>\n",
       "      <td>Europa</td>\n",
       "      <td>Norte da Europa</td>\n",
       "      <td>22045</td>\n",
       "      <td>24796</td>\n",
       "      <td>20620</td>\n",
       "      <td>10015</td>\n",
       "      <td>10170</td>\n",
       "      <td>9564</td>\n",
       "      <td>9470</td>\n",
       "      <td>21337</td>\n",
       "      <td>...</td>\n",
       "      <td>7258</td>\n",
       "      <td>7140</td>\n",
       "      <td>8216</td>\n",
       "      <td>8979</td>\n",
       "      <td>8876</td>\n",
       "      <td>8724</td>\n",
       "      <td>6204</td>\n",
       "      <td>6195</td>\n",
       "      <td>5827</td>\n",
       "      <td>551500</td>\n",
       "    </tr>\n",
       "    <tr>\n",
       "      <th>Filipinas</th>\n",
       "      <td>Ásia</td>\n",
       "      <td>Sudeste Asiático</td>\n",
       "      <td>6051</td>\n",
       "      <td>5921</td>\n",
       "      <td>5249</td>\n",
       "      <td>4562</td>\n",
       "      <td>3801</td>\n",
       "      <td>3150</td>\n",
       "      <td>4166</td>\n",
       "      <td>7360</td>\n",
       "      <td>...</td>\n",
       "      <td>18139</td>\n",
       "      <td>18400</td>\n",
       "      <td>19837</td>\n",
       "      <td>24887</td>\n",
       "      <td>28573</td>\n",
       "      <td>38617</td>\n",
       "      <td>36765</td>\n",
       "      <td>34315</td>\n",
       "      <td>29544</td>\n",
       "      <td>511391</td>\n",
       "    </tr>\n",
       "    <tr>\n",
       "      <th>Paquistão</th>\n",
       "      <td>Ásia</td>\n",
       "      <td>Sul da Ásia</td>\n",
       "      <td>978</td>\n",
       "      <td>972</td>\n",
       "      <td>1201</td>\n",
       "      <td>900</td>\n",
       "      <td>668</td>\n",
       "      <td>514</td>\n",
       "      <td>691</td>\n",
       "      <td>1072</td>\n",
       "      <td>...</td>\n",
       "      <td>14314</td>\n",
       "      <td>13127</td>\n",
       "      <td>10124</td>\n",
       "      <td>8994</td>\n",
       "      <td>7217</td>\n",
       "      <td>6811</td>\n",
       "      <td>7468</td>\n",
       "      <td>11227</td>\n",
       "      <td>12603</td>\n",
       "      <td>241600</td>\n",
       "    </tr>\n",
       "    <tr>\n",
       "      <th>Estados Unidos da América</th>\n",
       "      <td>América do Norte</td>\n",
       "      <td>América do Norte</td>\n",
       "      <td>9378</td>\n",
       "      <td>10030</td>\n",
       "      <td>9074</td>\n",
       "      <td>7100</td>\n",
       "      <td>6661</td>\n",
       "      <td>6543</td>\n",
       "      <td>7074</td>\n",
       "      <td>7705</td>\n",
       "      <td>...</td>\n",
       "      <td>8394</td>\n",
       "      <td>9613</td>\n",
       "      <td>9463</td>\n",
       "      <td>10190</td>\n",
       "      <td>8995</td>\n",
       "      <td>8142</td>\n",
       "      <td>7676</td>\n",
       "      <td>7891</td>\n",
       "      <td>8501</td>\n",
       "      <td>241122</td>\n",
       "    </tr>\n",
       "    <tr>\n",
       "      <th>Irã</th>\n",
       "      <td>Ásia</td>\n",
       "      <td>Sul da Ásia</td>\n",
       "      <td>1172</td>\n",
       "      <td>1429</td>\n",
       "      <td>1822</td>\n",
       "      <td>1592</td>\n",
       "      <td>1977</td>\n",
       "      <td>1648</td>\n",
       "      <td>1794</td>\n",
       "      <td>2989</td>\n",
       "      <td>...</td>\n",
       "      <td>5837</td>\n",
       "      <td>7480</td>\n",
       "      <td>6974</td>\n",
       "      <td>6475</td>\n",
       "      <td>6580</td>\n",
       "      <td>7477</td>\n",
       "      <td>7479</td>\n",
       "      <td>7534</td>\n",
       "      <td>11291</td>\n",
       "      <td>175923</td>\n",
       "    </tr>\n",
       "    <tr>\n",
       "      <th>Sri Lanka</th>\n",
       "      <td>Ásia</td>\n",
       "      <td>Sul da Ásia</td>\n",
       "      <td>185</td>\n",
       "      <td>371</td>\n",
       "      <td>290</td>\n",
       "      <td>197</td>\n",
       "      <td>1086</td>\n",
       "      <td>845</td>\n",
       "      <td>1838</td>\n",
       "      <td>4447</td>\n",
       "      <td>...</td>\n",
       "      <td>4930</td>\n",
       "      <td>4714</td>\n",
       "      <td>4123</td>\n",
       "      <td>4756</td>\n",
       "      <td>4547</td>\n",
       "      <td>4422</td>\n",
       "      <td>3309</td>\n",
       "      <td>3338</td>\n",
       "      <td>2394</td>\n",
       "      <td>148358</td>\n",
       "    </tr>\n",
       "    <tr>\n",
       "      <th>República da Coreia</th>\n",
       "      <td>Ásia</td>\n",
       "      <td>Ásia Oriental</td>\n",
       "      <td>1011</td>\n",
       "      <td>1456</td>\n",
       "      <td>1572</td>\n",
       "      <td>1081</td>\n",
       "      <td>847</td>\n",
       "      <td>962</td>\n",
       "      <td>1208</td>\n",
       "      <td>2338</td>\n",
       "      <td>...</td>\n",
       "      <td>5832</td>\n",
       "      <td>6215</td>\n",
       "      <td>5920</td>\n",
       "      <td>7294</td>\n",
       "      <td>5874</td>\n",
       "      <td>5537</td>\n",
       "      <td>4588</td>\n",
       "      <td>5316</td>\n",
       "      <td>4509</td>\n",
       "      <td>142581</td>\n",
       "    </tr>\n",
       "    <tr>\n",
       "      <th>Polônia</th>\n",
       "      <td>Europa</td>\n",
       "      <td>Europa Oriental</td>\n",
       "      <td>863</td>\n",
       "      <td>2930</td>\n",
       "      <td>5881</td>\n",
       "      <td>4546</td>\n",
       "      <td>3588</td>\n",
       "      <td>2819</td>\n",
       "      <td>4808</td>\n",
       "      <td>6931</td>\n",
       "      <td>...</td>\n",
       "      <td>1405</td>\n",
       "      <td>1263</td>\n",
       "      <td>1235</td>\n",
       "      <td>1267</td>\n",
       "      <td>1013</td>\n",
       "      <td>795</td>\n",
       "      <td>720</td>\n",
       "      <td>779</td>\n",
       "      <td>852</td>\n",
       "      <td>139241</td>\n",
       "    </tr>\n",
       "  </tbody>\n",
       "</table>\n",
       "<p>10 rows × 37 columns</p>\n",
       "</div>"
      ],
      "text/plain": [
       "                                      Continente            Região   1980  \\\n",
       "País                                                                        \n",
       "Índia                                       Ásia       Sul da Ásia   8880   \n",
       "China                                       Ásia     Ásia Oriental   5123   \n",
       "Reino Unido e Irlanda do Norte            Europa   Norte da Europa  22045   \n",
       "Filipinas                                   Ásia  Sudeste Asiático   6051   \n",
       "Paquistão                                   Ásia       Sul da Ásia    978   \n",
       "Estados Unidos da América       América do Norte  América do Norte   9378   \n",
       "Irã                                         Ásia       Sul da Ásia   1172   \n",
       "Sri Lanka                                   Ásia       Sul da Ásia    185   \n",
       "República da Coreia                         Ásia     Ásia Oriental   1011   \n",
       "Polônia                                   Europa   Europa Oriental    863   \n",
       "\n",
       "                                 1981   1982   1983   1984  1985  1986   1987  \\\n",
       "País                                                                            \n",
       "Índia                            8670   8147   7338   5704  4211  7150  10189   \n",
       "China                            6682   3308   1863   1527  1816  1960   2643   \n",
       "Reino Unido e Irlanda do Norte  24796  20620  10015  10170  9564  9470  21337   \n",
       "Filipinas                        5921   5249   4562   3801  3150  4166   7360   \n",
       "Paquistão                         972   1201    900    668   514   691   1072   \n",
       "Estados Unidos da América       10030   9074   7100   6661  6543  7074   7705   \n",
       "Irã                              1429   1822   1592   1977  1648  1794   2989   \n",
       "Sri Lanka                         371    290    197   1086   845  1838   4447   \n",
       "República da Coreia              1456   1572   1081    847   962  1208   2338   \n",
       "Polônia                          2930   5881   4546   3588  2819  4808   6931   \n",
       "\n",
       "                                ...   2005   2006   2007   2008   2009   2010  \\\n",
       "País                            ...                                             \n",
       "Índia                           ...  36210  33848  28742  28261  29456  34235   \n",
       "China                           ...  42584  33518  27642  30037  29622  30391   \n",
       "Reino Unido e Irlanda do Norte  ...   7258   7140   8216   8979   8876   8724   \n",
       "Filipinas                       ...  18139  18400  19837  24887  28573  38617   \n",
       "Paquistão                       ...  14314  13127  10124   8994   7217   6811   \n",
       "Estados Unidos da América       ...   8394   9613   9463  10190   8995   8142   \n",
       "Irã                             ...   5837   7480   6974   6475   6580   7477   \n",
       "Sri Lanka                       ...   4930   4714   4123   4756   4547   4422   \n",
       "República da Coreia             ...   5832   6215   5920   7294   5874   5537   \n",
       "Polônia                         ...   1405   1263   1235   1267   1013    795   \n",
       "\n",
       "                                 2011   2012   2013   Total  \n",
       "País                                                         \n",
       "Índia                           27509  30933  33087  691904  \n",
       "China                           28502  33024  34129  659962  \n",
       "Reino Unido e Irlanda do Norte   6204   6195   5827  551500  \n",
       "Filipinas                       36765  34315  29544  511391  \n",
       "Paquistão                        7468  11227  12603  241600  \n",
       "Estados Unidos da América        7676   7891   8501  241122  \n",
       "Irã                              7479   7534  11291  175923  \n",
       "Sri Lanka                        3309   3338   2394  148358  \n",
       "República da Coreia              4588   5316   4509  142581  \n",
       "Polônia                           720    779    852  139241  \n",
       "\n",
       "[10 rows x 37 columns]"
      ]
     },
     "execution_count": 7,
     "metadata": {},
     "output_type": "execute_result"
    }
   ],
   "source": [
    "top_10 = df.sort_values(by='Total',ascending=False).head(10)\n",
    "top_10"
   ]
  },
  {
   "cell_type": "markdown",
   "metadata": {
    "id": "814QD4757ovS"
   },
   "source": [
    "# 4. Criar um Gráfico no Seaborn: Visualização de dados com Seaborn 💹"
   ]
  },
  {
   "cell_type": "code",
   "execution_count": 8,
   "metadata": {
    "id": "7gZiDzS7EEeM"
   },
   "outputs": [],
   "source": [
    "# Temas do Seaborn (Aplicação do tema padrão do Seaborn, que resulta em gráficos mais \"clean\" e modernos em comparação com o estilo padrão do Matplotlib).\n",
    "sns.set_theme()"
   ]
  },
  {
   "cell_type": "code",
   "execution_count": 9,
   "metadata": {
    "colab": {
     "base_uri": "https://localhost:8080/",
     "height": 481
    },
    "id": "ackQZTzSEubC",
    "outputId": "66d8ac2f-9034-4e54-839d-6bbfcbcdc968"
   },
   "outputs": [
    {
     "data": {
      "image/png": "[encoded data removed]",
      "text/plain": [
       "<Figure size 640x480 with 1 Axes>"
      ]
     },
     "metadata": {},
     "output_type": "display_data"
    }
   ],
   "source": [
    "ax = sns.barplot(data=top_10,y=top_10.index,x='Total',orient='h')\n",
    "ax.set(\n",
    "    title='Os dez países com mais imigrantes para o Canadá',\n",
    "    xlabel='Total de Imigrantes',\n",
    "    ylabel=''\n",
    ")\n",
    "plt.show()"
   ]
  },
  {
   "cell_type": "code",
   "execution_count": 10,
   "metadata": {
    "colab": {
     "base_uri": "https://localhost:8080/",
     "height": 604
    },
    "id": "Qm87ihECRD1A",
    "outputId": "d34b9832-7c9f-4209-f663-2cb38399113f"
   },
   "outputs": [
    {
     "name": "stderr",
     "output_type": "stream",
     "text": [
      "C:\\Users\\Marcelo Avelino\\AppData\\Local\\Temp\\ipykernel_32556\\797843330.py:3: FutureWarning: \n",
      "\n",
      "Passing `palette` without assigning `hue` is deprecated and will be removed in v0.14.0. Assign the `y` variable to `hue` and set `legend=False` for the same effect.\n",
      "\n",
      "  sns.barplot(data=top_10, y=top_10.index, x='Total',\n",
      "C:\\Users\\Marcelo Avelino\\AppData\\Local\\Temp\\ipykernel_32556\\797843330.py:3: UserWarning: \n",
      "The palette list has fewer values (6) than needed (10) and will cycle, which may produce an uninterpretable plot.\n",
      "  sns.barplot(data=top_10, y=top_10.index, x='Total',\n"
     ]
    },
    {
     "data": {
      "image/png": "[encoded data removed]",
      "text/plain": [
       "<Figure size 800x400 with 1 Axes>"
      ]
     },
     "metadata": {},
     "output_type": "display_data"
    }
   ],
   "source": [
    "def gerar_grafico_paleta(pallete):\n",
    "    fig, ax = plt.subplots(figsize=(8, 4))\n",
    "    sns.barplot(data=top_10, y=top_10.index, x='Total',\n",
    "                orient='h',\n",
    "                palette=pallete, ax=ax)\n",
    "    ax.set_title('Os dez países com mais imigrantes para o Canadá',\n",
    "                 loc='left',\n",
    "                 fontsize=16,\n",
    "                 color='saddlebrown')\n",
    "    ax.set_xlabel('Total de Imigrantes', fontsize=14, color='saddlebrown')\n",
    "    ax.set_ylabel('')\n",
    "    ax.tick_params(axis='y', colors='saddlebrown', labelsize=12)\n",
    "    ax.tick_params(axis='x', colors='saddlebrown', labelsize=12)\n",
    "    plt.xticks(rotation=45)\n",
    "\n",
    "    ax.grid(True)\n",
    "    plt.show()\n",
    "\n",
    "pallete = sns.color_palette(\"YlOrBr\")\n",
    "gerar_grafico_paleta(pallete)"
   ]
  },
  {
   "cell_type": "markdown",
   "metadata": {
    "id": "dbpqKDvIc-ZG"
   },
   "source": [
    "# 5. Criar um Gráfico Interativo: Visualização interativa com Plotly 📔"
   ]
  },
  {
   "cell_type": "code",
   "execution_count": 11,
   "metadata": {
    "colab": {
     "base_uri": "https://localhost:8080/",
     "height": 542
    },
    "id": "mFOQMeTVf832",
    "outputId": "73088b60-d8e3-4e9f-dda8-0713f58887ec"
   },
   "outputs": [
    {
     "data": {
      "application/vnd.plotly.v1+json": {
       "config": {
        "plotlyServerURL": "https://plot.ly"
       },
       "data": [
        {
         "alignmentgroup": "True",
         "hovertemplate": "Total de Imigrantes=%{marker.color}<br>País=%{y}<extra></extra>",
         "legendgroup": "",
         "marker": {
          "color": [
           691904,
           659962,
           551500,
           511391,
           241600,
           241122,
           175923,
           148358,
           142581,
           139241
          ],
          "coloraxis": "coloraxis",
          "pattern": {
           "shape": ""
          }
         },
         "name": "",
         "offsetgroup": "",
         "orientation": "h",
         "showlegend": false,
         "textposition": "auto",
         "type": "bar",
         "x": [
          691904,
          659962,
          551500,
          511391,
          241600,
          241122,
          175923,
          148358,
          142581,
          139241
         ],
         "xaxis": "x",
         "y": [
          "Índia",
          "China",
          "Reino Unido e Irlanda do Norte",
          "Filipinas",
          "Paquistão",
          "Estados Unidos da América",
          "Irã",
          "Sri Lanka",
          "República da Coreia",
          "Polônia"
         ],
         "yaxis": "y"
        }
       ],
       "layout": {
        "barmode": "relative",
        "coloraxis": {
         "colorbar": {
          "title": {
           "text": "Total de Imigrantes"
          }
         },
         "colorscale": [
          [
           0,
           "rgb(255,255,229)"
          ],
          [
           0.125,
           "rgb(255,247,188)"
          ],
          [
           0.25,
           "rgb(254,227,145)"
          ],
          [
           0.375,
           "rgb(254,196,79)"
          ],
          [
           0.5,
           "rgb(254,153,41)"
          ],
          [
           0.625,
           "rgb(236,112,20)"
          ],
          [
           0.75,
           "rgb(204,76,2)"
          ],
          [
           0.875,
           "rgb(153,52,4)"
          ],
          [
           1,
           "rgb(102,37,6)"
          ]
         ]
        },
        "legend": {
         "tracegroupgap": 0
        },
        "template": {
         "data": {
          "bar": [
           {
            "error_x": {
             "color": "#2a3f5f"
            },
            "error_y": {
             "color": "#2a3f5f"
            },
            "marker": {
             "line": {
              "color": "#E5ECF6",
              "width": 0.5
             },
             "pattern": {
              "fillmode": "overlay",
              "size": 10,
              "solidity": 0.2
             }
            },
            "type": "bar"
           }
          ],
          "barpolar": [
           {
            "marker": {
             "line": {
              "color": "#E5ECF6",
              "width": 0.5
             },
             "pattern": {
              "fillmode": "overlay",
              "size": 10,
              "solidity": 0.2
             }
            },
            "type": "barpolar"
           }
          ],
          "carpet": [
           {
            "aaxis": {
             "endlinecolor": "#2a3f5f",
             "gridcolor": "white",
             "linecolor": "white",
             "minorgridcolor": "white",
             "startlinecolor": "#2a3f5f"
            },
            "baxis": {
             "endlinecolor": "#2a3f5f",
             "gridcolor": "white",
             "linecolor": "white",
             "minorgridcolor": "white",
             "startlinecolor": "#2a3f5f"
            },
            "type": "carpet"
           }
          ],
          "choropleth": [
           {
            "colorbar": {
             "outlinewidth": 0,
             "ticks": ""
            },
            "type": "choropleth"
           }
          ],
          "contour": [
           {
            "colorbar": {
             "outlinewidth": 0,
             "ticks": ""
            },
            "colorscale": [
             [
              0,
              "#0d0887"
             ],
             [
              0.1111111111111111,
              "#46039f"
             ],
             [
              0.2222222222222222,
              "#7201a8"
             ],
             [
              0.3333333333333333,
              "#9c179e"
             ],
             [
              0.4444444444444444,
              "#bd3786"
             ],
             [
              0.5555555555555556,
              "#d8576b"
             ],
             [
              0.6666666666666666,
              "#ed7953"
             ],
             [
              0.7777777777777778,
              "#fb9f3a"
             ],
             [
              0.8888888888888888,
              "#fdca26"
             ],
             [
              1,
              "#f0f921"
             ]
            ],
            "type": "contour"
           }
          ],
          "contourcarpet": [
           {
            "colorbar": {
             "outlinewidth": 0,
             "ticks": ""
            },
            "type": "contourcarpet"
           }
          ],
          "heatmap": [
           {
            "colorbar": {
             "outlinewidth": 0,
             "ticks": ""
            },
            "colorscale": [
             [
              0,
              "#0d0887"
             ],
             [
              0.1111111111111111,
              "#46039f"
             ],
             [
              0.2222222222222222,
              "#7201a8"
             ],
             [
              0.3333333333333333,
              "#9c179e"
             ],
             [
              0.4444444444444444,
              "#bd3786"
             ],
             [
              0.5555555555555556,
              "#d8576b"
             ],
             [
              0.6666666666666666,
              "#ed7953"
             ],
             [
              0.7777777777777778,
              "#fb9f3a"
             ],
             [
              0.8888888888888888,
              "#fdca26"
             ],
             [
              1,
              "#f0f921"
             ]
            ],
            "type": "heatmap"
           }
          ],
          "heatmapgl": [
           {
            "colorbar": {
             "outlinewidth": 0,
             "ticks": ""
            },
            "colorscale": [
             [
              0,
              "#0d0887"
             ],
             [
              0.1111111111111111,
              "#46039f"
             ],
             [
              0.2222222222222222,
              "#7201a8"
             ],
             [
              0.3333333333333333,
              "#9c179e"
             ],
             [
              0.4444444444444444,
              "#bd3786"
             ],
             [
              0.5555555555555556,
              "#d8576b"
             ],
             [
              0.6666666666666666,
              "#ed7953"
             ],
             [
              0.7777777777777778,
              "#fb9f3a"
             ],
             [
              0.8888888888888888,
              "#fdca26"
             ],
             [
              1,
              "#f0f921"
             ]
            ],
            "type": "heatmapgl"
           }
          ],
          "histogram": [
           {
            "marker": {
             "pattern": {
              "fillmode": "overlay",
              "size": 10,
              "solidity": 0.2
             }
            },
            "type": "histogram"
           }
          ],
          "histogram2d": [
           {
            "colorbar": {
             "outlinewidth": 0,
             "ticks": ""
            },
            "colorscale": [
             [
              0,
              "#0d0887"
             ],
             [
              0.1111111111111111,
              "#46039f"
             ],
             [
              0.2222222222222222,
              "#7201a8"
             ],
             [
              0.3333333333333333,
              "#9c179e"
             ],
             [
              0.4444444444444444,
              "#bd3786"
             ],
             [
              0.5555555555555556,
              "#d8576b"
             ],
             [
              0.6666666666666666,
              "#ed7953"
             ],
             [
              0.7777777777777778,
              "#fb9f3a"
             ],
             [
              0.8888888888888888,
              "#fdca26"
             ],
             [
              1,
              "#f0f921"
             ]
            ],
            "type": "histogram2d"
           }
          ],
          "histogram2dcontour": [
           {
            "colorbar": {
             "outlinewidth": 0,
             "ticks": ""
            },
            "colorscale": [
             [
              0,
              "#0d0887"
             ],
             [
              0.1111111111111111,
              "#46039f"
             ],
             [
              0.2222222222222222,
              "#7201a8"
             ],
             [
              0.3333333333333333,
              "#9c179e"
             ],
             [
              0.4444444444444444,
              "#bd3786"
             ],
             [
              0.5555555555555556,
              "#d8576b"
             ],
             [
              0.6666666666666666,
              "#ed7953"
             ],
             [
              0.7777777777777778,
              "#fb9f3a"
             ],
             [
              0.8888888888888888,
              "#fdca26"
             ],
             [
              1,
              "#f0f921"
             ]
            ],
            "type": "histogram2dcontour"
           }
          ],
          "mesh3d": [
           {
            "colorbar": {
             "outlinewidth": 0,
             "ticks": ""
            },
            "type": "mesh3d"
           }
          ],
          "parcoords": [
           {
            "line": {
             "colorbar": {
              "outlinewidth": 0,
              "ticks": ""
             }
            },
            "type": "parcoords"
           }
          ],
          "pie": [
           {
            "automargin": true,
            "type": "pie"
           }
          ],
          "scatter": [
           {
            "fillpattern": {
             "fillmode": "overlay",
             "size": 10,
             "solidity": 0.2
            },
            "type": "scatter"
           }
          ],
          "scatter3d": [
           {
            "line": {
             "colorbar": {
              "outlinewidth": 0,
              "ticks": ""
             }
            },
            "marker": {
             "colorbar": {
              "outlinewidth": 0,
              "ticks": ""
             }
            },
            "type": "scatter3d"
           }
          ],
          "scattercarpet": [
           {
            "marker": {
             "colorbar": {
              "outlinewidth": 0,
              "ticks": ""
             }
            },
            "type": "scattercarpet"
           }
          ],
          "scattergeo": [
           {
            "marker": {
             "colorbar": {
              "outlinewidth": 0,
              "ticks": ""
             }
            },
            "type": "scattergeo"
           }
          ],
          "scattergl": [
           {
            "marker": {
             "colorbar": {
              "outlinewidth": 0,
              "ticks": ""
             }
            },
            "type": "scattergl"
           }
          ],
          "scattermapbox": [
           {
            "marker": {
             "colorbar": {
              "outlinewidth": 0,
              "ticks": ""
             }
            },
            "type": "scattermapbox"
           }
          ],
          "scatterpolar": [
           {
            "marker": {
             "colorbar": {
              "outlinewidth": 0,
              "ticks": ""
             }
            },
            "type": "scatterpolar"
           }
          ],
          "scatterpolargl": [
           {
            "marker": {
             "colorbar": {
              "outlinewidth": 0,
              "ticks": ""
             }
            },
            "type": "scatterpolargl"
           }
          ],
          "scatterternary": [
           {
            "marker": {
             "colorbar": {
              "outlinewidth": 0,
              "ticks": ""
             }
            },
            "type": "scatterternary"
           }
          ],
          "surface": [
           {
            "colorbar": {
             "outlinewidth": 0,
             "ticks": ""
            },
            "colorscale": [
             [
              0,
              "#0d0887"
             ],
             [
              0.1111111111111111,
              "#46039f"
             ],
             [
              0.2222222222222222,
              "#7201a8"
             ],
             [
              0.3333333333333333,
              "#9c179e"
             ],
             [
              0.4444444444444444,
              "#bd3786"
             ],
             [
              0.5555555555555556,
              "#d8576b"
             ],
             [
              0.6666666666666666,
              "#ed7953"
             ],
             [
              0.7777777777777778,
              "#fb9f3a"
             ],
             [
              0.8888888888888888,
              "#fdca26"
             ],
             [
              1,
              "#f0f921"
             ]
            ],
            "type": "surface"
           }
          ],
          "table": [
           {
            "cells": {
             "fill": {
              "color": "#EBF0F8"
             },
             "line": {
              "color": "white"
             }
            },
            "header": {
             "fill": {
              "color": "#C8D4E3"
             },
             "line": {
              "color": "white"
             }
            },
            "type": "table"
           }
          ]
         },
         "layout": {
          "annotationdefaults": {
           "arrowcolor": "#2a3f5f",
           "arrowhead": 0,
           "arrowwidth": 1
          },
          "autotypenumbers": "strict",
          "coloraxis": {
           "colorbar": {
            "outlinewidth": 0,
            "ticks": ""
           }
          },
          "colorscale": {
           "diverging": [
            [
             0,
             "#8e0152"
            ],
            [
             0.1,
             "#c51b7d"
            ],
            [
             0.2,
             "#de77ae"
            ],
            [
             0.3,
             "#f1b6da"
            ],
            [
             0.4,
             "#fde0ef"
            ],
            [
             0.5,
             "#f7f7f7"
            ],
            [
             0.6,
             "#e6f5d0"
            ],
            [
             0.7,
             "#b8e186"
            ],
            [
             0.8,
             "#7fbc41"
            ],
            [
             0.9,
             "#4d9221"
            ],
            [
             1,
             "#276419"
            ]
           ],
           "sequential": [
            [
             0,
             "#0d0887"
            ],
            [
             0.1111111111111111,
             "#46039f"
            ],
            [
             0.2222222222222222,
             "#7201a8"
            ],
            [
             0.3333333333333333,
             "#9c179e"
            ],
            [
             0.4444444444444444,
             "#bd3786"
            ],
            [
             0.5555555555555556,
             "#d8576b"
            ],
            [
             0.6666666666666666,
             "#ed7953"
            ],
            [
             0.7777777777777778,
             "#fb9f3a"
            ],
            [
             0.8888888888888888,
             "#fdca26"
            ],
            [
             1,
             "#f0f921"
            ]
           ],
           "sequentialminus": [
            [
             0,
             "#0d0887"
            ],
            [
             0.1111111111111111,
             "#46039f"
            ],
            [
             0.2222222222222222,
             "#7201a8"
            ],
            [
             0.3333333333333333,
             "#9c179e"
            ],
            [
             0.4444444444444444,
             "#bd3786"
            ],
            [
             0.5555555555555556,
             "#d8576b"
            ],
            [
             0.6666666666666666,
             "#ed7953"
            ],
            [
             0.7777777777777778,
             "#fb9f3a"
            ],
            [
             0.8888888888888888,
             "#fdca26"
            ],
            [
             1,
             "#f0f921"
            ]
           ]
          },
          "colorway": [
           "#636efa",
           "#EF553B",
           "#00cc96",
           "#ab63fa",
           "#FFA15A",
           "#19d3f3",
           "#FF6692",
           "#B6E880",
           "#FF97FF",
           "#FECB52"
          ],
          "font": {
           "color": "#2a3f5f"
          },
          "geo": {
           "bgcolor": "white",
           "lakecolor": "white",
           "landcolor": "#E5ECF6",
           "showlakes": true,
           "showland": true,
           "subunitcolor": "white"
          },
          "hoverlabel": {
           "align": "left"
          },
          "hovermode": "closest",
          "mapbox": {
           "style": "light"
          },
          "paper_bgcolor": "white",
          "plot_bgcolor": "#E5ECF6",
          "polar": {
           "angularaxis": {
            "gridcolor": "white",
            "linecolor": "white",
            "ticks": ""
           },
           "bgcolor": "#E5ECF6",
           "radialaxis": {
            "gridcolor": "white",
            "linecolor": "white",
            "ticks": ""
           }
          },
          "scene": {
           "xaxis": {
            "backgroundcolor": "#E5ECF6",
            "gridcolor": "white",
            "gridwidth": 2,
            "linecolor": "white",
            "showbackground": true,
            "ticks": "",
            "zerolinecolor": "white"
           },
           "yaxis": {
            "backgroundcolor": "#E5ECF6",
            "gridcolor": "white",
            "gridwidth": 2,
            "linecolor": "white",
            "showbackground": true,
            "ticks": "",
            "zerolinecolor": "white"
           },
           "zaxis": {
            "backgroundcolor": "#E5ECF6",
            "gridcolor": "white",
            "gridwidth": 2,
            "linecolor": "white",
            "showbackground": true,
            "ticks": "",
            "zerolinecolor": "white"
           }
          },
          "shapedefaults": {
           "line": {
            "color": "#2a3f5f"
           }
          },
          "ternary": {
           "aaxis": {
            "gridcolor": "white",
            "linecolor": "white",
            "ticks": ""
           },
           "baxis": {
            "gridcolor": "white",
            "linecolor": "white",
            "ticks": ""
           },
           "bgcolor": "#E5ECF6",
           "caxis": {
            "gridcolor": "white",
            "linecolor": "white",
            "ticks": ""
           }
          },
          "title": {
           "x": 0.05
          },
          "xaxis": {
           "automargin": true,
           "gridcolor": "white",
           "linecolor": "white",
           "ticks": "",
           "title": {
            "standoff": 15
           },
           "zerolinecolor": "white",
           "zerolinewidth": 2
          },
          "yaxis": {
           "automargin": true,
           "gridcolor": "white",
           "linecolor": "white",
           "ticks": "",
           "title": {
            "standoff": 15
           },
           "zerolinecolor": "white",
           "zerolinewidth": 2
          }
         }
        },
        "title": {
         "text": "Os dez países com mais imigrantes para o Canadá"
        },
        "xaxis": {
         "anchor": "y",
         "domain": [
          0,
          1
         ],
         "title": {
          "text": "Total de Imigrantes"
         }
        },
        "yaxis": {
         "anchor": "x",
         "domain": [
          0,
          1
         ],
         "title": {
          "text": "País"
         }
        }
       }
      }
     },
     "metadata": {},
     "output_type": "display_data"
    }
   ],
   "source": [
    "# prompt: Gere gráfico interativo com plotly (Gerado por IA)\n",
    "\n",
    "fig = px.bar(\n",
    "    top_10,\n",
    "    y=top_10.index,\n",
    "    x='Total',\n",
    "    orientation='h',\n",
    "    title='Os dez países com mais imigrantes para o Canadá',\n",
    "    labels={'Total':'Total de Imigrantes'},\n",
    "    color='Total',\n",
    "    color_continuous_scale=px.colors.sequential.YlOrBr\n",
    ")\n",
    "fig.show()"
   ]
  },
  {
   "cell_type": "code",
   "execution_count": 12,
   "metadata": {
    "id": "WlDS-xHgeFR2"
   },
   "outputs": [],
   "source": [
    "# Gere uma lista contendo os anos de 1980 a 2013, formatando como strings.\n",
    "anos = list(map(str,range(1980,2014)))"
   ]
  },
  {
   "cell_type": "code",
   "execution_count": 13,
   "metadata": {
    "colab": {
     "base_uri": "https://localhost:8080/",
     "height": 1000
    },
    "id": "CiRM2JtOd0YX",
    "outputId": "39173164-ee4e-4a1f-9821-e645323012bc"
   },
   "outputs": [
    {
     "data": {
      "text/plain": [
       "1980     211\n",
       "1981     220\n",
       "1982     192\n",
       "1983     139\n",
       "1984     145\n",
       "1985     130\n",
       "1986     205\n",
       "1987     244\n",
       "1988     394\n",
       "1989     650\n",
       "1990     650\n",
       "1991     877\n",
       "1992    1066\n",
       "1993     866\n",
       "1994     566\n",
       "1995     572\n",
       "1996     586\n",
       "1997     591\n",
       "1998     531\n",
       "1999     626\n",
       "2000     845\n",
       "2001     847\n",
       "2002     745\n",
       "2003     839\n",
       "2004     917\n",
       "2005     969\n",
       "2006    1181\n",
       "2007    1746\n",
       "2008    2138\n",
       "2009    2509\n",
       "2010    2598\n",
       "2011    1508\n",
       "2012    1642\n",
       "2013    1714\n",
       "Name: Brasil, dtype: object"
      ]
     },
     "execution_count": 13,
     "metadata": {},
     "output_type": "execute_result"
    }
   ],
   "source": [
    "# Selecione os dados referentes ao Brasil nos anos especificados na lista 'anos' dentro do DataFrame 'df'.\n",
    "brasil = df.loc['Brasil',anos]\n",
    "brasil"
   ]
  },
  {
   "cell_type": "code",
   "execution_count": 14,
   "metadata": {
    "id": "TbxMyy3FeVZp"
   },
   "outputs": [],
   "source": [
    "# Crie um dicionário chamado 'brasil_dict' a partir dos dados da Series 'brasil'.\n",
    "# As chaves do dicionário deverão ser 'ano' e 'imigrantes', e os valores correspondentes são as listas dos anos e dos números de imigrantes, respectivamente.\n",
    "brasil_dict = {'ano':brasil.index.tolist(),'imigrantes':brasil.values.tolist()}"
   ]
  },
  {
   "cell_type": "code",
   "execution_count": 15,
   "metadata": {
    "colab": {
     "base_uri": "https://localhost:8080/",
     "height": 363
    },
    "id": "iBYQdxQ1fPdr",
    "outputId": "15774085-9689-41bd-cb02-5423ae95b00e"
   },
   "outputs": [
    {
     "data": {
      "text/html": [
       "<div>\n",
       "<style scoped>\n",
       "    .dataframe tbody tr th:only-of-type {\n",
       "        vertical-align: middle;\n",
       "    }\n",
       "\n",
       "    .dataframe tbody tr th {\n",
       "        vertical-align: top;\n",
       "    }\n",
       "\n",
       "    .dataframe thead th {\n",
       "        text-align: right;\n",
       "    }\n",
       "</style>\n",
       "<table border=\"1\" class=\"dataframe\">\n",
       "  <thead>\n",
       "    <tr style=\"text-align: right;\">\n",
       "      <th></th>\n",
       "      <th>ano</th>\n",
       "      <th>imigrantes</th>\n",
       "    </tr>\n",
       "  </thead>\n",
       "  <tbody>\n",
       "    <tr>\n",
       "      <th>0</th>\n",
       "      <td>1980</td>\n",
       "      <td>211</td>\n",
       "    </tr>\n",
       "    <tr>\n",
       "      <th>1</th>\n",
       "      <td>1981</td>\n",
       "      <td>220</td>\n",
       "    </tr>\n",
       "    <tr>\n",
       "      <th>2</th>\n",
       "      <td>1982</td>\n",
       "      <td>192</td>\n",
       "    </tr>\n",
       "    <tr>\n",
       "      <th>3</th>\n",
       "      <td>1983</td>\n",
       "      <td>139</td>\n",
       "    </tr>\n",
       "    <tr>\n",
       "      <th>4</th>\n",
       "      <td>1984</td>\n",
       "      <td>145</td>\n",
       "    </tr>\n",
       "    <tr>\n",
       "      <th>5</th>\n",
       "      <td>1985</td>\n",
       "      <td>130</td>\n",
       "    </tr>\n",
       "    <tr>\n",
       "      <th>6</th>\n",
       "      <td>1986</td>\n",
       "      <td>205</td>\n",
       "    </tr>\n",
       "    <tr>\n",
       "      <th>7</th>\n",
       "      <td>1987</td>\n",
       "      <td>244</td>\n",
       "    </tr>\n",
       "    <tr>\n",
       "      <th>8</th>\n",
       "      <td>1988</td>\n",
       "      <td>394</td>\n",
       "    </tr>\n",
       "    <tr>\n",
       "      <th>9</th>\n",
       "      <td>1989</td>\n",
       "      <td>650</td>\n",
       "    </tr>\n",
       "  </tbody>\n",
       "</table>\n",
       "</div>"
      ],
      "text/plain": [
       "    ano  imigrantes\n",
       "0  1980         211\n",
       "1  1981         220\n",
       "2  1982         192\n",
       "3  1983         139\n",
       "4  1984         145\n",
       "5  1985         130\n",
       "6  1986         205\n",
       "7  1987         244\n",
       "8  1988         394\n",
       "9  1989         650"
      ]
     },
     "execution_count": 15,
     "metadata": {},
     "output_type": "execute_result"
    }
   ],
   "source": [
    "# Transforme o dicionário em um DataFrame e mostre as primeiras linhas para conferência do resultado.\n",
    "dados_brasil = pd.DataFrame(brasil_dict)\n",
    "dados_brasil.head(10)"
   ]
  },
  {
   "cell_type": "code",
   "execution_count": 16,
   "metadata": {
    "colab": {
     "base_uri": "https://localhost:8080/",
     "height": 517
    },
    "id": "HzNnp8zcfxLA",
    "outputId": "7f3767c3-4625-46c3-ab21-a4e52e5bb9a1"
   },
   "outputs": [
    {
     "data": {
      "application/vnd.plotly.v1+json": {
       "config": {
        "plotlyServerURL": "https://plot.ly"
       },
       "data": [
        {
         "hovertemplate": "ano=%{x}<br>imigrantes=%{y}<extra></extra>",
         "legendgroup": "",
         "line": {
          "color": "saddlebrown",
          "dash": "solid",
          "width": 6
         },
         "marker": {
          "color": "saddlebrown",
          "size": 10,
          "symbol": "circle"
         },
         "mode": "lines",
         "name": "",
         "orientation": "v",
         "showlegend": false,
         "type": "scatter",
         "x": [
          "1980",
          "1981",
          "1982",
          "1983",
          "1984",
          "1985",
          "1986",
          "1987",
          "1988",
          "1989",
          "1990",
          "1991",
          "1992",
          "1993",
          "1994",
          "1995",
          "1996",
          "1997",
          "1998",
          "1999",
          "2000",
          "2001",
          "2002",
          "2003",
          "2004",
          "2005",
          "2006",
          "2007",
          "2008",
          "2009",
          "2010",
          "2011",
          "2012",
          "2013"
         ],
         "xaxis": "x",
         "y": [
          211,
          220,
          192,
          139,
          145,
          130,
          205,
          244,
          394,
          650,
          650,
          877,
          1066,
          866,
          566,
          572,
          586,
          591,
          531,
          626,
          845,
          847,
          745,
          839,
          917,
          969,
          1181,
          1746,
          2138,
          2509,
          2598,
          1508,
          1642,
          1714
         ],
         "yaxis": "y"
        }
       ],
       "layout": {
        "height": 500,
        "legend": {
         "tracegroupgap": 0
        },
        "template": {
         "data": {
          "bar": [
           {
            "error_x": {
             "color": "#2a3f5f"
            },
            "error_y": {
             "color": "#2a3f5f"
            },
            "marker": {
             "line": {
              "color": "#E5ECF6",
              "width": 0.5
             },
             "pattern": {
              "fillmode": "overlay",
              "size": 10,
              "solidity": 0.2
             }
            },
            "type": "bar"
           }
          ],
          "barpolar": [
           {
            "marker": {
             "line": {
              "color": "#E5ECF6",
              "width": 0.5
             },
             "pattern": {
              "fillmode": "overlay",
              "size": 10,
              "solidity": 0.2
             }
            },
            "type": "barpolar"
           }
          ],
          "carpet": [
           {
            "aaxis": {
             "endlinecolor": "#2a3f5f",
             "gridcolor": "white",
             "linecolor": "white",
             "minorgridcolor": "white",
             "startlinecolor": "#2a3f5f"
            },
            "baxis": {
             "endlinecolor": "#2a3f5f",
             "gridcolor": "white",
             "linecolor": "white",
             "minorgridcolor": "white",
             "startlinecolor": "#2a3f5f"
            },
            "type": "carpet"
           }
          ],
          "choropleth": [
           {
            "colorbar": {
             "outlinewidth": 0,
             "ticks": ""
            },
            "type": "choropleth"
           }
          ],
          "contour": [
           {
            "colorbar": {
             "outlinewidth": 0,
             "ticks": ""
            },
            "colorscale": [
             [
              0,
              "#0d0887"
             ],
             [
              0.1111111111111111,
              "#46039f"
             ],
             [
              0.2222222222222222,
              "#7201a8"
             ],
             [
              0.3333333333333333,
              "#9c179e"
             ],
             [
              0.4444444444444444,
              "#bd3786"
             ],
             [
              0.5555555555555556,
              "#d8576b"
             ],
             [
              0.6666666666666666,
              "#ed7953"
             ],
             [
              0.7777777777777778,
              "#fb9f3a"
             ],
             [
              0.8888888888888888,
              "#fdca26"
             ],
             [
              1,
              "#f0f921"
             ]
            ],
            "type": "contour"
           }
          ],
          "contourcarpet": [
           {
            "colorbar": {
             "outlinewidth": 0,
             "ticks": ""
            },
            "type": "contourcarpet"
           }
          ],
          "heatmap": [
           {
            "colorbar": {
             "outlinewidth": 0,
             "ticks": ""
            },
            "colorscale": [
             [
              0,
              "#0d0887"
             ],
             [
              0.1111111111111111,
              "#46039f"
             ],
             [
              0.2222222222222222,
              "#7201a8"
             ],
             [
              0.3333333333333333,
              "#9c179e"
             ],
             [
              0.4444444444444444,
              "#bd3786"
             ],
             [
              0.5555555555555556,
              "#d8576b"
             ],
             [
              0.6666666666666666,
              "#ed7953"
             ],
             [
              0.7777777777777778,
              "#fb9f3a"
             ],
             [
              0.8888888888888888,
              "#fdca26"
             ],
             [
              1,
              "#f0f921"
             ]
            ],
            "type": "heatmap"
           }
          ],
          "heatmapgl": [
           {
            "colorbar": {
             "outlinewidth": 0,
             "ticks": ""
            },
            "colorscale": [
             [
              0,
              "#0d0887"
             ],
             [
              0.1111111111111111,
              "#46039f"
             ],
             [
              0.2222222222222222,
              "#7201a8"
             ],
             [
              0.3333333333333333,
              "#9c179e"
             ],
             [
              0.4444444444444444,
              "#bd3786"
             ],
             [
              0.5555555555555556,
              "#d8576b"
             ],
             [
              0.6666666666666666,
              "#ed7953"
             ],
             [
              0.7777777777777778,
              "#fb9f3a"
             ],
             [
              0.8888888888888888,
              "#fdca26"
             ],
             [
              1,
              "#f0f921"
             ]
            ],
            "type": "heatmapgl"
           }
          ],
          "histogram": [
           {
            "marker": {
             "pattern": {
              "fillmode": "overlay",
              "size": 10,
              "solidity": 0.2
             }
            },
            "type": "histogram"
           }
          ],
          "histogram2d": [
           {
            "colorbar": {
             "outlinewidth": 0,
             "ticks": ""
            },
            "colorscale": [
             [
              0,
              "#0d0887"
             ],
             [
              0.1111111111111111,
              "#46039f"
             ],
             [
              0.2222222222222222,
              "#7201a8"
             ],
             [
              0.3333333333333333,
              "#9c179e"
             ],
             [
              0.4444444444444444,
              "#bd3786"
             ],
             [
              0.5555555555555556,
              "#d8576b"
             ],
             [
              0.6666666666666666,
              "#ed7953"
             ],
             [
              0.7777777777777778,
              "#fb9f3a"
             ],
             [
              0.8888888888888888,
              "#fdca26"
             ],
             [
              1,
              "#f0f921"
             ]
            ],
            "type": "histogram2d"
           }
          ],
          "histogram2dcontour": [
           {
            "colorbar": {
             "outlinewidth": 0,
             "ticks": ""
            },
            "colorscale": [
             [
              0,
              "#0d0887"
             ],
             [
              0.1111111111111111,
              "#46039f"
             ],
             [
              0.2222222222222222,
              "#7201a8"
             ],
             [
              0.3333333333333333,
              "#9c179e"
             ],
             [
              0.4444444444444444,
              "#bd3786"
             ],
             [
              0.5555555555555556,
              "#d8576b"
             ],
             [
              0.6666666666666666,
              "#ed7953"
             ],
             [
              0.7777777777777778,
              "#fb9f3a"
             ],
             [
              0.8888888888888888,
              "#fdca26"
             ],
             [
              1,
              "#f0f921"
             ]
            ],
            "type": "histogram2dcontour"
           }
          ],
          "mesh3d": [
           {
            "colorbar": {
             "outlinewidth": 0,
             "ticks": ""
            },
            "type": "mesh3d"
           }
          ],
          "parcoords": [
           {
            "line": {
             "colorbar": {
              "outlinewidth": 0,
              "ticks": ""
             }
            },
            "type": "parcoords"
           }
          ],
          "pie": [
           {
            "automargin": true,
            "type": "pie"
           }
          ],
          "scatter": [
           {
            "fillpattern": {
             "fillmode": "overlay",
             "size": 10,
             "solidity": 0.2
            },
            "type": "scatter"
           }
          ],
          "scatter3d": [
           {
            "line": {
             "colorbar": {
              "outlinewidth": 0,
              "ticks": ""
             }
            },
            "marker": {
             "colorbar": {
              "outlinewidth": 0,
              "ticks": ""
             }
            },
            "type": "scatter3d"
           }
          ],
          "scattercarpet": [
           {
            "marker": {
             "colorbar": {
              "outlinewidth": 0,
              "ticks": ""
             }
            },
            "type": "scattercarpet"
           }
          ],
          "scattergeo": [
           {
            "marker": {
             "colorbar": {
              "outlinewidth": 0,
              "ticks": ""
             }
            },
            "type": "scattergeo"
           }
          ],
          "scattergl": [
           {
            "marker": {
             "colorbar": {
              "outlinewidth": 0,
              "ticks": ""
             }
            },
            "type": "scattergl"
           }
          ],
          "scattermapbox": [
           {
            "marker": {
             "colorbar": {
              "outlinewidth": 0,
              "ticks": ""
             }
            },
            "type": "scattermapbox"
           }
          ],
          "scatterpolar": [
           {
            "marker": {
             "colorbar": {
              "outlinewidth": 0,
              "ticks": ""
             }
            },
            "type": "scatterpolar"
           }
          ],
          "scatterpolargl": [
           {
            "marker": {
             "colorbar": {
              "outlinewidth": 0,
              "ticks": ""
             }
            },
            "type": "scatterpolargl"
           }
          ],
          "scatterternary": [
           {
            "marker": {
             "colorbar": {
              "outlinewidth": 0,
              "ticks": ""
             }
            },
            "type": "scatterternary"
           }
          ],
          "surface": [
           {
            "colorbar": {
             "outlinewidth": 0,
             "ticks": ""
            },
            "colorscale": [
             [
              0,
              "#0d0887"
             ],
             [
              0.1111111111111111,
              "#46039f"
             ],
             [
              0.2222222222222222,
              "#7201a8"
             ],
             [
              0.3333333333333333,
              "#9c179e"
             ],
             [
              0.4444444444444444,
              "#bd3786"
             ],
             [
              0.5555555555555556,
              "#d8576b"
             ],
             [
              0.6666666666666666,
              "#ed7953"
             ],
             [
              0.7777777777777778,
              "#fb9f3a"
             ],
             [
              0.8888888888888888,
              "#fdca26"
             ],
             [
              1,
              "#f0f921"
             ]
            ],
            "type": "surface"
           }
          ],
          "table": [
           {
            "cells": {
             "fill": {
              "color": "#EBF0F8"
             },
             "line": {
              "color": "white"
             }
            },
            "header": {
             "fill": {
              "color": "#C8D4E3"
             },
             "line": {
              "color": "white"
             }
            },
            "type": "table"
           }
          ]
         },
         "layout": {
          "annotationdefaults": {
           "arrowcolor": "#2a3f5f",
           "arrowhead": 0,
           "arrowwidth": 1
          },
          "autotypenumbers": "strict",
          "coloraxis": {
           "colorbar": {
            "outlinewidth": 0,
            "ticks": ""
           }
          },
          "colorscale": {
           "diverging": [
            [
             0,
             "#8e0152"
            ],
            [
             0.1,
             "#c51b7d"
            ],
            [
             0.2,
             "#de77ae"
            ],
            [
             0.3,
             "#f1b6da"
            ],
            [
             0.4,
             "#fde0ef"
            ],
            [
             0.5,
             "#f7f7f7"
            ],
            [
             0.6,
             "#e6f5d0"
            ],
            [
             0.7,
             "#b8e186"
            ],
            [
             0.8,
             "#7fbc41"
            ],
            [
             0.9,
             "#4d9221"
            ],
            [
             1,
             "#276419"
            ]
           ],
           "sequential": [
            [
             0,
             "#0d0887"
            ],
            [
             0.1111111111111111,
             "#46039f"
            ],
            [
             0.2222222222222222,
             "#7201a8"
            ],
            [
             0.3333333333333333,
             "#9c179e"
            ],
            [
             0.4444444444444444,
             "#bd3786"
            ],
            [
             0.5555555555555556,
             "#d8576b"
            ],
            [
             0.6666666666666666,
             "#ed7953"
            ],
            [
             0.7777777777777778,
             "#fb9f3a"
            ],
            [
             0.8888888888888888,
             "#fdca26"
            ],
            [
             1,
             "#f0f921"
            ]
           ],
           "sequentialminus": [
            [
             0,
             "#0d0887"
            ],
            [
             0.1111111111111111,
             "#46039f"
            ],
            [
             0.2222222222222222,
             "#7201a8"
            ],
            [
             0.3333333333333333,
             "#9c179e"
            ],
            [
             0.4444444444444444,
             "#bd3786"
            ],
            [
             0.5555555555555556,
             "#d8576b"
            ],
            [
             0.6666666666666666,
             "#ed7953"
            ],
            [
             0.7777777777777778,
             "#fb9f3a"
            ],
            [
             0.8888888888888888,
             "#fdca26"
            ],
            [
             1,
             "#f0f921"
            ]
           ]
          },
          "colorway": [
           "#636efa",
           "#EF553B",
           "#00cc96",
           "#ab63fa",
           "#FFA15A",
           "#19d3f3",
           "#FF6692",
           "#B6E880",
           "#FF97FF",
           "#FECB52"
          ],
          "font": {
           "color": "#2a3f5f"
          },
          "geo": {
           "bgcolor": "white",
           "lakecolor": "white",
           "landcolor": "#E5ECF6",
           "showlakes": true,
           "showland": true,
           "subunitcolor": "white"
          },
          "hoverlabel": {
           "align": "left"
          },
          "hovermode": "closest",
          "mapbox": {
           "style": "light"
          },
          "paper_bgcolor": "white",
          "plot_bgcolor": "#E5ECF6",
          "polar": {
           "angularaxis": {
            "gridcolor": "white",
            "linecolor": "white",
            "ticks": ""
           },
           "bgcolor": "#E5ECF6",
           "radialaxis": {
            "gridcolor": "white",
            "linecolor": "white",
            "ticks": ""
           }
          },
          "scene": {
           "xaxis": {
            "backgroundcolor": "#E5ECF6",
            "gridcolor": "white",
            "gridwidth": 2,
            "linecolor": "white",
            "showbackground": true,
            "ticks": "",
            "zerolinecolor": "white"
           },
           "yaxis": {
            "backgroundcolor": "#E5ECF6",
            "gridcolor": "white",
            "gridwidth": 2,
            "linecolor": "white",
            "showbackground": true,
            "ticks": "",
            "zerolinecolor": "white"
           },
           "zaxis": {
            "backgroundcolor": "#E5ECF6",
            "gridcolor": "white",
            "gridwidth": 2,
            "linecolor": "white",
            "showbackground": true,
            "ticks": "",
            "zerolinecolor": "white"
           }
          },
          "shapedefaults": {
           "line": {
            "color": "#2a3f5f"
           }
          },
          "ternary": {
           "aaxis": {
            "gridcolor": "white",
            "linecolor": "white",
            "ticks": ""
           },
           "baxis": {
            "gridcolor": "white",
            "linecolor": "white",
            "ticks": ""
           },
           "bgcolor": "#E5ECF6",
           "caxis": {
            "gridcolor": "white",
            "linecolor": "white",
            "ticks": ""
           }
          },
          "title": {
           "x": 0.05
          },
          "xaxis": {
           "automargin": true,
           "gridcolor": "white",
           "linecolor": "white",
           "ticks": "",
           "title": {
            "standoff": 15
           },
           "zerolinecolor": "white",
           "zerolinewidth": 2
          },
          "yaxis": {
           "automargin": true,
           "gridcolor": "white",
           "linecolor": "white",
           "ticks": "",
           "title": {
            "standoff": 15
           },
           "zerolinecolor": "white",
           "zerolinewidth": 2
          }
         }
        },
        "title": {
         "font": {
          "color": "saddlebrown"
         },
         "text": "Imigrantes do Brasil para o Canadá \n de 1980 a 2013",
         "x": 0.5
        },
        "width": 1000,
        "xaxis": {
         "anchor": "y",
         "domain": [
          0,
          1
         ],
         "tickangle": -45,
         "tickfont": {
          "color": "saddlebrown"
         },
         "title": {
          "font": {
           "color": "saddlebrown"
          },
          "text": "ano"
         }
        },
        "yaxis": {
         "anchor": "x",
         "domain": [
          0,
          1
         ],
         "tickfont": {
          "color": "saddlebrown"
         },
         "title": {
          "font": {
           "color": "saddlebrown"
          },
          "text": "imigrantes"
         }
        }
       }
      }
     },
     "metadata": {},
     "output_type": "display_data"
    }
   ],
   "source": [
    "# Gere um gráfico com linhas interativas usando a biblioteca Plotly Express.\n",
    "\n",
    "fig = px.line(dados_brasil,\n",
    "              x='ano',\n",
    "              y='imigrantes',\n",
    "              title='Imigrantes do Brasil para o Canadá \\n de 1980 a 2013')\n",
    "\n",
    "# Centralizar o título geral e definir a cor do título como 'saddlebrown'\n",
    "fig.update_layout(title_x=0.5, title_font=dict(color='saddlebrown'))\n",
    "\n",
    "# Ajuste da largura, altura e rotação dos rótulos do eixo x, com a cor dos rótulos do eixo x e y como 'saddlebrown'\n",
    "fig.update_layout(width=1000,\n",
    "                  height=500,\n",
    "                  xaxis=dict(tickangle=-45, tickfont=dict(color='saddlebrown'), title_font=dict(color='saddlebrown')),\n",
    "                  yaxis=dict(tickfont=dict(color='saddlebrown'), title_font=dict(color='saddlebrown')))\n",
    "\n",
    "# Atualize a cor e a largura da linha do gráfico, adicionando pontos de marcação\n",
    "fig.update_traces(line_color='saddlebrown', line_width=6, marker=dict(size=10, color='saddlebrown'))\n",
    "\n",
    "# Exibe o gráfico\n",
    "fig.show()\n"
   ]
  },
  {
   "cell_type": "markdown",
   "metadata": {
    "id": "f1H7JA6m9cwl"
   },
   "source": [
    "\n",
    "### **SENAI-DF - Python Developer - Vespertino - QUA.491.002 - 03/09/2024**"
   ]
  },
  {
   "cell_type": "markdown",
   "metadata": {
    "id": "IyOd1l0M8TU4"
   },
   "source": [
    "# 6. Salvar em HTML: Exportar gráficos para a web 📃"
   ]
  },
  {
   "cell_type": "code",
   "execution_count": 17,
   "metadata": {
    "id": "GpQYV1hPDrAP"
   },
   "outputs": [],
   "source": [
    "fig.write_html('imigrantes_brasil.html')"
   ]
  },
  {
   "cell_type": "markdown",
   "metadata": {
    "id": "HzanuuwF8YP2"
   },
   "source": [
    "# 7. Criar Uma Aplicação Flask Com o Gráfico: Integrar gráficos em uma aplicação web 📄\n",
    "\n",
    "## Introdução ao Flask\n",
    "\n",
    "Flask é um microframework web em Python que permite criar aplicações web de forma simples e eficiente. É conhecido por ser leve, flexível e fácil de usar, tornando-se uma escolha popular para desenvolver aplicações web.\n",
    "\n",
    "### Núcleo do Flask\n",
    "\n",
    "- **Jinja**: Jinja é o motor de template usado pelo Flask. Ele permite que você crie páginas HTML dinâmicas que podem incluir dados do backend.\n",
    "- **Werkzeug**: Werkzeug é uma biblioteca WSGI usada internamente pelo Flask. Ela fornece uma camada de abstração para lidar com solicitações e respostas HTTP, além de outras funcionalidades úteis para o desenvolvimento web.\n",
    "\n",
    "### Flask Extendido\n",
    "\n",
    "Flask pode ser estendido com diversas bibliotecas e extensões para adicionar funcionalidades como autenticação, acesso ao banco de dados, validação de formulários, entre outras. Algumas extensões populares incluem:\n",
    "- **Flask-SQLAlchemy**: Integração com o SQLAlchemy para gerenciar bancos de dados.\n",
    "- **Flask-Login**: Gerenciamento de sessões e autenticação de usuários.\n",
    "- **Flask-WTF**: Integração com formulários e validação.\n",
    "\n",
    "### Site do Flask\n",
    "\n",
    "O site oficial do Flask fornece uma documentação completa, exemplos de uso e guias para ajudar no desenvolvimento de aplicações web:\n",
    "- **[Flask Oficial](https://flask.palletsprojects.com/en/2.0.x/)**\n",
    "\n",
    "### User's Guide\n",
    "\n",
    "O guia do usuário do Flask é uma excelente referência para aprender a criar aplicações web desde o início até tópicos mais avançados:\n",
    "- **[Guia do Usuário](https://flask.palletsprojects.com/en/2.0.x/quickstart/)**\n",
    "\n",
    "### Micro Framework\n",
    "\n",
    "Flask é considerado um microframework, o que significa que ele oferece apenas as funcionalidades essenciais para o desenvolvimento web. Você pode adicionar extensões conforme necessário, o que dá flexibilidade e controle sobre a aplicação.\n",
    "\n",
    "### Templates e Rotas\n",
    "\n",
    "- **Templates**: No Flask, os templates são usados para renderizar páginas HTML dinâmicas. O motor de template Jinja2 é utilizado para incorporar lógica dentro dos templates.\n",
    "- **Rotas**: As rotas no Flask definem como a aplicação responde às diferentes solicitações do usuário. Cada rota é associada a uma função Python que processa a solicitação e retorna uma resposta, normalmente uma página HTML.\n",
    "\n",
    "## Criando a Aplicação Flask\n",
    "\n",
    "### Passo 1: Configuração do Ambiente\n",
    "\n",
    "Primeiro, configure um ambiente virtual e instale o Flask:\n",
    "\n",
    "```bash\n",
    "python -m venv venv\n",
    "venv\\Scripts\\activate\n",
    "\n",
    "pip install flask\n",
    "```\n",
    "\n",
    "### Passo 2: Estrutura Básica da Aplicação\n",
    "\n",
    "Crie uma estrutura básica para a aplicação:\n",
    "\n",
    "```bash\n",
    "GraficosFlaskVespertino/\n",
    "├── inicio.py\n",
    "└── templates/\n",
    "    ├── imigrantes_brasil.html\n",
    "```\n",
    "\n",
    "### Passo 3: Implementação do Backend\n",
    "\n",
    "No inicio.py, configure as rotas e logicamente inclua a geração de gráficos:\n",
    "\n",
    "```bash\n",
    "from flask import Flask,render_template\n",
    "app = Flask(__name__)\n",
    "@app.route('/graficolinha')\n",
    "def mostrar_graf_linha():\n",
    "    return render_template('imigrantes_brasil.html')\n",
    "\n",
    "app.run()\n",
    "```\n",
    "\n",
    "### Passo 4: Executando a Aplicação\n",
    "\n",
    "Execute o aplicativo Flask:\n",
    "\n",
    "```bash\n",
    "python inicio.py\n",
    "```\n",
    "\n",
    "Visite http://127.0.0.1:5000/ no seu navegador para ver o gráfico interativo embutido na aplicação web.\n",
    "\n",
    "Esses passos fornecem um guia completo para criar uma aplicação Flask que integra gráficos interativos utilizando Plotly, permitindo que você construa aplicações web poderosas e dinâmicas com visualizações de dados sofisticadas."
   ]
  },
  {
   "cell_type": "markdown",
   "metadata": {
    "id": "uGvNos42WPAi"
   },
   "source": [
    "![graficolinha.png](data:image/png;base64,iVBORw0KGgoAAAANSUhEUgAAA/wAAAJcCAYAAABEyq+hAAAAAXNSR0IArs4c6QAAAARnQU1BAACxjwv8YQUAAAAJcEhZcwAADsMAAA7DAcdvqGQAANdGSURBVHhe7P15tFx1ne//9x/3ru9av/W7a931c7o9ajuh3XbbrXa39HRtuxsRUMEJJ0TUVhwaZ3FCUcRWSQgECCFAmIdAIBAgCSEMSYCQQAKEMCQkIQMRQkBQQPHq935+51Xn7JNdVe+qU8NnPxN2Xu+1nitJndr1qKqzz0l9TtXZ9XsXXTo/Oeecc84555xzrl55we+cc84555xzztUwL/idc84555xzzrka5gW/c84555xzzjlXw7zgd84555xzzjnnapgX/M4555xzzjnnXA3ra8F/8ewFad61S9NNS29PK+64J62598G0dt1DXbtn5Dw67+KldzS21WVEl91v8xbePHo9btf1WBfazrnB0teUvm71NTZ/4dLwa3CoZo/9ecn8dKG6dN7on+W/t57XOeecc84511c9L/gvv/L6tPLO+8LFQT/pMnRZkdFL2vbODNfDOdd7K++8d+Rrb1H4NTlQIwv68PSofs7rnHPOOeecG6+nBf91N9ya7rt/Q7gQGCRd1sLrl4VWt667YVnW6+Gc673G1+3I12D0tTlhY6/sGX/WfpAumRef7pxzzjnnnAubcMG/aOQBfvTgP0e67MiMWnTjbeFlOOfY+vm6bSrLgt2Lfuecc84553qt64L/8rnXV/qMui5bRmSX03nuf2BjeBnOObbG122fL++/MOOz8zkvyznnnHPOuTrXccGvg+vl+J39idLvBk90IL9Vd/l39p3bnbpj1b3h12pYFQt0L/qdc84555ybsI4L/rnX3BQ+0K8iWdF1UFfNXxxu45zbtXX7uh3PC3PnnHPOOed2WR0X/NfftDx8kF9FsqLroG64aUW4TafuXH1/OuPsC9IpM85O02ee30h/12n6WLSNc67/un3dOuecc84553Z9HRf8en/76EF+Fd22/O7wOqjbVtwdbhN11TXXpWmnn5tmnH1hOu2sC9JpZ56Xpo+kfyt9TOeJtnXO9Ve3r9uLLl2APLvfOOq/36ffOeecc865sI4L/jX3Phg+yK+i1WvWhtdB3dvj9dBC/vRzLkrTZ16Qrp6/KD2wdvQgf8vvuHt8wa90Hi/6nRu+e9asC79mB+3v//EtI/1L+DHnnHPOOedc/3Vc8EcP8Kssug4qOm9reqn+tNPPabx8XwcBLE6fv3BxOuei2U0LfqVn+gd5ef/L/vSV6YILLx3/923LVzZOK5q/YFHj9BOnTms6vajYLtp+vwPe1fbxXs9T9KnDP5+++71jwo/peheXo8rnK3+sdXuZxcd0XXrZpvh4p+sySOX7obCj8/WS7qfic6Xbp89X63laG8bbnfrBD/4rfenLX287XafpY62nT1T0NTtogy74h3pvf+ecc84552rc0Av+k0+ZkRZe136AvwXX3pCmTTu97fRORddBRedtTb+fr4W8ntkvTlu56p62hX45bVO+jG5p4aoFnxaKWmwWp5cXilpAdlqQ63zRolLnLxaeMgY9T7EAnmjBH32sWEgX/+7kaXtd/kTbFOm85R8QDJuuS/m+H6bygr/X6rLg/85R32/clq8f+e3x07TY12n6WPm8vRR9zapB3jpv4AW/DwzonHPOOedc2FAL/hW335Ve+arXpL98/RvTohuWjJ++6PoljdNe+arXphUr7mzaplPRdVDReVs7+bSzGr+zX7yMX624Y3W64JIrGp157sVtC34dyK98Gb3UuuBvrdOiMDpdC85iAV38u/UHBr2cp5wW550W/PpY9MOC1tPLl9F6vfVvLeK7baN0nvL1ztEgi/RODXJZnT63z8eKRb/+1MK/+Ht03omKvmbVhZdyC/6LLglOc84555xzzg3/DP+5512UXvHKvdIb3vi3afHiW9PiJcvSG97wN40fBOhj0TZR0XVQ0Xlb00v5dYC+6GPqiqsXNi32TzvrwsY20Xm7pYVipwW/FrnRYlznLy+Oi1oXzap1UdnLecrpvOWFd/n66mPatqh8nvLit/ghQ/FncXr5vJ22Kf7d+my8/l24uh7F/VRsp4rT9Gdx3uIy9Wf5tFZPVvHx8uegOE213i/F9W/9e/myytvo3+WPFbeveLVDUevna3etWPS/7GWDL/ZV9DU72sQL/n95675NvXqvP2/Uenq0bVNe8DvnnHPOOReW5Xf4zzvv4sai/+/e/A/pTX+zd+Pv558/Kzxvp6LroKLztqbFe3lBf8a5F6fzLr48Lbx+aeNZ/3vuXZsWLFqcrpp/fbp52R2jR+/PvODXQrNYOLaeHr20XQvD1sWhFmDlf/dynnI6b6cFfzmdRx8rzlO+3sViuvizOL183k7bFP8uL7rll/8tu/i3ttPtKV9WubJT/nvZa738Ip1Wvu06f3Ffdrpc/b18WbpuxedOfy/uW50/MlW3z8/uVGPBP7LY1/XdVQt+2a294pWv8YLfOeecc865TGU7aN+FF1/aeFZf6e/ReboVXQcVnbc1vaS/vOAvt+Tm25vOqx8A6OX/uV7SXzzDGy3qywvT1npZzPdynnI6b3nB363icsoLXlVc5+i6l0+PttHfdf+Ur7OuT/k+0/1UXvC3GjqvrltR4ZTN8natl6/KRlF5m/Jldfp7679b7/fyv3Udyte5fL7dseLZff25u72k/3V/+YbwY13zgt8555xzzrmwbAt+df4FlzSKPjZR0XVQ0XlbKw7aF3X1/OubzqsD++n0fg7aV6QFYHlxqcVgp2d6lRa+rYvRIp2uyyv+rcsq/7vX85QbZMGv85cX6Pq7Kn6QUZyuJtpGf9f1K//wQ+ctL6K7Lfhbb6/+Xmxb/nt5O11+633cacFf3DedLrf899Z/93pftJ5vd6tY7Fd90L5enuFvbdAFvw/a55xzzjnnXFzWBf8wRddBRedtrXhbvvJC/6qRhdqNS5al5bffNX4+vWWf3qd/0Lfl0wKwvLjUv8uL29a06Gz9ePkytMgqPl5euPZ7niItPItFbafzKJ2nOJ8WtOXFcfk6l7fXnxNto7RNcbrSdSqfpssottXllD9WNnRZuu3FglvnK/5e3k7blK9LkU4r33adv/h3+bI6/b3137ouxenlf+v6FperP1vPt7tFvS3fIG+V52f4nXPOOeecy1vHBf+aex8MH+BXkazoOqjo/FFXXXNdOv2ci8YX/LfctnOhrZfx65l9LfZ1Hp23vG2vlReNSotKLfDKlT8eLf7Kl6HFZLFdsdAd5DxF3Rb8+ntxOfp7cR6l7YqPtV5mcXrrojraRnZ5wVxUtrVdpwW/Ks6n8+hjxeWV/966Xfm6lK9ncZrSeYrTO11u+e+t/9ZlFKeX/62PF4Zuf+v56l70NTtoAy/4nXPOOeecc2EdF/wrVq4JH+BXkazoOqjo/J2ae83CxrP3WvBPn3lemn7meY0D9Ol39nWaPjboYt91T8/It/5QIEoL5PJi3T2/i75md+aX2jvnnHPOObcr67jgX3LzHeED/CqSFV0HFZ2/W3qpvn4/Xwfl05H4lf6u0wZ5Gb/Lm34oUH623T2/i75mnXPOOeecc7tHHRf8C667JXyAX0WyouugovO750/ll7wXL3uPzueen0Vfs835WX7nnHPOOed2VR0X/Jdcfm268+7qnxG/a/UDadZl13a8DtE2zrndo05fuztbkC6q4ij6PjK/c84555xzE9Zxwa+uuPrGdP8DG8IH+jnSZV9x1Q2hrebMbX5LPefc7tXlV14ffu1Wmd+GzznnnHPOud7quuBX19+0PHygnyNddmQWkb9W4Jzrv3kLbw6/duMyLNS92HfOOeecc67nJlzwq0U3LEv33Z/vmf5771+frl10a2iVW3rrqnB759zu0dJbV4Zfux0bZsHuxb5zzjnnnHN91dOCX102d1G6Y9W94YP+ftJlzL7iutBo7e57Hggvwzm3e3T36rXh1+6EXRKc1ql+zuucc84555wbr+cFf9Gcq65P191wa1p2211p9Zq14SKg3D1r1qVly+9K112/LF0+sm10mVHzrl0SXp5zbvfq6vlLwq/hrs0e/fNCNbKgv/DSeaN/jv199Hxjf46d1znnnHPOOddffS/4iXTk73vuXRcuLpxzu1f6wV/0deycc84555zbte2WC/7lt68OFxbOud0zvYon+lp2zjnnnHPO7bp2uwX/0lt8oD7nno8tvbnPA/g555xzzjnnKm23WfBfcvnCtOKONeFCwjn3/GjF7feMfC1fG36NO+ecc84559h2iwW/DtCng/tFCwjn3PMrfS3razr6WnfOOeecc85x4Qt+Pfs356obGguCm5bcnuWt/pxzu1/62tbX+DULlqQ5c6/3M//OOeecc87BtS34r5p3U7pl2Z1p5Z33pjX3rQ8fyDvnnHPOOeecc273rmnBv/jmleGZnHPOOeecc8459/xqfMF/5533hWdwzjnnnHPOOefc86/Ggv+mpbeHH3TOOeecc84559zzs9+be81N4Qecc84555xzzjn3/O33brntzvADzjnnnHPOOeece/72eyv9u/turPUbtqSHtz2annjiqfTUL55OTz/9THr2V79Ov/r1c84555xzzjnnnmf93r1+6709vs2bt6UnnvxFuIM455xzzjnnnHt+9nvRAtDtGT20aVv6+VO/DHcM55xzzjnnnHPP77zg30Pb8vAjfrm+c84555xzztU4L/j3wLY98li4MzjnnHPOOeecq09e8O9h/WyCxf4zz/4q7Xj852nL1kfSho1b07oHNzXaOPJ3nbbjiZ83zhNtO3i/Sc/+Sn/+2q86cM4555xzzrlMecG/B7V5y8/CnUA9/cyzjWf+tbiPti2n8+i82ia6rH56dmSRH53unHPOOeecc264vODfQ9Iz9J2emX/i579ID66feKHfmrZ54udPhZc5Ub9+Tov9+GPOOeecc84554bPC/49pCefit9279FHHw/P30+PbN8RXrZzzjnnnHPOuV2XF/x7QHr7veiTv+OJJ8PzD9KOx58MjbjfBKc555xzzjnnnMuZF/x7QNHL7vX++9F5i+5ZszZdceW8dNxxJ6RJk05s/F2nRect+vmT8asInHPOOeecc87xVbLgP+qoH6Qjv/Gd8GO7osvnXJ2unDs//BjVmnvXpZ9OmpL2/vt/Ti/701emv37Dm9J73//BdOyPfpruu399+s5R32+cHm07TA+u3xwe+V5H3I/Of/8DG9I3vnlUevVef5Ze9xd/ld75znc30t912teP/HbjPNG2usxWxznnnHPOOefcrin7gv+HP/pJY+H6uf/8UvjxXdEll16RfvLTKenqaxaGH6+6m29Zkd761n0a98uBB70vffFLX0uf+9wX0j/981sbp7397e9In//8FytZ8G99+NG2T7qOrh+dVx3+2c+nv/jLv04nnHhKWnXnmvHTV666p/Fs/+te9/r02c8e0bRNuf6P3L88HfWnR6dlTac9nC445JWN+6PRIRenzcXHbjt65+lNtV5GkS5/5/mOui06z2ibLzx05+WVzU5tuTh9pOv5tqSrv39E+tznS516R8ePH33NltLHRrr9tNK2p6UV5Y9NtG3R5vnp6O/PT5uij+Vo/DqOXD9Znz8mXb05OF9f3ZGmlS5nxakjl990v3VJ16fK2+ucc84559zzqKwL/t1xsV+0qxb9ehm8Fvt/+fo3posvvqzt4+eed1F69atfO77QbP34sD3+RPvv1u/Y8fPwvCeeOC299s/+Is2fv2j8tFV33tOo+Pe8+dc1znPi1Gnjp5XTZbd6ndq5wG5ZrI8s6ssL82XfHTnPd5fv/HhL+vhHLnw4+NjoDw7GP6YF+p8emi7Y0nq+kRo/SNh5PXoxJ/7BQPPCtbXmhazOe0SadvvYx1sWz5uuOaZpIdt121I6X8cfBgxd99s3eENcrhf8zjnnnHPOjZdtwV8s9j91+OfDj+8OacFNL/p//NPjG/fL2Wdf0PYxvYxfveOdB40uHkdqPc+wPfWLp9s+6Zs2/6ztfHfdfV/j2Xt9Hsunf+Yz/9l4NUL5NJ1H59U25dNVt/f6L9dY7Gux3FiEd3p2fqxu5+nzY51+ONB2epfLHf9hgH5IMOGCv/WZ+fLHmhe1jUX92CK+/Pf283fftnmbTn6GGj+UqOLy229fz3nB75xzzjnn3HhZFvzlxf4DazeG59ldohf9//qvb0v7vG3/8GPFIr9cdL5hil5iH73n/llnnZ9e8cq9Gi/db/1YazqPzhv9EEOX3ep1rZcFf5eFdacFvGr8UKH1WfrwsvSy/9Zn/kdfHdDtVwCiy2p65r3bgjhamI6ff/Tl+q3P2I8/W99129JpOl/TDwGafw1g2u3NC+vRHxrMHztP+YcLO7cZd3XZ5dMbTvtCvXF/jJ+vdP3C7Yvtous19vGx275Cp0XbTvTxTrfHOeecc865Gjb0gv97R/9wfLGqZ6qLg7x1KrqMnJ0587yunXHmuY0Fv5oLHMhPB7rT7+dHHyOKDti37sH2833/+z9Kf/t3f992+lHf/UGj1tP/5m/3Tscc819tp+uyW72uTbjgb3lZfrkJtt09FvwdFpdjC9PqFvytlzH67/LL+0cX4y0L65YFu6ydlzG6WB7/d5vZvFBvui9G2nTNyEJcf9f1b3Jar9sEC/6R6zB+3rH7ePw69fDxjrfHOeecc865mjX0gr84urw64B3PrwU/ceT+vV7z5z0d02DmWeeFC+hhe+bZX7V90jst+N/4pje3nX7ooZ9o1Hr6G974d+H1zfsM/9jB+zr8Lr0W9J2e3Ve7YsHfrcYCuFioa2Fa5YJf/y6fp/XjjbosrDs0fh3077bLLF1e6I3WdBlFTbdpggV/y21vuryJPt5St48555xzzjn3fC/LS/q/+rVvNBb8h33i08+bl/Rfdtnc8OO50wH73r7fO8KPlXvz3v/U0/n67Re/fKbtk75+w5a2851+xtmNz+Fty1c1nR4t+G9bvrJx3rPPbX9J/4aNW9u8rnVa8DdO77bg1oK8wwH4xuq44G/7AUKnBX/3y+93wd+0kO20aG+c1nnB3zit67aj/9YiuWkhG23T04J/9LqMv0qh7dnzDgv+0FPxbWu+rCoX/F1uj3POOeecczUr20H7ikX/7vx7/PRiX+l99nW/nHPuheHH1eTjpzbO84Mf/jj8+DA9+dQv2j7p0Xvw6y34dCA+vc9++fRowf+1r3+r40H7+n4v/mjBP8FL9RvpPBMttoMFefw7/8Gz+b1ch4EW/GOL2uAZ8PLCtv2Z59IieIJtWxfMjbQQbtlm9HK6LfjbF+dN16vbgj+4jkXtt20knX98oV7Vgn+C2+Occ84551zNyrbgV+VFf/TxXdmuWOwrvS3fW9767+n1f/WmdMFFlzZ9bPU9DzSOgaAD4P3bv+/bOG/54zna/tgTbZ90nRadVz94+NOXv6rp2AYLr7upUfHvK6+a1zjP1JNOHT+tXD9vy9coWFh3OxBfUfjsvdIifPzyRhfy45fVsIpn7Vs+1rRd6Uj8wcfGCxb8WkDuXJzOb1p0N32s7d9a5JYWo9FivLSQ7bqtFr0lp3ye8uK2cRldF/zNC++2y+i24C+eSS9dXrbf4R94wT/B7XHOOeecc65mZV3wq2LRvzu9F3/xHvz0Yr/o5ltWNBb9ul/eddB705e+/PX0kUMOS6957esap73hjX+bFi9ZFm47bFuCt8nTy/yj8+qVGe9613saz95fcGHzDyeUXsL/56/7y/SlrxzZ9rGiXwbvCtC1Dgt+3S+tlZ+B13nCl/u3Lc71cv3iMsov0W9Z8I/U+CFCcd7yDxMGXvBrYatF9Vhti/Dml5e3vcy9vH3LIrbbtroObZelGgv08jZdFtZjNU4b3+a0NK28uO664FfN17HpNrTcN82L7qoW/BPcHuecc84552pW9gW/+ua3vpuO/MZ3wo/tii6fc/UuW+wXrbl3bTruuBPS373578cXlX/5+jemzx/x5bR8xZ3hNjla9+Cm8Ej9er/86Py6nnpZv95dYO+//+fxgy3qemuxr9/1j7ZTfb+c3+WvbRHepX7O65xzzjnnnHveVcmC3+1ePfFk++/x61n+6Gj9Rfqdfr3EX+/CoCZNOrFxWnRepct6+uk+n9132dMz2L09Y93+knvnnHPOOedcvfKCfw/ooU3x78PvePzJ8PyDtOPxPn9338G1vLxeebHvnHPOOedcrfOCfw/p8SeeDHeARx99PDx/P+kyost2zjnnnHPOObfr8oJ/D0nvvf/Lp9vfk1898fOn0oPrN4XbdUvbPPHz9l8X6LXo2ALOOeecc8455/LkBf8elF7a32mR/fQzz6bNW+MD+UXpvNomuqx+evbXXvQ755xzzjnnXBV5wb+Hte1n28MdoejJp36RHtm+o/F2fhs2bm0c5V9t2LilcZpevq/zRNsO3m/Sr36lP3/tZ/2dc84555xzLlNe8O+BTbTod84555xzzjn3/M8L/j00vQ//M8/+KtwpnHPOOeecc849//OCfw9OB/J7bIffTs8555xzzjnn6pgX/K5xML8nnsz9e/nOOeecc84553ZlXvC78dZv2Jwe3vZoeuKJp9JTv3g6Pf30Mz6InnPOOeecc849T/OC3znnnHPOOeecq2Fe8DvnnHPOOeecczXMC37nnHPOOeecc66GecHvnHPOOeecc87VMC/4nXPOOeecc865GuYFv3POOeecc845V8N+b84VVyfnnHPOOeecc87Vq99LHo/H4/F4PB6Px+PxeGo3XvB7PB6Px+PxeDwej8dTw/GC3+PxeDwej8fj8Xg8nhqOF/wej8fj8Xg8Ho/H4/HUcLzg93g8Ho/H4/F4PB6Pp4bjBb/H4/F4PB6Px+PxeDw1HC/4PR6Px+PxeDwej8fjqeF4we/xeDwej8fj8Xg8Hk8Nxwt+j8fj8Xg8Ho/H4/F4ajhe8Hs8Ho/H4/F4PB6Px1PD8YLf4/F4PB6Px+PxeDyeGo4X/B6Px+PxeDwej8fj8dRwvOD3eDwej8fj8Xg8tZ6f/exnae7cuWn69Onpu9/9buNP/VunVzFbt25t5Ok8t912W1MTTb/n39Vz1VVXpVe96lXpv/23/9ZX2kbb5hov+D0ej8fj8Xg8Hg8yxUK4tSrnwQcfbCzyO6WP5xzdnmJRWvVtKy+A+6nXibbtpV6m1/NFM8y21Ayy2C/StrnGC36Px+PxeDwej8dT+TzyyCNNi8Jy+lgVs2zZsnCR35rOl2PKi/2iKhf9rVav9TrRtr3Uy/R6vmiG2fZ3v/td2rRpUyPNU089le69995G+nuuKS/gf///+f+O//1//Y//3/jfX/SCF4///X++5PfH/65yjRf8Ho/H4/F4PB6Pp9L5zW9+kx544IGmRWE5fUznyTkbN24cX9B3m+I8On+uKW5X1VO+D/up14m27aVepny+8rblH5C0/gClmPLf+5lnn302rVmzJt1+++2N7r///sYiv7j8Khb8WuynVx2eDvmfe6XXvvilaePhp6d/eumfpzf91d5p0aUr0ytfvlfa++BD0uk/T02L/lzjBb/H4/F4PB6Px+PJPtGz3Wr58uXp7rvvbqS/R+fJ8ay4fg+6vOAv/l6ufHrO35subkfVU77PyhUTfUz1OtG2vdTvFNtFn/fyfjTMPPHEE41F/l133ZW2b9+eHnvsscbfV61aNX75VT3Dr8X+f/9v/73x9/e85u/HT3/bv7yj8ed//+//vbHoL05XucYLfo/H4/F4PB6Px5N9ikVUOb1suvxMvv6u04qPl18FMOycfvrp4cK+XPl0nX+QiRapnW5Djh9klKdwWism+pjqdaJte6nf0TbFwr58H5VPG+Ryi9HBGbW99rXHH388rVy5Mt1xxx1p27ZtTftfVQv+1/9/dr50/+//fueC/1WveM343/fee+/xv6tc4wW/x+PxeDwej8fjyT7FIqpIz+hrtMjXoksVi399TOfRM6/Fon/Y6bSw73Z6v9NpIVrc5tbRaeUF7bBTOK0VE31M9TrRtr3U7xT3SXmBX/578bFBRr+rr8vRwRkffvjh8etYpI/rY8Xfc02xcP/D/+d/NF7Sf+j/fE1jsa95xzvekf72r/+h8ZJ+LfoPO+ywxul77bWXF/wej8fj8Xg8Ho9n95/WhdUvf/nL8HSNPhadPsz0+wz/ySef3Ph3r1MsSAdp0MVr65Qvc6Lp57zF9LNNP+ftNuX7ddj7qfjhkRbyGzZsGL/c1tatWzf+gwE9459jioW72ud/vLTx5xve8IbGx97+9rc3/q1Fv/782Mc+1jj9D//wD8e3yTVe8Hs8Ho/H4/F4PJ7s07qo0tHR9Qx+6+k6TR9rPX3Y6fd3+C+77LLGv3sdL/ibp5/zdptcC/5f/epXjd/R18v5daC+8vWL0nl0Xm2jbYedYuGuDjjggMafrQt+PdOvP73g93g8Ho/H4/F4PM+raV1QPffcc01HRC/SafpY6+nDTr9H6X/ooYfGTul9isVp63S6DTot12JfUzitFRN9TPU60ba91O8U90lxf+rP8t+Ljw0yv/jFL5quW7d03lxTLNy1iNdoUV9e8CuNTvOC3+PxeDwej8fj8TyvpnUxpd+f1uil08XbohW/Mx39bnWO6fV9+NWSJUvGtupvooVop9sw6KK105Tvr3LFRB9TvU60bS/1O9qmdYGvKZ82yOVqWhf8esm+fsikygfsU17wezwej8fj8Xg8Hk8PU15IFRWjl/CrYrqdd9jRAdmiBX6UfgiRY3Lfhk5Tvr/KFRN9TPU60ba91O8U20U/ECkW+4Ncrqb1VSXl39FvXfDrvLnGC36Px+PxeDwej8dT2ykvpMppAVccpb+8mGst5+h3s+fOnZumT5/eWNhPnTq18W+9LZue2S8v+vWqgGGnitsQTfn+6qdeJ9q2l3qZ8vnK25YX/a37RzHlv080u3rB/+pXv7rxby3q3/zmNzf+rt/pVxq9HV+x4Nd5veD3eDwej8fj8Xg8u/2U31O/37QtOXpmv7zoX7x48dhH+pvoBxjlBWzuabV6rdeJtu2lXqbX80XTz7Y6AJ8W9uWKaT09x8H6iikW7sWiv/h7+a33yn8vn0flGi/4PR6Px+PxeDweTyWjxe4g7Yop/77/DTfcMHZq/6PrXyx8q74thdNvvU60bS/1Mr2eL5phtqXmVa96VdMCvp+0ba7xgt/j8Xg8Ho/H4/F4RkbP7A+z2C9mV/7g4vky5R8Q9LKA7/f8u3r0tpCDLPq1jbbNNV7wezwej8fj8Xg8Ho/HU8Pxgt/j8Xg8Ho/H4/F4PJ4ajhf8Ho/H4/F4PB6Px+Px1HC84Pd4PB6Px+PxeDwej6eG4wW/x+PxeDwej8fj8Xg8NRwv+D0ej8fj8Xg8Ho/H46nheMHv8Xg8Ho/H4/F4PB5PDccLfo/H4/F4PB6Px+PxeGo4XvB7PB6Px+PxeDwej8dTw/GC3+PxeDwej8fj8Xg8nhqOF/wej8fj8Xg8Ho/H4/HUcLzg93g8Ho/H4/F4PB6Pp4bjBb/H4/F4PB6Px+PxeDw1HC/4PR6Px+PxeDwej8fjqeF4we/xeDwej8fj8Xg8Hk8Nxwt+j8fj8Xg8Ho/H4/F4ajhe8Hs8Ho/H4/GMzPY5h6bj/v0Facac7WOneDwej8fz/B4v+D0ej8czPqunviAdd8TstCcudxq3/d8np9Vj//bUaybet1ekWZUu9qu+fI/H4/F42scLfo/HA832tOgILajK5V1cjS7YDk2LHh07YTee0WcSd7/rmn/BH33ei3bh7X90dpqh6zB1xdgJXvD3NqOL1rbPZel+3F1non07/77fOtUv+BvfV7rehvavx47Xp/gaKdfx89y+X9A/2ChenVFu1sqxD7bOyskt5534e9GE923bZY5U6f7k8Xg8vY0X/B6Ph52xB0VVPBj0gn/4qWzBH1zmLv18ecHf94wvqNoWfcVib/e+76pf0E80FS/4i326020M9vnxRWrr5zT8Pj32eW67/LHTy5cxZlGL/mLfbFrgd/q/Zuz08nkn/H480X3b7f7y9xSPx7OLxwt+j8fDTqcHYXvYeME/MrvZvuAFf5fp4XO1eqoX/N2nogX/2OdmvPA2dv46bP9eNPHXbPtiuf1z3+n0Kmb7nNmh0/41PXbb2n5o1eH0nu7bkRk5X/Rqgt31+7zH49mzxgt+j8fDTqeFw9gzKHrQNPogbWejD6TGHpC1nb5zOi3YRh90lbY94tC2Z5/KD8zKfsNofdBX/lh5Ss9qtZrl87Zdn+A8O58d6vRxTft90teCpnjWaryR+6XDA/3Wz0n7A+ZO09/ioemZwfL93vDa75OdH2uZ4HPW0RmbTvtP+5Se0Wxx2vbrAfadoW53l2n/Ouh1Xyn2s14Xb8F+2cHbeZ+33Ma28/Z+mY3pad/u8zL7nF6+7xQz+OemPF2+1sr7bOu0fS10+XyP7Zs7998uZtt5O011n4e2r+ng676Y7l//3e7bzjP6efWC3+Px7Nrxgt/j8bAz9iCw7QFX6QF6+QFieaHZfnrzg7POp7U84Aoe9JUfcLc9QNV1bn2gHD2YLd2G9stuvg5dHwhG91GnB+VND0C7PKhvnfDzEF1mF6enB7+dHih3OL10H7bfDrmtD8iD2xx8btru72Af6P6AvzxjZqsbXOYg+87At7vLtN+2sfu/l9tbXLcerdHLbt2348/36PVqvR7Rbev9Mvvbt3u8zD6n1+87417L56H3fbE83a57t/0l+NjYfdh8G6LL73K54e2NpqrPw9h1K19G9LU3Nt0X5wNcn3A/9Hg8Hn684Pd4POx0ehA09uCw7YFYH6e3PUjutO3YA8Hydej+YC+asQeA5Qe6HR/g9uMFlzs2TbevozWy/ZzoQX15JjBKD2o7Xs+OfuuMWSPnDWu9Dj1f7s4ZvY47P+8dF0srZ++8HYHT+yKr8yKnt8voZ9/pPK23u+N0XOR0WayVZ4DrFk7jejTvS53ur/5uW/kye9+3O05wPfuasfurl+87Ha2B7vOx2x7exm4f67QfjJ1eqv36dNmHht1vhvw8jO5D0f0dfW6K83fyut1/5Rk7n+6Tnr6XeDweT/XjBb/H42Fn7AFX24PATg+S+zi9dfHQ+QFc+wPv7g/2NO0Pfhv1tGhrf1Dc0et0ezVND4B3Xp/wvN2m4/VsXxR1XiR1eaDfND0sNMoPjLtct2JGP8+ttX7eR07r9uA8cFr3n87T+bbHn9edn6umetp3ds5Et7vTjF6n6Hw9LmJ6uG7RjH8emmq+bzrd552+Pia8zD727WJ6uZ79TKfrXuwHbftceP+PfW4m/PoqzwSfzw7fe8dvf9lqXRiP/bvtfN2+D/S532T9PBTXt/W+aL1dpen8edP0+LXSNGP3TV/beDweT/7xgt/j8bDT4UFn8eCw7YFYH6e3Lh46LSaiB97dHuyFD4iLB4Dl0zo+wG1/UNzRKz+wDitvM3a5TU28AOz2oLd5AdLtQW6vD4B7W4SMX5dui4Sxj7XextH7MjpN591Z02UGTuf9pXW6LHIat2fn52j4fWdk+rjd0XS7XT3d5sKPbm84xX7Zsn+33DeaTn7710ePl9nzvq3p/Xr2M53v01Fv5+d4bD9oXIcO9Xyfa3r4mhzfl3Y2Y+rkln2v8/5d7M+9nLfrPt00mT8PY/tAeD902T/a97ny9Pr9rmW6eB6Px0ONF/wej4edsQdAbQ8Cxx4ctj0w6uP01gfanRdErQ+8uz3Y6/SAtp9FW/tldPQ63d5eptsD3fJ0MVoXRe2LpGK6PNBvmgkeKLfuDx3vw84Lqc6f52J2LqzGb3PgdF6otU7n2978ec2x7wxzu0en8/l6XcQU918v903hBft243PdfHr327bzvD1fZh/7dj/Xs5/pfH+P7g9t+9yE93+v0+vns2U63IfRvlh8bOe+28Uc+9qe6HtZ1s/DmNnxPhjg62x0Brxvu92XHo/HA40X/B6Ph52xB2RtD4A6PVDv4/S2B2wdH3C2P/Du+KCz4wO2sQeAPS3agoVfxweznReTTTNiLQoeSHd/0FpMZ6PnRVHH29o6EzxQbv0cTXR/B5fTusBaPSewWi83cHq77zQ93n8T3Zae9p3eb3fHmeDrYMJ9TdPp67Y0xVujdbwfg32+03lb97veL7P3fbuf69nXTHB/l+/Djl9fA80EX2vhBPtit/0i2E877Ye97p+5Pg+jXofrPT7R7dV0Or2Y7vdtx7ek7LgveDweDzde8Hs8HnbGHgC1LRzGHki2PTDq4/T2B47Rg7Sx01quQ+cH3t0vo+kBYsdFW/AAuuN5R2bsPmp/8KnLGbt94fZdHqi3THR7xx8wh7e1fL+OOT0tLKL7b2zGbkPTx7rcL12vc+n6RQuItm0Dp+PCo23i+7m4Ljv3yRz7TnDdRya63d1m9LaVLyP6vHafcTPcL0uXFS1yin265XZ0us/bbnMfl9n1/ip/Lvq4zP6m++e9+XNcnN7u6TpH+0Pnidxu0/nruLi/mv2Wz/P4BF8PXfbntsnweYivb4cJvGifaZ7u9+3oftxyG6Lvbx6Px7MLxgt+j8cDzc4HvDsrPXAce3DU9IBJ08fp8eKh1dWDutEHqOUHh90f8EWXMXZaTw9ygwfEmvEHtaM138biwXVzTZfdsn3bxyeY4kFyedvGfRg8QC0e0I7XtujrNNHnfWdt17fjfTg60XUePa38eZ9gX9METqfFZ/vEn5t4/xl23xmd3m5392m9jMEWIh1u+wT7duPjjdOa76NO9/nodW25P3u8TE10f4X7dh+X2d9En/f27zvFtH1uGvX4uW29DaWav6e0f120fV8tz9g+WT5/2+d5fNr3i66X3TpDfR6ir/fm2u7ztvusw33d830bfI8cqdPXs8fj8ZDjBb/H49nzZuyBbF8PSD2e8Rlb3HRc/Hg8Ho/H4/HsHuMFv8fjqfXoWZfwmRi/zNIz8HjB7/F4PB6P5/kxXvB7PJ5aT/QySy/UPMONF/wej8fj8XieH+MFv8fj8Xg8Ho/H4/F4PDUcL/g9Ho/H4/F4PB6Px+Op4XjB7/F4PB6Px+PxeDweTw3HC36Px+PxeDwej8fj8XhqOF7wezwej8fj8Xg8Ho/HU8Pxgt/j8Xg8Ho/H4/F4PJ4ajhf8Ho/H4/F4PB6Px+Px1HC84Pd4PB6Px+PxeDwej6eG4wW/x+PxeDwej8fj8Xg8NRwv+D0ej8fj8Xg8Ho/H46nheMHv8Xg8Ho/H4/F4PB5PDccLfo/H4/F4PB6Px+PxeGo4XvB7PB6Px+PxeDwej8dTw/GC3+PxeDwej8fj8Xg8nhqOF/wej8fj8Xg8Ho/H4/HUcLzg93g8Ho/H4/F4PB6Pp4bjBb/H4/F4PB6Px+PxeDw1HC/4PR6Px+PxeDwej8fjqeF4we/xeDwej8fj8Xg8Hk8Nxwt+j8fj8Xg8Ho/H4/F4ajhe8Hs8Ho/H4/F4PB6Px1PD8YLf4/F4PB6Px+PxeDyeGo4X/B6Px+PxeDwej8fj8dRwvOD3eDwej8fj8Xg8Ho+nhuMFv8fj8Xg8Ho/H4/F4PDUcL/g9Ho/H4/F4PB6Px+Op4XjB7/F4PB6Px+PxeDweTw3HC36Px+PxeDwej8fj8XhqOF7wezwej8fj8Xg8Ho/HU8Pxgt/j8Xg8Ho/H4/F4PJ4ajhf8Ho/H4/F4PB6Px+Px1HC84Pd4PB6Px+PxeDwej6eG4wW/x+PxeDwej8fj8Xg8NRwv+D0ej8fj8Xg8Ho/H46nheMHv8Xg8Ho/H4/F4PB5PDccLfo/H4/F4PB6Px+PxeGo4XvB7PB6Px+PxeDwej8dTw/GC3+PxeDwej8fj8Xg8nhqOF/wej8fj8Xg8Ho/H4/HUcLzg93g8Ho/H4/F4PB6Pp4bjBb/H4/F4PB6Px+PxeDw1HC/4PR6Px+PxeDwej8fjqeF4we/xeDwej8fj8Xg8Hk8Nxwt+j8fj8Xg8Ho/H4/F4ajhe8Hs8Ho/H4/F4PB6Px1PD8YLf4/F4PB6Px+PxeDyeGo4X/B6Px+PxeDwej8fj8dRwvOCveLY9/qvKIxzCUIRDGIpwCEMRDmEowqmLoQiHMBThEIYiHMJQhEMYinDqYijCIQxFOIShCIcwFOEQhiIcwlAedrzgr3iinTx3hEMYinAIQxEOYSjCIQxFOHUxFOEQhiIcwlCEQxiKcAhDEU5dDEU4hKEIhzAU4RCGIhzCUIRDGMrDjhf8FU+0k+eOcAhDEQ5hKMIhDEU4hKEIpy6GIhzCUIRDGIpwCEMRDmEowqmLoQiHMBThEIYiHMJQhEMYinAIQ3nY8YK/4ol28twRDmEowiEMRTiEoQiHMBTh1MVQhEMYinAIQxEOYSjCIQxFOHUxFOEQhiIcwlCEQxiKcAhDEQ5hKA87XvBXPNFOnjvCIQxFOIShCIcwFOEQhiKcuhiKcAhDEQ5hKMIhDEU4hKEIpy6GIhzCUIRDGIpwCEMRDmEowiEM5WHHC/6KJ9rJc0c4hKEIhzAU4RCGIhzCUIRTF0MRDmEowiEMRTiEoQiHMBTh1MVQhEMYinAIQxEOYSjCIQxFOIShPOx4wV/xRDt57giHMBThEIYiHMJQhEMYinDqYijCIQxFOIShCIcwFOEQhiKcuhiKcAhDEQ5hKMIhDEU4hKEIhzCUhx0v+CueaCfPHeEQhiIcwlCEQxiKcAhDEU5dDEU4hKEIhzAU4RCGIhzCUIRTF0MRDmEowiEMRTiEoQiHMBThEIbysOMFf8UT7eS5IxzCUIRDGIpwCEMRDmEowqmLoQiHMBThEIYiHMJQhEMYinDqYijCIQxFOIShCIcwFOEQhiIcwlAedrzgr3iinTx3hEMYinAIQxEOYSjCIQxFOHUxFOEQhiIcwlCEQxiKcAhDEU5dDEU4hKEIhzAU4RCGIhzCUIRDGMrDjhf8FU+0k+eOcAhDEQ5hKMIhDEU4hKEIpy6GIhzCUIRDGIpwCEMRDmEowqmLoQiHMBThEIYiHMJQhEMYinAIQ3nY8YK/4ol28twRDmEowiEMRTiEoQiHMBTh1MVQhEMYinAIQxEOYSjCIQxFOHUxFOEQhiIcwlCEQxiKcApj48atbR/LWeFUGWEoDzte8Fc80U6eO8IhDEU4hKEIhzAU4RCGIpy6GIpwCEMRDmEowiEMRTiEoQinLoYiHMJQhEMYinAIQ1Xu7Hg2PXTHDemib34oTd73JWnr9l/G58tQ5bdlJMJQHna84K94op08d4RDGIpwCEMRDmEowiEMRTh1MRThEIYiHMJQhEMYinAIQxFOXQxFOIShCIcwFOEQhqrKeWjTz9Kic05I0w95Yzru318w3urbbgnPn6Oqbks5wlAedrzgr3iinTx3hEMYinAIQxEOYSjCIQxFOHUxFOEQhiIcwlCEQxiKcAhDEU5dDEU4hKEIhzAU4RCGyu1oQT/7mE+n4/f7g6aFftFNF00Pt8tR7tsSRRjKw44X/BVPtJPnjnAIQxEOYSjCIQxFOIShCKcuhiIcwlCEQxiKcAhDEQ5hKMKpi6EIhzAU4RCGIhzCUDmcLT/7eVpy6ZnpjP/43+Eiv9zlx342vIwc5bgtE0UYysOOF/wVT7ST545wCEMRDmEowiEMRTiEoQinLoYiHMJQhEMYinAIQxEOYSjCqYuhCIcwFOEQhiIcwlDDOPevvifNnfy1dMI7Xxou7qPO+OQ/hZeVo2FuS68RhvKw4wV/xRPt5LkjHMJQhEMYinAIQxEOYSjCqYuhCIcwFOEQhiIcwlCEQxiKcOpiKMIhDEU4hKEIhzBUv44Ourfs6lnp3C8cEC7oJ2rSPi+q7MB9/d6WQSIM5WHHC/6KJ9rJc0c4hKEIhzAU4RCGIhzCUIRTF0MRDmEowiEMRTiEoQiHMBTh1MVQhEMYinAIQxEOYahenQfXbUjzph2dTnrfa8KFfD+tXn5raAxbr7dlmAhDedjxgr/iiXby3BEOYSjCIQxFOIShCIcwFOHUxVCEQxiKcAhDEQ5hKMIhDEU4dTEU4RCGIhzCUIRDGKqrs+PZdMcN89NF3/xgmvS2F4eL90Gq6sB9XW9LpghDedjxgr/iiXby3BEOYSjCIQxFOIShCIcwFOHUxVCEQxiKcAhDEQ5hKMIhDEU4dTEU4RCGIhzCUIRDGCpyGm+pd9bx6dQP/3W4YJ+oqe95dZp/6g/S5f/1+fDjl//oc21mjqLbkjvCUB52vOCveKKdPHeEQxiKcAhDEQ5hKMIhDEU4dTEU4RCGIhzCUIRDGIpwCEMRTl0MRTiEoQiHMBThEIYqO3cvu7nrW+pNlH6vX7/fX/yO/vJrrwzPV9WB+8q3paoIQ3nY8YK/4ol28twRDmEowiEMRTiEoQiHMBTh1MVQhEMYinAIQxEOYSjCIQxFOHUxFOEQhiIcwlCEQxjqt8/9Oi2+5Iye3lIv6oR3vSxdOemrjSP2t172+gcfCrep6sB9xH1GGMrDzp6x4H90dprR9MU4Oa0e+5Bm+5xDSx8ba+qKsY9qVqRZpY/NWjl28tg0bX/E7LR97HRNtJPnjnAIQxEOYSjCIQxFOIShCKcuhiIcwlCEQxiKcAhDEQ5hKMKpi6EIhzAU4RCGIpyqDS3QtVCfeuCf7nyM3kdnfPKfGz8o0HvwR5dfdNJ79gq3X33bLeH5h6nq+0wRhvKws2cs+FdOTjPm7FyGr5468sVYWpg3FuwtC/Wdsz0tOuIFO7dv/PDg0LTo0dF/6rLLP0BoXHbphwXRTp47wiEMRTiEoQiHMBThEIYinLoYinAIQxEOYSjCIQxFOIShCKcuhiIcwlCEQxiKcKo01qy8Ix23zwvbFuETNXm/30+zf/CpdPeypeHlRl3w9feHl1XFgfuqvM+KCEN52NkzX9LfskjvuuBvLPDLrwho/gGAFvjlHya0Xna0k+eOcAhDEQ5hKMIhDEU4hKEIpy6GIhzCUIRDGIpwCEMRDmEowqmLoQiHMBThEIYinCqNmYf/a9Pie6J08D4dxE8H84sur1vzpx8TXublx342PP8wVXmfFRGG8rCzRy74Wxf4bS/pL7+cv2UBr9n5LH7Ls/+allcARDt57giHMBThEIYiHMJQhEMYinDqYijCIQxFOIShCIcwFOEQhiKcuhiKcAhDEQ5hKMKpyrjlivObH9N3SW/Hd/uia8LL6bUVCzsduO+fw/MPU1X3WTnCUB529rwFf+tL8ttm9Pf1xxfxWvC3PPvfuuBv+p3+CS/f4/F4PB6Px+Px5Jz/89yv0rSD/yxcgBed8v7XpKUzf5h++djDY1sNN0/v+Fno6MB9/+9v/8/YuTyeXTt71oK/sRhvP+he6zSe8S+e5fcz/I0IQxEOYSjCIQxFOIShCKcuhiIcwlCEQxiKcAhDEQ5hKMKpi6EIhzAU4RCGIpwqjGtOOqpt4V10zn++Pd069+Jwu2HTDxEic/XyZeH5B62K+6w1wlAedvacBX+Pi31N04K/sZ1/h58wFOEQhiIcwlCEQxiKcOpiKMIhDEU4hKEIhzAU4RCGIpy6GIpwCEMRDmEowsltrL33/rYFd5F+Rz/aJleXH/Wh0L3p4tPC8w9a7vssijCUh509Y8Hf9WX2Iwv4qeWX7I++pH/nDwZansVvvayWBf7OZ/9HJ9rJc0c4hKEIhzAU4RCGIhzCUIRTF0MRDmEowiEMRTiEoQiHMBTh1MVQhEMYinAIQxFObuO8Lx/YtuAuuv26q8JtcnXzOT8O3dwH7st9n0URhvKws0cs+NsOyjdWsahvLNJLpzc9Y98Yvw8/YSjCIQxFOIShCIcwFOHUxVCEQxiKcAhDEQ5hKMIhDEU4dTEU4RCGIhzCUIST01ixcO7Ox+EtXXLku8Ntcrb+1vmhfcYn/yk8/6DlvM86RRjKw86ed9A+eKKdPHeEQxiKcAhDEQ5hKMIhDEU4dTEU4RCGIhzCUIRDGIpwCEMRTl0MRTiEoQiHMBTh5DK2bv9lOvUjbwgX3JP3fUl6cttD4XY563bgPl2/aJtBynWfdYswlIcdL/grnmgnzx3hEIYiHMJQhEMYinAIQxFOXQxFOIShCIcwFOEQhiIcwlCEUxdDEQ5hKMIhDEU4uYyFZ/40XGyra07+bjanW5qT3rNXeB1WL7813GaQNNHpOSMM5WHHC/6KJ9rJc0c4hKEIhzAU4RCGIhzCUIRTF0MRDmEowiEMRTiEoQiHMBTh1MVQhEMYinAIQxFODmP9+k1pygF/FC60T37fa9PmbU9kcSZKc8HX3x9ej5suynfgPk10es4IQ3nY8YK/4ol28twRDmEowiEMRTiEoQiHMBTh1MVQhEMYinAIQxEOYSjCIQxFOHUxFOEQhiIcwlCEk8O49OhPhItsdcuVFzbOk8OZKM386ceE1yPngfs00ek5IwzlYccL/oon2slzRziEoQiHMBThEIYiHMJQhFMXQxEOYSjCIQxFOIShCIcwFOHUxVCEQxiKcAhDEc6whl4qHy2w1czD/3X8fMM6vaRZfu2V4XXJeeA+TXR6zghDedjxgr/iiXby3BEOYSjCIQxFOIShCIcwFOHUxVCEQxiKcAhDEQ5hKMIhDEU4dTEU4RCGIhzCUIQzlLHj2cZCOlpgH7fPC9OalXeMn3cop8c0D67bGF6fnAfu00Sn54wwlIcdL/grnmgnzx3hEIYiHMJQhEMYinAIQxFOXQxFOIShCIcwFOEQhiIcwlCEUxdDEQ5hKMIhDEU4wxg3XXxauLhWV/z0i03nHcbptcKo+sB9hVNlhKE87HjBX/FEO3nuCIcwFOEQhiIcwlCEQxiKcOpiKMIhDEU4hKEIhzAU4RCGIpy6GIpwCEMRDmEowhnUeGjzI+nEA18eLqx1uj5ePv+gTj8VRtUH7iucKiMM5WHHC/6KJ9rJc0c4hKEIhzAU4RCGIhzCUIRTF0MRDmEowiEMRTiEoQiHMBTh1MVQhEMYinAIQxHOoMYVP/1SuKhWeua/9fyDOv1UGB0P3Pejz7VtM0iFU2WEoTzseMFf8UQ7ee4IhzAU4RCGIhzCUIRDGIpw6mIowiEMRTiEoQiHMBThEIYinLoYinAIQxEOYSjCGcS4/+67G7+jHy2qGwfH2/Fs2zaDOP1WGJ0P3PfPbdsMUuFUGWEoDzte8Fc80U6eO8IhDEU4hKEIhzAU4RCGIpy6GIpwCEMRDmEowiEMRTiEoQinLoYiHMJQhEMYinAGMc7+/L7hglp1+j35QZx+K4yqD9xXOFVGGMrDjhf8FU+0k+eOcAhDEQ5hKMIhDEU4hKEIpy6GIhzCUIRDGIpwCEMRDmEowqmLoQiHMBThEIYinH6NW+deHC6m1aXf/2S4jerXGaSyUeWB+8pOVRGG8rDjBX/FE+3kuSMcwlCEQxiKcAhDEQ5hKMKpi6EIhzAU4RCGIhzCUIRDGIpw6mIowiEMRTiEoQinH2PztifSye97bbiQnnLAH6X16zeF26l+nEErG1UeuK/sVBVhKA87XvBXPNFOnjvCIQxFOIShCIcwFOEQhiKcuhiKcAhDEQ5hKMIhDEU4hKEIpy6GIhzCUIRDGIpw+jHmTTs6XESr62ZOCrcp6scZtLJR5YH7yk5VEYbysOMFf8UT7eS5IxzCUIRDGIpwCEMRDmEowqmLoQiHMBThEIYiHMJQhEMYinDqYijCIQxFOIShCKdXY90DD6bJ+74kXESf+pE3TPi78b06w1Q2qjxwX9mpKsJQHna84K94op08d4RDGIpwCEMRDmEowiEMRTh1MRThEIYiHMJQhEMYinAIQxFOXQxFOIShCIcwFOH0alz0jQ+EC2i18sZrw23K9eoMU9mo8sB9ZaeqCEN52PGCv+KJdvLcEQ5hKMIhDEU4hKEIhzAU4dTFUIRDGIpwCEMRDmEowiEMRTh1MRThEIYiHMJQhNOLsWJh/Gy5uuS7Hwu3aa0XZ9hajRPe9bLwOt9z+/Km8/Vbq1NFhKE87HjBX/FEO3nuCIcwFOEQhiIcwlCEQxiKcOpiKMIhDEU4hKEIhzAU4RCGIpy6GIpwCEMRDmEowpnI0LPh0z74l+HCeaID9ZWbyMlRq3H+V98dXu/Fs05vOl+/tTpVRBjKw44X/BVPtJPnjnAIQxEOYSjCIQxFOIShCKcuhiIcwlCEQxiKcAhDEQ5hKMKpi6EIhzAU4RCGIpyJjIVn/jRcNKtrT/9xuE3URE6OWo15p8QHGZzz4yOaztdvrU4VEYbysOMFf8UT7eS5IxzCUIRDGIpwCEMRDmEowqmLoQiHMBThEIYiHMJQhEMYinDqYijCIQxFOIShCKeboWfv9Sx+tGjWs/5bH3kq3C6qm5OrVuO2+ZeH1/3MT72l6Xz91upUEWEoDzte8Fc80U6eO8IhDEU4hKEIhzAU4RCGIpy6GIpwCEMRDmEowiEMRTiEoQinLoYiHMJQhEMYinC6GZce/YlwwayWL5gTbtOpbk6uWg29s0B03fVuA8McuK/VqSLCUB52vOCveKKdPHeEQxiKcAhDEQ5hKMIhDEU4dTEU4RCGIhzCUIRDGIpwCEMRTl0MRTiEoQiHMBThdDJWL781XCyr8758YLhNtzo5OYuMKg7cFzm5IwzlYccL/oon2slzRziEoQiHMBThEIYiHMJQhFMXQxEOYSjCIQxFOIShCIcwFOHUxVCEQxiKcAhDEU5o7Hg2nfHJfwoXypPe9uK09t7727eZoNDJXGRUceC+yMkdYSgPO17wVzzRTp47wiEMRTiEoQiHMBThEIYinLoYinAIQxEOYSjCIQxFOIShCKcuhiIcwlCEQxiKcCJj8awZ4SJZXXXCN9rO30uRk7vIqOLAfZGTO8JQHna84K94op08d4RDGIpwCEMRDmEowiEMRTh1MRThEIYiHMJQhEMYinAIQxFOXQxFOIShCIcwFOG0Gg9tfiSdeODLw0Xy1Pe8Om3a+ljT+Xut1amiyKjiwH2RkzvCUB52vOCveKKdPHeEQxiKcAhDEQ5hKMIhDEU4dTEU4RCGIhzCUIRDGIpwCEMRTl0MRTiEoQiHMBThtBpXHvflcIGsls4+u+m8/dTqVFFkVHHgvsjJHWEoDzte8Fc80U6eO8IhDEU4hKEIhzAU4RCGIpy6GIpwCEMRDmEowiEMRTiEoQinLoYiHMJQhEMYinDKxv133934Hf1ogTzz8H9t2q7fyk5VdTJyH7ivk5MzwlAedrzgr3iinTx3hEMYinAIQxEOYSjCIQxFOHUxFOEQhiIcwlCEQxiKcAhDEU5dDEU4hKEIhzAU4ZSNsz+/b7gwVmtW3tG0Xb+VnarqZOQ+cF8nJ2eEoTzseMFf8UQ7ee4IhzAU4RCGIhzCUIRDGIpw6mIowiEMRTiEoQiHMBThEIYinLoYinAIQxEOYSjCKYxlV88KF8XqsmM/07ZdvxVOlXUych+4r5OTM8JQHna84K94op08d4RDGIpwCEMRDmEowiEMRTh1MRThEIYiHMJQhEMYinAIQxFOXQxFOIShCIcwFOFotj7yVDr5fa8NF8UnvPOlaePGreG2/aSJTs9ZJyP3gfs6OTkjDOVhxwv+iifayXNHOIShCIcwFOEQhiIcwlCEUxdDEQ5hKMIhDEU4hKEIhzAU4dTFUIRDGIpwCEMRjmb+qT8IF8Tq+nNODLfrN010es46GbkP3NfJyRlhKA87XvBXPNFOnjvCIQxFOIShCIcwFOEQhiKcuhiKcAhDEQ5hKMIhDEU4hKEIpy6GIhzCUIRDGIpwfrF9a5q83++HC+JTP/KG9PBjT4fb9RtxW7oZOQ/c183JFWEoDzte8Fc80U6eO8IhDEU4hKEIhzAU4RCGIpy6GIpwCEMRDmEowiEMRTiEoQinLoYiHMJQhEMYinCuOPqj4UJYrbzx2nCbQSJuSzcj54H7ujm5IgzlYccL/oon2slzRziEoQiHMBThEIYiHMJQhFMXQxEOYSjCIQxFOIShCIcwFOHUxVCEQxiKcAhDVe1oQR8tgtVF3/xQuM2gVX1bVDcj54H7ujm5IgzlYccL/oon2slzRziEoQiHMBThEIYiHMJQhFMXQxEOYSjCIQxFOIShCIcwFOHUxVCEQxiKcAhDVenopfp6yX60CNZL/PV779F2g1blbSnqZtw277Lwtg5y4L5uTq4IQ3nY8YK/4ol28twRDmEowiEMRTiEoQiHMBTh1MVQhEMYinAIQxEOYSjCIQxFOHUxFOEQhiIcwlBVOtefe2K4AFbzp30/3GaYqrwtRd2MnAfu6+bkijCUhx0v+CueaCfPHeEQhiIcwlCEQxiKcAhDEU5dDEU4hKEIhzAU4RCGIhzCUIRTF0MRDmEowiEMVZWzcdO2jgexO+Xg16UtP/t5uN0wVXVbyk1kTH33q8Lb3O+B+yZyckQYysOOF/wVT7ST545wCEMRDmEowiEMRTiEoQinLoYiHMJQhEMYinAIQxEOYSjCqYuhCIcwFOEQhqrKuXLSV8OFr1p29SXhNsNW1W0pN5Fx/lffE97mxZecEZ6/UxM5OSIM5WHHC/6KJ9rJc0c4hKEIhzAU4RCGIhzCUIRTF0MRDmEowiEMRTiEoQiHMBTh1MVQhEMYinAIQ1XhPLDm3jTpbS8OF75nf37fcJscVXFbWpvIyHXgvomcHBGG8rDjBX/FE+3kuSMcwlCEQxiKcAhDEQ5hKMKpi6EIhzAU4RCGIhzCUIRDGIpw6mIowiEMRTiEoapwdPT9aNGr1tyxItwmR1XcltYmMm6bf3l4u8/89L+E5+/URE6OCEN52PGCv+KJdvLcEQ5hKMIhDEU4hKEIhzAU4dTFUIRDGIpwCEMRDmEowiEMRTh1MRThEIYiHMJQuZ27ly0NF7zqku99PNwmV7lvS9RERq4D903k5IgwlIcdL/grnmgnzx3hEIYiHMJQhEMYinAIQxFOXQxFOIShCIcwFOEQhiIcwlCEUxdDEQ5hKMIhDJXb0VvQdVrwrn/woXCbXOW+LVG9GJ0OVtjPgft6cYaNMJSHHS/4K55oJ88d4RCGIhzCUIRDGIpwCEMRTl0MRTiEoQiHMBThEIYiHMJQhFMXQxEOYSjCIQyV07l5znnhQlddM/U74TY5y3lbOtWLcf5X3x3eB4tnnR6eP6oXZ9gIQ3nY8YK/4ol28twRDmEowiEMRTiEoQiHMBTh1MVQhEMYinAIQxEOYSjCIQxFOHUxFOEQhiIcwlC5nC2PPJlOfv+fhQvdk979yrRp62PhdjnLdVu61YuR48B9vTjDRhjKw44X/BVPtJPnjnAIQxEOYSjCIQxFOIShCKcuhiIcwlCEQxiKcAhDEQ5hKMKpi6EIhzAU4RCGyuUsPP0n4SJXrbqi92e2hynXbelWL8Zt8y4L7wf9ukN0/qhenGEjDOVhxwv+iifayXNHOIShCIcwFOEQhiIcwlCEUxdDEQ5hKMIhDEU4hKEIhzAU4dTFUIRDGIpwCEPlcDZs3JKmHPBH4SJ3+iFvSv/3//1duF3uctyWierFyHHgvl6cYSMM5WHHC/6KJ9rJc0c4hKEIhzAU4RCGIhzCUIRTF0MRDmEowiEMRTiEoQiHMBTh1MVQhEMYinAIQ+Vw9FL1aIGrli+4IovRS4TTqzHsgft6dYaJMJSHHS/4K55oJ88d4RCGIhzCUIRDGIpwCEMRTl0MRTiEoQiHMBThEIYiHMJQhFMXQxEOYSjCIQw1rPPAmnvTpH1eFC5uz/rsPo3zDGv0GuH0agx74L5enWEiDOVhxwv+iifayXNHOIShCIcwFOEQhiIcwlCEUxdDEQ5hKMIhDEU4hKEIhzAU4dTFUIRDGIpwCEMN61zwtfeGC1tVPJs9rNFrhNOrMeyB+3p1hokwlIedPWPB/+jsNKPpi2tyWj32odHZnhYdsfPjM+ZsHzu9mBVpVmn7WSvHTh6b7XMOHf/YcUfMHrm0nRPt5LkjHMJQhEMYinAIQxEOYSjCqYuhCIcwFOEQhiIcwlCEQxiKcOpiKMIhDEU4hKGGcVYtuX7nY+KWLv3+J8fPN4zRT4TTqzHsgft6dYaJMJSHnT1jwb9yctMifvXUkS+w0sK88e+pK8b+Nbq437moH/1hwPj2jR8eHJoWPTr6T112+QcIzZe1530zGzbCIQxFOIShCIcwFOHUxVCEQxiKcAhDEQ5hKMIhDEU4dTEU4RCGIhzCUIM6D+94Js04bO+2Ba06fr8/SOsffGj8vIMa/UY4vRrrHlgX3je9HrivV2eYCEN52NkzX9LftEjXAr+0gB+ZpkV7Y4FffkVA8w8AdN6mVwS0/AAg2slzRziEoQiHMBThEIYiHMJQhFMXQxEOYSjCIQxFOIShCIcwFOHUxVCEQxiKcAhDDeosuXRm00K23DUnf7fpvIMa/UY4/RjDHLivH2fQCEN52NkjF/yNl+AXz/C3PmM/Mk0fb1nAa3b+QKDl2X9Ny+VFO3nuCIcwFOEQhiIcwlCEQxiKcOpiKMIhDEU4hKEIhzAU4RCGIpy6GIpwCEMRDmGoQZzN255IJ71nr7aFrDrxoFc0Pl4+/yDGIBFOP8YwB+7rxxk0wlAedva8BX/rAr/tGfxgwd/ye/mtC/6m3+kPfoDg8Xg8Ho/H4/HUdW4+58fhQlbdOffMsXN5ls78YXgfXTvlS2Pn8Hjyz5614G8sxideoPsZ/vYIQxEOYSjCIQxFOIShCKcuhiIcwlCEQxiKcAhDEQ5hKMKpi6EIhzAU4RCG6tfZsHFL43f0o4Xs9EPelB5+7Om2bfo1Bo1w+jGGOXBfP86gEYbysLPnLPijxX5j/Dv8vUQYinAIQxEOYSjCIQxFOHUxFOEQhiIcwlCEQxiKcAhDEU5dDEU4hKEIhzBUv85lPzy8bQFbtGLhleE2/RqDRjj9GMMcuK8fZ9AIQ3nY2TMW/MGz+OVpWuD7KP1hhKEIhzAU4RCGIhzCUIRTF0MRDmEowiEMRTiEoQiHMBTh1MVQhEMYinAIQ/Xj3HfXXWnSPi9qW8Cqc79wQLiN6scYJsLp1xj0wH39OoNEGMrDzh6x4G96n/xSrYv64vSmZ+wb4/fhJwxFOIShCIcwFOEQhiKcuhiKcAhDEQ5hKMIhDEU4hKEIpy6GIhzCUIRDGKofR4v68cfALemHAdE2qh9jmAinX2PQA/f16wwSYSgPO3veQfvgiXby3BEOYSjCIQxFOIShCIcwFOHUxVCEQxiKcAhDEQ5hKMIhDEU4dTEU4RCGIhzCUL06KxbODReuavYxnw63KerVGDbC6deYd8rR4X0258dHhOcv6tcZJMJQHna84K94op08d4RDGIpwCEMRDmEowiEMRTh1MRThEIYiHMJQhEMYinAIQxFOXQxFOIShCIcwVC+ODsSnA/JFC1cdwG/9gw+F2xX1YuSIcPo1Bj1wX7/OIBGG8rDjBX/FE+3kuSMcwlCEQxiKcAhDEQ5hKMKpi6EIhzAU4RCGIhzCUIRDGIpw6mIowiEMRTiEoXpxbrpoerhoVfOmHR1uU64XI0eE068x6IH7+nUGiTCUhx0v+CueaCfPHeEQhiIcwlCEQxiKcAhDEU5dDEU4hKEIhzAU4RCGIhzCUIRTF0MRDmEowiEMNZGzaetj6cSDXhEuWk96z15p87Ynwu3KTWTkinAGMQY5cN8gTr8RhvKw4wV/xRPt5LkjHMJQhEMYinAIQxEOYSjCqYuhCIcwFOEQhiIcwlCEQxiKcOpiKMIhDEU4hKEmcq45+bvhYlUtnjUj3Ka1iYxcEc4gxiAH7hvE6TfCUB52vOCveKKdPHeEQxiKcAhDEQ5hKMIhDEU4dTEU4RCGIhzCUIRDGIpwCEMRTl0MRTiEoQiHMFQ3R7+br9/Rjxar+p1+/W5/tF1r3YycEc4gxiAH7hvE6TfCUB52vOCveKKdPHeEQxiKcAhDEQ5hKMIhDEU4dTEU4RCGIhzCUIRDGIpwCEMRTl0MRTiEoQiHMFQ359KjPxEuVNXti64Ot4nqZuSMcAYxBjlw3yBOvxGG8rDjBX/FE+3kuSMcwlCEQxiKcAhDEQ5hKMKpi6EIhzAU4RCGIhzCUIRDGIpw6mIowiEMRTiEoTo5+v3yaJGq9H780Tad6mTkjnAGMQY5cN8gTr8RhvKw4wV/xRPt5LkjHMJQhEMYinAIQxEOYSjCqYuhCIcwFOEQhiIcwlCEQxiKcOpiKMIhDEU4hKE6OWd9dp9wkTppnxel++66K9ymU52M3BHOoEa/B+4b1OknwlAedrzgr3iinTx3hEMYinAIQxEOYSjCIQxFOHUxFOEQhiIcwlCEQxiKcAhDEU5dDEU4hKEIhzBU5HR6Cbq67IeHt51/oiKjighnUKPfA/cN6vQTYSgPO17wVzzRTp47wiEMRTiEoQiHMBThEIYinLoYinAIQxEOYSjCIQxFOIShCKcuhiIcwlCEQxiq1dFLzKd96PXh4lQH8NuwcUvT+Xup1agqwhnU6PfAfYM6/UQYysOOF/wVT7ST545wCEMRDmEowiEMRTiEoQinLoYiHMJQhEMYinAIQxEOYSjCqYuhCIcwFOEQhmp1rj9vargwVfNP/UHTeXut1agqwhnU6PfAfYM6/UQYysOOF/wVT7ST545wCEMRDmEowiEMRTiEoQinLoYiHMJQhEMYinAIQxEOYSjCqYuhCIcwFOEQhio7m7Y+lk486BXhwvSk9+yVNm97omnbXisbVUY4gxr9HrhvUKefCEN52PGCv+KJdvLcEQ5hKMIhDEU4hKEIhzAU4dTFUIRDGIpwCEMRDmEowiEMRTh1MRThEIYiHMJQZeeqKd8IF6VqyaVnNm3XT2WjyghnGKOfA/cN4/QaYSgPO17wVzzRTp47wiEMRTiEoQiHMBThEIYinLoYinAIQxEOYSjCIQxFOIShCKcuhiIcwlCEQxiqcNbdv67xbHO0IJ1x2N7p4R3PtG3ba4VRdYQzjNHPgfuGcXqNMJSHHS/4K55oJ88d4RCGIhzCUIRDGIpwCEMRTl0MRTiEoQiHMBThEIYiHMJQhFMXQxEOYSjCIQxVOBd/+5BwMaruuGF+23b9VBhVRzjDGP0cuG8Yp9cIQ3nY8YK/4ol28twRDmEowiEMRTiEoQiHMBTh1MVQhEMYinAIQxEOYSjCIQxFOHUxFOEQhiIcwlCau5ctDRei6twvHBBu10+a6PTcEc4wRj8H7hvG6TXCUB52vOCveKKdPHeEQxiKcAhDEQ5hKMIhDEU4dTEU4RCGIhzCUIRDGIpwCEMRTl0MRTiEoQiHMJRGC85oITppnxel++66K9yunzTR6bkjnGGMfg7cN4zTa4ShPOx4wV/xRDt57giHMBThEIYiHMJQhEMYinDqYijCIQxFOIShCIcwFOEQhiKcuhiKcAhDEQ5hqPtvvDxchKrLf/S5cJt+o24L4Qxr9HrgvmGdXiIM5WHHC/6KJ9rJc0c4hKEIhzAU4RCGIhzCUIRTF0MRDmEowiEMRTiEoQiHMBTh1MVQhEMYinAIQ88qn/qBPw8XoFMO+KO0YeOWcLt+I26LIpxhjV4P3Des00uEoTzseMFf8UQ7ee4IhzAU4RCGIhzCUIRDGIpw6mIowiEMRTiEoQiHMBThEIYinLoYinAIQxEOYVx31uRw8akWnHZsuM0gEbdFEc6wRq8H7hvW6SXCUB52vOCveKKdPHeEQxiKcAhDEQ5hKMIhDEU4dTEU4RCGIhzCUIRDGIpwCEMRTl0MRTiEoQinauOhTT9LJ7zzpeHi86T37JU2b3si3G6Qqr4tRYQzrNHrgfuGdXqJMJSHHS/4K55oJ88d4RCGIhzCUIRDGIpwCEMRTl0MRTiEoQiHMBThEIYiHMJQhFMXQxEOYSjCqdq48rgvhwtPtWT2WeE2g1b1bSkinGGNXg/cN6zTS4ShPOx4wV/xRDt57giHMBThEIYiHMJQhEMYinDqYijCIQxFOIShCIcwFOEQhiKcuhiKcAhDEU6Vhn43P1p0qtM/8Y/hNsNU5W0pRzg5jKnvflV436+5Y8X4eXI4E0UYysOOF/wVT7ST545wCEMRDmEowiEMRTiEoQinLoYiHMJQhEMYinAIQxEOYSjCqYuhCIcwFOFUaVx9wjfDBadateT6cJthqvK2lCOcHMb5XzkovO8XX3LG+HlyOBNFGMrDjhf8FU+0k+eOcAhDEQ5hKMIhDEU4hKEIpy6GIhzCUIRDGIpwCEMRDmEowqmLoQiHMBThVGlMPeiV4YLzgq+9Nzz/sFV5W8oRTg6j84H7vjB+nhzORBGG8rDjBX/FE+3kuSMcwlCEQxiKcAhDEQ5hKMKpi6EIhzAU4RCGIhzCUIRDGIpw6mIowiEMRThVGZ0OGqfuu/vucJthq+q2tEY4OYzb5l8e3v8zD3/r+HlyOBNVpXHXLYvTVccfmdbe90DD8XDjBX/FE+3wuSMcwlCEQxiKcAhDEQ5hKMKpi6EIhzAU4RCGIhzCUIRDGIpw6mIowiEMRThVGed/9T3hYvPib304PH+OqrotrRFODqOXA/flcCYqq7Hj2XTn0hvSlZO+kk5+32vHb9P155zYcDzceMFf8YRfAJkjHMJQhEMYinAIQxEOYSjCqYuhCIcwFOEQhiIcwlCEQxiKcOpiKMIhDEU4VRjr129Kx+3zwqZFZtGKhXPDbXJUxW2JIpxcxgnveln4ebjn9uWNj+dyujWs8fBjT6dVi69LV/z0i+mk9+4V3p5z/vPtDcfDjRf8FU/0xZA7wiEMRTiEoQiHMBThEIYinLoYinAIQxEOYSjCIQxFOIShCKcuhiIcwlCEU4Vx7Yz/ChdlOmr8wzueCbfJURW3JYpwchkTHbgvl9OtQY2VN16b5vz4iHTigS8Pb0NrHna84K94oi+K3BEOYSjCIQxFOIShCIcwFOHUxVCEQxiKcAhDEQ5hKMIhDEU4dTEU4RCGIpzsxo5n07QPvT5ckF1z0lHxNpnKfls6RDi5jIkO3JfL6VavxpZHnky3zr04Xf6jz3U84GO3POx4wV/xRF8kuSMcwlCEQxiKcAhDEQ5hKMKpi6EIhzAU4RCGIhzCUIRDGIpw6mIowiEMRTi5DT0rGy3G1Lr714Xb5Cr3bekU4eQyOh088cxPvaXx8VxOt7oZWuQvu+bSNOuoQ9OUA/4ovK695mHHC/6KJ/qCyR3hEIYiHMJQhEMYinAIQxFOXQxFOIShCIcwFOEQhiIcwlCEUxdDEQ5hKMLJbVzyvY+Hi7ELv7hfeP6c5b4tnSKcXMZEB+7L5XSr1ci5yFf6/f2bLprecDzceMFf8ZS/aKqKcAhDEQ5hKMIhDEU4hKEIpy6GIhzCUIRDGIpwCEMRDmEowqmLoQiHMBTh5DQ2bdneWEhGi7LVC84Pt8lZztvSLcLJaXQ7cF9Op1OanYv8j40s8v84vD49t88L09mf3zfdeMEpacPGLU2Oh5vKF/yrp458so+YnbY3/rU9LTqi2AkOTYsebZxY6yl/EVUV4RCGIhzCUIRDGIpwCEMRTl0MRTiEoQiHMBThEIYiHMJQhFMXQxEOYSjCyWnceMG05oXZWFrg/Z9fPxtuk7Oct6VbhJPTOP+r7w4/L0suPTOrE7V8wZx05Q8OS8fv/4fhdeinsz73tnT9uSemB9dtDC0POxUv+FekWSOf9Fkrx/65cvLOxX/57zWeaCfPHeEQhiIcwlCEQxiKcAhDEU5dDEU4hKEIhzAU4RCGIhzCUIRTF0MRDmEowslpnP6JfwwXapcf+9msTqcIQxFOTqPzgfuOyOqUu3/1PWnm4f8auv008zP/1niP/fUPPhQ65TzsAAv+nc/kN57tn7pi9B+Pzk4z/n1yWj36r9pOtJPnjnAIQxEOYSjCIQxFOIShCKcuhiIcwlCEQxiKcAhDEQ5hKMKpi6EIhzAU4eQy7llxW7hgU3fdsjib0y3CUIST0+h24L6cjtJL9/VuDJ1+taOXzvz0v6RFZ09JD67bEBqd8rBT8YJ/9CX8o8/wB8/2e8GfJcIhDEU4hKEIhzAU4RCGIpy6GIpwCEMRDmEowiEMRTiEoQinLoYiHMJQhJPLuOInX2xbuKnph7yx8fFcTrcIQxFOTqPTgftUTuf2RVenUw5+XehM1Gkfe3O69rQfpftXrw4vu5c87FR/0L7GM/ljO0nx7P7Y4n/nv+s70U6eO8IhDEU4hKEIhzAU4RCGIpy6GIpwCEMRDmEowiEMRTiEoQinLoYiHMJQhJPD0LO6nQ7Edt3MSY3z5HAmijAU4eQ2Oh2479EH7w7P3096uf3F3/pwePndmnHY3mnBacemB9bcG15uv3nYqX7Bv4dPtJPnjnAIQxEOYSjCIQxFOIShCKcuhiIcwlCEQxiKcAhDEQ5hKMKpi6EIhzAU4eQwbp5zXrig08u6N6zf3DhPDmeiCEMRTm7j/K++J/wcrZ53bnj+Xlt0zgl9HZDv9I//w9DP5HfKw44X/BVPtJPnjnAIQxEOYSjCIQxFOIShCKcuhiIcwlCEQxiKcAhDEQ5hKMKpi6EIhzAU4eQwzv3CAeHi7pLvHTZ+nhzORBGGIpzcRqcD9y088Svh+Sdq9W23pDM++U/hZbY29cA/TdfO+K9KFvnlPOx4wV/xRDt57giHMBThEIYiHMJQhEMYinDqYijCIQxFOIShCIcwFOEQhiKcuhiKcAhDEc6wxrr7O/9++Mobrx0/37BOLxGGIpzcRqcD95372beG5+/Upq2PNY7XMGmfF4WX19rsH3wq/eoXT4SXlTsPO8CCP3rv/dHTZsyp+5vy+ZtZvxEOYSjCIQxFOIShCKcuhiIcwlCEQxiKcAhDEQ5hKMKpi6EIhzAU4QxrXHPyd5sWeEUnv++1aduOne+9P6zTS4ShCCe30enAfZPf/r/S1u2/DLdp7ZYrL0wnvXev8HJam/ah16c7l97Y2C73bemUh53KF/x6K77Rhb0W+Tvfos/vw58vwiEMRTiEoQiHMBThEIYinLoYinAIQxEOYSjCIQxFOIShCKcuhiIcwlCEM4zx8I5n0tR3vypc8OlgbOXzDuP0GmEowqnC6HTgvntuXx6ev2jtvfenc47YL9y2Nf0AYf6pP0hbH3lqfPsqbkuUh52KF/zl9+FvWfD7ffizRTiEoQiHMBThEIYiHMJQhFMXQxEOYSjCIQxFOIShCIcwFOHUxVCEQxiKcIYxViy8Mlz0HbfPC9P69ZuazjuM02uEoQinCuP8rxwUfr4WX3JGeP6tj/4iLZj+wzR5v98Pt2vtrM+9rfHDgdbLqeK2RHnY2XULfj/Dny3CIQxFOIShCIcwFOEQhiKcuhiKcAhDEQ5hKMIhDEU4hKEIpy6GIhzCUIQzjHHRNz4QLvy0sGw97zBOrxGGIpwqjHknfy/8fM358RfazquX45/6kTeE52/txINekZbMPqvtMoqquC1RHnYqf0n/9jmHji3sywv+0ffh9+/w54lwCEMRDmEowiEMRTiEoQinLoYiHMJQhEMYinAIQxEOYSjCqYuhCIcwFOEMamx86OGOB25bdvWstvMP6vQTYSjCqcLodOC+Mz/1lvHzbNy4NV169CfC80XpoHwbN21rclqr4rZEedgBDto3Mno2v2Wnm7Vy7GM1n2gnzx3hEIYiHMJQhEMYinAIQxFOXQxFOIShCIcwFOEQhiIcwlCEUxdDEQ5hKMIZ1Lhu5qS2x+FKvyceHQRuUKefCEMRThXGugceDD9nSh+/de7F6aT3vSb8eGv6IcG9q1a2GVFV3JYoDzvgS/pbxi/pzxbhEIYiHMJQhEMYinAIQxFOXQxFOIShCIcwFOEQhiIcwlCEUxdDEQ5hKMIZ1Jh+yBvDheDc478enn9Qp58IQxFOVUangyye8cl/Dk9v7YR3vjTddNFp4WV3qqrb0pqHnV234N8lB+2Lr0/j1w5av1Cmrhj7qGb0VxCKj7W+OqFp+5YfYkQ7ee4IhzAU4RCGIhzCUIRDGIpw6mIowiEMRTiEoQiHMBThEIYinLoYinAIQxHOIMadN9+08zFqSw/csybcZhCn3whDEU5VRqcD9/XSJd/7eOMl/9Hldquq29Kah51dtuDf+bv9xIy+7//oF0GHBX/H6zK67fjxBho/qChdRuPXFXb+4EJvQ1j+YUG0k+eOcAhDEQ5hKMIhDEU4hKEIpy6GIhzCUIRDGIpwCEMRDmEowqmLoQiHMBThDGJc9sPDxxeB5WYe/tbw/GoQp98IQxFOVca8U44OP3fdOvXDf51W3nhteHm9VNVtac3DTjUL/saiON4Rd9bhmf9Kp8sz/J0W/G2vRGj+AYAW+E0HH2z5AUC0k+eOcAhDEQ5hKMIhDEU4hKEIpy6GIhzCUIRDGIpwCEMRDmEowqmLoQiHMBTh9Gts3vZ4On6/P2h5/D3aTRd3fql3v84gEYYinKqM2+bNDj93UXo7vvnTj2l6T/1Bquq2tOZhZ9e9pH+XTI8v6S+/nL9lAa/Z+Sx+y7P/mpZXAEQ7ee4IhzAU4RCGIhzCUIRDGIpw6mIowiEMRTiEoQiHMBThEIYinLoYinAIQxFOv8biWac3P74dSz8E2LT1sXAb1a8zSIShCKcqY90D68LPX2vnfvEd4XvqD1JVt6U1DzsVL/h3t+nlBxA6T2kRHxxcsHXB3/Q7/V7wDxXhEIYiHMJQhEMYinDqYijCIQxFOIShCIcwFOEQhiKcuhiKcAhDEU6/xszD/zVcIF52zOHh+Yv6dQaJMBThVGl0OnCf0sduueKCcLtBq/K2lPOw4wV/MI1n/Itn+Yd8ht/j8Xg8Ho/H4yHn51vXty0Qi7bcfcvYuTy7+1z6jfe2fw73eWFaeMKX02+e/eXYuTye7gMs+EefMW/bWRs1L6SrnwEW/P4d/kaEoQiHMBThEIYiHMJQhFMXQxEOYSjCIQxFOIShCIcwFOHUxVCEQxiKcPox5k7+Wstj7tGmfej14fnL9eMMGmEowqnSmHfy95o+fzMOe3NavfzW8Lw5qvK2lPOwU/mCf+ez4bvDRAv+kQX81PJL9kd/QLHzZfotz+K3PoPfssBvvb3RTp47wiEMRTiEoQiHMBThEIYinLoYinAIQxEOYSjCIQxFOIShCKcuhiIcwlCE06uxdfsv0wnvelnTQrFo4Zk/Dbcp16szTIShCKdKozhw35R3/Em6/dJT0sOPPR2eL1dV3pZyHnb2kIP2jS7am77plX4vv7FIL32s6Rn7xjS/SsHvw19dhEMYinAIQxEOYSjCqYuhCIcwFOEQhiIcwlCEQxiKcOpiKMIhDEU4vRq3zb985+PSUpP2eVFav35TuE25Xp1hIgxFOFUaD67bkC765ofS+gcfqtQpIgzlYWcPWfDvuol28twRDmEowiEMRTiEoQiHMBTh1MVQhEMYinAIQxEOYSjCIQxFOHUxFOEQhiKcXo0Lvv7+cMGv06Pzt9arM0yEoQiHMBThEIbysIO8pL/9GfM9Z6KdPHeEQxiKcAhDEQ5hKMIhDEU4dTEU4RCGIhzCUIRDGIpwCEMRTl0MRTiEoQinF0PP4OuZ/GjBr2f+o21a68UZNsJQhEMYinAIQ3nYqf6gffqd95aXue9JE+3kuSMcwlCEQxiKcAhDEQ5hKMKpi6EIhzAU4RCGIhzCUIRDGIpw6mIowiEMRTi9GAvP+Em42NdbuOl3+6NtWuvFGTbCUIRDGIpwCEN52AFe0t/+TWdn9FH6+Yl28twRDmEowiEMRTiEoQiHMBTh1MVQhEMYinAIQxEOYSjCIQxFOHUxFOEQhiKcXgwdhT96zH31id8Kzx/VizNshKEIhzAU4RCG8rBT/TP8e/hEO3nuCIcwFOEQhiIcwlCEQxiKcOpiKMIhDEU4hKEIhzAU4RCGIpy6GIpwCEMRzkTGqiXXh4t99cA9a8JtoiZyckQYinAIQxEOYSgPO17wVzzRTp47wiEMRTiEoQiHMBThEIYinLoYinAIQxEOYSjCIQxFOIShCKcuhiIcwlCEM5Fx6ff/I1zsn/XZfcLzd2oiJ0eEoQiHMBThEIbysMP8Dn/wzWc0v6Q/R4RDGIpwCEMRDmEowiEMRTh1MRThEIYiHMJQhEMYinAIQxFOXQxFOIShCKebsWnL9nT8fn8QPNZ+QVpy6cxwm051c3JFGIpwCEMRDmEoDzsVL/hH3/++cZT+loP36ej9re9nX8eJdvLcEQ5hKMIhDEU4hKEIhzAU4dTFUIRDGIpwCEMRDmEowiEMRTh1MRThEIYinG7GTRedFi72pxzwx2nztsfDbTrVzckVYSjCIQxFOIShPOwAB+0bex/+xjP9pWf0V05Ox+0BR++PdvLcEQ5hKMIhDEU4hKEIhzAU4dTFUIRDGIpwCEMRDmEowiEMRTh1MRThEIYinG7GmZ96S7jgv/zYz4bn71Y3J1eEoQiHMBThEIbysMMt+Bt/Ly34W38AUNOJdvLcEQ5hKMIhDEU4hKEIhzAU4dTFUIRDGIpwCEMRDmEowiEMRTh1MRThEIYinE7GvatWhot9dfetS8JtutXJyRlhKMIhDEU4hKE87HAv6R8ZvYy/+Pv2OYf6Gf5MEQ5hKMIhDEU4hKEIhzAU4dTFUIRDGIpwCEMRDmEowiEMRTh1MRThEIYinE7GlZO+Gi72p3/0b8LzT1QnJ2eEoQiHMBThEIbysFP9Qfuapvy+/MUz//WeaCfPHeEQhiIcwlCEQxiKcAhDEU5dDEU4hKEIhzAU4RCGIhzCUIRTF0MRDmEowomMrdt/mU5418uaFvpFi86e0nb+Xoqc3BGGIhzCUIRDGMrDDrzg3/Mm2slzRziEoQiHMBThEIYiHMJQhFMXQxEOYSjCIQxFOIShCIcwFOHUxVCEQxiKcCLj1rkXhYv9Sfu8KG186OG28/dS5OSOMBThEIYiHMJQHnbA3+HfMyfayXNHOIShCIcwFOEQhiIcwlCEUxdDEQ5hKMIhDEU4hKEIhzAU4dTFUIRDGIpwIuO8L70rXPBf9M0PtZ231yInd4ShCIcwFOEQhvKw4wV/xRPt5LkjHMJQhEMYinAIQxEOYSjCqYuhCIcwFOEQhiIcwlCEQxiKcOpiKMIhDEU4rca6+9el4/Z5YbjgX7FwbtN5+6nVqSLCUIRDGIpwCEN52Kn8Jf17yvvtd5poJ88d4RCGIhzCUIRDGIpwCEMRTl0MRTiEoQiHMBThEIYiHMJQhFMXQxEOYSjCaTXmn/qDcLF/8vtemx7e8UzTefup1akiwlCEQxiKcAhDedip/nf49fZ7e8DR+DtNtJPnjnAIQxEOYSjCIQxFOIShCKcuhiIcwlCEQxiKcAhDEQ5hKMKpi6EIhzAU4TQZO55tLOxbF/tq3snfa9qu35qciiIMRTiEoQiHMJSHHeAl/e3fiHbm9+HPEeEQhiIcwlCEQxiKcAhDEU5dDEU4hKEIhzAU4RCGIhzCUIRTF0MRDmEowikbd1w/L3hcPZpe6l/ert/KTlURhiIcwlCEQxjKw071z/Dv4RPt5LkjHMJQhEMYinAIQxEOYSjCqYuhCIcwFOEQhiIcwlCEQxiKcOpiKMIhDEU4ZWPWdz4aLvbPOWL/pm0GqexUFWEowiEMRTiEoTzseMFf8UQ7ee4IhzAU4RCGIhzCUIRDGIpw6mIowiEMRTiEoQiHMBThEIYinLoYinAIQxFOYWzasj1N3vcl4YL/5jnntW3Xb4VTZYShCIcwFOEQhvKws4tf0j/ajDn1/Q3/aCfPHeEQhiIcwlCEQxiKcAhDEU5dDEU4hKEIhzAU4RCGIhzCUIRTF0MRDmEowimM6889MXw8PeWAP05bHnmybbt+K5wqIwxFOIShCIcwlIedyp/h11H62xf029OiI4qj94/+va6L/mgnzx3hEIYiHMJQhEMYinAIQxFOXQxFOIShCIcwFOEQhiIcwlCEUxdDEQ5hKMIpjOkf/ZtwwX/FT77Yts0gFU6VEYYiHMJQhEMYysMO8Ax//D782+ccmo6bumL0Hysnp+NqeiT/aCfPHeEQhiIcwlCEQxiKcAhDEU5dDEU4hKEIhzAU4RCGIhzCUIRTF0MRDmEowtGsvu2WcLGvVi9fFm7Xb5ro9JwRhiIcwlCEQxjKw84uW/A3LfL11n01PWJ/tJPnjnAIQxEOYSjCIQxFOIShCKcuhiIcwlCEQxiKcAhDEQ5hKMKpi6EIhzAU4Wjm/Nd/hot9PesfbTNImuj0nBGGIhzCUIRDGMrDTsUL/vJL91umvODX373gHzjCIQxFOIShCIcwFOEQhiKcuhiKcAhDEQ5hKMIhDEU4hKEIpy6GIhzCUITz29881/g9/WjBf8N5J4XbDBJxWwhDEQ5hKMIhDOVhp/Lf4R9dzLc+yz96ML/iBwGNl/f7Jf0DRziEoQiHMBThEIYiHMJQhFMXQxEOYSjCIQxFOIShCIcwFOHUxVCEQxiKcO659sK2hb7SEft15P5om0EibgthKMIhDEU4hKE87FS/4Nc0XrLf/M0pfNa/hhPt5LkjHMJQhEMYinAIQxEOYSjCqYuhCIcwFOEQhiIcwlCEQxiKcOpiKMIhDEU4F35p/6bH0uOPqY/6WHj+QSNuC2EowiEMRTiEoTzsMAv+PXiinTx3hEMYinAIQxEOYSjCIQxFOHUxFOEQhiIcwlCEQxiKcAhDEU5dDEU4hKGqdtbdvy5c7Ks7blgQbjNoVd8WRRiKcAhDEQ5hKA87XvBXPNFOnjvCIQxFOIShCIcwFOEQhiKcuhiKcAhDEQ5hKMIhDEU4hKEIpy6GIhzCUFU710z9TrjYP/l9r03bdjwbbjNoVd8WRRiKcAhDEQ5hKA87XvBXPNFOnjvCIQxFOIShCIcwFOEQhiKcuhiKcAhDEQ5hKMIhDEU4hKEIpy6GIhzCUFU6D+94Jk1996vCBf+C6T8MtxmmKm9LEWEowiEMRTiEoTzsVLTgLw7KN/pn9A1qtHoemb880U6eO8IhDEU4hKEIhzAU4RCGIpy6GIpwCEMRDmEowiEMRTiEoQinLoYiHMJQVTrLF1wRPIYeaZ8XpvXrN4XbDFOVt6WIMBThEIYiHMJQHnb8DH/FE+3kuSMcwlCEQxiKcAhDEQ5hKMKpi6EIhzAU4RCGIhzCUIRDGIpw6mIowiEMVaVz0Tc/GC74z//KQeH5h63K21JEGIpwCEMRDmEoDzte8Fc80U6eO8IhDEU4hKEIhzAU4RCGIpy6GIpwCEMRDmEowiEMRTiEoQinLoYiHMJQVTlXHX9kuNhXy66eFW4zbFXdlnKEoQiHMBThEIbysFP9gj94S76d+SX9OSIcwlCEQxiKcAhDEQ5hKMKpi6EIhzAU4RCGIhzCUIRDGIpw6mIowiEMVYVzxU+/FDx2Hu3EA18ebpOjKm5La4ShCIcwFOEQhvKwU/GCf3tadMQL0ow528f+vedNtJPnjnAIQxEOYSjCIQxFOIShCKcuhiIcwlCEQxiKcAhDEQ5hKMKpi6EIhzBUVmfHs2n2MZ8OF/pFV076arxthrLelg4RhiIcwlCEQxjKw07FC34dtO/QtOjRsX/ugRPt5LkjHMJQhEMYinAIQxEOYSjCqYuhCIcwFOEQhiIcwlCEQxiKcOpiKMIhDJXLefixp9Ml3zssXOQXnfHJf04PbX4k3D5HuW5LtwhDEQ5hKMIhDOVhB3mGf9bKsX/ugRPt5LkjHMJQhEMYinAIQxEOYSjCqYuhCIcwFOEQhiIcwlCEQxiKcOpiKMIhDJXDeXj7L9PF3/pwuMgvmnn4W9OmrY+F2+cqx22ZKMJQhEMYinAIQ3nYqfx3+LfPOTQdd8TskaX/njnRTp47wiEMRTiEoQiHMBThEIYinLoYinAIQxEOYSjCIQxFOIShCKcuhiIcwlDDOltHFvsXfP394SK/6IIvvD1tfnhHuH3Ohr0tvUQYinAIQxEOYSgPOz5oX8UT7eS5IxzCUIRDGIpwCEMRDmEowqmLoQiHMBThEIYiHMJQhEMYinDqYijCIQw1jKPF/nlfPjB4nLyzc79wQPrtc78Ot8/dMLel1whDEQ5hKMIhDOVhxwftq3iinTx3hEMYinAIQxEOYSjCIQxFOHUxFOEQhiIcwlCEQxiKcAhDEU5dDEU4hKEGdbY+8tSEi319XOcb1Og3wiEMRTiEoQiHMJSHHR+0r+KJdvLcEQ5hKMIhDEU4hKEIhzAU4dTFUIRDGIpwCEMRDmEowiEMRTh1MRThEIYaxNnys583nrmPFvlFepm/XgGg8w9iDBLhEIYiHMJQhEMYysOOD9pX8UQ7ee4IhzAU4RCGIhzCUIRDGIpw6mIowiEMRTiEoQiHMBThEIYinLoYinAIQ/Xr6Hfxz/rc28JFfpEO4KcD+RXb9GsMGuEQhiIcwlCEQxjKw44P2lfxRDt57giHMBThEIYiHMJQhEMYinDqYqhfP/1keHrOqNtCOIShCIcwFOEQhiKcuhiKcAhD9eM8tOXRNPPwfw0X+UWXfv8/2rbrxxgmwiEMRTiEoQiHMJSHHeAl/fE3stF80L4cEQ5hKMIhDEU4hKEIhzAU4dTFuHXuxWnK/n+Qbpt3WfjxXBG3RREOYSjCIQxFOIShCKcuhiIcwlC9Onr/fL2Pfvy4eLTZx3w6bdvxbNu2vRrDRjiEoQiHMBThEIbysFP5M/x7+kQ7ee4IhzAU4RCGIhzCUIRDGIpw6mDMn37Mzgeg+7wwLb7kjPB8Oar6thQRDmEowiEMRTiEoQinLoYiHMJQvTgbH3o4zThs76bFfWtz/us/w8W+6sXIEeEQhiIcwlCEQxjKw44X/BVPtJPnjnAIQxEOYSjCIQxFOIShCOf5bOjgUJd877Dwgej8ad8Ptxm2qm5La4RDGIpwCEMRDmEowqmLoQiHMNREzoYNW9Jph/5t+L216MpJXwm3LZrIyBXhEIYiHMJQhEMYysOOF/wVT7ST545wCEMRDmEowiEMRTiEoQjn+Wps2rI9nXPE/uED0aI5P/5CuO0wVXFbogiHMBThEIYiHMJQhFMXQxEOYahuzoPrNqZTP/KG8Htq0TUnHRVuW66bkTPCIQxFOIShCIcwlIedihb8o7+7P2ulf4c/2slzRziEoQiHMBThEIYiHMJQhPN8NPSAdPpH/yb4Pt3exd/+SOM9oaPLGaTct6VThEMYinAIQxEOYSjCqYuhCIcwVCdn3QPr0rQPvj78Xlq04LRjw21b62TkjnAIQxEOYSjCIQzlYcfP8Fc80U6eO8IhDEU4hKEIhzAU4RCGIpznm3HvqpXppPfuFT4Q7dTZn983bdr6WHh5/ZbztnSLcAhDEQ5hKMIhDEU4dTEU4RCGipy19z2QTjn4z8PvoUWLzp7Stl2nIqOKCIcwFOEQhiIcwlAedrzgr3iinTx3hEMYinAIQxEOYSjCIQxFOM8n444b5qcpB/xR+EB0ok7/+D+kDRu3hJfbT7luy0QRDmEowiEMRTiEoQinLoYiHMJQrc79q++Z8AepN14wrWmbiWo1qopwCEMRDmEowiEM5WFnD1vw61cMDk2LHh375/hsT4uO2PkNeMac7WOnF9P8qwmzVo6dPDbb5xw6/rHjjpg9cmk7J9rJc0c4hKEIhzAU4RCGIhzCUITzfDEWz5qx83vXgE0/5E1p3f3rwsvvtRy3pZcIhzAU4RCGIhzCUIRTF0MRDmGosnPf3Xenk97TfbG/eNbpTdv3UtmoMsIhDEU4hKEIhzCUh509ZMFfXtC3L/hXTx05feqKsX8Vxx8Y++fYtuM/BHh0dppRvoyVk0cuc+exCJovy98A+o1wCEMRDmEowiEMRTjPB+PqE781/sCzU/OmHZ2ee/qpNPPwfw0/XqQHtvfeuSp0emnY29JrhEMYinAIQxEOYSjCqYuhCIcwVOGsWXl7OvHAl4ffKxvt88J08+Xntm3fS4VRdYRDGIpwCEMRDmEoDzt+hj84rWnR3ljglw8u2PwDAJ236RUBLT8AiHby3BEOYSjCIQxFOIShCIcwFOHszsbWR3+RLjzy4PYHoaUmve3F4w9INVt+9vN0/lcOCs9bdMI7X5ruumVxm9dLmuj03BEOYSjCIQxFOIShCKcuhiIcwlAaLfb1vTD6Hqn0vfXWuReH2/eSJjo9d4RDGIpwCEMRDmEoDzte8Lc+Yz8yjZfoFy/Nb1nAa3b+QKDl2X9Ny+VFO3nuCIcwFOEQhiIcwlCEQxiKcHZX46HNj6SZn/m3tgeh5aa840/SqsWLxrcpnIe7vD9/0eT9fj+tWDh3fNteK4yqIxzCUIRDGIpwCEMRTl0MRTiEoR55YFX3xf6+L0m3zb883LbXqNtCOIShCIcwFOEQhvKw4wV/2zP4wYK/5ffyWxf8Tb/TH/wAwePxeHb1PPWzTWnGR7u/D/SpH3xdenzTA2NbBPN//29adPKR4bZFk/Z5UVqz8KKxDTwej6f+s+3e5SOL/T8JvyeqyW//X2nDbQvHzu3xeDzseMHvZ/h7ijAU4RCGIhzCUIRDGIpwdjfj7mU3p6kHvbLtQWi5Mz/1lvCI+5Gz6Kzjw8sod91Zk9u261RkVBHhEIYiHMJQhEMYinDqYijCqdK4c+kNaeHpP5nwnU7uuH5euH2/VXlbyhEOYSjCIQxFOIShPOx4we/f4e8pwlCEQxiKcAhDEQ5hKMLZnQy9xF7PLkUPQovO/+q70+ZtT4Tbd3KWXn5O49n86PKKrpz0lbRtx7Ph9uU6GbkjHMJQhEMYinAIQxFOXQxFOLkM/UrU8muvTFdP/XY667P7TPh9VR2//x+mVUuuDy9vkHLdlokiHMJQhEMYinAIQ3nY8YJ/ZJoW+I3z+Cj9rRGGIhzCUIRDGIpwCEMRzu5iLDp7StsD0NbmTv5auG1RN0c/TDh+vz8IL7do9jGfDrct183IGeEQhiIcwlCEQxiKcOpiKMIZ1HjgnjWNH2zO+fEX0ozD3hx+f+uWjody5803hZc9aIPeln4jHMJQhEMYinAIQ3nY2UMW/KOL9qZvxk2/l9/88aZn7Bsz+kOA4uN+H/7qIhzCUIRDGIpwCEMRzq42Ht7xTJrzX/+58/tSkJ6dv+H8k8Pty3VzlI7M3+1AVUpH+NeR/qPt1URGrgiHMBThEIYiHMJQhFMXQxFOL8bDjz2d7rl9eeN74qyjDk0nv++14feyXtP3xNXLl4XWMPVyW3JEOIShCIcwFOEQhvKws4c9w89PtJPnjnAIQxEOYSjCIQxFOIShCGdXGnppvl6iHz0ILdKz8r0eTb+TU07vwa/34o+sIr2X/0NbHg2378XIEeEQhiIcwlCEQxiKcOpiKMKJDP0ActXi69K1p/0onfflAxvPxkfftwZJ78Gvt+drNXMU3ZYqIhzCUIRDGIpwCEN52PGCv+KJdvLcEQ5hKMIhDEU4hKEIhzAU4ewqQwfdO+M//nf4ILRIC/M1d6xo27ZTkRO17v51afohbwzNotM+9ua0/sGH2rbt1Rg2wiEMRTiEoQiHMBTh1MVQhKPZuHFrum3eZemq449s/PAx+v6Uo9M//g+NH4BG1yNHmuj03BEOYSjCIQxFOIShPOx4wV/xRDt57giHMBThEIYiHMJQhEMYinB2hXHf3XenUz7wF+GD0KIZh+2dHly7vmm7iWp1uqUH1RP9wEHXUb8bW96uH2OYCIcwFOEQhiIcwlCEUxdDVenoJfpXn/DNdOZhfxd+L8rRzMPfmq4+8VuNg/n9+uknw+uRsyrvr3KEQxiKcAhDEQ5hKA87XvBXPNFOnjvCIQxFOIShCIcwFOEQhiIc2mj8Hv27XhY+IC0694vvSJsf3tF0Gb1Udnpp09bH0tmf3ze8DkV6i8Dyqwz6NQaNcAhDEQ5hKMIhDEU4dTFUbkevILruzOMaP9yMvvcMk95679wvvjMtmP7DtPKmhW3HJcl9W6IIQxEOYSjCIQxFOIShPOx4wV/xRDt57giHMBThEIYiHMJQhEMYinBI49a5F6fJ+74kfIBapCPl66BUrZfRS4XTT1sfeSpdeOTB4XUpmnLAH6dVixc1zj+IMUiEQxiKcAhDEQ5hKMKpi6FyOPoh45JLz0znHLF/Om6fF4bfbwZJP5i86BsfaLzbyerbbpnwe2iO2zJRhKEIhzAU4RCGIhzCUB52vOCveKKdPHeEQxiKcAhDEQ5hKMIhDEU4lKEDTkUPVMstPOMn4fa9polO7yW9nVV0ncotu3rWUEY/EQ5hKMIhDEU4hKEIpy6GGsZZvmBOmvWdj4bfVwZJv2506dGfSDdeeGq6d9XK0OzWMLel1whDEQ5hKMIhDEU4hKE87HjBX/FEO3nuCIcwFOEQhiIcwlCEQxiKcKo29EzTVcd+MnzQWjT57f+rcZCqaPt+Gva2zJ/2/fD6jbfPC9Pd15wbbpu7YW9LLxGGIhzCUIRDGIpw6mKofh39+tIVP/liOvGgV8TfT3pt5PuO3ltfP5S85YoL0roHHgy9fur3tgwSYSjCIQxFOIShCIcwlIcdL/grnmgnzx3hEIYiHMJQhEMYinAIQxFOlYZ+D/+8L70rfhA7lt4WSg+Mo+37Lcdt0TNm0fUst+C0Y8Ntc5bjtkwUYSjCIQxFOIShCKcuhurF0UE+5007Op364b8Kv3f0WvkAew9tfiS0hqmX2zJshKEIhzAU4RCGIhzCUB52vOCveKKdPHeEQxiKcAhDEQ5hKMIhDEU4VRlbHnkynXPEfuGD2aJTP/zXae19D4TbD1Ku26JXG0x0rIE5//WfaduOZ8Ptc5TrtnSLMBThEIYiHMJQhFMXQ3VyNj70cLrh/JPTmZ/+l/B7Ra9NP+RN6ZZzf5IeWHNf6OSs023JGWEowiEMRTiEoQiHMJSHHS/4K55oJ88d4RCGIhzCUIRDGIpwCEMRTlXG+V85KHxQW6T3l964aVu47aDlvC133LCgcbC+6LoX6VcAom1zlPO2dIowFOEQhiIcwlCEUxdDlR0d9f7WuRel87/6nvB7Q6+d9L7XpLnHf71xoL1Wo8oIhzAU4RCGIhzCUIRDGMrDjhf8FU+0k+eOcAhDEQ5hKMIhDEU4hKEIpwrjgq+9L3xwWzTrqI+F2w1b7ttyz4rbJvz92zuX3hBuO2y5b0sUYSjCIQxFOFUbq5cvS/NP/UFaetax6ZqTv5uumfqdxsvHr5ryjcbi88pJX01X/PRLjd8/n/PjI9LlP/pcuuzYz6TLjjk8Xfr9/2gcLO6S7x028nV8aLr424eki775ocYR4vVuFxd87b0ji+B3p/O+fGDjbeEu/uo7G9tX+ax11fdXkeaOG+an2T/4VONt76LvB7005R1/ki774eFp5Y3XhkbraVVEOIShCIcwFOEQhiIcwlAedrzgr3iinTx3hEMYinAIQxEOYSjCIQxFOLmNiY5Efc1JR4Xb5Sj3bVH3r74nnXLw68Lbok45+M/9O7YTRDiEoQinSkPPJJ/wzpeG+3LV6XvDPbcvD6/XMFV5f6m1997f+IHItIP/LLxdvaYfjCy7+pLQKKr6thQRDmEowiEMRTiEoQiHMJSHHS/4K55oJ88d4RCGIhzCUIRDGIpwCEMRTk5Dz/5FD3SL9IxgtF2uct6Wcg+u29g4SnZ0m5Se2Yy2G6aqbks5wlCEQxiKcKoy9IqVXbXYL6df91m1+LrwOg5SVfeXnoG/8MgPhLeh18794jvSkktnpk1btodGa1XdltYIhzAU4RCGIhzCUIRDGMrDjhf8FU+0k+eOcAhDEQ5hKMIhDEU4hKEIJ5dx+bGfDR/wFl30zQ+G2+Us122J0oG5Tn5/52f4dHT/aLtBq/K2FBGGIhzCUIRThdFY7L/rZeG+u6vSQe5umzc7vL79lPP+0u/m33jBtHTaoX8XXudeOuM//ndadPaUtP7Bh0KjWzlvS7cIhzAU4RCGIhzCUIRDGMrDjhf8FU+0k+eOcAhDEQ5hKMIhDEU4hKEIJ4eh3/eNHvgWzf7W+8PtcpfjtnRLz0pGt6/o3jtXhdsNUtW3RRGGIhzCUIST29DL6He3xX650w7927R09tnhde+lHPfXg2vXN45hMOgrIKZ96PWN4yLoV4Ciy++1HLellwiHMBThEIYiHMJQhEMYysOOF/wVT7ST545wCEMRDmEowiEMRTiEoQhnWOPqE74ZPgAu0lvz/fY3z4Xb5m7Y29JLS848JrydavpH/6bxDGG0Xb8Rt4UwFOEQhiKcnIYW+ye+60/D/XV3S8fKuPGCU/r+Ghrm/tIP8QZ92f5J792rcYDD4gj7ORrmtvQT4RCGIhzCUIRDGIpwCEN52PGCv+KJdvLcEQ5hKMIhDEU4hKEIhzAU4QxjLJj+w/CBcNHZn983bd72+FBGPxGOZuZn/i28varx/vzBdv2miU7PGWEowiEMRTi5jF4W+zqCvr6Oq2rhCV9Ox+/3B6HdqakHvTJde9qP0kObfhbertb6vb+2PPJkWnzJGWnGYXuHfrf0Vp2zj/l04207o8setn5vy6ARDmEowiEMRTiEoQiHMJSHHS/4K55oJ88d4RCGIhzCUIRDGIpwCEMRzqCGfkc1ekBcdOan3pI2P7yjcd5BjX4jHM3a+9Z2fY/+3e33kjtFGIpwCEMRTg5Dv14y0cv4b7vohHDbnGn0LhZ6ufuJB748vB6d0tfYVccfmR5ctyG87CJNdHpr+p16vQXhRG+1GXXy+16bbj3/uMaxPKLLzlWvt2XYCIcwFOEQhiIcwlCEQxjKw44X/BVPtJPnjnAIQxEOYSjCIQxFOIShCGcQQwe1ih4UF53+iX9sOir1IMYgEU5h3HLF+eFtV/o9YP1OcOu2/VQ4VUYYinAIQxHOsIYW+xMtaq8787ihnV4qG5u3PZGuP+fExltZRtepU5P3fUm67NjPdPz9+LIRdefSG9PF3z4kTXrbi8PL75ZezXPLlRemrdt/OaGTI8JQhEMYinAIQxEOYSjCIQzlYccL/oon2slzRziEoQiHMBThEIYiHMJQhNOvoZfCRg+Mi0772JvbXorbrzFohFM2Lj36E+F9oLRQeHjHM03b9lPZqSrCUIRDGIpwhjF6XezrvMM4vRYZWjwvmX1W42B90fXr1KR9XjSycP9I4x0HypcXGo881TDO+OQ/hZfVLf2AQV/ba1be3nSZkZM7wlCEQxiKcAhDEQ5hKMIhDOVhxwv+iifayXNHOIShCIcwFOEQhiIcwlCE049x85zz0nH7vDB8kKymH/KmtHHj1rbt+jGGiXDKho5PcOqH/yq8L9S8aUc3bdtPZaeqCEMRDmEowhnU6GexrwZ1+qmrsePZdNu8y9LMw98aXtdunfvFdzbeJ1+XUzY2rN+c5p1ydJr67leF23XrpPfsleZPPyZt2Lhl53UsVXaqijAU4RCGIhzCUIRDGIpwCEN52PGCv+KJdvLcEQ5hKMIhDEU4hKEIhzAU4fRqLLvm0vBBctGpH/7rtH79pnDbXo1hI5xWY/XyZeH9UaSXE5fP32utThURhiIcwlCEM4ihxb4Odhftg0ULT/9J0zaDOP3Wq6Gj5Z//1XeH17tbOlbI2iVXpjtvvinNOupj4XkmSpdx8+XnhterXK+3ZZgIQxEOYSjCIQxFOIShCIcwlIcdL/grnmgnzx3hEIYiHMJQhEMYinAIQxFOL8aKhVeGD5SL9HZa6+5fF26rejFyRDiRoWdNo/tF6feVddCy1m0mKnJyRxiKcAhDEU6/xn133TXhM9oLTju2bbt+nUHq19APLi753mHhbcidXrZ/1y2Lw+sR1e9tGSTCUIRDGIpwCEMRDmEowiEM5WHHC/6KJ9rJc0c4hKEIhzAU4RCGIhzCUIQzkaGXzU5++/8KHzArHb1aR62Pti2ayMgV4YTGjmfTOUfsF94/6oKvv799mwkKncwRhiIcwlCE049x/+rVaep7Xh3ud0XXnPzdcNt+nEEb1Fh73wONt7icvN/vh7dp0PSDkXknf6/x0v/I7dagt6WfCEMRDmEowiEMRTiEoQiHMJSHHS/4K55oJ88d4RCGIhzCUIRDGIpwCEMRTjdDL0fv9h7aWmg8sObecNty3YycEU4nQwuIbm87pnc2iLbrVCcnZ4ShCIcwFOH0agyz2Fe9OsM0rKFjglw99duNd76Ibl+v6eB9OoifDuYXOb007G3pJcJQhEMYinAIQxEOYSjCIQzlYccL/oon2slzRziEoQiHMBThEIYiHMJQhNPJuHvZ0q7vNa8H4Hr5bbRta52M3BFON+P2RVeH91XRvXfeGW4X1c3JFWEowiEMRTi9GFrs6yBz0X5WpIPXRdsW9eIMWy5j09bHGr860+976M866tCBj6PRWq7b0i3CUIRDGIpwCEMRDmEowiEM5WHHC/6KJ9rJc0c4hKEIhzAU4RCGIhzCUIQTGffcvjxNecefhA+glT6m87Ru16nIqCLCmci4ctJXwvtMTf/o36QtjzwZbtfaRE6OCEMRDmEowpnIeGDNfUM9s180kZOj3Iaeob/pould3x1Dr7TRqwIeXLs+vIxBy31boghDEQ5hKMIhDEU4hKEIhzCUhx0v+CueaCfPHeEQhiIcwlCEQxiKcAhDEU6rcf/dd6cT3vWy8IG0mnLAH6W7l93ctM1EtRpVRTgTGVsf/UU6/eN/H953Sr+XHG3X2kROjghDEQ5hKMLpZmixf9L7XhPuW0W9LPZVNydXVRkPP/Z0uuXKC9Ppn/jH8ds947C90+JZp/f8Q7V+q+q2lCMMRTiEoQiHMBThEIYiHMJQHna84K94op08d4RDGIpwCEMRDmEowiEMRThlo5ffCdbbX5W376WyUWWE04uhH5pE912R3ns82q5cL86wEYYiHMJQhNPJeOCeNRMu9vXMdrRtVCcnZ4Sx/rZrx9+Tv8qI20IYinAIQxEOYSjCIQxFOIShPOx4wV/xRDt57giHMBThEIYiHMJQhEMYinAKQ0fa1xH3WxcQRTpS/6APqguj6ginV+Omi08L70el4x9M9HLjXp1hIgxFOIShCCcyenlm/6rjj2zbrluRk7u6GIpwCEMRDmEowiEMRTiEoQiHMJSHHS/4K55oJ88d4RCGIhzCUIRDGIpwCEMRjkaLz1M+8BfhIkJN2vcljQPSRdv3kiY6PXeE04+ht+OL7k818zP/lh7e8Uy4nerHGTTCUIRDGIpwWo0qFvuq1amiuhiKcAhDEQ5hKMIhDEU4hKEIhzCUhx0v+CueaCfPHeEQhiIcwlCEQxiKcAhDEc4zTzza9QBYk9724rR8wZxw214jbocinH6MhzY/0nWhNn/a98PtVD/OoBGGIhzCUIRTNtbdv66Sxb4qO1VVF0MRDmEowiEMRTiEoQiHMBThEIbysOMFf8UT7eS5IxzCUIRDGIpwCEMRDmGoqh29x/UZH/ubcBGhJu3zonTrVbPCbfup6ttRRDj9GnpLsOP2eWF4/+r0Tm8Z1q8zSIShCIcwFOEUhhb7pxz8unjfGWvQxb4qnCqri6EIhzAU4RCGIhzCUIRDGIpwCEN52PGCv+KJdvLcEQ5hKMIhDEU4hKEIp2pj0VnHp3OO2D9d/JV3NP6sqm4v41dLLzsnvH79VvX9VUQ4gxh6Jj+6f9UpB/9545UArdsM4vQbYSjCIQxFOJq19z0w8WJ/yjfC7XtNE52es7oYinAIQxEOYSjCIQxFOIShCIcwlIcdL/grnmgnzx3hEIYiHMJQhEMYinCqNG654oLwwT3d4lkzwus3SFXeX+UIZ1DjrM/uE97P6sIjD247/6BOPxGGIhzCUITz1CObJvxh3NzJXwu37SfittTFUIRDGIpwCEMRDmEowiEMRTiEoTzseMFf8UQ7ee4IhzAU4RCGIhzCUIRTlXH3sqVp8r4vCR/gk914wbTw+g1aVfdXa4QzqKEDI+ro/NH9rW688NSm8w/q9BNhKMIhDFW1o5fxT/9g98X+FT/9Yrhtv1V9W1RdDEU4hKEIhzAU4RCGIhzCUIRDGMrDjhf8FU+0k+eOcAhDEQ5hKMIhDEU4VRh6Ce+JB70ifIBPdt2Zx4XXb5iquL+iCGcYQ8dDiO5zdfx+f5DuvfPO8fMO4/QaYSjCIQxVpbPs6llp2gdfH+4fRVdO+kq47SBVeVuK6mIowiEMRTiEoQiHMBThEIYiHMJQHna84K94op08d4RDGIpwCEMRDmEowsltbNr6WJp+yJvCB/hk80/9QXj9hi33/dUpwhnWuOyHh4f3vZr+0b9JWx55snG+YZ1eIgxFOIShcjv62l90zgkTLvRVrmf2i3Lflqi6GIpwCEMRDmEowiEMRTiEoQiHMJSHHS/4K55oJ88d4RCGIhzCUIRDGIpwchvnfeld4QN8sqtP/FZ43XKU+/7qFOEMa2ze9njXH+7M+fEXGucb1uklwlCEQxgql7P2vrWN38OfcsAfh/tBa1ce9+XwcoYp123pVl0MRTiEoQiHMBThEIYiHMJQhEMYysOOF/wVT7ST545wCEMRDmEowiEMRTg5jcuO/Uz4AL9o8SVnpFVLrq+sLXfdnO68+abwuuUq5/3VLcLJYay5Y0X4uS66bd5lWZyJIgxFOIShhnX0NowXf+vD4ee9U7mf2S8a9rb0Ul0MRTiEoQiHMBThEIYiHMJQhEMYysOOF/wVT7ST545wCEMRDmEowiEMRTi5DL39XvQAv2jFJSeH2+Us123pFmEowsll6GXc0edcnfCul6VfbN8abpezXLdlojo5ejn7ho1b0roH1qX777473XP78nTXLYvTyhuvTSsWXtn4nXa9NeRNF52Wrj/nxLTw9J803uLwqhO+ka74yRfTZcccnmYd9bF04ZEfSJcc+e50yfc+npbMPqtxmZGXo063ZaJunnNeOuM//nf4+e5W8YqPKhr0tvRTXQxFOIShCIcwFOEQhiIcwlCEQxjKw44X/BVPtJPnjnAIQxEOYSjCIQxFODmM5QvmhA/wiy7/0eeyOBNVF0MRTk7jvC8fGH7u1YVf3C/cJmett6VpAb56deOVCHffuiStWnzdzgX45SML8ItHFuDnji7A5007enQB/tORBfgPD0+XfHd0Aa7bds5/vj2d+am3pJmf2DtN+9Dr00nv3avrOxXk7PRP/GPjfepvX3RN2vKznzfdzmFqvc+69dCmn6WFZ/wknfy+14bXcaJyvPVet/q5LYNWF0MRDmEowiEMRTiEoQiHMBThEIbysOMFf8UT7eS5IxzCUIRDGIpwCEMRzrCGnsmccsAfhQ/ylX6nX+cb1umluhiKcHIaGzZsSVPf/apwH1BXn/DNtHHj1pEF+IPBAnzuyAL8kuYF+MjiUgde1HblBfhF32hegJ/2sTc3FuCnvP812AJ8V3fuFw5IC8/8aVq9/Nbwc9FrvXz+H7hnTeMVCHrnhei6dGvKO/4kXT/tW42354suO2e93JZhq4uhCIcwFOEQhiIcwlCEQxiKcAhDedjxgr/iiXby3BEOYSjCIQxFOIShCGcY48F1G9JJ73tN+GBfnXbo36ZNW7Y3zjuM02t1MRTh5DbuuH5euB+46jrxwJenWd/5aOMHJfp6jD4vner2+devIlx45MGhOVHTPviX6cYLTmkc1LGbkTPCqYuhCIcwFOEQhiIcwlCEQxiKcAhDedjxgr/iiXby3BEOYSjCIQxFOIShCGdQQw/mz/jkP4UP+NWJ7/rTxvvxF+cf1OmnuhiKcKowrjr+yHB/cEx6xcOVk77a+DWbzQ/vCD9HRdHnf8mlM9PpH//78LIn6twvviMtv/bKpsuLjCoinLoYinAIQxEOYSjCIQxFOIShCIcwlIcdL/grnmgnzx3hEIYiHMJQhEMYinAGNSZ69k8v1y6ff1Cnn+piKMKpyuj2gyDHdtbn3pYWnHZs4wCCrZ+n4vOvYx1ce9qP0knv2Su8jInSMTruvfPOtstXhVF1hFMXQxEOYSjCIQxFOIShCIcwFOEQhvKw4wV/xRPt5LkjHMJQhEMYinAIQxHOIIYOIBY98C+65coL27YZxOm3uhiKcKoy9Hvfx+//h+G+Ued0LAsdx0Avadevs+hI9jrWgI45cNE3P9g48v7lx342XTnpK+maqd9JC6b/MOyWc0ePX9DtQIiDpPfJ10EIbzj/5MZxFHY8dF/j+kTnnSgdvE8HOtz40MPhPlBU1T7WGuHUxVCEQxiKcAhDEQ5hKMIhDEU4hKE87HjBX/FEO3nuCIcwFOEQhiIcwlCE06+h3xWOFgBFWrBE2/XrDFJdDEU4VRpLLj0z3D92RcVC/JQP/MX4Qvzsz+/bcSGuZ7v1NpM3XnhqWjr77HTr3IsbL1XXAQa33bs8rVl5e+OHGg+uXZ82btqW9cj5qvx52bzticZBDXXddHDC6PaR6dUb0Q/0OlW+LVVGOHUxFOEQhiIcwlCEQxiKcAhDEQ5hKA87XvBXPNFOnjvCIQxFOIShCIcwFOH0Y+hAXpPe9uJwIaAu/vYh4XaqH2fQ6mIowqna0P4Q7Sdq0j4vajzjPPU9rx57RvzvGkfd10L8/K8cNLIQ/1C69OhPNF4urt9Jv+ako0YX4mdPSTddNH10IX7VrMZb7K28aeHIQnzFyEL8jvTAmnsbB6/T28hteeTJ8HoNU9X3mepm6PbpgHgXfO292KsoJu37kjTrqI+lu5ctDa9Tt7rdlpwRTl0MRTiEoQiHMBThEIYiHMJQhEMYysOOF/wjs33Ooe0PLqauGPuoZkWaVfrYrJVjJ49N0/ZHzE7bx07XRDt57giHMBThEIYiHMJQhNOrcd/dd3d927OzPrtPuF1Rr84w1cVQhFO1oXdo0LEctq+/J92/+p7KnhFXVd+WIsLpx7jjhvmNAyXqBybR1+UwnXjQKxo/aHlw3cbQ7qV+bsswEU5dDEU4hKEIhzAU4RCGIhzCUIRDGMrDjhf8I9NYsLcs1HfO9rToiBekGXPGPvro7DTj3w9Nix4d/WdaOXnkAcnktHrsn6unjjxAKf2wINrJc0c4hKEIhzAU4RCGIpxeDP2ebreXE+tju8Pv8tbFUIRDGIpwCEMRzqCG3u/+xgumNQ6oqV9jiL5We2n6IW9Mi2fNyPIKiUFvS78RTl0MRTiEoQiHMBThEIYiHMJQhEMYysOOF/wj03XB31jg71zQt/4AQAv88R8GaFp+ABDt5LkjHMJQhEMYinAIQxHORMbWR55KZ376X9oWBUV61l8vM462LTeRk6O6GIpwCEMRDmEowslhbN3+y8avOlx94rfSjMP2Dr92m9rnhemCr70v3XHDgvDyBi3HbeklwqmLoQiHMBThEIYiHMJQhEMYinAIQ3nY8YJ/ZNpe0l9+OX/LAl6z81n8lmf/NS2vAIh28twRDmEowiEMRTiEoQhnIqPr72G/7cXpzqU3hNu1NpGTo7oYinAIQxEOYSjCqcLQy/IXX3LGyNfzR5p+NUfHUbjyuC+ntfc9EG43bFXclijCqYuhCIcwFOEQhiIcwlCEQxiKcAhDedjxgr9tRn9ff3wRrwV/y7P/rQv+pt/pb33Jv8fjGXqWnvWjpgV+a6sXnD92To/H83yaratvTXddfXb6zbO/HDvF4/F4PB5PzvGCP5jGM/7Fs/x+hr8RYSjCIQxFOIShCKeTobfeihb5RXov/mi7TnVyclYXQxEOYSjCIQxFOIShCIcwFOHUxVCEQxiKcAhDEQ5hKMIhDEU4hKE87HjBH0zTgt+/w9+IMBThEIYiHMJQhBMZevutyfu+pG2RX6SDgj2845m27boVObmri6EIhzAU4RCGIhzCUIRDGIpw6mIowiEMRTiEoQiHMBThEIYiHMJQHna84NcCfmr5JfujL+nf+TL9lmfxW1+y37LA3/ns/+hEO3nuCIcwFOEQhiIcwlCE02roSN8nHvjytkV+0emf+MeB3lat1amiuhiKcAhDEQ5hKMIhDEU4hKEIpy6GIhzCUIRDGIpwCEMRDmEowiEM5WHHC/6RaSzSSwuJpmfsG+P34ScMRTiEoQiHMBThlI1NWx9L0w95086vq5ZOet9r0ob1m5u277WyU1V1MRThEIYiHMJQhEMYinAIQxFOXQxFOIShCIcwFOEQhiIcwlCEQxjKw44X/BVPtJPnjnAIQxEOYSjCIQxFOIWht/E654j9w4W+On7/P0z3rlrZtn2vFU6V1cVQhEMYinAIQxEOYSjCIQxFOHUxFOEQhiIcwlCEQxiKcAhDEQ5hKA87XvBXPNFOnjvCIQxFOIShCIcwFOEUxqVHfyJc6Dfa54VpxcK5bdv2U+FUWV0MRTiEoQiHMBThEIYiHMJQhFMXQxEOYSjCIQxFOIShCIcwFOEQhvKw4wV/xRPt5LkjHMJQhEMYinAIQxGO5rqZk+KF/liLzp4SbttPmuj0nNXFUIRDGIpwCEMRDmEowiEMRTh1MRThEIYiHMJQhEMYinAIQxEOYSgPO17wVzzRTp47wiEMRTiEoQiHMBThrL/t2sYz+NFCX1127GfC7fqNuC11MRThEIYiHMJQhEMYinAIQxFOXQxFOIShCIcwFOEQhiIcwlCEQxjKw44X/BVPtJPnjnAIQxEOYSjCIQxVtaPfyZ9ywB+GC32l3+l/+LGnw237rerboupiKMIhDEU4hKEIhzAU4RCGIpy6GIpwCEMRDmEowiEMRTiEoQiHMJSHHS/4K55oJ88d4RCGIhzCUIRDGKpK58F1GxpH3Y8W+kpH69+0ZXu47SBVeVuK6mIowiEMRTiEoQiHMBThEIYinLoYinAIQxEOYSjCIQxFOIShCIcwlIcdL/grnmgnzx3hEIYiHMJQhEMYqipn5U0L07QP/mW40FcnvutP09r71obbDlpVt6VcXQxFOIShCIcwFOEQhiIcwlCEUxdDEQ5hKMIhDEU4hKEIhzAU4RCG8rDjBX/FE+3kuSMcwlCEQxiKcAhD5Xa2PPJkunLSV7r+zv7k/X4/3b1sabj9MOW+LVF1MRThEIYiHMJQhEMYinAIQxFOXQxFOIShCIcwFOEQhiIcwlCEQxjKw44X/BVPtJPnjnAIQxEOYSjCIQyV01m9/NY0/ZA3hov8crfOvTjcfthy3pZO1cVQhEMYinAIQxEOYSjCIQxFOHUxFOEQhiIcwlCEQxiKcAhDEQ5hKA87XvBXPNFOnjvCIQxFOIShCIcwVA7n4e2/TPOnfT9NetuLwwV+uQXTfxheRo5y3JaJqouhCIcwFOEQhiIcwlCEQxiKcOpiKMIhDEU4hKEIhzAU4RCGIhzCUB52vOCveKKdPHeEQxiKcAhDEQ5hqGGd+1ffk874j/8dLu5b00v9o8vI1bC3pZfqYijCIQxFOIShCIcwFOEQhiKcuhiKcAhDEQ5hKMIhDEU4hKEIhzCUhx0v+CueaCfPHeEQhiIcwlCEQxhqUOfhHc+kReec0Ph9/GhxX+6U9746rbzx2vBycjbobemnuhiKcAhDEQ5hKMIhDEU4hKEIpy6GIhzCUIRDGIpwCEMRDmEowiEM5WHHC/6KJ9rJc0c4hKEIhzAU4RCGGsR5cO36NPMz/xYu7lu76BsfSL/+5c/Dy8ndILel3+piKMIhDEU4hKEIhzAU4RCGIpy6GIpwCEMRDmEowiEMRTiEoQiHMJSHHS/4K55oJ88d4RCGIhzCUIRDGKpfZ8mlZ6YT3vnScHFf7sSDXjF+cL5+jUEjnLoYinAIQxEOYSjCIQxFOIShCKcuhiIcwlCEQxiKcAhDEQ5hKMIhDOVhxwv+iifayXNHOIShCIcwFOEQhurV2bhxazrvyweGi/vWdL4NG7aMb9urMWyEUxdDEQ5hKMIhDEU4hKEIhzAU4dTFUIRDGIpwCEMRDmEowiEMRTiEoTzseMFf8UQ7ee4IhzAU4RCGIhzCUL04y6+9svGMfbS4LzflHX+SFl9yRtv2vRg5Ipy6GIpwCEMRDmEowiEMRTiEoQinLoYiHMJQhEMYinAIQxEOYSjCIQzlYccL/oon2slzRziEoQiHMBThEIbq5mza+li69PufDBf3rel3+vW7/dHldDNyRjh1MRThEIYiHMJQhEMYinAIQxFOXQxFOIShCIcwFOEQhiIcwlCEQxjKw44X/BVPtJPnjnAIQxEOYSjCIQzVybnj+nnppPe9Jlzcl5tywB+lGy+YFl5GUScjd4RTF0MRDmEowiEMRTiEoQiHMBTh1MVQhEMYinAIQxEOYSjCIQxFOIShPOx4wV/xRDt57giHMBThEIYiHMJQrc7mbU+kOT/+Qri4b+3MT70lPbDmvqbto1qNqiKcuhiKcAhDEQ5hKMIhDEU4hKEIpy6GIhzCUIRDGIpwCEMRDmEowiEM5WHHC/6KJ9rJc0c4hKEIhzAU4RCGKjt337oknfrhvw4X9+Um7/uStPD0nzTei798WZ0qG1VGOHUxFOEQhiIcwlCEQxiKcAhDEU5dDEU4hKEIhzAU4RCGIhzCUIRDGMrDjhf8FU+0k+eOcAhDEQ5hKMIhDKXZuv2Xad7J30uT3vbicIFf7rRD/zbdd9dd4WV1ShOdnjvCqYuhCIcwFOEQhiIcwlCEQxiKcOpiKMIhDEU4hKEIhzAU4RCGIhzCUB52vOCveKKdPHeEQxiKcAhDEQ5hqMc3r02nf/wfwsV9uUn7vChdM/U7aeujvwgvp1vUbSGcuhiKcAhDEQ5hKMIhDEU4hKEIpy6GIhzCUIRDGIpwCEMRDmEowiEM5WHHC/6KJ9rJc0c4hKEIhzAU4RDGorOODxf3rZ364b9Kdy9bGl5GLxG3RRFOXQxFOIShCIcwFOEQhiIcwlCEUxdDEQ5hKMIhDEU4hKEIhzAU4RCG8rDjBX/FE+3kuSMcwlCEQxiKcHIa9965Kt1y5YVp3rSj0wVff3+a9sHXhwv7qCt+8sW0edvj4eX2Ws7b0i3CqYuhCIcwFOEQhiIcwlCEQxiKcOpiKMIhDEU4hKEIhzAU4RCGIhzCUB52vOCveKKdPHeEQxiKcAhDEc4gxroH1qUVC+em6848Ll169CcaL9XXAfaihfxEnfTevdLKG68NnX4b5LYMEuHUxVCEQxiKcAhDEQ5hKMIhDEU4dTEU4RCGIhzCUIRDGIpwCEMRDmEoDzte8Fc80U4+UVseeTI9tOln6cF1G9ID96xJa1be3jgy+qrF16Xl116Zbp17cVoy+6zG+5pfd9bkdOv5x6Ull85MK29amNbee394mcM26G3pN8IhDEU43YxNW7anO5fe0NhP5vz4iHT25/dNUw7443DhPkizjvpYemjzI6E9SN1uS84Ipy6GIhzCUIRDGIpwCEMRDmEowqmLoQiHMBThEIYiHMJQhEMYinAIQ3nY8YK/4rnm5O+muZO/li7/r883nk296JsfSud/5aDG4kvvT37ax97ceOn01Pe8Outi7JQP/EU65z/fnmb/4FNp/vRjGj8gWLV4UVp739rwC2+iNNHpuSMcwlCEUxj33L48Lb38nHT11G839q+T3/facL/I0YkHvjwtu+bStusybMVtqTrCqYuhCIcwFOEQhiIcwlCEQxiKcOpiKMIhDEU4hKEIhzAU4RCGIhzCUB52vOCveKIF0+7QtA/+ZTrniP3S7GM+nRZM/2Faetk5adWS69O6+9d1/MKMTs8d4RCGqtK565bF6Yqffimdcdjfhp/fqrrga+9LG9ZvDq/TsFV5f5UjnLoYinAIQxEOYSjCIQxFOIShCKcuhiIcwlCEQxiKcAhDEQ5hKMIhDOVhxwv+iidaND0f0qsOzjli/3TZDw9PC047Nq1ZeFFjkRl90eZME52eM8JQuZ01K+9I15x0VDrl4NeFn7Oq0qtQrvrhJ9PNl58bXq9c5b6/OkU4dTEU4RCGIhzCUIRDGIpwCEMRTl0MRTiEoQiHMBThEIYiHMJQhEMYysOOF/wVT7SAej53/H5/0PhBgH5NQMcM0PEGoi/kQdNEp+eMMFQOR7+CsfD0n6QZh705/Hzk7MSDXpHO/eI70tzjv56Wzj678WsCWx95qnE9ctyWiSIMRTh1MRThEIYiHMJQhEMYinAIQxFOXQxFOIShCIcwFOEQhiIcwlCEQxjKw44X/BXP8fv/Ybi4qlNnfXafNO+Uo9Pti65Omx/eEX5h95omOj1nhKEGdTZs3JJuOO+kxv0a3d85Ou3Qv0uXfPdjjR8m3L7omvTg2vXhdSka9Lb0E2EowqmLoQiHMBThEIYiHMJQhEMYinDqYijCIQxFOIShCIcwFOEQhiIcwlAedrzgr3j0rGm04JqoE971ssaB1079yBsab5s28zP/1nhmPerir7yj8ecZn/zndMI7XxpeHpkORnjVCd9IKxZe2ThSfPSF3ilNdHrOCEP142za+ljjWfXzvnxgmvS2F4f36yA1nrX/wgGNZ+114Mbys/b91M9tGTTCUIRTF0MRDmEowiEMRTiEoQiHMBTh1MVQhEMYinAIQxEOYSjCIQxFOIShPOx4wV/xXH/e1LTonBPSTRed1vgdaB3dXM+E6+3SVi+/Nd17551p7X0PNA6EpkVf9EUxUZryv/VWaVrY3TZvdsO+8rgvNw62pt/F3hWvODj9E/+Yrpz01ZHrc1nauGlb03VtrfW2VBFhqIkcLby1P1z87Y+kyfv9fnjf9Zp+SDD+rP2ZP023X3dV420dI3eQJrotOSIMRTh1MRThEIYiHMJQhEMYinAIQxFOXQxFOIShCIcwFOEQhiIcwlCEQxjKw44X/BVPtJPnrl9nw4YtafVttzTez1+Lwzn/9Z+NZ5anH/LGcDGZO/0++hU//WK65Yrz24743u9tGSTCUJ2cO26Yny475vA05R1/Et4/vaa3drxz7szGD44iJ2edbkvOCEMRTl0MRTiEoQiHMBThEIYiHMJQhFMXQxEOYSjCIQxFOIShCIcwFOEQhvKw4wV/xRPt5LnL7eiZ4TtvvqnxioRrT/tR40j9537mX8JFZ46mH/KmxgJ48azT0xNb1qXN255ovEph/fpNjbcJvH/16sYR6vVDijuX3jiyYF7Q+HWBZVdf0vihwZJLz0w3Xnhq49UMC8/4SeNtBq+Z+p00d/LX0pwff6Fx2Zd877B00Tc/lC742nvTrK++q/Hnpd//ZLpy0lcaByDUKzF0e3W5ejeC++6+e+i3nyt/Xu5etrRhnfSevcL7oNf06xK6nesffKjNqDLCIQxFOHUxFOEQhiIcwlCEQxiKcAhDEU5dDEU4hKEIhzAU4RCGIhzCUIRDGMrDjhf8FU+0k+eOcDT6fXwtiK8+8Vtp5uFvDRekdWzKAX+UTjn4zxvHUtCxEvSDg8uO/Uy6+oRvNn7AoF/X0KslVt54bVq9fFm6Z8VtjQX5YxvWpGtO/m7jLQ6jy+01/SqGfvDywJr7ws9L62lVRDiEoQinLoYiHMJQhEMYinAIQxEOYSjCqYuhCIcwFOEQhiIcwlCEQxiKcAhDedjxgr/iiXby3BFOZOiZeD3bPm/a0Y2Xl0eLVTdY0z74l2neyd9rvLKh9X4vF31eqohwCEMRTl0MRTiEoQiHMBThEIYiHMJQhFMXQxEOYSjCIQxFOIShCIcwFOEQhvKw4wV/xRPt5LkjnF4NHYzw2tN/3DgmwJ7wloQ507sy6Gj6+tWF6L6N6vXzMmyEQxiKcOpiKMIhDEU4hKEIhzAU4RCGIpy6GIpwCEMRDmEowiEMRTiEoQiHMJSHHS/4K55oJ88d4QxiPPzY040Dyul3zi/6xgfSiQe+PFzo7slNPeiVac6Pj0irllyfHt7xTHg/dmuQz8sgEQ5hKMKpi6EIhzAU4RCGIhzCUIRDGIpw6mIowiEMRTiEoQiHMBThEIYiHMJQHna84K94op08d4STxdjxbLr3zlWNA+zNOupj6aT3vSZcBNe9E9750jT7B59qvD3jw9t/Gd9XPZbl89JDhEMYinDqYijCIQxFOIShCIcwFOEQhiKcuhiKcAhDEQ5hKMIhDEU4hKEIhzCUhx0v+CueaCfPHeFUZeho+DddfFq65HsfHz+4nX4VQK8G0A8Epn3o9em0Q/82nfHJf0ozD//XxkHz9OsCFx55cJr1nY82jrR/+bGfTVf89EvpqinfaPzeu47S361bzh09kn/R/Gnfb2yv63D+V9+Tzvrsv6fpH/2bNPXdr2pbrA/a8fv9Qbr424ek2+bNTlseeTK8Lwapqs9La4RDGIpw6mIowiEMRTiEoQiHMBThEIYinLoYinAIQxEOYSjCIQxFOIShCIcwlIcdL/grnmgnzx3hEIYinH6NTVsfS+seeLBxAD299P62eZelJZfOTIvOntI4YOEVP/liuuS7H0vnf+WgxrsX6K3zTn7/n6Up+/9B4wcIeuvAzQ/vCC972Pq9LYNGOIShCKcuhiIcwlCEQxiKcAhDEQ5hKMKpi6EIhzAU4RCGIhzCUIRDGIpwCEN52PGCv+KJdvLcEQ5hKMIhDEU4hKEIhzAU4dTFUIRDGIpwCEMRDmEowiEMRTh1MRThEIYiHMJQhEMYinAIQxEOYSgPO17wVzzRTp47wiEMRTiEoQiHMBThEIYinLoYinAIQxEOYSjCIQxFOIShCKcuhiIcwlCEQxiKcAhDEQ5hKMIhDOVhxwv+iifayXNHOIShCIcwFOEQhiIcwlCEUxdDEQ5hKMIhDEU4hKEIhzAU4dTFUIRDGIpwCEMRDmEowiEMRTiEoTzseMFf8UQ7ee4IhzAU4RCGIhzCUIRDGIpw6mIowiEMRTiEoQiHMBThEIYinLoYinAIQxEOYSjCIQxFOIShCIcwlIcdL/grnmgnzx3hEIYiHMJQhEMYinAIQxFOXQxFOIShCIcwFOEQhiIcwlCEUxdDEQ5hKMIhDEU4hKEIhzAU4RCG8rDjBX/FE+3kuSMcwlCEQxiKcAhDEQ5hKMKpi6EIhzAU4RCGIhzCUIRDGIpw6mIowiEMRTiEoQiHMBThEIYiHMJQHna84K94op08d4RDGIpwCEMRDmEowiEMRTh1MRThEIYiHMJQhEMYinAIQxFOXQxFOIShCIcwFOEQhiIcwlCEQxjKw44X/Blm+5xD03H//oLRjpidto+drol28twRDmEowiEMRTiEoQiHMBTh1MVQhEMYinAIQxEOYSjCIQxFOHUxFOEQhiIcwlCEQxiKcAhDEQ5hKA87XvAPOysnjyz0J6fVY/9cPXVk0T91xdi//A2g3wiHMBThEIYiHMJQhFMXQxEOYSjCIQxFOIShCIcwFOHUxVCEQxiKcAhDEQ5hKMIhDEU4hKE87HjBP+RogT9jTuk5/ZYfAEQ7ee4IhzAU4RCGIhzCUIRDGIpw6mIowiEMRTiEoQiHMBThEIYinLoYinAIQxEOYSjCIQxFOIShCIcwlIcdL/iHmu1p0REtC/5HZ6cZ/35oWvTo6D+jnTx3hEMYinAIQxEOYSjCIQxFOHUxFOEQhiIcwlCEQxiKcAhDEU5dDEU4hKEIhzAU4RCGIhzCUIRDGMrDjhf8Q83ogn/WyrF/aloW/B6Px+PxeDwej8fj8eyK8YJ/qJn4GX6Px+PxeDwej8fj8Xh2xXjBP+RM9Dv8Ho/H4/F4PB6Px+Px7Irxgn/YmeAo/R6Px+PxeDwej8fj8eyK8YI/w3R7H36Px+PxeDwej8fj8Xh2xXjB7/F4PB6Px+PxeDweTw3HC36Px+PxeDwej8fj8XhqOF7wezw553djf9Zh6nRbPJ6qp0ZfL7/1177H09v4/3yPx/M8GC/4PV3nud+M/aXCee7pp9IzFTvPPLo9PVX1f2Y7lqQLPnJUuv3psX9XMb97Kt1+yey0oUpDo9vywTekmddUe0QKfe6fevq5sX95dpv5zXPpt2N/rWx+91x66qmKnZGvl23AW6Q+s/a8NOPjZ6QNY/+uYp5ZOzstWPzU2L+qmufShvM/lY77yCnpvl+NnVTFND73I9/3vcDY7cb/5/cx+v/4JwemcxZX+3/Y44vPS4vWVvz/pP/P37Nn5Hvyc5V/vQD/53s6jhf8GWfbdUelqfvr4H2vTVO/dV66r4rHZr/blFat2DT2j+qm6bZMWpIer+IbwdOr09Wfe8PowQ73PzBddldV/wmsTpeN3JapU1dU9wCg8Z/lvumCSh+QP5dWT903Tf3JdWl7ld+Yi9ty5rFp6qHnpc1jJ2edkf146dEHpikfGemdI/vYqatHbl3+0UJs5ntfO7qPffyoah406bYcc+D4fjzzotWV7GfP3LMk3Vf1D3rKX5Pv/EJaUNGDzJ3fX0Y68qrKDnT6+NyRxev+n0qLtoydUME0Fvvv/FRl91Vjts0eM6r9/tJY7H/pjHTFkS8Y+V5Wze155p5T0rT3jnwf+8jejX1saRU/kNFCbMrBY1+Te6cZp66o5P+wZ+45Y+TzMrYff25yWlbJfvZcum/Z6vTM2L+qGv+f3+c0Fvv6/7ii+2psnlk5OU394LFpWZU/uPT/+f0N9H9+2rYirdo29veqpuW2zKroMSz1f76n83jBn2vuOyVN/dJ5o8+8/m57WnXKyIONKh4w/25FmjXyH/KMOdUt+p+5+dg05fBT0uonUvrtE0vSrA++Ns28LvM3gZFvMou+tHeaOXI79NO+p244qsK3M9R//oemGV8a+U+migcAyGJ/ZEb2sSlHzE7bKnxw0XxbNqUFhx6aFmV/oKEfXBycZq0Yu7+eHjH3PyrdnvsZxUevSjM+MvZA6XfPpW03jDyY2T//52ndjAPTjPPXNh6Q//bRJemyw0cebBw59r0g42y77NB03Acnp9VVLfpHviYXHH5gOmfBpvTcyP21+bKRxd8HT0nrMu9vjQewH5mcVunT8Lu16er/qGIfGx0t+Kd+aaSKFv3IYj89lZZ+6y0jXy9VGsVif3S/fW5xRd+PH5098n14dto8tk9tPv/gNPX83P+XjSyQTxn9mtT3+t8+sTotOHJkkVn8/5xrnrguzRz5/nL7jpG/jyz+1s35+sh+VsUD5pH/Kw8fXbxWtej3//l9DrTY1+244r0j3x+rXPT5//y+h/o/P604dvQH1pV9/p8b2Y/3TtNmjH6NPLVs5P/m/b+elo58H8g55P/5ns7jBX+mue+U16Zzbmh+QLZt7hfyf7HqmZ4PjvxHNvIfciWL/l+tSLP0H0zpi7Hx4O9b14087Mw3jbcy/NGSnQ9gHjovzTxzSVq3bEladd/2zC/52Z4WHaGF0tq0YPwBwMgD3PtGH3gMNyPfvD4y8mBsxurxy3pm7VVp1lcPTFO/OjktzbgQ0H027bKxz/mOFemykQdPjZ+Wfu6UtEoPOoed4AcX62a8ZWQ/y/yz2KdGHigfPjuVvyxW/eSotOiekc/9stXZXr2w+fwD08wFzXvtMzd8feQ+OzgteGjshKFHDyy/npaV/6MfeWB7Y2OBkfOHM8+lVZP2TdM+d3Bli37tX1NGvjZ27rF68PeWdMV9Y//MMY3vL+X7Xw84vp5uvGfFyOd+Rdqc93FZSiMPNPR98vHFeuA3tujftjaty+E8fV06Z/+RBcyCnV8fj684I53zuQPTtKPOyPM12Rj9kPfYtKqxL41835pzVJqmZ5VHFpfnzBl90DncNC/2G6Ov0f1H9rPMixl9P5lVXuNtOS+dM+O6tHrk+/7qhzJ98n818n3svaek+8rXXQ8yDx25z8r/5ww5jR8mnb127F+j03hgO7LAmLUy4w9nnh75/H/w4DRjZFFRyaLf/+f3PRtG/m/Rr72M/zB0xFk65Qtp6qFfSLMW5PiaHBv9gKz4v/J3T6VVp34qTdGzpO88NF1WLJ6HGf+fP8BQ/+eP/pB/6udGqmjR/9zI9ys9ibTzsz3y//GPXpD3h330//mejuMFf6ZpPFie1P6f8bY5eZ8lu++ikUWkvvC3jTzYrGLRr29cl5Uf9I+M/tNp+qYw/Px2y1VpWfFYqfGT/5H/lL96SlowcvtmvDP37dJ//l9PS/WNZewBwHHvfEO2B0+/3TJy/zR+irw9PbVi5AGf/jNesCQtu0TP+OT7Rv3UdSP/cY1c58YDwI8cnC5btik99dSm0VeT5NjHnl6dlrU+iBj5DyH3A7/GA/L9D01XjzzIe+rRtWnZ2SMPlN6598gi6dh0gV7u+ZEzsny96IFL8wNyLZpHPjczRh7MZtuftW8Fz74W+/SM1WMnDDk7rkuXna2X9T6X7ptRzaL/mZXnpaUtz4KvnvqCkcXL2D9yjB60XrdkfH8aXSAdnM656Lx09bdGHkTnvl16QDP2ORhd9I/sX+/M+DWpr/eRr3G91L7xioiPHJUW3LAkLW18Tea6LWPP8o0syPT/ydSjZ6d1jz6Vtt83u/F/QI4HZ9tWXNfy7NTofp31hz0js/mSg9OUH12Xtj31VNq2cnaapa/3g7+QLtBiaeRzc84NGb7TaHHx7y0PyPWD8qNPSVf8x8jXaq7FuL43Bq+4Gt2n8z1L9viCyenqe0au88j35yuqWPT7//z+p7j+P1mStj+hH8i8Ic049aq06obz8j4uG//Bm54hPzBNO2XJ6NfOsslp2shjjqG/Pv1//gAD/Z//m9VpwZSR75Uj98u2kcd+lSz6t12VFi1rvh3///bu9zWKZGvg+B/hX+Fb3+27fbMgCOIDgSAIAUERAopwURAE4eIFcUNgYCIEb1hxw6IYXDYuBCIrmywEIgkyC4GEFX9AwLAKAwaJKNRzTnX3THdPz0xXdU/fTfP9gC9iNJMzU11Vp7rqtOYypS74VD3moy8S/rJoEjZ2vLtlqaNtVq+WvGIWyUj6R1JwJzX47//5yDzVCUhZpENInFHcvisdwpQpc67ZakR3MIJz8LdPBBOnsrb6BUn/Edt52W1LId2yertZ0gDwYVEG//NmoXHeJM/X6gB01Cy8CL8skx4h0clryc23c55LJ2GaAETtVgfNiyUlma/um5nvjpv53/bM/qe22dG7mDKReW/vXJ83z0q6A7u/ftNMpz53Sz8vSTzKfu+0Dfck/SMqspdI+OWzef6TTDhLumbUl7crsTOKB2btxhEz+0uJkw3tu3SRTNlz8DLx14lTidv7bdKvO21iW9U1luf/kb65pFi27shEtjFl5i/cj72GvIouaFxelDZdPruIXdbkNdI5w60LL5oAtLs7o/Q6KmVSHrz3umNh58OB2X+7bO9ianJk71yX1R/bvko+44Xeu8b6eZX+3qmMpJ8xP9uox/wowbstY0xi3qfjTmmx6PxR2lhzysymdqfYHRNlteU4xvyhqh/z9f1LJf1fR1NkL5nwy1zj8aNSaweNfMxHXyT8Xg7My4eXgq1Vuq1yOUi47cpVuvMXui3Ha8Xs7xXz4KxOjuR1Ju9mX3SdpH9bkoAJMyOTDKeJvwy8neJGOgHLGtRjg39QcOmSeea40tgtpCKD7r+DVcu+dDX4O0lmwi9zGxCLro4vvQoGfjtZirb63XF8v0S/WL7IxPJ5atuYnWB+73FOsU8sdseI3r1KDSib3/sl/MM/l2CLV6ECXoPa8Qvdcp28Nvxiyb4m2y+iolrHzIxOMmx8ukCS3MKaW7tllq5PmMbEKTM3vRhuDQ8nlD0TAJnIXPB7nTe/TZk5eY3G5BXzZC1ru2s36d/clj7g7CWz6jqZyYwlqZPwy6RMCy41mo53yHRi/9MVM6Ox2CMuGS8So1syffpKvfbsMZqJCXPvh5XuFlHtu3SiHBa908lScKff4/0aEEt7fbnnLoXG0jmC4yAzFrut+4hp/De5hVwXMWZ8Ev48n4tMnosW8Or7ucg1+Oxyqo/3jSWrHWt7jQpRjZ3vjgV69zJaAHISHqXQ92vyull6Eb5f2q4kkexJ+vXsrc/r6FEt+35JLHekv8oa82NJ/44kATM2oXHRJ5a4Esb8XLFECoz5m3d0K728zr+aZu3tqMb8R2Z+UmOZMPMPW91z+9LO1n5PXeM2lugIjoN+sdg2dkTGtNTnpG3MI+HvG0tHCWP+gM+lvDE/O5bSx/yPe2avp+2WP+a/f5dxHaZ0kv5t6QMmx83Pf4bfyCszlqRuwh/MMaavLg6er2fIE0vEd8yHOxJ+D28eTpi5qCDQ2/vSGctAFV4Q0Rk+PVtpV5LbOlEbN0uud5S0qMnZqPiIdJ7fDzhXtbto5v5PBjLXybh27LfG7WqoDoDttT53WMJJ83vfgV8mjrNX73cmYksXjw5YzT0wO9rJyADtNtwMjsWehTodDvzh35mPr80b10m/SywywXiiW7+ct5AOikUGmqZug7oinX7QqdpCKz5b+nPGYo8SyOfvNfwPa8cy+N8+J797OAjZnRLxs5E5Dbome+jvdPKme8Gg+FEK3ZYYFuYM7hZnfC565/ece8IU37a9uxFsEdVru/fOlAzI+pryOzhfkwNj6bKT5m3PZF/fk8421D3z8jfdhnqsU7Srx9+L5t4Jj8mSTojPyPuu20XfrpulGzIR6xQIkji1InxqG//7V69HHMuymU+di85lUCzaz588an8Hmzh/1juM8js47x7LG4seJdCkKfzS1aBYpDd7JsnXvei8rfYN8js5x5KzHUd0x9XMQ/dFmD09r39j0by026mbdqeILq7bazL9uUhfqp/L/B+OPeanllmQWH7e0G3PLfNUFyykP0kfs7Ek6V/QmgQek/GBsUSKjvkusUh79B3ztf/TgmN70o53HusdZJl7LQXtuLQx3xaCk9/9r7a04xWzoDtULjT7PIXpwLz8IV0LJY/BsaTnlUFhRY8t/TljKTTmD4mlrDHf6XPxHfOFvWkj/VbvtvPyxvygXo70wb8M75u0Ntj0iVNmweNoUv9YujTh15oOvsm+SyzeYz68kPC70tXbxAWtq6HXzdoH6XTC50vaqp1226IMyHqeu2eb/3B61jGxwirJ2Zye4dVnFye28Okq3IRMNlwn40ISo5lEpy4X6tW70hGnnpOqd0XOykTJZ+DX90eS1/ikUTudeZnYpZ/DvK+TQp0Y+FRTHhaLTMJWH3u8Rwk5Y9HqsGt3zdyZY51Krk5yfC56B3g2vDM/ffmuxyMg838udpvaSRlIwy9dDG/He2ZVi92clInZxHEzHVW9dpHjmozYit0yGffZQqYDYTpZsJXzY+d19+wEWu8uyB+fYoqaoKYnJva4UFAYMkF395z1uSbzxaKfjZ5VnLngk+wLTRrSkx9NAqXNJhK7z21JOvV9SxaPyqvVSCdXem7zW5mIBZPI/Y1HQd2TIhxi2VnSM8mjiSW4mx3t/JFrK5pEu8gbi9Ct6XO/usehhsVy8KIpiYD0X2ekfY19Y+YeuveV+dqx0D5ZK3afnjJbzpN+XfiQnxd/G+xCfqxyfns7SGr1c/EspqhJVvoYgK0LkXF2V+/0zXhNxnPEogqN+fljKTTm6/n2MWlL4ZcqOFqnOx6lTZQy5gfnwhPXhV2cCu7uxhOnfUk67ZnkUcRiv142D6JCvbprJWtnxhB5Yyky5g+PpYQxX+SNpciYr2zRv5Py+/ZJlAuP+coWFdX3ZEiirLt7Jse9kn01LBalu/pmLvgm+yJPLAXHfPgh4Xdli6hIMqFtVCcRG7olWjtgfbaoDJo3lsM7saLAuVrtzGZ+2A4WED5sm7WGTvKOSecoHf6JcfNkK7rgJeH3fUbvVtNMn7trXupFLZ2lvdOjnda4xCKd84wkZvZV3knnP+438MsbZlavHTXzYTGmg10Z4K/JpO/EN6YxLp3C6Svh82Uljh+umPloZ4SrvLEUkjMWef3nd6Y6q77O/kmxWG3zJr4lz0Hedrz/tmVaf7X9zqS5XJOSJD/xSZKEPokjvcvmzY/nzdy1VPVp4X2u9u/F3t0Jenfi8hWJKblAU+QZvflikWvyjkz6fZJ9pXdy0juGdFfJtSsS43XzPJpwyGcyf10mSl6r/MGd4uTOFF3w0Vik7f04YPLkIm8sum14uiaxqN3XfpO+vLHoxO9Fy+x6Pp4r/zV5YFo/3fdYGFV6x+qUeZI6TREcs5DXjycSBc7V2rtv0lelr7Wg8G9yoWJ3fd3zc8kZS6ExP28sBcd8u3U+VZxR6eLVieOlPeNftxynn8Zg25Mml5e7zxN//3vTPKhJLEXG/LyxFBrzRe5YCoz55vO6WTinyXF4N39Aolyklsbu40s2Of5idwsNSJQl4d/0raWRM5a9Xy/5J/siVyyFxnz4IuF3ppPgcCVf/1yYMmvR44TCQbOU4mk64Earht8dN/cernfOP9pB0+esY49wpTWMpXHjvmlFF6DtnMspchLcyQljkSRv4bfX4aAYds6lFJ4hFleVxFJJO67mmrQF0vQOVbgttbN972vGXTNvelddPvNGuIU/2h78+4F5vyQDcfouv6dKYvkk7/2YJBHR+eboeNMrSdT0znHqbrIvvcurSUR0ltLeSdRkT+9Spe40eSMWZ1XEUs01KbH8Ir/7xYxHbr3SAm1+W4V76Db40xnVv6V/0yKEPkcRstQnFun3m8czn460rwsO6V0svnTruG47Ti9+6DG4c0fdj25kIhZnlcQSNzzpL8WwpL8UdYoFeZHw5/G5d5vzwUf5eqNp5lJ3F4o8xkq3OSe20n89kNfdM8+uyUUZ/pWlWzLTd2jyyohFX3f3lyup37tAkRPRE4u+riRfP19L/d66dVCSGy9VxCKfgY0lPgkaQSxfPgWxxFe7axPLKNpxRiyjvyaDwoB6jOK2VnuXwTI6j1zkWulpx1rk8Iy+hi76yGAZna0ucq2I/0UstiikLvhoLHruMDzepMlg35okOSRi0R013+uCj7yGvtbVqFq+JLI+hcAiVcSSbscjiiV9TdYnlhG1Y9tnxWPRhTf5+T3P2fYv0tV5v2LjZKfwb3rLrm8RQBG9X53+pU6x2AXdYIE0kVzq0SjfNpYRi12c1oWlVHKpx0d8r5eqYkm0YzGKWHTs1dfpjPl1iiUhlijLv9Fjkb2LWjlkxJIQS5Tb0lfP6rUafiu3jHacVE4sPe04rYxYUAoS/iFsVUw9a2S3IJ/qFh5ROgG/ttitcmo7OY8Vclt1V7c5B1uQbSXzYP4ldOJyPFGNUzsznxXyQbHoRC9RvVbvJPusxA6MRd4fPVvZuTutZzqPe63EVhKLnpE+LbFMBFvpG/9eDCesqqxYDoJq62Ongq30WpE/djavPrGU144HxlLBNRkMcLHjOgXuJvZtx+FgHa/X4X2H/x8QS3pC4H0neUAsdqIWn9wUuJNcSSwD2nF5sQy4JmsUS5nt2E5Qx76xFcanTxwzM9MrQX/SSZTDQqdK+2OJZSv2HuYi/dKCtC37fp08aqavdc99210KkihHRVs1bq19MBcVOHRgC3zp+6Xt+KRM6KPzsnWKJapBcGu5s3vMPjbtqsfusQGxRDUIlqKjevoeXvzWvVK6qCSWfu1YlBdLkDROj4fX5Ngl+ZnhtV6nWBLCRFl+j/gjsXMbEEuCTZSDRUznu/AD2nFSsVj6tuO0IrGgNCT8g2w1TeOiJFfhxfjl7aJMao7airZ21VInFdKh3Z68bhaa12Ww1MdkZHUQg+hZ6uPmQfScta9BdUxb0TZcBnsvk0+ddM5NN82Da3Jx3ch6fNoQw2L5oOegZaJ27aZZmL4kF3D39fMbHsvO7HE7UZtvNs385Dfd13dRRSz2s53oPl1BBpFVrTKtVWDDDquMWPSzbXy/0jn3137RNDNa0TZ8rFydYimlHQ+LpaJrskO+p4WCegrq5TGsHcfYokcn5fXjhchy+efFYpMAn6dKOMWiCc0xv+S1ilhyXJMdBWIZ2r/E1CaWIu1Yz7ifi8XS3jZLeryq07/Iz74zIf1YOGEf6z4yNb8D8/xWvB3vmTXdCRFrx/q4sXu6y8cmH/Jawx5lm0WLv8basd5ds08TiNpxnWL5GBZN1EU6Wwjuem+fMNTwWN6vB0810AVHLTQ5qwVog2/lV0ksQ9qxKCOWgz9uJq7JPS2MGb8m6xRLRK6b57f0UXK9fehww2OJ6C6sWa8EeXg77igSy7B2HOMfC8pEwj+AFhy791tyAPyydtPc/i52Nk0upp2l++bJ4xXzxn0OI1eJJHSn75qX4ZcB7RQkaYmds2u/WjFP/3vfrG5FK+VucsXSfm02H981S0utzoqsk5yx7G0tmqX/PjKb0TlrR5XEstU00+miQ1+1GM2RxNm0YrEECUy6gJJWtr/93UR3m1qNYinajnPFUtE1qXTb6qxMEjJX6IfI1Y6VJknX+t1tGOKfFoveebjsV5XZJRZbOMij6ruqJJatfNek8o8lZ/+iahRLkXZsjxml21i0gBHbAv/l0555+dfr/ttYB1o3D3qKmoW7F07HJsW6y+fttnn5IdkW87K7w9JFzexOjKOJCX6dYjn4+Fpi6bcde5j8sez9te1daLKSWHK246Kx6HG5dF+5r49ylEQ5fpSjTrFo7YAF3zPpeWPRdvfjXc8EOWc7VgViyduOi8WCMpHwD6BVQBMTFp14Xz5vni43TaNn4unJVjTtnbA0GosywTkmHZBfUpxGLI5e3TeNsZtmM9ZJ6Xmx2YVl8/Pp3omnHy1gdMQWz+qQifeDM1NmdemKrXJcyjtGLG64Jp0RiyOuSUcVxWJa5uexjKrotg0cLelJCbp4IZPinseEHQTFUhNPFyhgq2mmZYLf8xhC3bp/IvXED2/E4qySWKpox/KO6a69RHX/gO2X00/88EYsburUjlEmEv5Bwu3UM81ls7O1YpZunLLnqQ+MXJy+xW0y2O3Up6+YpY2WfYazPvt2VX92geI2PYjFUdBp2orvWy2z+fCKaZxp2s6tSEGYHtJp6hlHrV6/s7VoFi58Y+Z+lZ9dpLhND2JxxTXpiFgccU06G2Es8Udq2UriWvcjvdtBt7CekAlu+KWz+GN6X+nPOt+7a0cXteTvizyFpRuLLpIcNY1bvbsd7M6IAk9hSTyCbFSxfI0/4pBY8qikHcdjkURVK+LP/pjetSMx3spKOvOr/JqsUyyHvH/BaJDwx+z/udJ75vDvdbPwL5nwTVwyD5aijqBABeDMZ2cfmJePr5uZiVNm5vpdsxldjBu+VbkPsp/NTyz9ZcVizzhektfQc+eLnaInupXJbxKbHYuecZyflFgmr5gnYbVsyWC8J7GZ7bjsWGRw3FzvXY2uTyxlt2P6F2f0L47oX1ztLl8PH00qE9fOMYCwkFV6Um4nyx4T8o8t82TymLyGvM7J7tEcLXgVFBuLT8ol6Zjwm5BnxqJHNc70Tsrtc/I9JuT7f941s1osU2O52i0EVmos8tmv6rlvfY0Tp7qFwIilr+xYSm7H/WIJC7KlE2XdKeWTJP8vr8k6xXIY+xeMFgl/jN6N6DnjkkW3rHgVnRJ6J0ouwvi21GxBpXSvolP2TlTGI1GyEEsgbywy6Nlq817LsPlj0Wq2jWvLXs+oz92Oi8Ri76rJwJij2Et9YinSjh1i4ZoM0L84yh8L/Yv8vz9umukLTdP6YMyXDyvmwemjsTZ0EJx5PTlhFtZem3b7tVm75VEIUN6DpQvBUx4Ovh4EFcVjbcg+DUKSp3uPW2avvWd2fpTvlx2LfbLFUXN7smk237ZN++2ymT/t8bnoXUMtGvvqwHz5LJ/tZZnox96PcmLRu6laNHbdFk9rr+l2annNqFgpsfQaGEtJ7XhYLOHZ7ca/H5mdd22zt3Xf+BSZ/Sdck3WK5VD1Lxg5Ev6OYNI4MykX4YDJTHvrkXQGqSIeDnSy1JiUP4Mmf5/3zPOm/B6JIh4O9Gzj6XEzKxfhoMkfsXTliqW9bZ7ekE45T3KQJWcse39MmZmTeRKdLPnaceFYbPIzIX8GT8prE0vRdkz/4oz+xRH9S36f5L0aS+7WsHelZDIcTclV2+4oOG6mx8bN/OPtTgXvvHSHw7S8B91Wo3fYvk1Mhr+8W7G7SabHjpu5OyvuhVnzxPK1bXZ0Z8z4N2b63HXzNHqEWW66u+XbZPuXRLORerxi0VgONqbM9MVH8moR3TZ8JJYoCWKJyRdL0XacL5a9YJfPmMTyL0n+XHdC/YOuyTrFcjj6F1SBhD/y97JZsI/yCFfe+k1mPm6bVmKLjIPPLbM0HTySJlh56z9R2X3RSmyRcfF+aSp4vE648tZ30kUsgdyxHJiXG8mtXi5yx7LbMlseW66svO24YCxbP00Fj3jJrMoaU6NYirRj+hdH9C/O6F8cfH1tni3EJ8pCK2gnkpri9jfum9XoEVwhrQb+YCP8ogyVxHJgWg8XzZvwq4AkAgVrJ/TYXTRP15LXmf8Rl36IxVkVsXBNOqtTLBg9Ev5MGZOZeEGMkvRM/hKFXUqSMflLFKkpCbE4qiSWatpx1qScWAahf3FFLI7oX9ylJrH7fz4yT3UBpWSJCblMpp//tGIXg0pVSSypxHJ3xSz93mdhpoBkYilt7vGj3hoShRGLq0pi4Zp0VqdYUC4S/r66k5nNbZlwnL1kVn3vigzQmfxtywRtctz8/Gf4jTLFJn878noz19zP8ORBLI4qiaWadtydlG/L602YmdlW+RN/YnHGNemIWBzV6JqMTWLt87fHLpln0aJMiToTcpmMr+oTIJrdRZnSVBJLLLHUz+fMKbPgeeRlkG5iGbS16auL5ScwxOKskli4Jp3VKRaUi4R/IOnItJrmydE2Zq2mOX1iNJ1yh0z+FiaOmNsjGWC6iMVRJbFU045thdv/kwRjFANMB7G44pp0RCyOanJN6iT2Pyvm/YgnsK3GKbO0PcLJuKokFkksJ+6blyNMKpUmlvO/t0eYICticVVJLFyTzuoUC8pFwj+IdphnR9yYZUKmd3hGOukTekdpZsQTWGJxV0ksVbRjnfTrnbeRJsiCWNxwTTojFkd1uSb10Y5nx0c8gQ2KrM1cGOFkXFURi076x+Q1RphUKr1jOXNhlAmyIBZnlcTCNemoTrGgbCT8g2Q+B7pkMvHbrODsy+76+mgnfYpYnFUSSxXtWCfkWc8zLxuxuOGadEYsjupyTb5bNHPjo57AShx3ZKI86sXEKmL51DILMukf9aLV3q+XRptUKmJxVkksXJOO6hQLykbCDwAAAABADZHwAwAAAABQQyT8AAAAAADUEAk/AAAAAAA1RMIPAAAAAEANkfADAAAAAFBDJPwAAAAAANQQCT8AAAAAADVEwg8AAAAAQA2R8AMAAAAAUEMk/AAAAAAA1BAJPwAAAAAANUTCDwAAAABADZHwAwAAAABQQyT8AAAAAADUEAk/AAAAAAA1RMIPAAAAAEANkfADAAAAAFBDJPwAAAAAANQQCT8AAIfQ3uMJc/u7I7E/E+bpu/CbamNK/m7KtN49MrOxf/dgI/x+JPX924318BsAAOCwI+EHAOAQ0oQ/nrwHCwCS4IdfBwm/JPAXH5m98K96/k2Y7Hd/zp55epGkHwCAuiDhBwCgFtbNg/hd/ugOf/ilZRP87r+xCwCxBQEr6/8BAIBDiYQfAIBDqtWIbcUP/3Tu1udI+PX/zz5OpPsitXAAAAAOLRJ+AAAOHU3KJcFP3J0P/o6EHwAAREj4AQA4bGzint52757ws6UfAIB6I+EHAOCwsYl7suJ+tL3fJeHv/TkU7QMAoE5I+AEAOIxsQh8/u+9+h98Kk/7OzyLZBwCgNkj4AQAAAACoIRJ+AAAAAABqiIQfAAAAAIAaIuEHAAAAAKCGSPgBAAAAAKghEn4AAAAAAGqIhB8AAAAAgBoi4QcAAAAAoIZI+AEAAAAAqCESfgAAAAAAaoiEHwAAAACAGiLhBwAAAACghkj4AQAAAACoIRJ+AAAAAABqiIQfAAAAAIAaIuEHAAAAAKCGSPgBAAAAAKghEn4AAAAAAGqIhB8AAAAAgBoi4QcAAAAAoIZI+AEAAAAAqCESfgAAAAAAaoiEHwAAAACAGiLhBwAAAACghkj4AQAAAACoIRJ+AAAAAABqiIQfAAAAAIAaIuEHAAAAAKCGSPgBAAAAAKghEn4AAAAAAGrHmP8He2CUFU78HHcAAAAASUVORK5CYII=)"
   ]
  }
 ],
 "metadata": {
  "colab": {
   "provenance": []
  },
  "kernelspec": {
   "display_name": "Python 3 (ipykernel)",
   "language": "python",
   "name": "python3"
  },
  "language_info": {
   "codemirror_mode": {
    "name": "ipython",
    "version": 3
   },
   "file_extension": ".py",
   "mimetype": "text/x-python",
   "name": "python",
   "nbconvert_exporter": "python",
   "pygments_lexer": "ipython3",
   "version": "3.12.4"
  }
 },
 "nbformat": 4,
 "nbformat_minor": 4
}
