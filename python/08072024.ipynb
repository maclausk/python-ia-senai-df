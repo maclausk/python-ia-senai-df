{
 "cells": [
  {
   "cell_type": "markdown",
   "metadata": {},
   "source": [
    "### **08/07/2024 - LAÇOS DE REPETIÇÃO**\n",
    "\n",
    "A essa altura do campeonato, você já deve ter visto que os programas só rodam uma única vez. Caso o usuário deseje rodar o programa de novo, ele deverá executar mais uma vez o programa, o que torna a tarefa de executar um programa cansativo, visto que o usuário deverá rodar várias vezes o mesmo programa apenas para testar diferentes resultados. É aí onde entram os ***loops***, ou **laços de repetição**.\n",
    "\n",
    "Eles são blocos de programação que executam um único algoritmo várias vezes seguidas antes de finalizar. O número de vezes em que ele é executado depende de vários fatores."
   ]
  },
  {
   "cell_type": "markdown",
   "metadata": {},
   "source": [
    "##### 1. **Laço `for`**:\n",
    "\n",
    "O laço `for` é usado para iterar sobre uma sequência (como uma lista, tupla, dicionário, conjunto ou string) ou para repetir um bloco de código um número específico de vezes.\n",
    "\n",
    "```python\n",
    "# Exemplo de laço for que imprime os números de 0 a 4\n",
    "for i in range(5):\n",
    "    print(i)\n",
    "```\n",
    "#### Detalhamento do Código\n",
    "\n",
    "**range(5):**\n",
    "\n",
    "- A função range() gera uma sequência de números. No caso de range(5), ela gera uma sequência de números de 0 a 4 (5 números no total, começando do 0).\n",
    "- Essa função é comumente usada para criar uma sequência de números para o laço for iterar.\n",
    "\n",
    "**for i in range(5):**\n",
    "\n",
    "- Este é o laço for. Ele define a variável i que irá assumir cada valor da sequência gerada por range(5), um de cada vez.\n",
    "- A variável i começa em 0 e é incrementada em 1 a cada iteração do laço, até alcançar 4.\n",
    "\n",
    "**print(i):**\n",
    "\n",
    "-Este é o corpo do laço. Ele será executado a cada iteração do laço for.\n",
    "- Durante cada iteração, a função print(i) imprime o valor atual de i no console.\n",
    "\n",
    "**Execução do Código**\n",
    "- Quando o código é executado, ele realiza as seguintes operações:\n",
    "\n",
    "    Primeira Iteração:\n",
    "    i é 0.\n",
    "    Imprime 0.\n",
    "\n",
    "    Segunda Iteração:\n",
    "    i é 1.\n",
    "    Imprime 1.\n",
    "\n",
    "    Terceira Iteração:\n",
    "    i é 2.\n",
    "    Imprime 2.\n",
    "\n",
    "    Quarta Iteração:\n",
    "    i é 3.\n",
    "    Imprime 3.\n",
    "\n",
    "    Quinta Iteração:\n",
    "    i é 4.\n",
    "    Imprime 4.\n",
    "\n",
    "    Após a quinta iteração, o laço termina porque todos os números na sequência gerada por range(5) foram iterados.\n",
    "\n",
    "#### Resumo\n",
    "\n",
    "O laço for em Python é usado para iterar sobre uma sequência de valores.\n",
    "A função range() é útil para gerar uma sequência de números, especialmente quando você sabe quantas vezes deseja repetir o bloco de código.\n",
    "Neste exemplo, o código imprime os números de 0 a 4 no console, cada um em uma nova linha.\n",
    "\n",
    "---\n",
    "\n",
    "```python\n",
    "# Imprimir cada elemento de uma lista usando for\n",
    "frutas = [\"maçã\", \"banana\", \"laranja\"]\n",
    "for fruta in frutas:\n",
    "    print(fruta)\n",
    "```\n",
    "- Lista frutas: Aqui, uma lista chamada frutas é criada e inicializada com três elementos: \"maçã\", \"banana\", e \"laranja\".\n",
    "A lista é uma coleção ordenada de elementos que pode conter diferentes tipos de dados, mas neste caso, ela contém strings.\n",
    "\n",
    "- Laço for: Este é um laço for que itera sobre cada elemento da lista frutas. A variável fruta é uma variável temporária que, a cada iteração do laço, assume o valor de um dos elementos da lista frutas.\n",
    "\n",
    "- Função print: Dentro do laço for, a função print(fruta) é chamada. Em cada iteração, print(fruta) imprime o valor atual de fruta no console.\n",
    "\n",
    "Quando o código é executado, ele realiza as seguintes operações:\n",
    "\n",
    "Primeira Iteração:\n",
    "fruta é \"maçã\".\n",
    "Imprime \"maçã\".\n",
    "\n",
    "Segunda Iteração:\n",
    "fruta é \"banana\".\n",
    "Imprime \"banana\".\n",
    "\n",
    "Terceira Iteração:\n",
    "fruta é \"laranja\".\n",
    "Imprime \"laranja\".\n",
    "\n",
    "Após a terceira iteração, o laço termina porque todos os elementos da lista frutas foram iterados.\n",
    "\n",
    "#### Resumo\n",
    "O laço for em Python é usado para iterar sobre uma sequência de valores, como uma lista.\n",
    "Neste exemplo, o laço for percorre cada elemento da lista frutas.\n",
    "Em cada iteração, o valor do elemento atual é atribuído à variável fruta, que é então impressa usando a função print."
   ]
  },
  {
   "cell_type": "code",
   "execution_count": 3,
   "metadata": {},
   "outputs": [
    {
     "name": "stdout",
     "output_type": "stream",
     "text": [
      "0\n",
      "1\n",
      "2\n",
      "3\n",
      "4\n"
     ]
    }
   ],
   "source": [
    "# Exemplo de laço for que imprime os números de 0 a 4\n",
    "for i in range(5):\n",
    "    print(i)"
   ]
  },
  {
   "cell_type": "code",
   "execution_count": 5,
   "metadata": {},
   "outputs": [
    {
     "name": "stdout",
     "output_type": "stream",
     "text": [
      "maçã\n",
      "banana\n",
      "laranja\n"
     ]
    }
   ],
   "source": [
    "# Imprimir cada elemento de uma lista usando for\n",
    "frutas = [\"maçã\", \"banana\", \"laranja\"]\n",
    "for fruta in frutas:\n",
    "    print(fruta)"
   ]
  },
  {
   "cell_type": "code",
   "execution_count": 4,
   "metadata": {},
   "outputs": [
    {
     "name": "stdout",
     "output_type": "stream",
     "text": [
      "maçã\n",
      "banana\n",
      "laranja\n"
     ]
    }
   ],
   "source": [
    "# Imprimir cada elemento de uma lista usando for\n",
    "\n",
    "frutas = [\"maçã\", \"banana\", \"laranja\"]\n",
    "for fruta in frutas:\n",
    "    print(fruta)\n"
   ]
  },
  {
   "cell_type": "code",
   "execution_count": 6,
   "metadata": {},
   "outputs": [
    {
     "name": "stdout",
     "output_type": "stream",
     "text": [
      "1\n",
      "2\n",
      "3\n",
      "4\n",
      "5\n"
     ]
    }
   ],
   "source": [
    "# Lao for\n",
    "numeros = [1, 2, 3, 4, 5]\n",
    "for numero in numeros:\n",
    "    print(numero)"
   ]
  },
  {
   "cell_type": "markdown",
   "metadata": {},
   "source": [
    "##### 2. **Laço `while`**:\n",
    "\n",
    "O while é um bloco de código que continua a executar um algoritmo enquanto uma determinada condição for verdadeira.\n",
    "\n",
    "- Declaração de Variável:\n",
    "\n",
    "    ```python\n",
    "    numero = 10\n",
    "    ```\n",
    "\n",
    "Aqui, uma variável chamada numero é criada e inicializada com o valor 10. Esta variável será usada para controlar a contagem regressiva\n",
    "\n",
    "- Laço while:\n",
    "\n",
    "    ```python\n",
    "    while numero >= 0:\n",
    "        print(numero)\n",
    "        numero -= 1\n",
    "    ```\n",
    "\n",
    "O laço while verifica se a condição numero >= 0 é verdadeira. Enquanto numero for maior ou igual a 0, o bloco de código dentro do while será executado.\n",
    "\n",
    "- Impressão do Valor Atual de numero:\n",
    "\n",
    "    ```python\n",
    "    print(numero)\n",
    "    ```\n",
    "- Decremento da Variável numero: Após imprimir o valor de numero, o código decrementa o valor de numero em 1 usando o operador de atribuição -=. Isso significa que numero = numero - 1.\n",
    "\n",
    "    ```python\n",
    "    numero -= 1\n",
    "    ```\n",
    "\n",
    "- Detalhamento das Iterações: Vamos detalhar o que acontece em cada iteração do laço:\n",
    "\n",
    "    Primeira Iteração:\n",
    "    numero é 10.\n",
    "    Verifica-se numero >= 0 (10 >= 0), que é verdadeira.\n",
    "    Imprime 10.\n",
    "    Decrementa numero para 9.\n",
    "\n",
    "    Segunda Iteração:\n",
    "    numero é 9.\n",
    "    Verifica-se numero >= 0 (9 >= 0), que é verdadeira.\n",
    "    Imprime 9.\n",
    "    Decrementa numero para 8.\n",
    "\n",
    "    Terceira Iteração:\n",
    "    numero é 8.\n",
    "    Verifica-se numero >= 0 (8 >= 0), que é verdadeira.\n",
    "    Imprime 8.\n",
    "    Decrementa numero para 7.\n",
    "\n",
    "    . . .\n",
    "\n",
    "    Última Iteração:\n",
    "    numero é 0.\n",
    "    Verifica-se numero >= 0 (0 >= 0), que é verdadeira.\n",
    "    Imprime 0.\n",
    "    Decrementa numero para -1.\n",
    "    Fim do Laço:\n",
    "\n",
    "    numero é -1.\n",
    "    Verifica-se numero >= 0 (-1 >= 0), que é falsa.\n",
    "    O laço while termina.\n",
    "\n",
    "\n",
    "#### Resumo\n",
    "- Inicialização: A variável numero é inicializada com 10.\n",
    "- Laço while: O bloco de código dentro do laço é executado enquanto numero for maior ou igual a 0.\n",
    "- Impressão e Decremento: Em cada iteração, o valor atual de numero é impresso, e numero é decrementado em 1.\n",
    "- Fim do Laço: O laço termina quando numero se torna menor que 0.\n",
    "\n",
    "\n",
    "### Mais detalhes\n",
    "\n",
    "- Contagem Regressiva:\n",
    "    - Com um único print(), o código imprime 11 números, de 10 a 0.\n",
    "    - Ele imprime o valor da variável numero enquanto numero é maior ou igual a 0.\n",
    "    - Quando numero chega a -1, o laço while termina porque a condição (numero >= 0) não é mais verdadeira.\n",
    "\n",
    "- Decremento Necessário:\n",
    "    - O comando numero -= 1 subtrai 1 do valor de numero em cada iteração do laço.\n",
    "    - Sem esse comando, numero nunca mudaria e o programa imprimiria 10 indefinidamente.\n",
    "    - Isso causaria um loop infinito, onde o programa rodaria para sempre, eventualmente travando o computador.\n",
    "\n",
    "- Evitar Loop Infinito:\n",
    "    - Um loop infinito acontece quando a condição do laço nunca se torna falsa.\n",
    "    - Isso pode usar 100% da memória RAM e CPU, travando o computador e potencialmente causando danos.\n",
    "\n",
    "- Valor Inicial da Variável:\n",
    "    - O laço só funciona porque numero começa como um valor positivo.\n",
    "    - Se numero fosse negativo, o laço while não executaria nenhuma vez, porque a condição inicial (numero >= 0) já seria falsa.\n",
    "\n",
    "- Importância da Identação:\n",
    "    - Assim como em estruturas de decisão, o código dentro do while deve estar indentado corretamente.\n",
    "    - Tudo que está indentado sob o while faz parte do laço.\n",
    "    - A indentação correta é crucial para garantir que o laço funcione como esperado."
   ]
  },
  {
   "cell_type": "code",
   "execution_count": 7,
   "metadata": {},
   "outputs": [
    {
     "name": "stdout",
     "output_type": "stream",
     "text": [
      "10\n",
      "9\n",
      "8\n",
      "7\n",
      "6\n",
      "5\n",
      "4\n",
      "3\n",
      "2\n",
      "1\n",
      "0\n"
     ]
    }
   ],
   "source": [
    "# Contagem Regressiva de 10 a 0 Usando while\n",
    "numero = 10\n",
    "\n",
    "# loop\n",
    "while numero >= 0:\n",
    "    print(numero)\n",
    "    numero -= 1\n",
    "# O loop termina quando numero é menor que 0"
   ]
  },
  {
   "cell_type": "code",
   "execution_count": 17,
   "metadata": {},
   "outputs": [
    {
     "name": "stdout",
     "output_type": "stream",
     "text": [
      "Bem-Vindo ao Python Games!\n",
      "Você possui 5 tentativas para adivinhar o numero secreto entre 1 e 20\n",
      "Tente um numero menor!\n",
      "Tente um numero menor!\n",
      "Tente um numero menor!\n",
      "Tente um numero menor!\n",
      "Tente um numero maior!\n",
      "Que pena! Você não conseguiu adivinhar o número secreto 3\n"
     ]
    }
   ],
   "source": [
    "# Adivinha - Número Secreto\n",
    "\n",
    "import random\n",
    "\n",
    "numero_secreto = random.randint(1,20)\n",
    "\n",
    "tentativas = 0\n",
    "max_tentativas = 5\n",
    "acertou = False\n",
    "\n",
    "print('Bem-Vindo ao Python Games!')\n",
    "print(f'Você possui {max_tentativas} tentativas para adivinhar o numero secreto entre 1 e 20')\n",
    "\n",
    "while tentativas < max_tentativas:\n",
    "    palpite = int(input('Digite um numero inteiro: '))\n",
    "    #print(f'Numero secreto: {numero_secreto}')\n",
    "    tentativas +=1\n",
    "    #print(f'Número de tentativas: {tentativas}')\n",
    "\n",
    "    if palpite == numero_secreto:\n",
    "        acertou = True\n",
    "        break\n",
    "    elif palpite < numero_secreto:\n",
    "        print('Tente um numero maior!')\n",
    "    else:\n",
    "        print('Tente um numero menor!')\n",
    "\n",
    "if acertou:\n",
    "    print(f'Parabéns! Voce acertou o  número secreto {numero_secreto} em {tentativas} tentativas.')\n",
    "else:\n",
    "    print(f'Que pena! Você não conseguiu adivinhar o número secreto {numero_secreto}')"
   ]
  },
  {
   "cell_type": "markdown",
   "metadata": {},
   "source": [
    "##### 3. **`continue`**:\n",
    "\n",
    "O comando `continue` serve para pular a execução do restante do bloco do laço e iniciar a próxima iteração do loop. Ele é útil quando você deseja ignorar certas condições dentro do laço e continuar com as próximas iterações."
   ]
  },
  {
   "cell_type": "code",
   "execution_count": 10,
   "metadata": {},
   "outputs": [
    {
     "name": "stdout",
     "output_type": "stream",
     "text": [
      "0\n",
      "2\n",
      "4\n",
      "6\n",
      "8\n"
     ]
    }
   ],
   "source": [
    "for i in range(10):\n",
    "    if i % 2 != 0:\n",
    "        continue  # Pula para a próxima iteração se i for ímpar\n",
    "    print(i)\n",
    "\n",
    "# Neste exemplo, o comando continue faz com que o loop ignore os números ímpares e apenas imprima os números pares de 0 a 9.\n"
   ]
  },
  {
   "cell_type": "code",
   "execution_count": 11,
   "metadata": {},
   "outputs": [
    {
     "name": "stdout",
     "output_type": "stream",
     "text": [
      "maçã\n",
      "laranja\n",
      "abacaxi\n"
     ]
    }
   ],
   "source": [
    "frutas = [\"maçã\", \"banana\", \"laranja\", \"abacaxi\"]\n",
    "for fruta in frutas:\n",
    "    if fruta == \"banana\":\n",
    "        continue  # Pula a iteração se a fruta for \"banana\"\n",
    "    print(fruta)\n",
    "\n",
    "# Neste exemplo, o comando continue faz com que o loop ignore \"banana\" e imprima as outras frutas na lista.\n"
   ]
  },
  {
   "cell_type": "code",
   "execution_count": 5,
   "metadata": {},
   "outputs": [
    {
     "name": "stdout",
     "output_type": "stream",
     "text": [
      "2\n",
      "Contando...\n",
      "4\n",
      "Contando...\n",
      "6\n",
      "Contando...\n",
      "8\n",
      "Contando...\n",
      "10\n",
      "Contando...\n"
     ]
    }
   ],
   "source": [
    "cont = 0\n",
    "\n",
    "while cont < 10:\n",
    "    cont += 1\n",
    "    if cont % 2 == 0:\n",
    "        print(cont)\n",
    "    else:\n",
    "        continue\n",
    "\n",
    "    print('Contando...')\n",
    "\n",
    "# Este código imprime os números pares de 1 a 10 e a mensagem \"Contando...\" logo após cada número par."
   ]
  },
  {
   "cell_type": "code",
   "execution_count": 20,
   "metadata": {},
   "outputs": [
    {
     "name": "stdout",
     "output_type": "stream",
     "text": [
      "Contagem regressiva: 10...\n",
      "Contagem regressiva: 9...\n",
      "Contagem regressiva: 8...\n",
      "Contagem regressiva: 7...\n",
      "Contagem regressiva: 6...\n",
      "Contagem regressiva: 5...\n",
      "Contagem regressiva: 4...\n",
      "Contagem regressiva: 3...\n",
      "Contagem regressiva: 2...\n",
      "Contagem regressiva: 1...\n",
      "Contagem regressiva: 0...\n",
      "Contagem regressiva: 1...\n",
      "Contagem regressiva: 0...\n",
      "BOOOOOOOOOOOOOMMMMMMMMMMM!!!!\n"
     ]
    }
   ],
   "source": [
    "# Contagem Regressiva\n",
    "\n",
    "import os\n",
    "import time\n",
    "\n",
    "cont = int(input(\"Digite um numero inteiro: \"))\n",
    "\n",
    "while cont >= 0:\n",
    "    os.system('cls')\n",
    "    print(f'Contagem regressiva: {cont}...')\n",
    "    time.sleep(1)\n",
    "    cont -=1\n",
    "\n",
    "os.system('cls')\n",
    "\n",
    "import os\n",
    "import time\n",
    "\n",
    "cont = int(input(\"Digite um numero inteiro: \"))\n",
    "\n",
    "while cont >= 0:\n",
    "    os.system('cls')\n",
    "    print(f'Contagem regressiva: {cont}...')\n",
    "    time.sleep(1)\n",
    "    cont -=1\n",
    "\n",
    "os.system('cls')\n",
    "\n",
    "print('BOOOOOOOOOOOOOMMMMMMMMMMM!!!!')"
   ]
  },
  {
   "cell_type": "markdown",
   "metadata": {},
   "source": [
    "### Break\n",
    "\n",
    "O comando `break` faz o contrário: encerra imediatamente o loop e vai para o final do programa, sem terminar o loop, mesmo que a condição esteja sendo atendida:"
   ]
  },
  {
   "cell_type": "code",
   "execution_count": 7,
   "metadata": {},
   "outputs": [
    {
     "name": "stdout",
     "output_type": "stream",
     "text": [
      "2\n",
      "Contando...\n",
      "4\n",
      "Contando...\n",
      "6\n",
      "Contando...\n"
     ]
    }
   ],
   "source": [
    "cont = 0\n",
    "\n",
    "while cont < 15:\n",
    "    cont += 1\n",
    "    if cont % 2 == 0:\n",
    "        print(cont)\n",
    "    elif cont >= 7:\n",
    "        break\n",
    "    else:\n",
    "        continue\n",
    "\n",
    "    print('Contando...')"
   ]
  },
  {
   "cell_type": "markdown",
   "metadata": {},
   "source": [
    "### Pass\n",
    "\n",
    "O comando `pass` é utilizado para o programa simplesmente pular uma determinada opção. Pode ser substituído por `...`. Veja o exemplo:"
   ]
  },
  {
   "cell_type": "code",
   "execution_count": 8,
   "metadata": {},
   "outputs": [
    {
     "name": "stdout",
     "output_type": "stream",
     "text": [
      "Contando...\n",
      "2\n",
      "Contando...\n",
      "Contando...\n",
      "4\n",
      "Contando...\n",
      "6\n",
      "Contando...\n",
      "8\n",
      "Contando...\n",
      "10\n",
      "Contando...\n",
      "12\n",
      "Contando...\n",
      "14\n",
      "Contando...\n"
     ]
    }
   ],
   "source": [
    "cont = 0\n",
    "\n",
    "while cont < 20:\n",
    "    cont += 1\n",
    "    if cont % 2 == 0:\n",
    "        print(cont)\n",
    "    elif cont < 5:\n",
    "        pass\n",
    "    elif cont >= 15:\n",
    "        break\n",
    "    else:\n",
    "        continue\n",
    "\n",
    "    print('Contando...')"
   ]
  },
  {
   "cell_type": "markdown",
   "metadata": {},
   "source": [
    "Agora o mesmo exemplo, só que com `...` no lugar do `pass`:"
   ]
  },
  {
   "cell_type": "code",
   "execution_count": 8,
   "metadata": {},
   "outputs": [
    {
     "name": "stdout",
     "output_type": "stream",
     "text": [
      "Contando...\n",
      "2\n",
      "Contando...\n",
      "Contando...\n",
      "4\n",
      "Contando...\n",
      "6\n",
      "Contando...\n",
      "8\n",
      "Contando...\n",
      "10\n",
      "Contando...\n",
      "12\n",
      "Contando...\n",
      "14\n",
      "Contando...\n"
     ]
    }
   ],
   "source": [
    "cont = 0\n",
    "\n",
    "while cont < 20:\n",
    "    cont += 1\n",
    "    if cont % 2 == 0:\n",
    "        print(cont)\n",
    "    elif cont < 5:\n",
    "        ...\n",
    "    elif cont >= 15:\n",
    "        break\n",
    "    else:\n",
    "        continue\n",
    "\n",
    "    print('Contando...')"
   ]
  },
  {
   "cell_type": "code",
   "execution_count": 9,
   "metadata": {},
   "outputs": [
    {
     "name": "stdout",
     "output_type": "stream",
     "text": [
      "Contagem regressiva: 3...\n",
      "Contagem regressiva: 2...\n",
      "Contagem regressiva: 1...\n",
      "Contagem regressiva: 0...\n",
      "BOOOOOOOOOOMMMMMMMMMMMMMM!!!!\n"
     ]
    }
   ],
   "source": [
    "import os\n",
    "import time\n",
    "\n",
    "cont = int(input(\"Digite um numero inteiro: \"))\n",
    "\n",
    "while cont >=0:\n",
    "    os.system('cls') # Limpar o terminal\n",
    "    print(f'Contagem regressiva: {cont}...')\n",
    "    time.sleep(1) # atrasa o proximo comando\n",
    "    cont -= 1\n",
    "\n",
    "os.system('cls')\n",
    "print('BOOOOOOOOOOMMMMMMMMMMMMMM!!!!')"
   ]
  },
  {
   "cell_type": "markdown",
   "metadata": {},
   "source": [
    "### Laço while True\n",
    "\n",
    "Agora uma surpresa que poderá deixar os programadores das outras linguagens  chocados: **O PYTHON NÃO POSSUI O LAÇO `DO...WHILE`**. É isso mesmo: não se faz o `do...while` no Python. No lugar dele, o mesmo `while` é usado em conjunto com um valor booleano para executar um loop infinito, ou até que ocorra uma quebra no loop, como iremos aprender a seguir. Vamos retornar a um exemplo feito nas aulas anteriores para fins de demonstração: retornaremos ao algoritmo da verificação da idade, e refazê-lo para que o usuário decida quando encerrar o programa:"
   ]
  },
  {
   "cell_type": "code",
   "execution_count": 13,
   "metadata": {},
   "outputs": [
    {
     "name": "stdout",
     "output_type": "stream",
     "text": [
      " gomes é menor de idade.\n",
      "gomes é maior de idade.\n"
     ]
    }
   ],
   "source": [
    "# loop\n",
    "while True:\n",
    "    # entrada do nome\n",
    "    nome = input('Informe o seu nome ou deixe em branco para sair: ')\n",
    "\n",
    "    # verifica se o valor foi informado ou não\n",
    "    if nome != '':\n",
    "        # entrada da idade\n",
    "        idade = int(input('Informe sua idade: '))\n",
    "\n",
    "        # verificação da idade\n",
    "        if idade >= 18:\n",
    "            print(f'{nome} é maior de idade.')\n",
    "        else:\n",
    "            print(f'{nome} é menor de idade.')\n",
    "\n",
    "        continue # retorna ao início do loop\n",
    "    else:\n",
    "        break # encerra o loop"
   ]
  },
  {
   "cell_type": "code",
   "execution_count": 7,
   "metadata": {},
   "outputs": [
    {
     "name": "stdout",
     "output_type": "stream",
     "text": [
      "Opção inválida!\n",
      "Opção inválida!\n",
      "Opção inválida!\n",
      "Opção inválida!\n",
      "Opção inválida!\n",
      "-------------------- Calculadora de IMC --------------------\n",
      "Situação: Está acima do peso\n",
      "Ok, saindo do sistema!\n"
     ]
    }
   ],
   "source": [
    "while True:\n",
    "    opcao = input('Deseja calcular um IMC? (s/n): ').lower()\n",
    "\n",
    "    if opcao == 's':\n",
    "        print(20*'-','Calculadora de IMC',20*'-')\n",
    "        peso = input('Digite o seu peso: ').replace(',','.')\n",
    "        peso = float(peso)\n",
    "        altura = input('Digite a sua altura: ').replace(',','.')\n",
    "        altura = float(altura)\n",
    "        calculo = peso /(altura*altura)\n",
    "\n",
    "        if calculo <=17 :\n",
    "            print('Situação: Está com anorexia')\n",
    "        elif calculo >17 and calculo <= 18.5:\n",
    "            print('Situação: Está abaixo do peso')\n",
    "        elif calculo > 18.5 and calculo <= 25:\n",
    "            print('Situação: Está com o peso ideal')\n",
    "        elif calculo > 25 and  calculo <= 30:\n",
    "            print('Situação: Está acima do peso') \n",
    "        elif calculo > 30 and calculo <= 35:\n",
    "            print('Situação: Está com grau de obesidade I')\n",
    "        elif calculo > 35 and calculo <= 40:\n",
    "            print('Situação: Está com grau de obesidade II')\n",
    "        else:\n",
    "            print('Situação: Está com grau de obesidade mórbida')\n",
    "        continue\n",
    "    elif opcao == 'n':\n",
    "        print('Ok, saindo do sistema!')\n",
    "        break\n",
    "    else:\n",
    "        print('Opção inválida!')"
   ]
  },
  {
   "cell_type": "markdown",
   "metadata": {},
   "source": [
    "No caso do algoritmo acima, o usuário informa o nome e a idade, e o programa verifica se o usuário é maior ou menor de idade. Até aí, nada diferente do que fizemos na aula passada. Mas após fazer a verificação da idade do usuário, o comando `continue` é executado. Esse comando desconsidera todo o programa após essa linha, e retorna para o início do loop, perguntando o nome novamente. Caso o usuário deseje enncerrar o programa, basta deixar esse campo em branco, e ele irá executar o comando `break`, que simplesmente encerra o lopp e parte para o final do programa.\n",
    "\n",
    "O legal é que essa estrutura pode ser aplicada para qualquer programa, tanto os que nós criamos nas aulas anteriores como nos próximos também."
   ]
  },
  {
   "cell_type": "markdown",
   "metadata": {},
   "source": [
    "## Laço for\n",
    "---"
   ]
  },
  {
   "cell_type": "markdown",
   "metadata": {},
   "source": [
    "O laço `for` é um dos loops mais usados na programação. É um laço de repetição como o anterior também, mas com uma diferença: é sempre executado com um número finito de vezes, evitando que o programa entre em loop infinito. A desvantagem em relação so `while` é que o número de loops dessa vez é ditado pelo próprio programa ao invés do usuário final. Este, por sua vez, não possui controle sobre o número de loops a ser executado no for, ou pelo menos não diretamente. Para fins de exemplo, vaos executar um programa parecido com o primeiro programa dessa aula, mas desta vez, o programa irá exibir números de 0 a 4. Segue o algoritmo:"
   ]
  },
  {
   "cell_type": "code",
   "execution_count": 12,
   "metadata": {},
   "outputs": [
    {
     "name": "stdout",
     "output_type": "stream",
     "text": [
      "0\n",
      "2\n",
      "4\n",
      "6\n",
      "8\n",
      "10\n",
      "12\n",
      "14\n",
      "16\n",
      "18\n",
      "20\n"
     ]
    }
   ],
   "source": [
    "nome = ['gomes', 'karython', 'jose', 'joao', 'jese']\n",
    "lista = []\n",
    "#for n in nome:\n",
    " #   print(n)\n",
    "\n",
    "for i in range(0,21):\n",
    "    if i % 2 == 0:\n",
    "        print(i)"
   ]
  },
  {
   "cell_type": "code",
   "execution_count": 5,
   "metadata": {},
   "outputs": [
    {
     "name": "stdout",
     "output_type": "stream",
     "text": [
      "10\n",
      "30\n",
      "50\n",
      "70\n",
      "90\n",
      "110\n",
      "130\n",
      "150\n",
      "170\n",
      "190\n",
      "210\n",
      "230\n",
      "250\n",
      "270\n",
      "290\n",
      "310\n",
      "330\n",
      "350\n",
      "370\n",
      "390\n"
     ]
    }
   ],
   "source": [
    "termo = int(input('Digite o primeiro termo: '))\n",
    "razao = int(input('Digite a razão: '))\n",
    "\n",
    "pa = termo + (20 -1) * razao\n",
    "\n",
    "for i in range(termo, pa + razao, razao):\n",
    "    print(i)"
   ]
  },
  {
   "cell_type": "code",
   "execution_count": 6,
   "metadata": {},
   "outputs": [
    {
     "name": "stdout",
     "output_type": "stream",
     "text": [
      "                   *                  *                 *                *               *              *             *            *           *          *         *        *       *      *     *    *   *  * **\n"
     ]
    }
   ],
   "source": [
    "altura = 20\n",
    "espacamento = 0\n",
    "asterisco = 1\n",
    "simbolo = '*'\n",
    "\n",
    "for i in range(altura):\n",
    "    espacamento = altura - i - 1\n",
    "\n",
    "    for j in range(espacamento):\n",
    "        print(' ', end='')\n",
    "\n",
    "    for k in range(asterisco):\n",
    "        print(simbolo, end='')\n",
    "\n",
    "    print()\n",
    "    asterisco +=2\n"
   ]
  },
  {
   "cell_type": "markdown",
   "metadata": {},
   "source": [
    "Vamos analisar esse algoritmo: repare como ele é bem mais simplificado que o laço `while`. A variável `n` foi declarada dentro do próprio laço sem a necessidade de inicialização. Isso porque quando uma variável é declarada diretamente no laço `for`, ele automaticamente assume o valor `0` (há um motivo para isso que será explicado mais para frente). A função `range()` indica o número de loops que o laço irá obrigatoriamente executar, nesse caso serão 5 vezes. Não só isso: para cada loop, ele automaticamente irá somar mais um na variável `n` de forma automática, sem a necessidade de atribuir uma soma à variável, como ocorre no laço `while`. Dessa forma, o valor de `n` muda a cada novo loop, e não há a necessidade de colocar o comando `n += 1`.\n",
    "\n",
    "### Sobre a contagem de números decimais do computador\n",
    "\n",
    "A essa altura do campeonato, já se sabe que o computador não executa certas tarefas da mesma forma que nós, e o mesmo vale para a contagem numérica. Para entendermos isso, precisamos entender como funciona o sistema decimal de contagem. O sistema decimal é composto pelos números de 0 a 9, e a partir disso, adicionamos mais uma casa decimal. Por exemplo: o número após o 9 é o 10, com duas casas decimais. No mundo real, o ser humano utiliza esse sistema para contar quantidade de elementos. Por exemplo: 0 maçâs significa nenhuma maçã, e a partir daí temos 1 maçã, 2 maçãs, 3 maçãs....e por aí vai.\n",
    "\n",
    "O computador entende esse sistema de forma diferente, já que ele começa a contagem a partir do número 0, e não do 1. É por isso que a contagem no algoritmo anterior começou do 0 e parou no 4. O primeiro número foi 0, e o quinto número foi o 4. Se o `range()` tivesse o número 8, a contagem ia ser até o número 7, e assim por diante. Este detalhe será de extrema importância para a próxima aula, já que o laço `for` é muito utilizado para trabalhar com listas, que é exatamente o assunto da próxima aula."
   ]
  },
  {
   "cell_type": "markdown",
   "metadata": {},
   "source": [
    "## Exercícios\n",
    "---"
   ]
  },
  {
   "cell_type": "markdown",
   "metadata": {},
   "source": [
    "**Exercicio 1**\n",
    "\n",
    "Crie um programa que receba 2 números do usuário, e que ele possa escolher um das 4 operações matemáticas para calcular os dois números. O programa deverá exibir na tela o resultado da conta matemática. O programa deverá dar também ao usuário uma opção para sair do programa caso deseje, e que ele possa fazer quantos cálculos desejar.\n",
    "\n",
    "**Explicação do exercício abaixo:**\n",
    "\n",
    "- Laço while True:\n",
    "    - Mantém o programa em execução até que o usuário escolha sair.\n",
    "\n",
    "- Entrada dos Números:\n",
    "    - programa solicita ao usuário que insira dois números.\n",
    "\n",
    "- Escolha da Operação:\n",
    "    - O usuário escolhe uma operação matemática (+, -, *, /) ou digita s para sair.\n",
    "\n",
    "- Verificação da Escolha:\n",
    "    - Se o usuário digitar s, o programa imprime uma mensagem de saída e interrompe o laço, encerrando o programa.\n",
    "    - Se o usuário escolher uma das operações, o programa realiza a operação correspondente e imprime o resultado.\n",
    "    - Se a escolha for inválida, o programa imprime uma mensagem de erro.\n",
    "\n",
    "- Operações Matemáticas:\n",
    "    - Adição: Soma os dois números.\n",
    "    - Subtração: Subtrai o segundo número do primeiro.\n",
    "    - Multiplicação: Multiplica os dois números.\n",
    "    - Divisão: Divide o primeiro número pelo segundo, verificando se o divisor não é zero para evitar erro de divisão por zero."
   ]
  },
  {
   "cell_type": "code",
   "execution_count": null,
   "metadata": {},
   "outputs": [],
   "source": [
    "while True:\n",
    "    # Solicita os números do usuário\n",
    "    num1 = float(input(\"Digite o primeiro número: \"))\n",
    "    num2 = float(input(\"Digite o segundo número: \"))\n",
    "\n",
    "    # Solicita a operação desejada\n",
    "    operacao = input(\"Escolha a operação (+, -, *, /) ou 's' para sair: \")\n",
    "\n",
    "    # Verifica se o usuário deseja sair\n",
    "    if operacao == 's':\n",
    "        print(\"Saindo do programa...\")\n",
    "        break\n",
    "\n",
    "    # Realiza a operação escolhida\n",
    "    if operacao == '+':\n",
    "        resultado = num1 + num2\n",
    "        print(f\"O resultado de {num1} + {num2} é {resultado}.\")\n",
    "    elif operacao == '-':\n",
    "        resultado = num1 - num2\n",
    "        print(f\"O resultado de {num1} - {num2} é {resultado}.\")\n",
    "    elif operacao == '*':\n",
    "        resultado = num1 * num2\n",
    "        print(f\"O resultado de {num1} * {num2} é {resultado}.\")\n",
    "    elif operacao == '/':\n",
    "        if num2 != 0:\n",
    "            resultado = num1 / num2\n",
    "            print(f\"O resultado de {num1} / {num2} é {resultado}.\")\n",
    "        else:\n",
    "            print(\"Erro: Divisão por zero não é permitida.\")\n",
    "    else:\n",
    "        print(\"Operação inválida. Por favor, escolha uma operação válida (+, -, *, /).\")\n"
   ]
  },
  {
   "cell_type": "markdown",
   "metadata": {},
   "source": [
    "**Exercicio 2**\n",
    "\n",
    "Crie um programa que liste 5 salas de cinema, e mostre os filmes de cada uma das salas e suas classificações indicativas. O usuário deverá informar sua idade e a sala com o filme desejado. Caso o usuário tenha a idade mínima para ver o filme, o programa irá imprimir o ingresso para o filme desejado. Caso o usuário não tenha a idade mínima, o programa deverá informar que ele não tem idade para ver o filme, e deverá retornar a lista de filmes para que o usuário escolha outro filme."
   ]
  },
  {
   "cell_type": "code",
   "execution_count": 16,
   "metadata": {},
   "outputs": [
    {
     "name": "stdout",
     "output_type": "stream",
     "text": [
      "Você pode assistir filmes para maiores de 12 anos.\n",
      "Filme disponível na sala 4: Esquadrão Suicida (Classificação: 15 anos)\n"
     ]
    }
   ],
   "source": [
    "# Dados de entrada\n",
    "nome = input(\"Qual é o seu nome? \")\n",
    "\n",
    "# Solicita a idade do usuário\n",
    "idade = int(input(\"Digite sua idade: \"))\n",
    "\n",
    "# Classificação indicativa do filme\n",
    "if idade >= 18:\n",
    "    print(\"Você pode assistir filmes para maiores de 18 anos.\")\n",
    "elif idade >= 15:\n",
    "    print(\"Você pode assistir filmes para maiores de 15 anos.\")\n",
    "elif idade >= 14:\n",
    "    print(\"Você pode assistir filmes para maiores de 14 anos.\")\n",
    "elif idade >= 12:\n",
    "    print(\"Você pode assistir filmes para maiores de 12 anos.\")\n",
    "elif idade >= 10:\n",
    "    print(\"Você pode assistir filmes para maiores de 10 anos.\")\n",
    "else:\n",
    "    print(\"Nenhuma das opções acima.\")\n",
    "\n",
    "# Escolha da sala desejada\n",
    "sala = int(input(\"Escolha a sala desejada (1 a 5): \"))\n",
    "\n",
    "# Programação indicativa de acordo com a sala escolhida\n",
    "if sala == 1:\n",
    "    print(\"Filme disponível na sala 1: Encanto (Classificação: 10 anos)\")\n",
    "elif sala == 2:\n",
    "    print(\"Filme disponível na sala 2: Vingadores: Ultimato (Classificação: 12 anos)\")\n",
    "elif sala == 3:\n",
    "    print(\"Filme disponível na sala 3: Duna (Classificação: 14 anos)\")\n",
    "elif sala == 4:\n",
    "    print(\"Filme disponível na sala 4: Esquadrão Suicida (Classificação: 15 anos)\")\n",
    "elif sala == 5:\n",
    "    print(\"Filme disponível na sala 5: Coringa (Classificação: 18 anos)\")\n",
    "else:\n",
    "    print(\"Sala inválida. Por favor, escolha uma sala entre 1 e 5.\")\n"
   ]
  }
 ],
 "metadata": {
  "kernelspec": {
   "display_name": ".venv",
   "language": "python",
   "name": "python3"
  },
  "language_info": {
   "codemirror_mode": {
    "name": "ipython",
    "version": 3
   },
   "file_extension": ".py",
   "mimetype": "text/x-python",
   "name": "python",
   "nbconvert_exporter": "python",
   "pygments_lexer": "ipython3",
   "version": "3.12.4"
  }
 },
 "nbformat": 4,
 "nbformat_minor": 2
}
