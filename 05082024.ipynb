{
 "cells": [
  {
   "cell_type": "markdown",
   "metadata": {},
   "source": [
    "#### Ciência de Dados com Python/IA - SENAI-DF - Vespertino - 05/08/2024 - Marcelo Pereira Avelino"
   ]
  },
  {
   "cell_type": "code",
   "execution_count": 1,
   "metadata": {},
   "outputs": [
    {
     "name": "stdout",
     "output_type": "stream",
     "text": [
      "Collecting pymysql\n",
      "  Downloading PyMySQL-1.1.1-py3-none-any.whl.metadata (4.4 kB)\n",
      "Downloading PyMySQL-1.1.1-py3-none-any.whl (44 kB)\n",
      "Installing collected packages: pymysql\n",
      "Successfully installed pymysql-1.1.1\n",
      "Requirement already satisfied: SQLAlchemy in c:\\users\\marcelo avelino\\appdata\\local\\programs\\python\\python312\\lib\\site-packages (2.0.31)\n",
      "Requirement already satisfied: typing-extensions>=4.6.0 in c:\\users\\marcelo avelino\\appdata\\local\\programs\\python\\python312\\lib\\site-packages (from SQLAlchemy) (4.12.2)\n",
      "Requirement already satisfied: greenlet!=0.4.17 in c:\\users\\marcelo avelino\\appdata\\local\\programs\\python\\python312\\lib\\site-packages (from SQLAlchemy) (3.0.3)\n"
     ]
    }
   ],
   "source": [
    "## Biblioteca Necessárias - Instale as bibliotecas necessárias para executar o notebook:\n",
    "! pip install pymysql\n",
    "! pip install SQLAlchemy"
   ]
  },
  {
   "cell_type": "code",
   "execution_count": 2,
   "metadata": {},
   "outputs": [],
   "source": [
    "# Importação de Bibliotecas - Bibliotecas necessárias para a execução dos comandos SQL e manipulação de dados:\n",
    "import pandas as pd\n",
    "import urllib.parse\n",
    "from sqlalchemy import create_engine"
   ]
  },
  {
   "cell_type": "code",
   "execution_count": 4,
   "metadata": {},
   "outputs": [],
   "source": [
    "# Definindo a Conexão com o Banco de Dados - Configurando a conexão com o banco de dados MySQL:\n",
    "user = 'root'\n",
    "password = urllib.parse.quote_plus('senai@123')\n",
    "host = 'localhost'  # ou o endereço do seu servidor de banco de dados\n",
    "database = 'projetodiario'\n",
    "\n",
    "# Crie uma URL de conexão\n",
    "connection_string = f'mysql+pymysql://{user}:{password}@{host}/{database}'\n",
    "\n",
    "# Crie um engine do SQLAlchemy\n",
    "engine = create_engine(connection_string)"
   ]
  },
  {
   "cell_type": "code",
   "execution_count": 5,
   "metadata": {},
   "outputs": [
    {
     "data": {
      "text/html": [
       "<div>\n",
       "<style scoped>\n",
       "    .dataframe tbody tr th:only-of-type {\n",
       "        vertical-align: middle;\n",
       "    }\n",
       "\n",
       "    .dataframe tbody tr th {\n",
       "        vertical-align: top;\n",
       "    }\n",
       "\n",
       "    .dataframe thead th {\n",
       "        text-align: right;\n",
       "    }\n",
       "</style>\n",
       "<table border=\"1\" class=\"dataframe\">\n",
       "  <thead>\n",
       "    <tr style=\"text-align: right;\">\n",
       "      <th></th>\n",
       "      <th>id</th>\n",
       "      <th>ra</th>\n",
       "      <th>nome</th>\n",
       "      <th>tempoestudo</th>\n",
       "      <th>rendafamiliar</th>\n",
       "    </tr>\n",
       "  </thead>\n",
       "  <tbody>\n",
       "    <tr>\n",
       "      <th>0</th>\n",
       "      <td>1</td>\n",
       "      <td>00169506</td>\n",
       "      <td>Marcelo Avelino</td>\n",
       "      <td>6</td>\n",
       "      <td>2500.50</td>\n",
       "    </tr>\n",
       "    <tr>\n",
       "      <th>1</th>\n",
       "      <td>2</td>\n",
       "      <td>00034548</td>\n",
       "      <td>Ana Silva</td>\n",
       "      <td>5</td>\n",
       "      <td>3000.75</td>\n",
       "    </tr>\n",
       "    <tr>\n",
       "      <th>2</th>\n",
       "      <td>3</td>\n",
       "      <td>00034549</td>\n",
       "      <td>Bruno Costa</td>\n",
       "      <td>4</td>\n",
       "      <td>2000.00</td>\n",
       "    </tr>\n",
       "    <tr>\n",
       "      <th>3</th>\n",
       "      <td>4</td>\n",
       "      <td>00034550</td>\n",
       "      <td>Carlos Pereira</td>\n",
       "      <td>7</td>\n",
       "      <td>3500.20</td>\n",
       "    </tr>\n",
       "    <tr>\n",
       "      <th>4</th>\n",
       "      <td>5</td>\n",
       "      <td>00034551</td>\n",
       "      <td>Daniela Souza</td>\n",
       "      <td>3</td>\n",
       "      <td>1500.40</td>\n",
       "    </tr>\n",
       "  </tbody>\n",
       "</table>\n",
       "</div>"
      ],
      "text/plain": [
       "   id        ra             nome  tempoestudo  rendafamiliar\n",
       "0   1  00169506  Marcelo Avelino            6        2500.50\n",
       "1   2  00034548        Ana Silva            5        3000.75\n",
       "2   3  00034549      Bruno Costa            4        2000.00\n",
       "3   4  00034550   Carlos Pereira            7        3500.20\n",
       "4   5  00034551    Daniela Souza            3        1500.40"
      ]
     },
     "execution_count": 5,
     "metadata": {},
     "output_type": "execute_result"
    }
   ],
   "source": [
    "# Consultando Dados da Tabela 'Aluno'\n",
    "# Escreva sua consulta SQL para obter dados da tabela 'Aluno' e carregue os dados em um DataFrame:\n",
    "\n",
    "# Escreva sua consulta SQL\n",
    "query_alunos = \"SELECT * FROM aluno\"\n",
    "\n",
    "# Use pandas para executar a consulta e importar os dados\n",
    "df_alunos = pd.read_sql(query_alunos, engine)\n",
    "\n",
    "# Mostre os primeiros registros do DataFrame\n",
    "df_alunos.head()"
   ]
  },
  {
   "cell_type": "markdown",
   "metadata": {},
   "source": [
    "#### Salvando os Dados em Diferentes Formatos"
   ]
  },
  {
   "cell_type": "code",
   "execution_count": 6,
   "metadata": {},
   "outputs": [],
   "source": [
    "# CSV\n",
    "csv_filename = 'alunos.csv'\n",
    "df_alunos.to_csv(csv_filename, index=False)"
   ]
  },
  {
   "cell_type": "code",
   "execution_count": 7,
   "metadata": {},
   "outputs": [],
   "source": [
    "# JSON\n",
    "json_filename = 'alunos.json'\n",
    "df_alunos.to_json(json_filename, index=False)"
   ]
  },
  {
   "cell_type": "code",
   "execution_count": 9,
   "metadata": {},
   "outputs": [
    {
     "name": "stdout",
     "output_type": "stream",
     "text": [
      "Requirement already satisfied: openpyxl in c:\\users\\marcelo avelino\\appdata\\local\\programs\\python\\python312\\lib\\site-packages (3.1.5)\n",
      "Requirement already satisfied: et-xmlfile in c:\\users\\marcelo avelino\\appdata\\local\\programs\\python\\python312\\lib\\site-packages (from openpyxl) (1.1.0)\n"
     ]
    }
   ],
   "source": [
    "# Salvar DataFrame no Formato Excel\n",
    "# Instale a biblioteca openpyxl necessária para salvar arquivos Excel:\n",
    "! pip install openpyxl\n",
    "\n",
    "excel_filename = 'alunos.xlsx'\n",
    "df_alunos.to_excel(excel_filename, index=False)"
   ]
  },
  {
   "cell_type": "code",
   "execution_count": 10,
   "metadata": {},
   "outputs": [
    {
     "data": {
      "text/plain": [
       "Index(['id', 'ra', 'nome', 'tempoestudo', 'rendafamiliar'], dtype='object')"
      ]
     },
     "execution_count": 10,
     "metadata": {},
     "output_type": "execute_result"
    }
   ],
   "source": [
    "# Exibir as Colunas do DataFrame 'Alunos'\n",
    "df_alunos.columns"
   ]
  },
  {
   "cell_type": "code",
   "execution_count": 11,
   "metadata": {},
   "outputs": [
    {
     "data": {
      "text/html": [
       "<div>\n",
       "<style scoped>\n",
       "    .dataframe tbody tr th:only-of-type {\n",
       "        vertical-align: middle;\n",
       "    }\n",
       "\n",
       "    .dataframe tbody tr th {\n",
       "        vertical-align: top;\n",
       "    }\n",
       "\n",
       "    .dataframe thead th {\n",
       "        text-align: right;\n",
       "    }\n",
       "</style>\n",
       "<table border=\"1\" class=\"dataframe\">\n",
       "  <thead>\n",
       "    <tr style=\"text-align: right;\">\n",
       "      <th></th>\n",
       "      <th>tempoestudo</th>\n",
       "      <th>rendafamiliar</th>\n",
       "    </tr>\n",
       "  </thead>\n",
       "  <tbody>\n",
       "    <tr>\n",
       "      <th>0</th>\n",
       "      <td>6</td>\n",
       "      <td>2500.50</td>\n",
       "    </tr>\n",
       "    <tr>\n",
       "      <th>1</th>\n",
       "      <td>5</td>\n",
       "      <td>3000.75</td>\n",
       "    </tr>\n",
       "    <tr>\n",
       "      <th>2</th>\n",
       "      <td>4</td>\n",
       "      <td>2000.00</td>\n",
       "    </tr>\n",
       "    <tr>\n",
       "      <th>3</th>\n",
       "      <td>7</td>\n",
       "      <td>3500.20</td>\n",
       "    </tr>\n",
       "    <tr>\n",
       "      <th>4</th>\n",
       "      <td>3</td>\n",
       "      <td>1500.40</td>\n",
       "    </tr>\n",
       "  </tbody>\n",
       "</table>\n",
       "</div>"
      ],
      "text/plain": [
       "   tempoestudo  rendafamiliar\n",
       "0            6        2500.50\n",
       "1            5        3000.75\n",
       "2            4        2000.00\n",
       "3            7        3500.20\n",
       "4            3        1500.40"
      ]
     },
     "execution_count": 11,
     "metadata": {},
     "output_type": "execute_result"
    }
   ],
   "source": [
    "# Exibir Colunas Específicas do DataFrame\n",
    "df_tempo_renda = df_alunos[['tempoestudo', 'rendafamiliar']]\n",
    "df_tempo_renda.head()"
   ]
  },
  {
   "cell_type": "code",
   "execution_count": 12,
   "metadata": {},
   "outputs": [
    {
     "name": "stdout",
     "output_type": "stream",
     "text": [
      "<class 'pandas.core.frame.DataFrame'>\n"
     ]
    }
   ],
   "source": [
    "# Verificar o Tipo de Dados das Colunas\n",
    "print(type(df_tempo_renda))"
   ]
  },
  {
   "cell_type": "code",
   "execution_count": 13,
   "metadata": {},
   "outputs": [
    {
     "name": "stdout",
     "output_type": "stream",
     "text": [
      "<class 'pandas.core.series.Series'>\n"
     ]
    }
   ],
   "source": [
    "# Criando um DataFrame com apenas uma coluna e verifique o tipo de dados:\n",
    "df_ra = df_alunos['ra']\n",
    "df_ra.head()\n",
    "\n",
    "print(type(df_ra))"
   ]
  },
  {
   "cell_type": "markdown",
   "metadata": {},
   "source": [
    "`1. Quais Bibliotecas um Cientista de Dados Utiliza?`\n",
    "\n",
    "Algumas das bibliotecas mais usadas por cientistas de dados:\n",
    "\n",
    "- Pandas\n",
    "- Numpy\n",
    "- Fundamentos de IA (Scikit-Learn)\n",
    "\n",
    "`2. Material Didático`\n",
    "\n",
    "- Pandas e Numpy (Notebook)\n",
    "- Scikit-Learn (Fundamentos de IA)\n",
    "- Material Auxiliar: https://estantedelivros.senai.br/view/1KkZK79kUJ_c09l3bYfxGhTEvALHlLNnA\n",
    "\n",
    "\n",
    "`3. Material Didático`\n",
    "- Pandas : Ciência de Dados\n",
    "- Sckit-Learn : Elaboração de modelos de IA\n",
    "- Numpy : Matemática"
   ]
  },
  {
   "cell_type": "markdown",
   "metadata": {},
   "source": [
    "\n",
    "### Observações:\n",
    "\n",
    "1. **Bibliotecas Necessárias**: No início do notebook, foi incluído o comando para instalar as bibliotecas necessárias.\n",
    "2. **Importação de Bibliotecas**: Importações de pandas, urllib e sqlalchemy.\n",
    "3. **Definindo a Conexão com o Banco de Dados**: Configuração de conexão usando SQLAlchemy.\n",
    "4. **Consultando Dados da Tabela 'Aluno'**: Consulta SQL para obter os dados da tabela `aluno` e carregar em um DataFrame.\n",
    "5. **Salvando os Dados em Diferentes Formatos**: Inclui comandos para salvar o DataFrame nos formatos CSV, JSON e Excel.\n",
    "6. **Exibindo Informações do DataFrame**: Comandos para exibir colunas específicas e tipos de dados.\n",
    "7. **Exercício**: Criação de um DataFrame com uma única coluna e verificação do tipo de dados.\n",
    "8. **Informações Adicionais**: Inclui bibliotecas usadas por cientistas de dados e material didático."
   ]
  }
 ],
 "metadata": {
  "kernelspec": {
   "display_name": ".venv",
   "language": "python",
   "name": "python3"
  },
  "language_info": {
   "codemirror_mode": {
    "name": "ipython",
    "version": 3
   },
   "file_extension": ".py",
   "mimetype": "text/x-python",
   "name": "python",
   "nbconvert_exporter": "python",
   "pygments_lexer": "ipython3",
   "version": "3.12.4"
  }
 },
 "nbformat": 4,
 "nbformat_minor": 2
}
