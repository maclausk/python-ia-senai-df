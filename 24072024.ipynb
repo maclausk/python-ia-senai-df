{
 "cells": [
  {
   "cell_type": "markdown",
   "metadata": {},
   "source": [
    "#### Semana de Ciência de Dados com Python/IA - SENAI-DF - Vespertino - 24/07/2024 - Marcelo Pereira Avelino"
   ]
  },
  {
   "cell_type": "markdown",
   "metadata": {},
   "source": [
    "`DICAS`\n",
    "- Atalho para criar ambiente virtual (.venv) - Control + Shift + P\n",
    "    - Ativar .venv -> \\.venv\\Scripts\\activate\n",
    "    - Desativar .venv -> \\.venv\\Scripts\\deactivate\n",
    "    \n",
    "- Design para Icones -> Material Icon Theme v5.7.0\n",
    "- Control + \" ou Control + J = Ativar/Desativar Terminal"
   ]
  },
  {
   "cell_type": "markdown",
   "metadata": {},
   "source": [
    "`REVISÃO - PROGRAMAÇÃO ORIENTADA A OBJETOS`\n",
    "\n",
    "Criar um classe que ajude no controle financeiro. Os atributos são:\n",
    "- descricao\n",
    "- valor\n",
    "- categoria"
   ]
  },
  {
   "cell_type": "code",
   "execution_count": 11,
   "metadata": {},
   "outputs": [],
   "source": [
    "class ControleFinanceiro:\n",
    "    # Esse é o construtor (função especial)\n",
    "    def __init__(self, descricao, valor, categoria):\n",
    "        self.descricao = descricao\n",
    "        self.valor = valor\n",
    "        self.categoria = categoria\n",
    "    # métodos de trabalho (workers)\n",
    "    def verificar_valor(self):\n",
    "        if self.valor > 3000:\n",
    "            return \"alerta cartão!\"\n",
    "        else:\n",
    "            return \"faça sua compra\""
   ]
  },
  {
   "cell_type": "code",
   "execution_count": 10,
   "metadata": {},
   "outputs": [
    {
     "name": "stdout",
     "output_type": "stream",
     "text": [
      "resultado: pode estoutar o cartão categoria:lazer\n"
     ]
    }
   ],
   "source": [
    "# versão nomeada : cf = ControleFinanceiro(descricao=\"cinemark familia\",valor=180,categoria=\"lazer\")\n",
    "cf = ControleFinanceiro(\"cinemark familia\",180.25,\"lazer\")\n",
    "print(f\"resultado: {cf.verificar_valor()} categoria:{cf.categoria}\")"
   ]
  },
  {
   "cell_type": "code",
   "execution_count": 22,
   "metadata": {},
   "outputs": [
    {
     "name": "stdout",
     "output_type": "stream",
     "text": [
      "A soma dos atributos X e Y é 9\n",
      "A divisão do atributo X pelo atributo Y é: 2.0\n",
      "A média aritmética entre os atributos X e Y é: 4.5\n",
      "A média ponderada entre os atributos, onde o peso do atributo X é 1 e do atributo Y é 2 é: 4.0\n"
     ]
    }
   ],
   "source": [
    "# Desafio - Classe\n",
    "\n",
    "    # - Criar uma classe com o nome Matemática\n",
    "    # - Criar um construtor com dois atributos com os nomes x, y\n",
    "    # - Criar um método para somar x e y\n",
    "    # - Criar um método para dividir x e y\n",
    "    # - Criar um método para calcular a média aritmética de x e y\n",
    "    # - Criar um método para calcular a média ponderada com peso 1 e 2\n",
    "\n",
    "\n",
    "class Matemática: # criação da classe de nome Matemática\n",
    "    def __init__(self, x, y): # criação do construtor com atributos x e y\n",
    "        self.x = x\n",
    "        self.y = y\n",
    "\n",
    "    def somar(self): # \n",
    "        return self.x + self.y\n",
    "    \n",
    "    def dividir(self):\n",
    "        if self.y != 0:\n",
    "            return self.x / self.y\n",
    "        else:\n",
    "            return \"Divisão por zero não é permitida\"\n",
    "    \n",
    "    def media(self):\n",
    "        return (self.x + self.y) / 2\n",
    "    \n",
    "    def media_ponderada(self): # Peso de x é 1 e peso de y é 2\n",
    "        return (self.x * 1 + self.y * 2) / 3\n",
    "\n",
    "\n",
    "numeros = Matemática(6, 3)\n",
    "print(\"A soma dos atributos X e Y é\", numeros.somar())\n",
    "print(\"A divisão do atributo X pelo atributo Y é:\", numeros.dividir())\n",
    "print(\"A média aritmética entre os atributos X e Y é:\", numeros.media())\n",
    "print(\"A média ponderada entre os atributos, onde o peso do atributo X é 1 e do atributo Y é 2 é:\", numeros.media_ponderada())"
   ]
  }
 ],
 "metadata": {
  "kernelspec": {
   "display_name": ".venv",
   "language": "python",
   "name": "python3"
  },
  "language_info": {
   "codemirror_mode": {
    "name": "ipython",
    "version": 3
   },
   "file_extension": ".py",
   "mimetype": "text/x-python",
   "name": "python",
   "nbconvert_exporter": "python",
   "pygments_lexer": "ipython3",
   "version": "3.12.4"
  }
 },
 "nbformat": 4,
 "nbformat_minor": 2
}
